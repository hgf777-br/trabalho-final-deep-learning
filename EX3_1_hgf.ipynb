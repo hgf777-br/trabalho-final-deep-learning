{
 "cells": [
  {
   "cell_type": "markdown",
   "source": [
    "# Bibliotecas"
   ],
   "metadata": {}
  },
  {
   "cell_type": "code",
   "execution_count": 1,
   "source": [
    "import numpy as np\r\n",
    "import pandas as pd\r\n",
    "import tensorflow as tf\r\n",
    "import matplotlib.pyplot as plt\r\n",
    "import seaborn as sns\r\n",
    "import plotly.express as px\r\n",
    "\r\n",
    "from sklearn import datasets\r\n",
    "from sklearn.model_selection import train_test_split\r\n",
    "from sklearn.preprocessing import OneHotEncoder, StandardScaler, MinMaxScaler\r\n",
    "\r\n",
    "from keras.models import Sequential, load_model\r\n",
    "from keras.layers import Dense\r\n",
    "from keras.layers import Dropout\r\n",
    "from keras.utils.vis_utils import plot_model\r\n",
    "from keras.utils.np_utils import  to_categorical\r\n",
    "from keras.callbacks import ModelCheckpoint\r\n",
    "\r\n",
    "\r\n",
    "# Ignorar Avisos desnecessários\r\n",
    "import warnings\r\n",
    "warnings.simplefilter(action='ignore', category=FutureWarning)\r\n",
    "warnings.simplefilter(action='ignore', category=DeprecationWarning)"
   ],
   "outputs": [],
   "metadata": {}
  },
  {
   "cell_type": "markdown",
   "source": [
    "## Confere se temos GPU instalada"
   ],
   "metadata": {}
  },
  {
   "cell_type": "code",
   "execution_count": 2,
   "source": [
    "print(\"Num GPUs Available: \", len(tf.config.experimental.list_physical_devices('GPU')))\r\n",
    "#print(tf.config.experimental.list_physical_devices())"
   ],
   "outputs": [
    {
     "output_type": "stream",
     "name": "stdout",
     "text": [
      "Num GPUs Available:  1\n"
     ]
    }
   ],
   "metadata": {}
  },
  {
   "cell_type": "markdown",
   "source": [
    "## Funções Auxiliares"
   ],
   "metadata": {}
  },
  {
   "cell_type": "code",
   "execution_count": 3,
   "source": [
    "def plot_history(history):\r\n",
    "    acc = history.history['accuracy']\r\n",
    "    val_acc = history.history['val_accuracy']\r\n",
    "    loss = history.history['loss']\r\n",
    "    val_loss = history.history['val_loss']\r\n",
    "    x = range(1, len(acc) + 1)\r\n",
    "\r\n",
    "    plt.figure(figsize=(12, 5))\r\n",
    "    plt.subplot(1, 2, 1)\r\n",
    "    plt.plot(x, acc, 'b', label='Training Accuracy')\r\n",
    "    plt.plot(x, val_acc, 'r', label='Validation Accuracy')\r\n",
    "    plt.title('Acuracidade do Treino e Validação')\r\n",
    "    plt.legend()\r\n",
    "    plt.subplot(1, 2, 2)\r\n",
    "    plt.plot(x, loss, 'b', label='Training loss')\r\n",
    "    plt.plot(x, val_loss, 'r', label='Validation loss')\r\n",
    "    plt.title('Pèrda do Treino e Validação')\r\n",
    "    plt.legend()"
   ],
   "outputs": [],
   "metadata": {}
  },
  {
   "cell_type": "markdown",
   "source": [
    "# Análise dos Dados\r\n",
    "\r\n",
    "## Carregando a base de dados"
   ],
   "metadata": {}
  },
  {
   "cell_type": "code",
   "execution_count": 4,
   "source": [
    "iris = datasets.load_iris()"
   ],
   "outputs": [],
   "metadata": {}
  },
  {
   "cell_type": "markdown",
   "source": [
    "## Distribuição dos dados em relação a variável resposta. "
   ],
   "metadata": {}
  },
  {
   "cell_type": "code",
   "execution_count": 5,
   "source": [
    "df = px.data.iris()\r\n",
    "fig = px.scatter_matrix(df, dimensions=[\"sepal_width\", \"sepal_length\", \"petal_width\", \"petal_length\"], color=\"species\")\r\n",
    "fig.update_traces(diagonal_visible=False, showupperhalf=False)\r\n",
    "fig.update_layout(title='Iris Data set', width=1000, height=600)\r\n",
    "fig.show()"
   ],
   "outputs": [
    {
     "output_type": "display_data",
     "data": {
      "application/vnd.plotly.v1+json": {
       "config": {
        "plotlyServerURL": "https://plot.ly"
       },
       "data": [
        {
         "diagonal": {
          "visible": false
         },
         "dimensions": [
          {
           "axis": {
            "matches": true
           },
           "label": "sepal_width",
           "values": [
            3.5,
            3,
            3.2,
            3.1,
            3.6,
            3.9,
            3.4,
            3.4,
            2.9,
            3.1,
            3.7,
            3.4,
            3,
            3,
            4,
            4.4,
            3.9,
            3.5,
            3.8,
            3.8,
            3.4,
            3.7,
            3.6,
            3.3,
            3.4,
            3,
            3.4,
            3.5,
            3.4,
            3.2,
            3.1,
            3.4,
            4.1,
            4.2,
            3.1,
            3.2,
            3.5,
            3.1,
            3,
            3.4,
            3.5,
            2.3,
            3.2,
            3.5,
            3.8,
            3,
            3.8,
            3.2,
            3.7,
            3.3
           ]
          },
          {
           "axis": {
            "matches": true
           },
           "label": "sepal_length",
           "values": [
            5.1,
            4.9,
            4.7,
            4.6,
            5,
            5.4,
            4.6,
            5,
            4.4,
            4.9,
            5.4,
            4.8,
            4.8,
            4.3,
            5.8,
            5.7,
            5.4,
            5.1,
            5.7,
            5.1,
            5.4,
            5.1,
            4.6,
            5.1,
            4.8,
            5,
            5,
            5.2,
            5.2,
            4.7,
            4.8,
            5.4,
            5.2,
            5.5,
            4.9,
            5,
            5.5,
            4.9,
            4.4,
            5.1,
            5,
            4.5,
            4.4,
            5,
            5.1,
            4.8,
            5.1,
            4.6,
            5.3,
            5
           ]
          },
          {
           "axis": {
            "matches": true
           },
           "label": "petal_width",
           "values": [
            0.2,
            0.2,
            0.2,
            0.2,
            0.2,
            0.4,
            0.3,
            0.2,
            0.2,
            0.1,
            0.2,
            0.2,
            0.1,
            0.1,
            0.2,
            0.4,
            0.4,
            0.3,
            0.3,
            0.3,
            0.2,
            0.4,
            0.2,
            0.5,
            0.2,
            0.2,
            0.4,
            0.2,
            0.2,
            0.2,
            0.2,
            0.4,
            0.1,
            0.2,
            0.1,
            0.2,
            0.2,
            0.1,
            0.2,
            0.2,
            0.3,
            0.3,
            0.2,
            0.6,
            0.4,
            0.3,
            0.2,
            0.2,
            0.2,
            0.2
           ]
          },
          {
           "axis": {
            "matches": true
           },
           "label": "petal_length",
           "values": [
            1.4,
            1.4,
            1.3,
            1.5,
            1.4,
            1.7,
            1.4,
            1.5,
            1.4,
            1.5,
            1.5,
            1.6,
            1.4,
            1.1,
            1.2,
            1.5,
            1.3,
            1.4,
            1.7,
            1.5,
            1.7,
            1.5,
            1,
            1.7,
            1.9,
            1.6,
            1.6,
            1.5,
            1.4,
            1.6,
            1.6,
            1.5,
            1.5,
            1.4,
            1.5,
            1.2,
            1.3,
            1.5,
            1.3,
            1.5,
            1.3,
            1.3,
            1.3,
            1.6,
            1.9,
            1.4,
            1.6,
            1.4,
            1.5,
            1.4
           ]
          }
         ],
         "hovertemplate": "species=setosa<br>%{xaxis.title.text}=%{x}<br>%{yaxis.title.text}=%{y}<extra></extra>",
         "legendgroup": "setosa",
         "marker": {
          "color": "#636efa",
          "symbol": "circle"
         },
         "name": "setosa",
         "showlegend": true,
         "showupperhalf": false,
         "type": "splom"
        },
        {
         "diagonal": {
          "visible": false
         },
         "dimensions": [
          {
           "axis": {
            "matches": true
           },
           "label": "sepal_width",
           "values": [
            3.2,
            3.2,
            3.1,
            2.3,
            2.8,
            2.8,
            3.3,
            2.4,
            2.9,
            2.7,
            2,
            3,
            2.2,
            2.9,
            2.9,
            3.1,
            3,
            2.7,
            2.2,
            2.5,
            3.2,
            2.8,
            2.5,
            2.8,
            2.9,
            3,
            2.8,
            3,
            2.9,
            2.6,
            2.4,
            2.4,
            2.7,
            2.7,
            3,
            3.4,
            3.1,
            2.3,
            3,
            2.5,
            2.6,
            3,
            2.6,
            2.3,
            2.7,
            3,
            2.9,
            2.9,
            2.5,
            2.8
           ]
          },
          {
           "axis": {
            "matches": true
           },
           "label": "sepal_length",
           "values": [
            7,
            6.4,
            6.9,
            5.5,
            6.5,
            5.7,
            6.3,
            4.9,
            6.6,
            5.2,
            5,
            5.9,
            6,
            6.1,
            5.6,
            6.7,
            5.6,
            5.8,
            6.2,
            5.6,
            5.9,
            6.1,
            6.3,
            6.1,
            6.4,
            6.6,
            6.8,
            6.7,
            6,
            5.7,
            5.5,
            5.5,
            5.8,
            6,
            5.4,
            6,
            6.7,
            6.3,
            5.6,
            5.5,
            5.5,
            6.1,
            5.8,
            5,
            5.6,
            5.7,
            5.7,
            6.2,
            5.1,
            5.7
           ]
          },
          {
           "axis": {
            "matches": true
           },
           "label": "petal_width",
           "values": [
            1.4,
            1.5,
            1.5,
            1.3,
            1.5,
            1.3,
            1.6,
            1,
            1.3,
            1.4,
            1,
            1.5,
            1,
            1.4,
            1.3,
            1.4,
            1.5,
            1,
            1.5,
            1.1,
            1.8,
            1.3,
            1.5,
            1.2,
            1.3,
            1.4,
            1.4,
            1.7,
            1.5,
            1,
            1.1,
            1,
            1.2,
            1.6,
            1.5,
            1.6,
            1.5,
            1.3,
            1.3,
            1.3,
            1.2,
            1.4,
            1.2,
            1,
            1.3,
            1.2,
            1.3,
            1.3,
            1.1,
            1.3
           ]
          },
          {
           "axis": {
            "matches": true
           },
           "label": "petal_length",
           "values": [
            4.7,
            4.5,
            4.9,
            4,
            4.6,
            4.5,
            4.7,
            3.3,
            4.6,
            3.9,
            3.5,
            4.2,
            4,
            4.7,
            3.6,
            4.4,
            4.5,
            4.1,
            4.5,
            3.9,
            4.8,
            4,
            4.9,
            4.7,
            4.3,
            4.4,
            4.8,
            5,
            4.5,
            3.5,
            3.8,
            3.7,
            3.9,
            5.1,
            4.5,
            4.5,
            4.7,
            4.4,
            4.1,
            4,
            4.4,
            4.6,
            4,
            3.3,
            4.2,
            4.2,
            4.2,
            4.3,
            3,
            4.1
           ]
          }
         ],
         "hovertemplate": "species=versicolor<br>%{xaxis.title.text}=%{x}<br>%{yaxis.title.text}=%{y}<extra></extra>",
         "legendgroup": "versicolor",
         "marker": {
          "color": "#EF553B",
          "symbol": "circle"
         },
         "name": "versicolor",
         "showlegend": true,
         "showupperhalf": false,
         "type": "splom"
        },
        {
         "diagonal": {
          "visible": false
         },
         "dimensions": [
          {
           "axis": {
            "matches": true
           },
           "label": "sepal_width",
           "values": [
            3.3,
            2.7,
            3,
            2.9,
            3,
            3,
            2.5,
            2.9,
            2.5,
            3.6,
            3.2,
            2.7,
            3,
            2.5,
            2.8,
            3.2,
            3,
            3.8,
            2.6,
            2.2,
            3.2,
            2.8,
            2.8,
            2.7,
            3.3,
            3.2,
            2.8,
            3,
            2.8,
            3,
            2.8,
            3.8,
            2.8,
            2.8,
            2.6,
            3,
            3.4,
            3.1,
            3,
            3.1,
            3.1,
            3.1,
            2.7,
            3.2,
            3.3,
            3,
            2.5,
            3,
            3.4,
            3
           ]
          },
          {
           "axis": {
            "matches": true
           },
           "label": "sepal_length",
           "values": [
            6.3,
            5.8,
            7.1,
            6.3,
            6.5,
            7.6,
            4.9,
            7.3,
            6.7,
            7.2,
            6.5,
            6.4,
            6.8,
            5.7,
            5.8,
            6.4,
            6.5,
            7.7,
            7.7,
            6,
            6.9,
            5.6,
            7.7,
            6.3,
            6.7,
            7.2,
            6.2,
            6.1,
            6.4,
            7.2,
            7.4,
            7.9,
            6.4,
            6.3,
            6.1,
            7.7,
            6.3,
            6.4,
            6,
            6.9,
            6.7,
            6.9,
            5.8,
            6.8,
            6.7,
            6.7,
            6.3,
            6.5,
            6.2,
            5.9
           ]
          },
          {
           "axis": {
            "matches": true
           },
           "label": "petal_width",
           "values": [
            2.5,
            1.9,
            2.1,
            1.8,
            2.2,
            2.1,
            1.7,
            1.8,
            1.8,
            2.5,
            2,
            1.9,
            2.1,
            2,
            2.4,
            2.3,
            1.8,
            2.2,
            2.3,
            1.5,
            2.3,
            2,
            2,
            1.8,
            2.1,
            1.8,
            1.8,
            1.8,
            2.1,
            1.6,
            1.9,
            2,
            2.2,
            1.5,
            1.4,
            2.3,
            2.4,
            1.8,
            1.8,
            2.1,
            2.4,
            2.3,
            1.9,
            2.3,
            2.5,
            2.3,
            1.9,
            2,
            2.3,
            1.8
           ]
          },
          {
           "axis": {
            "matches": true
           },
           "label": "petal_length",
           "values": [
            6,
            5.1,
            5.9,
            5.6,
            5.8,
            6.6,
            4.5,
            6.3,
            5.8,
            6.1,
            5.1,
            5.3,
            5.5,
            5,
            5.1,
            5.3,
            5.5,
            6.7,
            6.9,
            5,
            5.7,
            4.9,
            6.7,
            4.9,
            5.7,
            6,
            4.8,
            4.9,
            5.6,
            5.8,
            6.1,
            6.4,
            5.6,
            5.1,
            5.6,
            6.1,
            5.6,
            5.5,
            4.8,
            5.4,
            5.6,
            5.1,
            5.1,
            5.9,
            5.7,
            5.2,
            5,
            5.2,
            5.4,
            5.1
           ]
          }
         ],
         "hovertemplate": "species=virginica<br>%{xaxis.title.text}=%{x}<br>%{yaxis.title.text}=%{y}<extra></extra>",
         "legendgroup": "virginica",
         "marker": {
          "color": "#00cc96",
          "symbol": "circle"
         },
         "name": "virginica",
         "showlegend": true,
         "showupperhalf": false,
         "type": "splom"
        }
       ],
       "layout": {
        "dragmode": "select",
        "height": 600,
        "legend": {
         "title": {
          "text": "species"
         },
         "tracegroupgap": 0
        },
        "margin": {
         "t": 60
        },
        "template": {
         "data": {
          "bar": [
           {
            "error_x": {
             "color": "#2a3f5f"
            },
            "error_y": {
             "color": "#2a3f5f"
            },
            "marker": {
             "line": {
              "color": "#E5ECF6",
              "width": 0.5
             },
             "pattern": {
              "fillmode": "overlay",
              "size": 10,
              "solidity": 0.2
             }
            },
            "type": "bar"
           }
          ],
          "barpolar": [
           {
            "marker": {
             "line": {
              "color": "#E5ECF6",
              "width": 0.5
             },
             "pattern": {
              "fillmode": "overlay",
              "size": 10,
              "solidity": 0.2
             }
            },
            "type": "barpolar"
           }
          ],
          "carpet": [
           {
            "aaxis": {
             "endlinecolor": "#2a3f5f",
             "gridcolor": "white",
             "linecolor": "white",
             "minorgridcolor": "white",
             "startlinecolor": "#2a3f5f"
            },
            "baxis": {
             "endlinecolor": "#2a3f5f",
             "gridcolor": "white",
             "linecolor": "white",
             "minorgridcolor": "white",
             "startlinecolor": "#2a3f5f"
            },
            "type": "carpet"
           }
          ],
          "choropleth": [
           {
            "colorbar": {
             "outlinewidth": 0,
             "ticks": ""
            },
            "type": "choropleth"
           }
          ],
          "contour": [
           {
            "colorbar": {
             "outlinewidth": 0,
             "ticks": ""
            },
            "colorscale": [
             [
              0,
              "#0d0887"
             ],
             [
              0.1111111111111111,
              "#46039f"
             ],
             [
              0.2222222222222222,
              "#7201a8"
             ],
             [
              0.3333333333333333,
              "#9c179e"
             ],
             [
              0.4444444444444444,
              "#bd3786"
             ],
             [
              0.5555555555555556,
              "#d8576b"
             ],
             [
              0.6666666666666666,
              "#ed7953"
             ],
             [
              0.7777777777777778,
              "#fb9f3a"
             ],
             [
              0.8888888888888888,
              "#fdca26"
             ],
             [
              1,
              "#f0f921"
             ]
            ],
            "type": "contour"
           }
          ],
          "contourcarpet": [
           {
            "colorbar": {
             "outlinewidth": 0,
             "ticks": ""
            },
            "type": "contourcarpet"
           }
          ],
          "heatmap": [
           {
            "colorbar": {
             "outlinewidth": 0,
             "ticks": ""
            },
            "colorscale": [
             [
              0,
              "#0d0887"
             ],
             [
              0.1111111111111111,
              "#46039f"
             ],
             [
              0.2222222222222222,
              "#7201a8"
             ],
             [
              0.3333333333333333,
              "#9c179e"
             ],
             [
              0.4444444444444444,
              "#bd3786"
             ],
             [
              0.5555555555555556,
              "#d8576b"
             ],
             [
              0.6666666666666666,
              "#ed7953"
             ],
             [
              0.7777777777777778,
              "#fb9f3a"
             ],
             [
              0.8888888888888888,
              "#fdca26"
             ],
             [
              1,
              "#f0f921"
             ]
            ],
            "type": "heatmap"
           }
          ],
          "heatmapgl": [
           {
            "colorbar": {
             "outlinewidth": 0,
             "ticks": ""
            },
            "colorscale": [
             [
              0,
              "#0d0887"
             ],
             [
              0.1111111111111111,
              "#46039f"
             ],
             [
              0.2222222222222222,
              "#7201a8"
             ],
             [
              0.3333333333333333,
              "#9c179e"
             ],
             [
              0.4444444444444444,
              "#bd3786"
             ],
             [
              0.5555555555555556,
              "#d8576b"
             ],
             [
              0.6666666666666666,
              "#ed7953"
             ],
             [
              0.7777777777777778,
              "#fb9f3a"
             ],
             [
              0.8888888888888888,
              "#fdca26"
             ],
             [
              1,
              "#f0f921"
             ]
            ],
            "type": "heatmapgl"
           }
          ],
          "histogram": [
           {
            "marker": {
             "pattern": {
              "fillmode": "overlay",
              "size": 10,
              "solidity": 0.2
             }
            },
            "type": "histogram"
           }
          ],
          "histogram2d": [
           {
            "colorbar": {
             "outlinewidth": 0,
             "ticks": ""
            },
            "colorscale": [
             [
              0,
              "#0d0887"
             ],
             [
              0.1111111111111111,
              "#46039f"
             ],
             [
              0.2222222222222222,
              "#7201a8"
             ],
             [
              0.3333333333333333,
              "#9c179e"
             ],
             [
              0.4444444444444444,
              "#bd3786"
             ],
             [
              0.5555555555555556,
              "#d8576b"
             ],
             [
              0.6666666666666666,
              "#ed7953"
             ],
             [
              0.7777777777777778,
              "#fb9f3a"
             ],
             [
              0.8888888888888888,
              "#fdca26"
             ],
             [
              1,
              "#f0f921"
             ]
            ],
            "type": "histogram2d"
           }
          ],
          "histogram2dcontour": [
           {
            "colorbar": {
             "outlinewidth": 0,
             "ticks": ""
            },
            "colorscale": [
             [
              0,
              "#0d0887"
             ],
             [
              0.1111111111111111,
              "#46039f"
             ],
             [
              0.2222222222222222,
              "#7201a8"
             ],
             [
              0.3333333333333333,
              "#9c179e"
             ],
             [
              0.4444444444444444,
              "#bd3786"
             ],
             [
              0.5555555555555556,
              "#d8576b"
             ],
             [
              0.6666666666666666,
              "#ed7953"
             ],
             [
              0.7777777777777778,
              "#fb9f3a"
             ],
             [
              0.8888888888888888,
              "#fdca26"
             ],
             [
              1,
              "#f0f921"
             ]
            ],
            "type": "histogram2dcontour"
           }
          ],
          "mesh3d": [
           {
            "colorbar": {
             "outlinewidth": 0,
             "ticks": ""
            },
            "type": "mesh3d"
           }
          ],
          "parcoords": [
           {
            "line": {
             "colorbar": {
              "outlinewidth": 0,
              "ticks": ""
             }
            },
            "type": "parcoords"
           }
          ],
          "pie": [
           {
            "automargin": true,
            "type": "pie"
           }
          ],
          "scatter": [
           {
            "marker": {
             "colorbar": {
              "outlinewidth": 0,
              "ticks": ""
             }
            },
            "type": "scatter"
           }
          ],
          "scatter3d": [
           {
            "line": {
             "colorbar": {
              "outlinewidth": 0,
              "ticks": ""
             }
            },
            "marker": {
             "colorbar": {
              "outlinewidth": 0,
              "ticks": ""
             }
            },
            "type": "scatter3d"
           }
          ],
          "scattercarpet": [
           {
            "marker": {
             "colorbar": {
              "outlinewidth": 0,
              "ticks": ""
             }
            },
            "type": "scattercarpet"
           }
          ],
          "scattergeo": [
           {
            "marker": {
             "colorbar": {
              "outlinewidth": 0,
              "ticks": ""
             }
            },
            "type": "scattergeo"
           }
          ],
          "scattergl": [
           {
            "marker": {
             "colorbar": {
              "outlinewidth": 0,
              "ticks": ""
             }
            },
            "type": "scattergl"
           }
          ],
          "scattermapbox": [
           {
            "marker": {
             "colorbar": {
              "outlinewidth": 0,
              "ticks": ""
             }
            },
            "type": "scattermapbox"
           }
          ],
          "scatterpolar": [
           {
            "marker": {
             "colorbar": {
              "outlinewidth": 0,
              "ticks": ""
             }
            },
            "type": "scatterpolar"
           }
          ],
          "scatterpolargl": [
           {
            "marker": {
             "colorbar": {
              "outlinewidth": 0,
              "ticks": ""
             }
            },
            "type": "scatterpolargl"
           }
          ],
          "scatterternary": [
           {
            "marker": {
             "colorbar": {
              "outlinewidth": 0,
              "ticks": ""
             }
            },
            "type": "scatterternary"
           }
          ],
          "surface": [
           {
            "colorbar": {
             "outlinewidth": 0,
             "ticks": ""
            },
            "colorscale": [
             [
              0,
              "#0d0887"
             ],
             [
              0.1111111111111111,
              "#46039f"
             ],
             [
              0.2222222222222222,
              "#7201a8"
             ],
             [
              0.3333333333333333,
              "#9c179e"
             ],
             [
              0.4444444444444444,
              "#bd3786"
             ],
             [
              0.5555555555555556,
              "#d8576b"
             ],
             [
              0.6666666666666666,
              "#ed7953"
             ],
             [
              0.7777777777777778,
              "#fb9f3a"
             ],
             [
              0.8888888888888888,
              "#fdca26"
             ],
             [
              1,
              "#f0f921"
             ]
            ],
            "type": "surface"
           }
          ],
          "table": [
           {
            "cells": {
             "fill": {
              "color": "#EBF0F8"
             },
             "line": {
              "color": "white"
             }
            },
            "header": {
             "fill": {
              "color": "#C8D4E3"
             },
             "line": {
              "color": "white"
             }
            },
            "type": "table"
           }
          ]
         },
         "layout": {
          "annotationdefaults": {
           "arrowcolor": "#2a3f5f",
           "arrowhead": 0,
           "arrowwidth": 1
          },
          "autotypenumbers": "strict",
          "coloraxis": {
           "colorbar": {
            "outlinewidth": 0,
            "ticks": ""
           }
          },
          "colorscale": {
           "diverging": [
            [
             0,
             "#8e0152"
            ],
            [
             0.1,
             "#c51b7d"
            ],
            [
             0.2,
             "#de77ae"
            ],
            [
             0.3,
             "#f1b6da"
            ],
            [
             0.4,
             "#fde0ef"
            ],
            [
             0.5,
             "#f7f7f7"
            ],
            [
             0.6,
             "#e6f5d0"
            ],
            [
             0.7,
             "#b8e186"
            ],
            [
             0.8,
             "#7fbc41"
            ],
            [
             0.9,
             "#4d9221"
            ],
            [
             1,
             "#276419"
            ]
           ],
           "sequential": [
            [
             0,
             "#0d0887"
            ],
            [
             0.1111111111111111,
             "#46039f"
            ],
            [
             0.2222222222222222,
             "#7201a8"
            ],
            [
             0.3333333333333333,
             "#9c179e"
            ],
            [
             0.4444444444444444,
             "#bd3786"
            ],
            [
             0.5555555555555556,
             "#d8576b"
            ],
            [
             0.6666666666666666,
             "#ed7953"
            ],
            [
             0.7777777777777778,
             "#fb9f3a"
            ],
            [
             0.8888888888888888,
             "#fdca26"
            ],
            [
             1,
             "#f0f921"
            ]
           ],
           "sequentialminus": [
            [
             0,
             "#0d0887"
            ],
            [
             0.1111111111111111,
             "#46039f"
            ],
            [
             0.2222222222222222,
             "#7201a8"
            ],
            [
             0.3333333333333333,
             "#9c179e"
            ],
            [
             0.4444444444444444,
             "#bd3786"
            ],
            [
             0.5555555555555556,
             "#d8576b"
            ],
            [
             0.6666666666666666,
             "#ed7953"
            ],
            [
             0.7777777777777778,
             "#fb9f3a"
            ],
            [
             0.8888888888888888,
             "#fdca26"
            ],
            [
             1,
             "#f0f921"
            ]
           ]
          },
          "colorway": [
           "#636efa",
           "#EF553B",
           "#00cc96",
           "#ab63fa",
           "#FFA15A",
           "#19d3f3",
           "#FF6692",
           "#B6E880",
           "#FF97FF",
           "#FECB52"
          ],
          "font": {
           "color": "#2a3f5f"
          },
          "geo": {
           "bgcolor": "white",
           "lakecolor": "white",
           "landcolor": "#E5ECF6",
           "showlakes": true,
           "showland": true,
           "subunitcolor": "white"
          },
          "hoverlabel": {
           "align": "left"
          },
          "hovermode": "closest",
          "mapbox": {
           "style": "light"
          },
          "paper_bgcolor": "white",
          "plot_bgcolor": "#E5ECF6",
          "polar": {
           "angularaxis": {
            "gridcolor": "white",
            "linecolor": "white",
            "ticks": ""
           },
           "bgcolor": "#E5ECF6",
           "radialaxis": {
            "gridcolor": "white",
            "linecolor": "white",
            "ticks": ""
           }
          },
          "scene": {
           "xaxis": {
            "backgroundcolor": "#E5ECF6",
            "gridcolor": "white",
            "gridwidth": 2,
            "linecolor": "white",
            "showbackground": true,
            "ticks": "",
            "zerolinecolor": "white"
           },
           "yaxis": {
            "backgroundcolor": "#E5ECF6",
            "gridcolor": "white",
            "gridwidth": 2,
            "linecolor": "white",
            "showbackground": true,
            "ticks": "",
            "zerolinecolor": "white"
           },
           "zaxis": {
            "backgroundcolor": "#E5ECF6",
            "gridcolor": "white",
            "gridwidth": 2,
            "linecolor": "white",
            "showbackground": true,
            "ticks": "",
            "zerolinecolor": "white"
           }
          },
          "shapedefaults": {
           "line": {
            "color": "#2a3f5f"
           }
          },
          "ternary": {
           "aaxis": {
            "gridcolor": "white",
            "linecolor": "white",
            "ticks": ""
           },
           "baxis": {
            "gridcolor": "white",
            "linecolor": "white",
            "ticks": ""
           },
           "bgcolor": "#E5ECF6",
           "caxis": {
            "gridcolor": "white",
            "linecolor": "white",
            "ticks": ""
           }
          },
          "title": {
           "x": 0.05
          },
          "xaxis": {
           "automargin": true,
           "gridcolor": "white",
           "linecolor": "white",
           "ticks": "",
           "title": {
            "standoff": 15
           },
           "zerolinecolor": "white",
           "zerolinewidth": 2
          },
          "yaxis": {
           "automargin": true,
           "gridcolor": "white",
           "linecolor": "white",
           "ticks": "",
           "title": {
            "standoff": 15
           },
           "zerolinecolor": "white",
           "zerolinewidth": 2
          }
         }
        },
        "title": {
         "text": "Iris Data set"
        },
        "width": 1000
       }
      }
     },
     "metadata": {}
    }
   ],
   "metadata": {}
  },
  {
   "cell_type": "markdown",
   "source": [
    "## Criando os dados para o treino."
   ],
   "metadata": {}
  },
  {
   "cell_type": "code",
   "execution_count": 6,
   "source": [
    "features = iris.feature_names\r\n",
    "X = iris.data\r\n",
    "X[:5]"
   ],
   "outputs": [
    {
     "output_type": "execute_result",
     "data": {
      "text/plain": [
       "array([[5.1, 3.5, 1.4, 0.2],\n",
       "       [4.9, 3. , 1.4, 0.2],\n",
       "       [4.7, 3.2, 1.3, 0.2],\n",
       "       [4.6, 3.1, 1.5, 0.2],\n",
       "       [5. , 3.6, 1.4, 0.2]])"
      ]
     },
     "metadata": {},
     "execution_count": 6
    }
   ],
   "metadata": {}
  },
  {
   "cell_type": "code",
   "execution_count": 7,
   "source": [
    "X.shape"
   ],
   "outputs": [
    {
     "output_type": "execute_result",
     "data": {
      "text/plain": [
       "(150, 4)"
      ]
     },
     "metadata": {},
     "execution_count": 7
    }
   ],
   "metadata": {}
  },
  {
   "cell_type": "code",
   "execution_count": 8,
   "source": [
    "classes = iris.target_names\r\n",
    "y = iris.target\r\n",
    "y[:10]"
   ],
   "outputs": [
    {
     "output_type": "execute_result",
     "data": {
      "text/plain": [
       "array([0, 0, 0, 0, 0, 0, 0, 0, 0, 0])"
      ]
     },
     "metadata": {},
     "execution_count": 8
    }
   ],
   "metadata": {}
  },
  {
   "cell_type": "code",
   "execution_count": 9,
   "source": [
    "y.shape"
   ],
   "outputs": [
    {
     "output_type": "execute_result",
     "data": {
      "text/plain": [
       "(150,)"
      ]
     },
     "metadata": {},
     "execution_count": 9
    }
   ],
   "metadata": {}
  },
  {
   "cell_type": "markdown",
   "source": [
    "## Temos uma distribuição uniforme dos 3 itens da variável resposta"
   ],
   "metadata": {}
  },
  {
   "cell_type": "code",
   "execution_count": 10,
   "source": [
    "sns.countplot(y)\r\n",
    "plt.title('Distribuição da variável Target')\r\n",
    "plt.xlabel('Target')\r\n",
    "plt.xticks(ticks=range(0,3), labels=classes)\r\n",
    "plt.show()"
   ],
   "outputs": [
    {
     "output_type": "display_data",
     "data": {
      "text/plain": [
       "<Figure size 432x288 with 1 Axes>"
      ],
      "image/png": "[encoded data removed]"
     },
     "metadata": {
      "needs_background": "light"
     }
    }
   ],
   "metadata": {}
  },
  {
   "cell_type": "markdown",
   "source": [
    "## Padronizando os dados com o MinMaxScaler do SKlearn. \r\n",
    "### Dados padronizados entre 0 e 1."
   ],
   "metadata": {}
  },
  {
   "cell_type": "code",
   "execution_count": 11,
   "source": [
    "scaler = MinMaxScaler()\r\n",
    "X = scaler.fit_transform(X)\r\n",
    "X[:5]"
   ],
   "outputs": [
    {
     "output_type": "execute_result",
     "data": {
      "text/plain": [
       "array([[0.22222222, 0.625     , 0.06779661, 0.04166667],\n",
       "       [0.16666667, 0.41666667, 0.06779661, 0.04166667],\n",
       "       [0.11111111, 0.5       , 0.05084746, 0.04166667],\n",
       "       [0.08333333, 0.45833333, 0.08474576, 0.04166667],\n",
       "       [0.19444444, 0.66666667, 0.06779661, 0.04166667]])"
      ]
     },
     "metadata": {},
     "execution_count": 11
    }
   ],
   "metadata": {}
  },
  {
   "cell_type": "markdown",
   "source": [
    "## Transformando a variável resposta em \"One-hot vector\" para utilizá-la no modelo de MLP"
   ],
   "metadata": {}
  },
  {
   "cell_type": "code",
   "execution_count": 12,
   "source": [
    "num_features = X.shape[1]\r\n",
    "y = to_categorical(y)\r\n",
    "num_classes = y.shape[1]\r\n",
    "print(y.shape)\r\n",
    "y[:5]"
   ],
   "outputs": [
    {
     "output_type": "stream",
     "name": "stdout",
     "text": [
      "(150, 3)\n"
     ]
    },
    {
     "output_type": "execute_result",
     "data": {
      "text/plain": [
       "array([[1., 0., 0.],\n",
       "       [1., 0., 0.],\n",
       "       [1., 0., 0.],\n",
       "       [1., 0., 0.],\n",
       "       [1., 0., 0.]], dtype=float32)"
      ]
     },
     "metadata": {},
     "execution_count": 12
    }
   ],
   "metadata": {}
  },
  {
   "cell_type": "markdown",
   "source": [
    "## Dividindo a Base de Dados entre Treino e Teste, com 20% para os testes."
   ],
   "metadata": {}
  },
  {
   "cell_type": "code",
   "execution_count": 13,
   "source": [
    "X_train, X_test, y_train, y_test = train_test_split(X, y, test_size=0.2, random_state=42)"
   ],
   "outputs": [],
   "metadata": {}
  },
  {
   "cell_type": "code",
   "execution_count": 14,
   "source": [
    "X_train.shape"
   ],
   "outputs": [
    {
     "output_type": "execute_result",
     "data": {
      "text/plain": [
       "(120, 4)"
      ]
     },
     "metadata": {},
     "execution_count": 14
    }
   ],
   "metadata": {}
  },
  {
   "cell_type": "code",
   "execution_count": 15,
   "source": [
    "y_train.shape"
   ],
   "outputs": [
    {
     "output_type": "execute_result",
     "data": {
      "text/plain": [
       "(120, 3)"
      ]
     },
     "metadata": {},
     "execution_count": 15
    }
   ],
   "metadata": {}
  },
  {
   "cell_type": "markdown",
   "source": [
    "# Modelo de MLP\r\n",
    "\r\n",
    "## Criando o modelo"
   ],
   "metadata": {}
  },
  {
   "cell_type": "code",
   "execution_count": 16,
   "source": [
    "model = Sequential()\r\n",
    "model.add(Dense(8, input_dim=num_features, activation='relu'))\r\n",
    "model.add(Dense(num_classes , activation='softmax'))\r\n",
    "print(model.summary())"
   ],
   "outputs": [
    {
     "output_type": "stream",
     "name": "stdout",
     "text": [
      "Model: \"sequential\"\n",
      "_________________________________________________________________\n",
      "Layer (type)                 Output Shape              Param #   \n",
      "=================================================================\n",
      "dense (Dense)                (None, 8)                 40        \n",
      "_________________________________________________________________\n",
      "dense_1 (Dense)              (None, 3)                 27        \n",
      "=================================================================\n",
      "Total params: 67\n",
      "Trainable params: 67\n",
      "Non-trainable params: 0\n",
      "_________________________________________________________________\n",
      "None\n"
     ]
    }
   ],
   "metadata": {}
  },
  {
   "cell_type": "code",
   "execution_count": 17,
   "source": [
    "plot_model(model, show_shapes=True, show_layer_names=True)"
   ],
   "outputs": [
    {
     "output_type": "execute_result",
     "data": {
      "text/plain": [
       "<IPython.core.display.Image object>"
      ],
      "image/png": "[encoded data removed]"
     },
     "metadata": {},
     "execution_count": 17
    }
   ],
   "metadata": {}
  },
  {
   "cell_type": "markdown",
   "source": [
    "## Compilando e treinando o modelo. \r\n",
    "### Vamos utilizar a função de Callback ModelCheckPointer para salvar o modelo com a melhor accuracia na base de validação (que é a mesma de teste final pois temos uma base muito pequena)"
   ],
   "metadata": {}
  },
  {
   "cell_type": "code",
   "execution_count": 18,
   "source": [
    "model.compile(loss='categorical_crossentropy', optimizer='adam', metrics=['accuracy'])"
   ],
   "outputs": [],
   "metadata": {}
  },
  {
   "cell_type": "code",
   "execution_count": 19,
   "source": [
    "%%time\r\n",
    "checkpointer = ModelCheckpoint(filepath='./modelo_mlp_ex3_1.hdf5', verbose=1,  save_best_only=True, monitor='val_accuracy')\r\n",
    "\r\n",
    "history = model.fit(X_train, y_train, validation_data=(X_test, y_test), epochs=300, batch_size=12, callbacks=[checkpointer])"
   ],
   "outputs": [
    {
     "output_type": "stream",
     "name": "stdout",
     "text": [
      "Epoch 1/300\n",
      " 1/10 [==>...........................] - ETA: 0s - loss: 1.1287 - accuracy: 0.2500\n",
      "Epoch 00001: val_accuracy improved from -inf to 0.36667, saving model to .\\modelo_mlp_ex3_1.hdf5\n",
      "10/10 [==============================] - 0s 18ms/step - loss: 1.0447 - accuracy: 0.3250 - val_loss: 0.9874 - val_accuracy: 0.3667\n",
      "Epoch 2/300\n",
      " 1/10 [==>...........................] - ETA: 0s - loss: 1.2212 - accuracy: 0.0833\n",
      "Epoch 00002: val_accuracy did not improve from 0.36667\n",
      "10/10 [==============================] - 0s 4ms/step - loss: 1.0224 - accuracy: 0.3250 - val_loss: 0.9690 - val_accuracy: 0.3667\n",
      "Epoch 3/300\n",
      " 1/10 [==>...........................] - ETA: 0s - loss: 0.7429 - accuracy: 0.6667\n",
      "Epoch 00003: val_accuracy did not improve from 0.36667\n",
      "10/10 [==============================] - 0s 4ms/step - loss: 1.0019 - accuracy: 0.3250 - val_loss: 0.9521 - val_accuracy: 0.3667\n",
      "Epoch 4/300\n",
      " 1/10 [==>...........................] - ETA: 0s - loss: 1.0030 - accuracy: 0.3333\n",
      "Epoch 00004: val_accuracy did not improve from 0.36667\n",
      "10/10 [==============================] - 0s 3ms/step - loss: 0.9846 - accuracy: 0.3250 - val_loss: 0.9355 - val_accuracy: 0.3667\n",
      "Epoch 5/300\n",
      " 1/10 [==>...........................] - ETA: 0s - loss: 1.0605 - accuracy: 0.1667\n",
      "Epoch 00005: val_accuracy did not improve from 0.36667\n",
      "10/10 [==============================] - 0s 4ms/step - loss: 0.9672 - accuracy: 0.3333 - val_loss: 0.9204 - val_accuracy: 0.3667\n",
      "Epoch 6/300\n",
      " 1/10 [==>...........................] - ETA: 0s - loss: 0.8899 - accuracy: 0.4167\n",
      "Epoch 00006: val_accuracy improved from 0.36667 to 0.40000, saving model to .\\modelo_mlp_ex3_1.hdf5\n",
      "10/10 [==============================] - 0s 5ms/step - loss: 0.9511 - accuracy: 0.3417 - val_loss: 0.9057 - val_accuracy: 0.4000\n",
      "Epoch 7/300\n",
      " 1/10 [==>...........................] - ETA: 0s - loss: 1.0072 - accuracy: 0.2500\n",
      "Epoch 00007: val_accuracy improved from 0.40000 to 0.46667, saving model to .\\modelo_mlp_ex3_1.hdf5\n",
      "10/10 [==============================] - 0s 8ms/step - loss: 0.9353 - accuracy: 0.3500 - val_loss: 0.8928 - val_accuracy: 0.4667\n",
      "Epoch 8/300\n",
      " 1/10 [==>...........................] - ETA: 0s - loss: 0.8923 - accuracy: 0.5000\n",
      "Epoch 00008: val_accuracy improved from 0.46667 to 0.56667, saving model to .\\modelo_mlp_ex3_1.hdf5\n",
      "10/10 [==============================] - 0s 5ms/step - loss: 0.9206 - accuracy: 0.4500 - val_loss: 0.8803 - val_accuracy: 0.5667\n",
      "Epoch 9/300\n",
      " 1/10 [==>...........................] - ETA: 0s - loss: 0.9923 - accuracy: 0.3333\n",
      "Epoch 00009: val_accuracy improved from 0.56667 to 0.63333, saving model to .\\modelo_mlp_ex3_1.hdf5\n",
      "10/10 [==============================] - 0s 17ms/step - loss: 0.9082 - accuracy: 0.5167 - val_loss: 0.8682 - val_accuracy: 0.6333\n",
      "Epoch 10/300\n",
      " 1/10 [==>...........................] - ETA: 0s - loss: 0.8609 - accuracy: 0.6667\n",
      "Epoch 00010: val_accuracy improved from 0.63333 to 0.66667, saving model to .\\modelo_mlp_ex3_1.hdf5\n",
      "10/10 [==============================] - 0s 6ms/step - loss: 0.8940 - accuracy: 0.6167 - val_loss: 0.8568 - val_accuracy: 0.6667\n",
      "Epoch 11/300\n",
      " 1/10 [==>...........................] - ETA: 0s - loss: 0.9041 - accuracy: 0.5000\n",
      "Epoch 00011: val_accuracy did not improve from 0.66667\n",
      "10/10 [==============================] - 0s 3ms/step - loss: 0.8818 - accuracy: 0.6583 - val_loss: 0.8468 - val_accuracy: 0.6667\n",
      "Epoch 12/300\n",
      " 1/10 [==>...........................] - ETA: 0s - loss: 0.8940 - accuracy: 0.7500\n",
      "Epoch 00012: val_accuracy improved from 0.66667 to 0.70000, saving model to .\\modelo_mlp_ex3_1.hdf5\n",
      "10/10 [==============================] - 0s 4ms/step - loss: 0.8701 - accuracy: 0.6583 - val_loss: 0.8366 - val_accuracy: 0.7000\n",
      "Epoch 13/300\n",
      " 1/10 [==>...........................] - ETA: 0s - loss: 0.7936 - accuracy: 0.8333\n",
      "Epoch 00013: val_accuracy did not improve from 0.70000\n",
      "10/10 [==============================] - 0s 3ms/step - loss: 0.8578 - accuracy: 0.6583 - val_loss: 0.8266 - val_accuracy: 0.7000\n",
      "Epoch 14/300\n",
      " 1/10 [==>...........................] - ETA: 0s - loss: 0.9235 - accuracy: 0.5833\n",
      "Epoch 00014: val_accuracy did not improve from 0.70000\n",
      "10/10 [==============================] - 0s 3ms/step - loss: 0.8475 - accuracy: 0.6583 - val_loss: 0.8165 - val_accuracy: 0.7000\n",
      "Epoch 15/300\n",
      " 1/10 [==>...........................] - ETA: 0s - loss: 0.8245 - accuracy: 0.8333\n",
      "Epoch 00015: val_accuracy did not improve from 0.70000\n",
      "10/10 [==============================] - 0s 3ms/step - loss: 0.8362 - accuracy: 0.6583 - val_loss: 0.8073 - val_accuracy: 0.7000\n",
      "Epoch 16/300\n",
      " 1/10 [==>...........................] - ETA: 0s - loss: 0.8106 - accuracy: 0.6667\n",
      "Epoch 00016: val_accuracy did not improve from 0.70000\n",
      "10/10 [==============================] - 0s 3ms/step - loss: 0.8261 - accuracy: 0.6583 - val_loss: 0.7982 - val_accuracy: 0.7000\n",
      "Epoch 17/300\n",
      " 1/10 [==>...........................] - ETA: 0s - loss: 0.8265 - accuracy: 0.6667\n",
      "Epoch 00017: val_accuracy did not improve from 0.70000\n",
      "10/10 [==============================] - 0s 3ms/step - loss: 0.8164 - accuracy: 0.6583 - val_loss: 0.7890 - val_accuracy: 0.7000\n",
      "Epoch 18/300\n",
      " 1/10 [==>...........................] - ETA: 0s - loss: 0.7961 - accuracy: 0.5833\n",
      "Epoch 00018: val_accuracy did not improve from 0.70000\n",
      "10/10 [==============================] - 0s 3ms/step - loss: 0.8064 - accuracy: 0.6583 - val_loss: 0.7799 - val_accuracy: 0.7000\n",
      "Epoch 19/300\n",
      " 1/10 [==>...........................] - ETA: 0s - loss: 0.8331 - accuracy: 0.5833\n",
      "Epoch 00019: val_accuracy did not improve from 0.70000\n",
      "10/10 [==============================] - 0s 3ms/step - loss: 0.7967 - accuracy: 0.6667 - val_loss: 0.7712 - val_accuracy: 0.7000\n",
      "Epoch 20/300\n",
      " 1/10 [==>...........................] - ETA: 0s - loss: 0.7372 - accuracy: 0.9167\n",
      "Epoch 00020: val_accuracy did not improve from 0.70000\n",
      "10/10 [==============================] - 0s 3ms/step - loss: 0.7874 - accuracy: 0.6750 - val_loss: 0.7623 - val_accuracy: 0.7000\n",
      "Epoch 21/300\n",
      " 1/10 [==>...........................] - ETA: 0s - loss: 0.7932 - accuracy: 0.5833\n",
      "Epoch 00021: val_accuracy did not improve from 0.70000\n",
      "10/10 [==============================] - 0s 3ms/step - loss: 0.7780 - accuracy: 0.6833 - val_loss: 0.7534 - val_accuracy: 0.7000\n",
      "Epoch 22/300\n",
      " 1/10 [==>...........................] - ETA: 0s - loss: 0.7966 - accuracy: 0.6667\n",
      "Epoch 00022: val_accuracy did not improve from 0.70000\n",
      "10/10 [==============================] - 0s 3ms/step - loss: 0.7690 - accuracy: 0.6833 - val_loss: 0.7446 - val_accuracy: 0.7000\n",
      "Epoch 23/300\n",
      " 1/10 [==>...........................] - ETA: 0s - loss: 0.7247 - accuracy: 0.6667\n",
      "Epoch 00023: val_accuracy did not improve from 0.70000\n",
      "10/10 [==============================] - 0s 3ms/step - loss: 0.7598 - accuracy: 0.6833 - val_loss: 0.7362 - val_accuracy: 0.7000\n",
      "Epoch 24/300\n",
      " 1/10 [==>...........................] - ETA: 0s - loss: 0.7572 - accuracy: 0.6667\n",
      "Epoch 00024: val_accuracy did not improve from 0.70000\n",
      "10/10 [==============================] - 0s 3ms/step - loss: 0.7513 - accuracy: 0.6833 - val_loss: 0.7279 - val_accuracy: 0.7000\n",
      "Epoch 25/300\n",
      " 1/10 [==>...........................] - ETA: 0s - loss: 0.8379 - accuracy: 0.4167\n",
      "Epoch 00025: val_accuracy did not improve from 0.70000\n",
      "10/10 [==============================] - 0s 3ms/step - loss: 0.7423 - accuracy: 0.6917 - val_loss: 0.7201 - val_accuracy: 0.7000\n",
      "Epoch 26/300\n",
      " 1/10 [==>...........................] - ETA: 0s - loss: 0.7669 - accuracy: 0.5833\n",
      "Epoch 00026: val_accuracy did not improve from 0.70000\n",
      "10/10 [==============================] - 0s 3ms/step - loss: 0.7339 - accuracy: 0.6917 - val_loss: 0.7118 - val_accuracy: 0.7000\n",
      "Epoch 27/300\n",
      " 1/10 [==>...........................] - ETA: 0s - loss: 0.8125 - accuracy: 0.5000\n",
      "Epoch 00027: val_accuracy did not improve from 0.70000\n",
      "10/10 [==============================] - 0s 3ms/step - loss: 0.7257 - accuracy: 0.6917 - val_loss: 0.7038 - val_accuracy: 0.7000\n",
      "Epoch 28/300\n",
      " 1/10 [==>...........................] - ETA: 0s - loss: 0.6309 - accuracy: 0.9167\n",
      "Epoch 00028: val_accuracy did not improve from 0.70000\n",
      "10/10 [==============================] - 0s 3ms/step - loss: 0.7174 - accuracy: 0.6917 - val_loss: 0.6959 - val_accuracy: 0.7000\n",
      "Epoch 29/300\n",
      " 1/10 [==>...........................] - ETA: 0s - loss: 0.6867 - accuracy: 0.6667\n",
      "Epoch 00029: val_accuracy did not improve from 0.70000\n",
      "10/10 [==============================] - 0s 3ms/step - loss: 0.7097 - accuracy: 0.6917 - val_loss: 0.6882 - val_accuracy: 0.7000\n",
      "Epoch 30/300\n",
      " 1/10 [==>...........................] - ETA: 0s - loss: 0.6279 - accuracy: 0.8333\n",
      "Epoch 00030: val_accuracy did not improve from 0.70000\n",
      "10/10 [==============================] - 0s 3ms/step - loss: 0.7015 - accuracy: 0.6917 - val_loss: 0.6807 - val_accuracy: 0.7000\n",
      "Epoch 31/300\n",
      " 1/10 [==>...........................] - ETA: 0s - loss: 0.6042 - accuracy: 0.8333\n",
      "Epoch 00031: val_accuracy did not improve from 0.70000\n",
      "10/10 [==============================] - 0s 3ms/step - loss: 0.6939 - accuracy: 0.6917 - val_loss: 0.6732 - val_accuracy: 0.7000\n",
      "Epoch 32/300\n",
      " 1/10 [==>...........................] - ETA: 0s - loss: 0.7885 - accuracy: 0.4167\n",
      "Epoch 00032: val_accuracy did not improve from 0.70000\n",
      "10/10 [==============================] - 0s 3ms/step - loss: 0.6864 - accuracy: 0.6917 - val_loss: 0.6664 - val_accuracy: 0.7000\n",
      "Epoch 33/300\n",
      " 1/10 [==>...........................] - ETA: 0s - loss: 0.6862 - accuracy: 0.6667\n",
      "Epoch 00033: val_accuracy did not improve from 0.70000\n",
      "10/10 [==============================] - 0s 3ms/step - loss: 0.6790 - accuracy: 0.6917 - val_loss: 0.6592 - val_accuracy: 0.7000\n",
      "Epoch 34/300\n",
      " 1/10 [==>...........................] - ETA: 0s - loss: 0.7385 - accuracy: 0.5000\n",
      "Epoch 00034: val_accuracy did not improve from 0.70000\n",
      "10/10 [==============================] - 0s 3ms/step - loss: 0.6721 - accuracy: 0.6917 - val_loss: 0.6521 - val_accuracy: 0.7000\n",
      "Epoch 35/300\n",
      " 1/10 [==>...........................] - ETA: 0s - loss: 0.7133 - accuracy: 0.5833\n",
      "Epoch 00035: val_accuracy did not improve from 0.70000\n",
      "10/10 [==============================] - 0s 3ms/step - loss: 0.6649 - accuracy: 0.6917 - val_loss: 0.6452 - val_accuracy: 0.7000\n",
      "Epoch 36/300\n",
      " 1/10 [==>...........................] - ETA: 0s - loss: 0.6639 - accuracy: 0.6667\n",
      "Epoch 00036: val_accuracy did not improve from 0.70000\n",
      "10/10 [==============================] - 0s 3ms/step - loss: 0.6579 - accuracy: 0.6917 - val_loss: 0.6386 - val_accuracy: 0.7000\n",
      "Epoch 37/300\n",
      " 1/10 [==>...........................] - ETA: 0s - loss: 0.5140 - accuracy: 0.9167\n",
      "Epoch 00037: val_accuracy did not improve from 0.70000\n",
      "10/10 [==============================] - 0s 3ms/step - loss: 0.6517 - accuracy: 0.6917 - val_loss: 0.6317 - val_accuracy: 0.7000\n",
      "Epoch 38/300\n",
      " 1/10 [==>...........................] - ETA: 0s - loss: 0.5266 - accuracy: 0.8333\n",
      "Epoch 00038: val_accuracy did not improve from 0.70000\n",
      "10/10 [==============================] - 0s 3ms/step - loss: 0.6448 - accuracy: 0.6917 - val_loss: 0.6252 - val_accuracy: 0.7000\n",
      "Epoch 39/300\n",
      " 1/10 [==>...........................] - ETA: 0s - loss: 0.6568 - accuracy: 0.6667\n",
      "Epoch 00039: val_accuracy did not improve from 0.70000\n",
      "10/10 [==============================] - 0s 3ms/step - loss: 0.6382 - accuracy: 0.6917 - val_loss: 0.6192 - val_accuracy: 0.7000\n",
      "Epoch 40/300\n",
      " 1/10 [==>...........................] - ETA: 0s - loss: 0.5375 - accuracy: 0.7500\n",
      "Epoch 00040: val_accuracy did not improve from 0.70000\n",
      "10/10 [==============================] - 0s 3ms/step - loss: 0.6323 - accuracy: 0.6833 - val_loss: 0.6128 - val_accuracy: 0.7000\n",
      "Epoch 41/300\n",
      " 1/10 [==>...........................] - ETA: 0s - loss: 0.5471 - accuracy: 0.8333\n",
      "Epoch 00041: val_accuracy did not improve from 0.70000\n",
      "10/10 [==============================] - 0s 3ms/step - loss: 0.6259 - accuracy: 0.6833 - val_loss: 0.6069 - val_accuracy: 0.7000\n",
      "Epoch 42/300\n",
      " 1/10 [==>...........................] - ETA: 0s - loss: 0.4520 - accuracy: 1.0000\n",
      "Epoch 00042: val_accuracy did not improve from 0.70000\n",
      "10/10 [==============================] - 0s 3ms/step - loss: 0.6201 - accuracy: 0.6917 - val_loss: 0.6009 - val_accuracy: 0.7000\n",
      "Epoch 43/300\n",
      " 1/10 [==>...........................] - ETA: 0s - loss: 0.6201 - accuracy: 0.6667\n",
      "Epoch 00043: val_accuracy did not improve from 0.70000\n",
      "10/10 [==============================] - 0s 3ms/step - loss: 0.6142 - accuracy: 0.6917 - val_loss: 0.5958 - val_accuracy: 0.7000\n",
      "Epoch 44/300\n",
      " 1/10 [==>...........................] - ETA: 0s - loss: 0.6930 - accuracy: 0.5000\n",
      "Epoch 00044: val_accuracy did not improve from 0.70000\n",
      "10/10 [==============================] - 0s 3ms/step - loss: 0.6086 - accuracy: 0.6917 - val_loss: 0.5901 - val_accuracy: 0.7000\n",
      "Epoch 45/300\n",
      " 1/10 [==>...........................] - ETA: 0s - loss: 0.5525 - accuracy: 0.8333\n",
      "Epoch 00045: val_accuracy did not improve from 0.70000\n",
      "10/10 [==============================] - 0s 3ms/step - loss: 0.6031 - accuracy: 0.6917 - val_loss: 0.5847 - val_accuracy: 0.7000\n",
      "Epoch 46/300\n",
      " 1/10 [==>...........................] - ETA: 0s - loss: 0.5405 - accuracy: 0.7500\n",
      "Epoch 00046: val_accuracy did not improve from 0.70000\n",
      "10/10 [==============================] - 0s 3ms/step - loss: 0.5978 - accuracy: 0.7083 - val_loss: 0.5795 - val_accuracy: 0.7000\n",
      "Epoch 47/300\n",
      " 1/10 [==>...........................] - ETA: 0s - loss: 0.6112 - accuracy: 0.7500\n",
      "Epoch 00047: val_accuracy did not improve from 0.70000\n",
      "10/10 [==============================] - 0s 3ms/step - loss: 0.5925 - accuracy: 0.7083 - val_loss: 0.5745 - val_accuracy: 0.7000\n",
      "Epoch 48/300\n",
      " 1/10 [==>...........................] - ETA: 0s - loss: 0.6340 - accuracy: 0.6667\n",
      "Epoch 00048: val_accuracy did not improve from 0.70000\n",
      "10/10 [==============================] - 0s 3ms/step - loss: 0.5875 - accuracy: 0.7083 - val_loss: 0.5695 - val_accuracy: 0.7000\n",
      "Epoch 49/300\n",
      " 1/10 [==>...........................] - ETA: 0s - loss: 0.3898 - accuracy: 1.0000\n",
      "Epoch 00049: val_accuracy did not improve from 0.70000\n",
      "10/10 [==============================] - 0s 3ms/step - loss: 0.5831 - accuracy: 0.7083 - val_loss: 0.5640 - val_accuracy: 0.7000\n",
      "Epoch 50/300\n",
      " 1/10 [==>...........................] - ETA: 0s - loss: 0.7261 - accuracy: 0.6667\n",
      "Epoch 00050: val_accuracy did not improve from 0.70000\n",
      "10/10 [==============================] - 0s 3ms/step - loss: 0.5785 - accuracy: 0.7083 - val_loss: 0.5604 - val_accuracy: 0.7000\n",
      "Epoch 51/300\n",
      " 1/10 [==>...........................] - ETA: 0s - loss: 0.5467 - accuracy: 0.9167\n",
      "Epoch 00051: val_accuracy did not improve from 0.70000\n",
      "10/10 [==============================] - 0s 3ms/step - loss: 0.5734 - accuracy: 0.7083 - val_loss: 0.5552 - val_accuracy: 0.7000\n",
      "Epoch 52/300\n",
      " 1/10 [==>...........................] - ETA: 0s - loss: 0.6841 - accuracy: 0.5833\n",
      "Epoch 00052: val_accuracy did not improve from 0.70000\n",
      "10/10 [==============================] - 0s 3ms/step - loss: 0.5687 - accuracy: 0.7167 - val_loss: 0.5507 - val_accuracy: 0.7000\n",
      "Epoch 53/300\n",
      " 1/10 [==>...........................] - ETA: 0s - loss: 0.5426 - accuracy: 0.6667\n",
      "Epoch 00053: val_accuracy did not improve from 0.70000\n",
      "10/10 [==============================] - 0s 4ms/step - loss: 0.5640 - accuracy: 0.7167 - val_loss: 0.5467 - val_accuracy: 0.7000\n",
      "Epoch 54/300\n",
      " 1/10 [==>...........................] - ETA: 0s - loss: 0.5811 - accuracy: 0.5833\n",
      "Epoch 00054: val_accuracy improved from 0.70000 to 0.73333, saving model to .\\modelo_mlp_ex3_1.hdf5\n",
      "10/10 [==============================] - 0s 7ms/step - loss: 0.5597 - accuracy: 0.7333 - val_loss: 0.5427 - val_accuracy: 0.7333\n",
      "Epoch 55/300\n",
      " 1/10 [==>...........................] - ETA: 0s - loss: 0.6006 - accuracy: 0.6667\n",
      "Epoch 00055: val_accuracy did not improve from 0.73333\n",
      "10/10 [==============================] - 0s 3ms/step - loss: 0.5555 - accuracy: 0.7250 - val_loss: 0.5384 - val_accuracy: 0.7000\n",
      "Epoch 56/300\n",
      " 1/10 [==>...........................] - ETA: 0s - loss: 0.4858 - accuracy: 0.8333\n",
      "Epoch 00056: val_accuracy did not improve from 0.73333\n",
      "10/10 [==============================] - 0s 3ms/step - loss: 0.5514 - accuracy: 0.7250 - val_loss: 0.5342 - val_accuracy: 0.7333\n",
      "Epoch 57/300\n",
      " 1/10 [==>...........................] - ETA: 0s - loss: 0.6179 - accuracy: 0.6667\n",
      "Epoch 00057: val_accuracy did not improve from 0.73333\n",
      "10/10 [==============================] - 0s 3ms/step - loss: 0.5474 - accuracy: 0.7250 - val_loss: 0.5305 - val_accuracy: 0.7333\n",
      "Epoch 58/300\n",
      " 1/10 [==>...........................] - ETA: 0s - loss: 0.5352 - accuracy: 0.8333\n",
      "Epoch 00058: val_accuracy did not improve from 0.73333\n",
      "10/10 [==============================] - 0s 3ms/step - loss: 0.5434 - accuracy: 0.7333 - val_loss: 0.5266 - val_accuracy: 0.7333\n",
      "Epoch 59/300\n",
      " 1/10 [==>...........................] - ETA: 0s - loss: 0.5023 - accuracy: 0.7500\n",
      "Epoch 00059: val_accuracy did not improve from 0.73333\n",
      "10/10 [==============================] - 0s 3ms/step - loss: 0.5398 - accuracy: 0.7333 - val_loss: 0.5229 - val_accuracy: 0.7333\n",
      "Epoch 60/300\n",
      " 1/10 [==>...........................] - ETA: 0s - loss: 0.4604 - accuracy: 0.8333\n",
      "Epoch 00060: val_accuracy did not improve from 0.73333\n",
      "10/10 [==============================] - 0s 3ms/step - loss: 0.5359 - accuracy: 0.7333 - val_loss: 0.5192 - val_accuracy: 0.7333\n",
      "Epoch 61/300\n",
      " 1/10 [==>...........................] - ETA: 0s - loss: 0.6441 - accuracy: 0.7500\n",
      "Epoch 00061: val_accuracy did not improve from 0.73333\n",
      "10/10 [==============================] - 0s 3ms/step - loss: 0.5324 - accuracy: 0.7333 - val_loss: 0.5155 - val_accuracy: 0.7333\n",
      "Epoch 62/300\n",
      " 1/10 [==>...........................] - ETA: 0s - loss: 0.5187 - accuracy: 0.6667\n",
      "Epoch 00062: val_accuracy did not improve from 0.73333\n",
      "10/10 [==============================] - 0s 3ms/step - loss: 0.5290 - accuracy: 0.7333 - val_loss: 0.5121 - val_accuracy: 0.7333\n",
      "Epoch 63/300\n",
      " 1/10 [==>...........................] - ETA: 0s - loss: 0.4559 - accuracy: 0.8333\n",
      "Epoch 00063: val_accuracy did not improve from 0.73333\n",
      "10/10 [==============================] - 0s 3ms/step - loss: 0.5255 - accuracy: 0.7333 - val_loss: 0.5084 - val_accuracy: 0.7333\n",
      "Epoch 64/300\n",
      " 1/10 [==>...........................] - ETA: 0s - loss: 0.5538 - accuracy: 0.7500\n",
      "Epoch 00064: val_accuracy did not improve from 0.73333\n",
      "10/10 [==============================] - 0s 3ms/step - loss: 0.5224 - accuracy: 0.7333 - val_loss: 0.5055 - val_accuracy: 0.7333\n",
      "Epoch 65/300\n",
      " 1/10 [==>...........................] - ETA: 0s - loss: 0.4767 - accuracy: 0.7500\n",
      "Epoch 00065: val_accuracy did not improve from 0.73333\n",
      "10/10 [==============================] - 0s 3ms/step - loss: 0.5193 - accuracy: 0.7333 - val_loss: 0.5024 - val_accuracy: 0.7333\n",
      "Epoch 66/300\n",
      " 1/10 [==>...........................] - ETA: 0s - loss: 0.5254 - accuracy: 0.5833\n",
      "Epoch 00066: val_accuracy did not improve from 0.73333\n",
      "10/10 [==============================] - 0s 3ms/step - loss: 0.5158 - accuracy: 0.7333 - val_loss: 0.4990 - val_accuracy: 0.7333\n",
      "Epoch 67/300\n",
      " 1/10 [==>...........................] - ETA: 0s - loss: 0.4633 - accuracy: 0.7500\n",
      "Epoch 00067: val_accuracy did not improve from 0.73333\n",
      "10/10 [==============================] - 0s 3ms/step - loss: 0.5128 - accuracy: 0.7333 - val_loss: 0.4957 - val_accuracy: 0.7333\n",
      "Epoch 68/300\n",
      " 1/10 [==>...........................] - ETA: 0s - loss: 0.4603 - accuracy: 0.8333\n",
      "Epoch 00068: val_accuracy did not improve from 0.73333\n",
      "10/10 [==============================] - 0s 3ms/step - loss: 0.5098 - accuracy: 0.7333 - val_loss: 0.4925 - val_accuracy: 0.7333\n",
      "Epoch 69/300\n",
      " 1/10 [==>...........................] - ETA: 0s - loss: 0.5024 - accuracy: 0.8333\n",
      "Epoch 00069: val_accuracy did not improve from 0.73333\n",
      "10/10 [==============================] - 0s 3ms/step - loss: 0.5070 - accuracy: 0.7333 - val_loss: 0.4895 - val_accuracy: 0.7333\n",
      "Epoch 70/300\n",
      " 1/10 [==>...........................] - ETA: 0s - loss: 0.5017 - accuracy: 0.7500\n",
      "Epoch 00070: val_accuracy improved from 0.73333 to 0.76667, saving model to .\\modelo_mlp_ex3_1.hdf5\n",
      "10/10 [==============================] - 0s 12ms/step - loss: 0.5042 - accuracy: 0.7333 - val_loss: 0.4867 - val_accuracy: 0.7667\n",
      "Epoch 71/300\n",
      " 1/10 [==>...........................] - ETA: 0s - loss: 0.5109 - accuracy: 0.8333\n",
      "Epoch 00071: val_accuracy did not improve from 0.76667\n",
      "10/10 [==============================] - 0s 3ms/step - loss: 0.5014 - accuracy: 0.7333 - val_loss: 0.4838 - val_accuracy: 0.7667\n",
      "Epoch 72/300\n",
      " 1/10 [==>...........................] - ETA: 0s - loss: 0.5053 - accuracy: 0.6667\n",
      "Epoch 00072: val_accuracy did not improve from 0.76667\n",
      "10/10 [==============================] - 0s 3ms/step - loss: 0.4987 - accuracy: 0.7333 - val_loss: 0.4812 - val_accuracy: 0.7667\n",
      "Epoch 73/300\n",
      " 1/10 [==>...........................] - ETA: 0s - loss: 0.5147 - accuracy: 0.8333\n",
      "Epoch 00073: val_accuracy improved from 0.76667 to 0.80000, saving model to .\\modelo_mlp_ex3_1.hdf5\n",
      "10/10 [==============================] - 0s 4ms/step - loss: 0.4961 - accuracy: 0.7333 - val_loss: 0.4787 - val_accuracy: 0.8000\n",
      "Epoch 74/300\n",
      " 1/10 [==>...........................] - ETA: 0s - loss: 0.5370 - accuracy: 0.7500\n",
      "Epoch 00074: val_accuracy did not improve from 0.80000\n",
      "10/10 [==============================] - 0s 3ms/step - loss: 0.4936 - accuracy: 0.7417 - val_loss: 0.4762 - val_accuracy: 0.8000\n",
      "Epoch 75/300\n",
      " 1/10 [==>...........................] - ETA: 0s - loss: 0.4902 - accuracy: 0.6667\n",
      "Epoch 00075: val_accuracy did not improve from 0.80000\n",
      "10/10 [==============================] - 0s 3ms/step - loss: 0.4912 - accuracy: 0.7417 - val_loss: 0.4734 - val_accuracy: 0.8000\n",
      "Epoch 76/300\n",
      " 1/10 [==>...........................] - ETA: 0s - loss: 0.4111 - accuracy: 0.8333\n",
      "Epoch 00076: val_accuracy did not improve from 0.80000\n",
      "10/10 [==============================] - 0s 3ms/step - loss: 0.4887 - accuracy: 0.7583 - val_loss: 0.4711 - val_accuracy: 0.8000\n",
      "Epoch 77/300\n",
      " 1/10 [==>...........................] - ETA: 0s - loss: 0.4864 - accuracy: 0.6667\n",
      "Epoch 00077: val_accuracy did not improve from 0.80000\n",
      "10/10 [==============================] - 0s 3ms/step - loss: 0.4863 - accuracy: 0.7583 - val_loss: 0.4687 - val_accuracy: 0.8000\n",
      "Epoch 78/300\n",
      " 1/10 [==>...........................] - ETA: 0s - loss: 0.6146 - accuracy: 0.5833\n",
      "Epoch 00078: val_accuracy did not improve from 0.80000\n",
      "10/10 [==============================] - 0s 3ms/step - loss: 0.4841 - accuracy: 0.7667 - val_loss: 0.4663 - val_accuracy: 0.8000\n",
      "Epoch 79/300\n",
      " 1/10 [==>...........................] - ETA: 0s - loss: 0.5498 - accuracy: 0.8333\n",
      "Epoch 00079: val_accuracy did not improve from 0.80000\n",
      "10/10 [==============================] - 0s 3ms/step - loss: 0.4819 - accuracy: 0.7583 - val_loss: 0.4637 - val_accuracy: 0.8000\n",
      "Epoch 80/300\n",
      " 1/10 [==>...........................] - ETA: 0s - loss: 0.4301 - accuracy: 0.8333\n",
      "Epoch 00080: val_accuracy did not improve from 0.80000\n",
      "10/10 [==============================] - 0s 3ms/step - loss: 0.4798 - accuracy: 0.7583 - val_loss: 0.4612 - val_accuracy: 0.8000\n",
      "Epoch 81/300\n",
      " 1/10 [==>...........................] - ETA: 0s - loss: 0.4527 - accuracy: 0.7500\n",
      "Epoch 00081: val_accuracy did not improve from 0.80000\n",
      "10/10 [==============================] - 0s 3ms/step - loss: 0.4773 - accuracy: 0.7667 - val_loss: 0.4591 - val_accuracy: 0.8000\n",
      "Epoch 82/300\n",
      " 1/10 [==>...........................] - ETA: 0s - loss: 0.4636 - accuracy: 0.7500\n",
      "Epoch 00082: val_accuracy did not improve from 0.80000\n",
      "10/10 [==============================] - 0s 3ms/step - loss: 0.4752 - accuracy: 0.7667 - val_loss: 0.4571 - val_accuracy: 0.8000\n",
      "Epoch 83/300\n",
      " 1/10 [==>...........................] - ETA: 0s - loss: 0.4857 - accuracy: 0.7500\n",
      "Epoch 00083: val_accuracy did not improve from 0.80000\n",
      "10/10 [==============================] - 0s 3ms/step - loss: 0.4731 - accuracy: 0.7833 - val_loss: 0.4550 - val_accuracy: 0.8000\n",
      "Epoch 84/300\n",
      " 1/10 [==>...........................] - ETA: 0s - loss: 0.5210 - accuracy: 0.8333\n",
      "Epoch 00084: val_accuracy did not improve from 0.80000\n",
      "10/10 [==============================] - 0s 3ms/step - loss: 0.4711 - accuracy: 0.7833 - val_loss: 0.4529 - val_accuracy: 0.8000\n",
      "Epoch 85/300\n",
      " 1/10 [==>...........................] - ETA: 0s - loss: 0.4692 - accuracy: 0.9167\n",
      "Epoch 00085: val_accuracy did not improve from 0.80000\n",
      "10/10 [==============================] - 0s 3ms/step - loss: 0.4692 - accuracy: 0.7833 - val_loss: 0.4506 - val_accuracy: 0.8000\n",
      "Epoch 86/300\n",
      " 1/10 [==>...........................] - ETA: 0s - loss: 0.4290 - accuracy: 0.9167\n",
      "Epoch 00086: val_accuracy did not improve from 0.80000\n",
      "10/10 [==============================] - 0s 3ms/step - loss: 0.4670 - accuracy: 0.7833 - val_loss: 0.4486 - val_accuracy: 0.8000\n",
      "Epoch 87/300\n",
      " 1/10 [==>...........................] - ETA: 0s - loss: 0.4319 - accuracy: 0.9167\n",
      "Epoch 00087: val_accuracy did not improve from 0.80000\n",
      "10/10 [==============================] - 0s 3ms/step - loss: 0.4651 - accuracy: 0.7917 - val_loss: 0.4467 - val_accuracy: 0.8000\n",
      "Epoch 88/300\n",
      " 1/10 [==>...........................] - ETA: 0s - loss: 0.4403 - accuracy: 1.0000\n",
      "Epoch 00088: val_accuracy did not improve from 0.80000\n",
      "10/10 [==============================] - 0s 3ms/step - loss: 0.4633 - accuracy: 0.8000 - val_loss: 0.4446 - val_accuracy: 0.8000\n",
      "Epoch 89/300\n",
      " 1/10 [==>...........................] - ETA: 0s - loss: 0.2756 - accuracy: 0.9167\n",
      "Epoch 00089: val_accuracy did not improve from 0.80000\n",
      "10/10 [==============================] - 0s 3ms/step - loss: 0.4613 - accuracy: 0.8083 - val_loss: 0.4427 - val_accuracy: 0.8000\n",
      "Epoch 90/300\n",
      " 1/10 [==>...........................] - ETA: 0s - loss: 0.4163 - accuracy: 0.8333\n",
      "Epoch 00090: val_accuracy did not improve from 0.80000\n",
      "10/10 [==============================] - 0s 3ms/step - loss: 0.4595 - accuracy: 0.8167 - val_loss: 0.4409 - val_accuracy: 0.8000\n",
      "Epoch 91/300\n",
      " 1/10 [==>...........................] - ETA: 0s - loss: 0.3976 - accuracy: 0.8333\n",
      "Epoch 00091: val_accuracy did not improve from 0.80000\n",
      "10/10 [==============================] - 0s 3ms/step - loss: 0.4578 - accuracy: 0.8083 - val_loss: 0.4387 - val_accuracy: 0.8000\n",
      "Epoch 92/300\n",
      " 1/10 [==>...........................] - ETA: 0s - loss: 0.4893 - accuracy: 0.6667\n",
      "Epoch 00092: val_accuracy did not improve from 0.80000\n",
      "10/10 [==============================] - 0s 3ms/step - loss: 0.4558 - accuracy: 0.8167 - val_loss: 0.4371 - val_accuracy: 0.8000\n",
      "Epoch 93/300\n",
      " 1/10 [==>...........................] - ETA: 0s - loss: 0.5593 - accuracy: 0.7500\n",
      "Epoch 00093: val_accuracy did not improve from 0.80000\n",
      "10/10 [==============================] - 0s 3ms/step - loss: 0.4540 - accuracy: 0.8167 - val_loss: 0.4354 - val_accuracy: 0.8000\n",
      "Epoch 94/300\n",
      " 1/10 [==>...........................] - ETA: 0s - loss: 0.4925 - accuracy: 0.7500\n",
      "Epoch 00094: val_accuracy did not improve from 0.80000\n",
      "10/10 [==============================] - 0s 3ms/step - loss: 0.4523 - accuracy: 0.8167 - val_loss: 0.4336 - val_accuracy: 0.8000\n",
      "Epoch 95/300\n",
      " 1/10 [==>...........................] - ETA: 0s - loss: 0.4143 - accuracy: 0.9167\n",
      "Epoch 00095: val_accuracy did not improve from 0.80000\n",
      "10/10 [==============================] - 0s 3ms/step - loss: 0.4505 - accuracy: 0.8167 - val_loss: 0.4314 - val_accuracy: 0.8000\n",
      "Epoch 96/300\n",
      " 1/10 [==>...........................] - ETA: 0s - loss: 0.5663 - accuracy: 0.7500\n",
      "Epoch 00096: val_accuracy improved from 0.80000 to 0.83333, saving model to .\\modelo_mlp_ex3_1.hdf5\n",
      "10/10 [==============================] - 0s 5ms/step - loss: 0.4488 - accuracy: 0.8167 - val_loss: 0.4298 - val_accuracy: 0.8333\n",
      "Epoch 97/300\n",
      " 1/10 [==>...........................] - ETA: 0s - loss: 0.5060 - accuracy: 0.7500\n",
      "Epoch 00097: val_accuracy did not improve from 0.83333\n",
      "10/10 [==============================] - 0s 3ms/step - loss: 0.4472 - accuracy: 0.8167 - val_loss: 0.4276 - val_accuracy: 0.8000\n",
      "Epoch 98/300\n",
      " 1/10 [==>...........................] - ETA: 0s - loss: 0.4799 - accuracy: 0.7500\n",
      "Epoch 00098: val_accuracy did not improve from 0.83333\n",
      "10/10 [==============================] - 0s 3ms/step - loss: 0.4450 - accuracy: 0.8167 - val_loss: 0.4259 - val_accuracy: 0.8333\n",
      "Epoch 99/300\n",
      " 1/10 [==>...........................] - ETA: 0s - loss: 0.3414 - accuracy: 0.8333\n",
      "Epoch 00099: val_accuracy did not improve from 0.83333\n",
      "10/10 [==============================] - 0s 3ms/step - loss: 0.4435 - accuracy: 0.8250 - val_loss: 0.4243 - val_accuracy: 0.8333\n",
      "Epoch 100/300\n",
      " 1/10 [==>...........................] - ETA: 0s - loss: 0.3790 - accuracy: 0.9167\n",
      "Epoch 00100: val_accuracy did not improve from 0.83333\n",
      "10/10 [==============================] - 0s 3ms/step - loss: 0.4417 - accuracy: 0.8333 - val_loss: 0.4225 - val_accuracy: 0.8333\n",
      "Epoch 101/300\n",
      " 1/10 [==>...........................] - ETA: 0s - loss: 0.4324 - accuracy: 0.7500\n",
      "Epoch 00101: val_accuracy did not improve from 0.83333\n",
      "10/10 [==============================] - 0s 3ms/step - loss: 0.4400 - accuracy: 0.8333 - val_loss: 0.4206 - val_accuracy: 0.8333\n",
      "Epoch 102/300\n",
      " 1/10 [==>...........................] - ETA: 0s - loss: 0.5798 - accuracy: 0.8333\n",
      "Epoch 00102: val_accuracy did not improve from 0.83333\n",
      "10/10 [==============================] - 0s 3ms/step - loss: 0.4383 - accuracy: 0.8333 - val_loss: 0.4189 - val_accuracy: 0.8333\n",
      "Epoch 103/300\n",
      " 1/10 [==>...........................] - ETA: 0s - loss: 0.5288 - accuracy: 0.7500\n",
      "Epoch 00103: val_accuracy did not improve from 0.83333\n",
      "10/10 [==============================] - 0s 3ms/step - loss: 0.4367 - accuracy: 0.8333 - val_loss: 0.4169 - val_accuracy: 0.8333\n",
      "Epoch 104/300\n",
      " 1/10 [==>...........................] - ETA: 0s - loss: 0.4364 - accuracy: 0.7500\n",
      "Epoch 00104: val_accuracy did not improve from 0.83333\n",
      "10/10 [==============================] - 0s 3ms/step - loss: 0.4349 - accuracy: 0.8417 - val_loss: 0.4154 - val_accuracy: 0.8333\n",
      "Epoch 105/300\n",
      " 1/10 [==>...........................] - ETA: 0s - loss: 0.4645 - accuracy: 0.7500\n",
      "Epoch 00105: val_accuracy did not improve from 0.83333\n",
      "10/10 [==============================] - 0s 3ms/step - loss: 0.4331 - accuracy: 0.8417 - val_loss: 0.4135 - val_accuracy: 0.8333\n",
      "Epoch 106/300\n",
      " 1/10 [==>...........................] - ETA: 0s - loss: 0.4622 - accuracy: 0.7500\n",
      "Epoch 00106: val_accuracy did not improve from 0.83333\n",
      "10/10 [==============================] - 0s 3ms/step - loss: 0.4316 - accuracy: 0.8417 - val_loss: 0.4120 - val_accuracy: 0.8333\n",
      "Epoch 107/300\n",
      " 1/10 [==>...........................] - ETA: 0s - loss: 0.3804 - accuracy: 0.7500\n",
      "Epoch 00107: val_accuracy did not improve from 0.83333\n",
      "10/10 [==============================] - 0s 3ms/step - loss: 0.4300 - accuracy: 0.8417 - val_loss: 0.4105 - val_accuracy: 0.8333\n",
      "Epoch 108/300\n",
      " 1/10 [==>...........................] - ETA: 0s - loss: 0.4503 - accuracy: 1.0000\n",
      "Epoch 00108: val_accuracy did not improve from 0.83333\n",
      "10/10 [==============================] - 0s 3ms/step - loss: 0.4284 - accuracy: 0.8417 - val_loss: 0.4082 - val_accuracy: 0.8333\n",
      "Epoch 109/300\n",
      " 1/10 [==>...........................] - ETA: 0s - loss: 0.5056 - accuracy: 0.7500\n",
      "Epoch 00109: val_accuracy did not improve from 0.83333\n",
      "10/10 [==============================] - 0s 3ms/step - loss: 0.4263 - accuracy: 0.8417 - val_loss: 0.4067 - val_accuracy: 0.8333\n",
      "Epoch 110/300\n",
      " 1/10 [==>...........................] - ETA: 0s - loss: 0.4554 - accuracy: 0.6667\n",
      "Epoch 00110: val_accuracy did not improve from 0.83333\n",
      "10/10 [==============================] - 0s 3ms/step - loss: 0.4246 - accuracy: 0.8417 - val_loss: 0.4049 - val_accuracy: 0.8333\n",
      "Epoch 111/300\n",
      " 1/10 [==>...........................] - ETA: 0s - loss: 0.3210 - accuracy: 0.9167\n",
      "Epoch 00111: val_accuracy did not improve from 0.83333\n",
      "10/10 [==============================] - 0s 3ms/step - loss: 0.4229 - accuracy: 0.8500 - val_loss: 0.4030 - val_accuracy: 0.8333\n",
      "Epoch 112/300\n",
      " 1/10 [==>...........................] - ETA: 0s - loss: 0.3883 - accuracy: 0.8333\n",
      "Epoch 00112: val_accuracy did not improve from 0.83333\n",
      "10/10 [==============================] - 0s 3ms/step - loss: 0.4211 - accuracy: 0.8500 - val_loss: 0.4013 - val_accuracy: 0.8333\n",
      "Epoch 113/300\n",
      " 1/10 [==>...........................] - ETA: 0s - loss: 0.4135 - accuracy: 0.8333\n",
      "Epoch 00113: val_accuracy did not improve from 0.83333\n",
      "10/10 [==============================] - 0s 3ms/step - loss: 0.4197 - accuracy: 0.8500 - val_loss: 0.3995 - val_accuracy: 0.8333\n",
      "Epoch 114/300\n",
      " 1/10 [==>...........................] - ETA: 0s - loss: 0.5189 - accuracy: 0.8333\n",
      "Epoch 00114: val_accuracy did not improve from 0.83333\n",
      "10/10 [==============================] - 0s 3ms/step - loss: 0.4183 - accuracy: 0.8500 - val_loss: 0.3977 - val_accuracy: 0.8333\n",
      "Epoch 115/300\n",
      " 1/10 [==>...........................] - ETA: 0s - loss: 0.4799 - accuracy: 0.8333\n",
      "Epoch 00115: val_accuracy did not improve from 0.83333\n",
      "10/10 [==============================] - 0s 3ms/step - loss: 0.4161 - accuracy: 0.8500 - val_loss: 0.3960 - val_accuracy: 0.8333\n",
      "Epoch 116/300\n",
      " 1/10 [==>...........................] - ETA: 0s - loss: 0.4041 - accuracy: 1.0000\n",
      "Epoch 00116: val_accuracy improved from 0.83333 to 0.86667, saving model to .\\modelo_mlp_ex3_1.hdf5\n",
      "10/10 [==============================] - 0s 5ms/step - loss: 0.4145 - accuracy: 0.8500 - val_loss: 0.3947 - val_accuracy: 0.8667\n",
      "Epoch 117/300\n",
      " 1/10 [==>...........................] - ETA: 0s - loss: 0.4743 - accuracy: 0.8333\n",
      "Epoch 00117: val_accuracy did not improve from 0.86667\n",
      "10/10 [==============================] - 0s 3ms/step - loss: 0.4127 - accuracy: 0.8667 - val_loss: 0.3932 - val_accuracy: 0.8667\n",
      "Epoch 118/300\n",
      " 1/10 [==>...........................] - ETA: 0s - loss: 0.3301 - accuracy: 0.9167\n",
      "Epoch 00118: val_accuracy did not improve from 0.86667\n",
      "10/10 [==============================] - 0s 3ms/step - loss: 0.4109 - accuracy: 0.8667 - val_loss: 0.3912 - val_accuracy: 0.8667\n",
      "Epoch 119/300\n",
      " 1/10 [==>...........................] - ETA: 0s - loss: 0.3086 - accuracy: 0.9167\n",
      "Epoch 00119: val_accuracy did not improve from 0.86667\n",
      "10/10 [==============================] - 0s 3ms/step - loss: 0.4091 - accuracy: 0.8667 - val_loss: 0.3894 - val_accuracy: 0.8667\n",
      "Epoch 120/300\n",
      " 1/10 [==>...........................] - ETA: 0s - loss: 0.4634 - accuracy: 0.8333\n",
      "Epoch 00120: val_accuracy did not improve from 0.86667\n",
      "10/10 [==============================] - 0s 3ms/step - loss: 0.4075 - accuracy: 0.8750 - val_loss: 0.3876 - val_accuracy: 0.8667\n",
      "Epoch 121/300\n",
      " 1/10 [==>...........................] - ETA: 0s - loss: 0.4039 - accuracy: 0.7500\n",
      "Epoch 00121: val_accuracy improved from 0.86667 to 0.90000, saving model to .\\modelo_mlp_ex3_1.hdf5\n",
      "10/10 [==============================] - 0s 9ms/step - loss: 0.4061 - accuracy: 0.8750 - val_loss: 0.3862 - val_accuracy: 0.9000\n",
      "Epoch 122/300\n",
      " 1/10 [==>...........................] - ETA: 0s - loss: 0.4042 - accuracy: 0.7500\n",
      "Epoch 00122: val_accuracy did not improve from 0.90000\n",
      "10/10 [==============================] - 0s 3ms/step - loss: 0.4039 - accuracy: 0.8750 - val_loss: 0.3842 - val_accuracy: 0.9000\n",
      "Epoch 123/300\n",
      " 1/10 [==>...........................] - ETA: 0s - loss: 0.4028 - accuracy: 1.0000\n",
      "Epoch 00123: val_accuracy did not improve from 0.90000\n",
      "10/10 [==============================] - 0s 3ms/step - loss: 0.4024 - accuracy: 0.8750 - val_loss: 0.3822 - val_accuracy: 0.9000\n",
      "Epoch 124/300\n",
      " 1/10 [==>...........................] - ETA: 0s - loss: 0.5008 - accuracy: 0.6667\n",
      "Epoch 00124: val_accuracy did not improve from 0.90000\n",
      "10/10 [==============================] - 0s 3ms/step - loss: 0.4006 - accuracy: 0.8750 - val_loss: 0.3805 - val_accuracy: 0.9000\n",
      "Epoch 125/300\n",
      " 1/10 [==>...........................] - ETA: 0s - loss: 0.3496 - accuracy: 0.9167\n",
      "Epoch 00125: val_accuracy did not improve from 0.90000\n",
      "10/10 [==============================] - 0s 3ms/step - loss: 0.3990 - accuracy: 0.8750 - val_loss: 0.3788 - val_accuracy: 0.9000\n",
      "Epoch 126/300\n",
      " 1/10 [==>...........................] - ETA: 0s - loss: 0.4640 - accuracy: 0.5833\n",
      "Epoch 00126: val_accuracy did not improve from 0.90000\n",
      "10/10 [==============================] - 0s 3ms/step - loss: 0.3973 - accuracy: 0.8917 - val_loss: 0.3774 - val_accuracy: 0.9000\n",
      "Epoch 127/300\n",
      " 1/10 [==>...........................] - ETA: 0s - loss: 0.2869 - accuracy: 0.9167\n",
      "Epoch 00127: val_accuracy did not improve from 0.90000\n",
      "10/10 [==============================] - 0s 3ms/step - loss: 0.3954 - accuracy: 0.8833 - val_loss: 0.3755 - val_accuracy: 0.9000\n",
      "Epoch 128/300\n",
      " 1/10 [==>...........................] - ETA: 0s - loss: 0.5286 - accuracy: 0.5833\n",
      "Epoch 00128: val_accuracy did not improve from 0.90000\n",
      "10/10 [==============================] - 0s 3ms/step - loss: 0.3938 - accuracy: 0.8917 - val_loss: 0.3738 - val_accuracy: 0.9000\n",
      "Epoch 129/300\n",
      " 1/10 [==>...........................] - ETA: 0s - loss: 0.2259 - accuracy: 0.9167\n",
      "Epoch 00129: val_accuracy did not improve from 0.90000\n",
      "10/10 [==============================] - 0s 3ms/step - loss: 0.3919 - accuracy: 0.8917 - val_loss: 0.3719 - val_accuracy: 0.9000\n",
      "Epoch 130/300\n",
      " 1/10 [==>...........................] - ETA: 0s - loss: 0.3531 - accuracy: 1.0000\n",
      "Epoch 00130: val_accuracy did not improve from 0.90000\n",
      "10/10 [==============================] - 0s 3ms/step - loss: 0.3903 - accuracy: 0.8917 - val_loss: 0.3702 - val_accuracy: 0.9000\n",
      "Epoch 131/300\n",
      " 1/10 [==>...........................] - ETA: 0s - loss: 0.3346 - accuracy: 0.9167\n",
      "Epoch 00131: val_accuracy did not improve from 0.90000\n",
      "10/10 [==============================] - 0s 3ms/step - loss: 0.3892 - accuracy: 0.8750 - val_loss: 0.3680 - val_accuracy: 0.9000\n",
      "Epoch 132/300\n",
      " 1/10 [==>...........................] - ETA: 0s - loss: 0.3116 - accuracy: 0.9167\n",
      "Epoch 00132: val_accuracy did not improve from 0.90000\n",
      "10/10 [==============================] - 0s 3ms/step - loss: 0.3873 - accuracy: 0.9083 - val_loss: 0.3668 - val_accuracy: 0.9000\n",
      "Epoch 133/300\n",
      " 1/10 [==>...........................] - ETA: 0s - loss: 0.4154 - accuracy: 0.9167\n",
      "Epoch 00133: val_accuracy improved from 0.90000 to 0.93333, saving model to .\\modelo_mlp_ex3_1.hdf5\n",
      "10/10 [==============================] - 0s 17ms/step - loss: 0.3856 - accuracy: 0.9083 - val_loss: 0.3653 - val_accuracy: 0.9333\n",
      "Epoch 134/300\n",
      " 1/10 [==>...........................] - ETA: 0s - loss: 0.4779 - accuracy: 0.8333\n",
      "Epoch 00134: val_accuracy did not improve from 0.93333\n",
      "10/10 [==============================] - 0s 4ms/step - loss: 0.3834 - accuracy: 0.9167 - val_loss: 0.3636 - val_accuracy: 0.9333\n",
      "Epoch 135/300\n",
      " 1/10 [==>...........................] - ETA: 0s - loss: 0.4171 - accuracy: 0.9167\n",
      "Epoch 00135: val_accuracy did not improve from 0.93333\n",
      "10/10 [==============================] - 0s 3ms/step - loss: 0.3821 - accuracy: 0.9083 - val_loss: 0.3615 - val_accuracy: 0.9000\n",
      "Epoch 136/300\n",
      " 1/10 [==>...........................] - ETA: 0s - loss: 0.2602 - accuracy: 1.0000\n",
      "Epoch 00136: val_accuracy did not improve from 0.93333\n",
      "10/10 [==============================] - 0s 3ms/step - loss: 0.3801 - accuracy: 0.9083 - val_loss: 0.3600 - val_accuracy: 0.9333\n",
      "Epoch 137/300\n",
      " 1/10 [==>...........................] - ETA: 0s - loss: 0.4202 - accuracy: 0.9167\n",
      "Epoch 00137: val_accuracy did not improve from 0.93333\n",
      "10/10 [==============================] - 0s 3ms/step - loss: 0.3783 - accuracy: 0.9083 - val_loss: 0.3581 - val_accuracy: 0.9333\n",
      "Epoch 138/300\n",
      " 1/10 [==>...........................] - ETA: 0s - loss: 0.3114 - accuracy: 1.0000\n",
      "Epoch 00138: val_accuracy did not improve from 0.93333\n",
      "10/10 [==============================] - 0s 3ms/step - loss: 0.3766 - accuracy: 0.9167 - val_loss: 0.3565 - val_accuracy: 0.9333\n",
      "Epoch 139/300\n",
      " 1/10 [==>...........................] - ETA: 0s - loss: 0.4259 - accuracy: 0.8333\n",
      "Epoch 00139: val_accuracy did not improve from 0.93333\n",
      "10/10 [==============================] - 0s 3ms/step - loss: 0.3751 - accuracy: 0.9167 - val_loss: 0.3545 - val_accuracy: 0.9333\n",
      "Epoch 140/300\n",
      " 1/10 [==>...........................] - ETA: 0s - loss: 0.3562 - accuracy: 1.0000\n",
      "Epoch 00140: val_accuracy did not improve from 0.93333\n",
      "10/10 [==============================] - 0s 3ms/step - loss: 0.3734 - accuracy: 0.9167 - val_loss: 0.3530 - val_accuracy: 0.9333\n",
      "Epoch 141/300\n",
      " 1/10 [==>...........................] - ETA: 0s - loss: 0.3791 - accuracy: 0.7500\n",
      "Epoch 00141: val_accuracy did not improve from 0.93333\n",
      "10/10 [==============================] - 0s 3ms/step - loss: 0.3718 - accuracy: 0.9167 - val_loss: 0.3517 - val_accuracy: 0.9333\n",
      "Epoch 142/300\n",
      " 1/10 [==>...........................] - ETA: 0s - loss: 0.2607 - accuracy: 0.9167\n",
      "Epoch 00142: val_accuracy did not improve from 0.93333\n",
      "10/10 [==============================] - 0s 3ms/step - loss: 0.3697 - accuracy: 0.9167 - val_loss: 0.3496 - val_accuracy: 0.9333\n",
      "Epoch 143/300\n",
      " 1/10 [==>...........................] - ETA: 0s - loss: 0.4364 - accuracy: 0.8333\n",
      "Epoch 00143: val_accuracy did not improve from 0.93333\n",
      "10/10 [==============================] - 0s 3ms/step - loss: 0.3681 - accuracy: 0.9167 - val_loss: 0.3477 - val_accuracy: 0.9333\n",
      "Epoch 144/300\n",
      " 1/10 [==>...........................] - ETA: 0s - loss: 0.4289 - accuracy: 0.9167\n",
      "Epoch 00144: val_accuracy did not improve from 0.93333\n",
      "10/10 [==============================] - 0s 3ms/step - loss: 0.3663 - accuracy: 0.9167 - val_loss: 0.3460 - val_accuracy: 0.9333\n",
      "Epoch 145/300\n",
      " 1/10 [==>...........................] - ETA: 0s - loss: 0.3907 - accuracy: 1.0000\n",
      "Epoch 00145: val_accuracy did not improve from 0.93333\n",
      "10/10 [==============================] - 0s 3ms/step - loss: 0.3646 - accuracy: 0.9167 - val_loss: 0.3443 - val_accuracy: 0.9333\n",
      "Epoch 146/300\n",
      " 1/10 [==>...........................] - ETA: 0s - loss: 0.3341 - accuracy: 0.8333\n",
      "Epoch 00146: val_accuracy did not improve from 0.93333\n",
      "10/10 [==============================] - 0s 3ms/step - loss: 0.3627 - accuracy: 0.9167 - val_loss: 0.3426 - val_accuracy: 0.9333\n",
      "Epoch 147/300\n",
      " 1/10 [==>...........................] - ETA: 0s - loss: 0.1606 - accuracy: 0.9167\n",
      "Epoch 00147: val_accuracy did not improve from 0.93333\n",
      "10/10 [==============================] - 0s 3ms/step - loss: 0.3610 - accuracy: 0.9167 - val_loss: 0.3410 - val_accuracy: 0.9333\n",
      "Epoch 148/300\n",
      " 1/10 [==>...........................] - ETA: 0s - loss: 0.3138 - accuracy: 0.8333\n",
      "Epoch 00148: val_accuracy did not improve from 0.93333\n",
      "10/10 [==============================] - 0s 3ms/step - loss: 0.3596 - accuracy: 0.9333 - val_loss: 0.3395 - val_accuracy: 0.9333\n",
      "Epoch 149/300\n",
      " 1/10 [==>...........................] - ETA: 0s - loss: 0.2533 - accuracy: 1.0000\n",
      "Epoch 00149: val_accuracy did not improve from 0.93333\n",
      "10/10 [==============================] - 0s 3ms/step - loss: 0.3575 - accuracy: 0.9250 - val_loss: 0.3376 - val_accuracy: 0.9333\n",
      "Epoch 150/300\n",
      " 1/10 [==>...........................] - ETA: 0s - loss: 0.2717 - accuracy: 1.0000\n",
      "Epoch 00150: val_accuracy did not improve from 0.93333\n",
      "10/10 [==============================] - 0s 3ms/step - loss: 0.3559 - accuracy: 0.9250 - val_loss: 0.3356 - val_accuracy: 0.9333\n",
      "Epoch 151/300\n",
      " 1/10 [==>...........................] - ETA: 0s - loss: 0.3168 - accuracy: 1.0000\n",
      "Epoch 00151: val_accuracy did not improve from 0.93333\n",
      "10/10 [==============================] - 0s 4ms/step - loss: 0.3543 - accuracy: 0.9250 - val_loss: 0.3341 - val_accuracy: 0.9333\n",
      "Epoch 152/300\n",
      " 1/10 [==>...........................] - ETA: 0s - loss: 0.4042 - accuracy: 0.9167\n",
      "Epoch 00152: val_accuracy did not improve from 0.93333\n",
      "10/10 [==============================] - 0s 3ms/step - loss: 0.3523 - accuracy: 0.9250 - val_loss: 0.3322 - val_accuracy: 0.9333\n",
      "Epoch 153/300\n",
      " 1/10 [==>...........................] - ETA: 0s - loss: 0.3092 - accuracy: 0.9167\n",
      "Epoch 00153: val_accuracy did not improve from 0.93333\n",
      "10/10 [==============================] - 0s 3ms/step - loss: 0.3508 - accuracy: 0.9250 - val_loss: 0.3302 - val_accuracy: 0.9333\n",
      "Epoch 154/300\n",
      " 1/10 [==>...........................] - ETA: 0s - loss: 0.3721 - accuracy: 1.0000\n",
      "Epoch 00154: val_accuracy did not improve from 0.93333\n",
      "10/10 [==============================] - 0s 3ms/step - loss: 0.3490 - accuracy: 0.9250 - val_loss: 0.3285 - val_accuracy: 0.9333\n",
      "Epoch 155/300\n",
      " 1/10 [==>...........................] - ETA: 0s - loss: 0.4633 - accuracy: 0.9167\n",
      "Epoch 00155: val_accuracy did not improve from 0.93333\n",
      "10/10 [==============================] - 0s 3ms/step - loss: 0.3471 - accuracy: 0.9250 - val_loss: 0.3269 - val_accuracy: 0.9333\n",
      "Epoch 156/300\n",
      " 1/10 [==>...........................] - ETA: 0s - loss: 0.4329 - accuracy: 0.9167\n",
      "Epoch 00156: val_accuracy did not improve from 0.93333\n",
      "10/10 [==============================] - 0s 3ms/step - loss: 0.3459 - accuracy: 0.9417 - val_loss: 0.3256 - val_accuracy: 0.9333\n",
      "Epoch 157/300\n",
      " 1/10 [==>...........................] - ETA: 0s - loss: 0.2344 - accuracy: 0.9167\n",
      "Epoch 00157: val_accuracy did not improve from 0.93333\n",
      "10/10 [==============================] - 0s 3ms/step - loss: 0.3438 - accuracy: 0.9500 - val_loss: 0.3239 - val_accuracy: 0.9333\n",
      "Epoch 158/300\n",
      " 1/10 [==>...........................] - ETA: 0s - loss: 0.5384 - accuracy: 0.9167\n",
      "Epoch 00158: val_accuracy did not improve from 0.93333\n",
      "10/10 [==============================] - 0s 3ms/step - loss: 0.3420 - accuracy: 0.9500 - val_loss: 0.3220 - val_accuracy: 0.9333\n",
      "Epoch 159/300\n",
      " 1/10 [==>...........................] - ETA: 0s - loss: 0.2373 - accuracy: 0.9167\n",
      "Epoch 00159: val_accuracy did not improve from 0.93333\n",
      "10/10 [==============================] - 0s 3ms/step - loss: 0.3402 - accuracy: 0.9500 - val_loss: 0.3202 - val_accuracy: 0.9333\n",
      "Epoch 160/300\n",
      " 1/10 [==>...........................] - ETA: 0s - loss: 0.4369 - accuracy: 0.8333\n",
      "Epoch 00160: val_accuracy did not improve from 0.93333\n",
      "10/10 [==============================] - 0s 3ms/step - loss: 0.3388 - accuracy: 0.9500 - val_loss: 0.3186 - val_accuracy: 0.9333\n",
      "Epoch 161/300\n",
      " 1/10 [==>...........................] - ETA: 0s - loss: 0.4431 - accuracy: 1.0000\n",
      "Epoch 00161: val_accuracy did not improve from 0.93333\n",
      "10/10 [==============================] - 0s 3ms/step - loss: 0.3370 - accuracy: 0.9417 - val_loss: 0.3167 - val_accuracy: 0.9333\n",
      "Epoch 162/300\n",
      " 1/10 [==>...........................] - ETA: 0s - loss: 0.3849 - accuracy: 1.0000\n",
      "Epoch 00162: val_accuracy did not improve from 0.93333\n",
      "10/10 [==============================] - 0s 3ms/step - loss: 0.3352 - accuracy: 0.9500 - val_loss: 0.3150 - val_accuracy: 0.9333\n",
      "Epoch 163/300\n",
      " 1/10 [==>...........................] - ETA: 0s - loss: 0.3521 - accuracy: 1.0000\n",
      "Epoch 00163: val_accuracy did not improve from 0.93333\n",
      "10/10 [==============================] - 0s 3ms/step - loss: 0.3339 - accuracy: 0.9333 - val_loss: 0.3132 - val_accuracy: 0.9333\n",
      "Epoch 164/300\n",
      " 1/10 [==>...........................] - ETA: 0s - loss: 0.3859 - accuracy: 0.9167\n",
      "Epoch 00164: val_accuracy did not improve from 0.93333\n",
      "10/10 [==============================] - 0s 3ms/step - loss: 0.3319 - accuracy: 0.9417 - val_loss: 0.3116 - val_accuracy: 0.9333\n",
      "Epoch 165/300\n",
      " 1/10 [==>...........................] - ETA: 0s - loss: 0.2903 - accuracy: 1.0000\n",
      "Epoch 00165: val_accuracy did not improve from 0.93333\n",
      "10/10 [==============================] - 0s 4ms/step - loss: 0.3302 - accuracy: 0.9500 - val_loss: 0.3100 - val_accuracy: 0.9333\n",
      "Epoch 166/300\n",
      " 1/10 [==>...........................] - ETA: 0s - loss: 0.3587 - accuracy: 1.0000\n",
      "Epoch 00166: val_accuracy did not improve from 0.93333\n",
      "10/10 [==============================] - 0s 3ms/step - loss: 0.3288 - accuracy: 0.9500 - val_loss: 0.3081 - val_accuracy: 0.9333\n",
      "Epoch 167/300\n",
      " 1/10 [==>...........................] - ETA: 0s - loss: 0.3164 - accuracy: 1.0000\n",
      "Epoch 00167: val_accuracy did not improve from 0.93333\n",
      "10/10 [==============================] - 0s 3ms/step - loss: 0.3274 - accuracy: 0.9583 - val_loss: 0.3068 - val_accuracy: 0.9333\n",
      "Epoch 168/300\n",
      " 1/10 [==>...........................] - ETA: 0s - loss: 0.3308 - accuracy: 1.0000\n",
      "Epoch 00168: val_accuracy did not improve from 0.93333\n",
      "10/10 [==============================] - 0s 3ms/step - loss: 0.3251 - accuracy: 0.9583 - val_loss: 0.3052 - val_accuracy: 0.9333\n",
      "Epoch 169/300\n",
      " 1/10 [==>...........................] - ETA: 0s - loss: 0.2494 - accuracy: 1.0000\n",
      "Epoch 00169: val_accuracy did not improve from 0.93333\n",
      "10/10 [==============================] - 0s 3ms/step - loss: 0.3236 - accuracy: 0.9583 - val_loss: 0.3036 - val_accuracy: 0.9333\n",
      "Epoch 170/300\n",
      " 1/10 [==>...........................] - ETA: 0s - loss: 0.2737 - accuracy: 0.9167\n",
      "Epoch 00170: val_accuracy did not improve from 0.93333\n",
      "10/10 [==============================] - 0s 3ms/step - loss: 0.3218 - accuracy: 0.9583 - val_loss: 0.3019 - val_accuracy: 0.9333\n",
      "Epoch 171/300\n",
      " 1/10 [==>...........................] - ETA: 0s - loss: 0.3513 - accuracy: 0.9167\n",
      "Epoch 00171: val_accuracy did not improve from 0.93333\n",
      "10/10 [==============================] - 0s 3ms/step - loss: 0.3202 - accuracy: 0.9583 - val_loss: 0.3001 - val_accuracy: 0.9333\n",
      "Epoch 172/300\n",
      " 1/10 [==>...........................] - ETA: 0s - loss: 0.2856 - accuracy: 1.0000\n",
      "Epoch 00172: val_accuracy did not improve from 0.93333\n",
      "10/10 [==============================] - 0s 3ms/step - loss: 0.3187 - accuracy: 0.9583 - val_loss: 0.2985 - val_accuracy: 0.9333\n",
      "Epoch 173/300\n",
      " 1/10 [==>...........................] - ETA: 0s - loss: 0.1913 - accuracy: 0.9167\n",
      "Epoch 00173: val_accuracy did not improve from 0.93333\n",
      "10/10 [==============================] - 0s 3ms/step - loss: 0.3169 - accuracy: 0.9583 - val_loss: 0.2969 - val_accuracy: 0.9333\n",
      "Epoch 174/300\n",
      " 1/10 [==>...........................] - ETA: 0s - loss: 0.2730 - accuracy: 1.0000\n",
      "Epoch 00174: val_accuracy did not improve from 0.93333\n",
      "10/10 [==============================] - 0s 3ms/step - loss: 0.3154 - accuracy: 0.9583 - val_loss: 0.2952 - val_accuracy: 0.9333\n",
      "Epoch 175/300\n",
      " 1/10 [==>...........................] - ETA: 0s - loss: 0.3157 - accuracy: 0.9167\n",
      "Epoch 00175: val_accuracy did not improve from 0.93333\n",
      "10/10 [==============================] - 0s 3ms/step - loss: 0.3140 - accuracy: 0.9583 - val_loss: 0.2936 - val_accuracy: 0.9333\n",
      "Epoch 176/300\n",
      " 1/10 [==>...........................] - ETA: 0s - loss: 0.2900 - accuracy: 1.0000\n",
      "Epoch 00176: val_accuracy did not improve from 0.93333\n",
      "10/10 [==============================] - 0s 3ms/step - loss: 0.3127 - accuracy: 0.9583 - val_loss: 0.2919 - val_accuracy: 0.9333\n",
      "Epoch 177/300\n",
      " 1/10 [==>...........................] - ETA: 0s - loss: 0.3580 - accuracy: 1.0000\n",
      "Epoch 00177: val_accuracy did not improve from 0.93333\n",
      "10/10 [==============================] - 0s 3ms/step - loss: 0.3105 - accuracy: 0.9500 - val_loss: 0.2904 - val_accuracy: 0.9333\n",
      "Epoch 178/300\n",
      " 1/10 [==>...........................] - ETA: 0s - loss: 0.3594 - accuracy: 1.0000\n",
      "Epoch 00178: val_accuracy did not improve from 0.93333\n",
      "10/10 [==============================] - 0s 3ms/step - loss: 0.3088 - accuracy: 0.9583 - val_loss: 0.2890 - val_accuracy: 0.9333\n",
      "Epoch 179/300\n",
      " 1/10 [==>...........................] - ETA: 0s - loss: 0.3223 - accuracy: 1.0000\n",
      "Epoch 00179: val_accuracy did not improve from 0.93333\n",
      "10/10 [==============================] - 0s 3ms/step - loss: 0.3075 - accuracy: 0.9667 - val_loss: 0.2876 - val_accuracy: 0.9333\n",
      "Epoch 180/300\n",
      " 1/10 [==>...........................] - ETA: 0s - loss: 0.3966 - accuracy: 0.9167\n",
      "Epoch 00180: val_accuracy did not improve from 0.93333\n",
      "10/10 [==============================] - 0s 3ms/step - loss: 0.3060 - accuracy: 0.9583 - val_loss: 0.2859 - val_accuracy: 0.9333\n",
      "Epoch 181/300\n",
      " 1/10 [==>...........................] - ETA: 0s - loss: 0.3066 - accuracy: 1.0000\n",
      "Epoch 00181: val_accuracy did not improve from 0.93333\n",
      "10/10 [==============================] - 0s 3ms/step - loss: 0.3051 - accuracy: 0.9583 - val_loss: 0.2843 - val_accuracy: 0.9333\n",
      "Epoch 182/300\n",
      " 1/10 [==>...........................] - ETA: 0s - loss: 0.3625 - accuracy: 1.0000\n",
      "Epoch 00182: val_accuracy did not improve from 0.93333\n",
      "10/10 [==============================] - 0s 3ms/step - loss: 0.3030 - accuracy: 0.9583 - val_loss: 0.2828 - val_accuracy: 0.9333\n",
      "Epoch 183/300\n",
      " 1/10 [==>...........................] - ETA: 0s - loss: 0.3061 - accuracy: 1.0000\n",
      "Epoch 00183: val_accuracy did not improve from 0.93333\n",
      "10/10 [==============================] - 0s 3ms/step - loss: 0.3012 - accuracy: 0.9583 - val_loss: 0.2814 - val_accuracy: 0.9333\n",
      "Epoch 184/300\n",
      " 1/10 [==>...........................] - ETA: 0s - loss: 0.1951 - accuracy: 1.0000\n",
      "Epoch 00184: val_accuracy did not improve from 0.93333\n",
      "10/10 [==============================] - 0s 3ms/step - loss: 0.2998 - accuracy: 0.9667 - val_loss: 0.2799 - val_accuracy: 0.9333\n",
      "Epoch 185/300\n",
      " 1/10 [==>...........................] - ETA: 0s - loss: 0.2744 - accuracy: 1.0000\n",
      "Epoch 00185: val_accuracy improved from 0.93333 to 0.96667, saving model to .\\modelo_mlp_ex3_1.hdf5\n",
      "10/10 [==============================] - 0s 4ms/step - loss: 0.2984 - accuracy: 0.9667 - val_loss: 0.2785 - val_accuracy: 0.9667\n",
      "Epoch 186/300\n",
      " 1/10 [==>...........................] - ETA: 0s - loss: 0.3325 - accuracy: 1.0000\n",
      "Epoch 00186: val_accuracy did not improve from 0.96667\n",
      "10/10 [==============================] - 0s 3ms/step - loss: 0.2968 - accuracy: 0.9667 - val_loss: 0.2770 - val_accuracy: 0.9667\n",
      "Epoch 187/300\n",
      " 1/10 [==>...........................] - ETA: 0s - loss: 0.2912 - accuracy: 0.9167\n",
      "Epoch 00187: val_accuracy did not improve from 0.96667\n",
      "10/10 [==============================] - 0s 3ms/step - loss: 0.2953 - accuracy: 0.9667 - val_loss: 0.2756 - val_accuracy: 0.9667\n",
      "Epoch 188/300\n",
      " 1/10 [==>...........................] - ETA: 0s - loss: 0.3947 - accuracy: 1.0000\n",
      "Epoch 00188: val_accuracy did not improve from 0.96667\n",
      "10/10 [==============================] - 0s 3ms/step - loss: 0.2940 - accuracy: 0.9667 - val_loss: 0.2740 - val_accuracy: 0.9667\n",
      "Epoch 189/300\n",
      " 1/10 [==>...........................] - ETA: 0s - loss: 0.2613 - accuracy: 1.0000\n",
      "Epoch 00189: val_accuracy did not improve from 0.96667\n",
      "10/10 [==============================] - 0s 3ms/step - loss: 0.2924 - accuracy: 0.9667 - val_loss: 0.2724 - val_accuracy: 0.9333\n",
      "Epoch 190/300\n",
      " 1/10 [==>...........................] - ETA: 0s - loss: 0.2814 - accuracy: 0.9167\n",
      "Epoch 00190: val_accuracy did not improve from 0.96667\n",
      "10/10 [==============================] - 0s 3ms/step - loss: 0.2908 - accuracy: 0.9667 - val_loss: 0.2710 - val_accuracy: 0.9333\n",
      "Epoch 191/300\n",
      " 1/10 [==>...........................] - ETA: 0s - loss: 0.2730 - accuracy: 1.0000\n",
      "Epoch 00191: val_accuracy did not improve from 0.96667\n",
      "10/10 [==============================] - 0s 3ms/step - loss: 0.2896 - accuracy: 0.9667 - val_loss: 0.2696 - val_accuracy: 0.9333\n",
      "Epoch 192/300\n",
      " 1/10 [==>...........................] - ETA: 0s - loss: 0.2969 - accuracy: 1.0000\n",
      "Epoch 00192: val_accuracy did not improve from 0.96667\n",
      "10/10 [==============================] - 0s 3ms/step - loss: 0.2879 - accuracy: 0.9667 - val_loss: 0.2682 - val_accuracy: 0.9667\n",
      "Epoch 193/300\n",
      " 1/10 [==>...........................] - ETA: 0s - loss: 0.1525 - accuracy: 1.0000\n",
      "Epoch 00193: val_accuracy did not improve from 0.96667\n",
      "10/10 [==============================] - 0s 3ms/step - loss: 0.2864 - accuracy: 0.9667 - val_loss: 0.2668 - val_accuracy: 0.9667\n",
      "Epoch 194/300\n",
      " 1/10 [==>...........................] - ETA: 0s - loss: 0.1933 - accuracy: 1.0000\n",
      "Epoch 00194: val_accuracy did not improve from 0.96667\n",
      "10/10 [==============================] - 0s 3ms/step - loss: 0.2851 - accuracy: 0.9667 - val_loss: 0.2653 - val_accuracy: 0.9667\n",
      "Epoch 195/300\n",
      " 1/10 [==>...........................] - ETA: 0s - loss: 0.3617 - accuracy: 0.8333\n",
      "Epoch 00195: val_accuracy did not improve from 0.96667\n",
      "10/10 [==============================] - 0s 4ms/step - loss: 0.2836 - accuracy: 0.9667 - val_loss: 0.2639 - val_accuracy: 0.9667\n",
      "Epoch 196/300\n",
      " 1/10 [==>...........................] - ETA: 0s - loss: 0.3836 - accuracy: 0.9167\n",
      "Epoch 00196: val_accuracy did not improve from 0.96667\n",
      "10/10 [==============================] - 0s 3ms/step - loss: 0.2821 - accuracy: 0.9667 - val_loss: 0.2626 - val_accuracy: 0.9667\n",
      "Epoch 197/300\n",
      " 1/10 [==>...........................] - ETA: 0s - loss: 0.2369 - accuracy: 1.0000\n",
      "Epoch 00197: val_accuracy did not improve from 0.96667\n",
      "10/10 [==============================] - 0s 3ms/step - loss: 0.2809 - accuracy: 0.9667 - val_loss: 0.2612 - val_accuracy: 0.9667\n",
      "Epoch 198/300\n",
      " 1/10 [==>...........................] - ETA: 0s - loss: 0.0927 - accuracy: 1.0000\n",
      "Epoch 00198: val_accuracy did not improve from 0.96667\n",
      "10/10 [==============================] - 0s 3ms/step - loss: 0.2792 - accuracy: 0.9667 - val_loss: 0.2598 - val_accuracy: 0.9667\n",
      "Epoch 199/300\n",
      " 1/10 [==>...........................] - ETA: 0s - loss: 0.3499 - accuracy: 0.9167\n",
      "Epoch 00199: val_accuracy did not improve from 0.96667\n",
      "10/10 [==============================] - 0s 4ms/step - loss: 0.2780 - accuracy: 0.9667 - val_loss: 0.2584 - val_accuracy: 0.9667\n",
      "Epoch 200/300\n",
      " 1/10 [==>...........................] - ETA: 0s - loss: 0.3564 - accuracy: 0.9167\n",
      "Epoch 00200: val_accuracy did not improve from 0.96667\n",
      "10/10 [==============================] - 0s 4ms/step - loss: 0.2766 - accuracy: 0.9667 - val_loss: 0.2571 - val_accuracy: 0.9667\n",
      "Epoch 201/300\n",
      " 1/10 [==>...........................] - ETA: 0s - loss: 0.3263 - accuracy: 0.9167\n",
      "Epoch 00201: val_accuracy did not improve from 0.96667\n",
      "10/10 [==============================] - 0s 3ms/step - loss: 0.2751 - accuracy: 0.9667 - val_loss: 0.2557 - val_accuracy: 0.9667\n",
      "Epoch 202/300\n",
      " 1/10 [==>...........................] - ETA: 0s - loss: 0.2774 - accuracy: 0.9167\n",
      "Epoch 00202: val_accuracy did not improve from 0.96667\n",
      "10/10 [==============================] - 0s 3ms/step - loss: 0.2737 - accuracy: 0.9667 - val_loss: 0.2543 - val_accuracy: 0.9667\n",
      "Epoch 203/300\n",
      " 1/10 [==>...........................] - ETA: 0s - loss: 0.3062 - accuracy: 0.9167\n",
      "Epoch 00203: val_accuracy did not improve from 0.96667\n",
      "10/10 [==============================] - 0s 3ms/step - loss: 0.2724 - accuracy: 0.9667 - val_loss: 0.2530 - val_accuracy: 0.9667\n",
      "Epoch 204/300\n",
      " 1/10 [==>...........................] - ETA: 0s - loss: 0.3130 - accuracy: 1.0000\n",
      "Epoch 00204: val_accuracy did not improve from 0.96667\n",
      "10/10 [==============================] - 0s 3ms/step - loss: 0.2723 - accuracy: 0.9667 - val_loss: 0.2517 - val_accuracy: 0.9667\n",
      "Epoch 205/300\n",
      " 1/10 [==>...........................] - ETA: 0s - loss: 0.3329 - accuracy: 1.0000\n",
      "Epoch 00205: val_accuracy did not improve from 0.96667\n",
      "10/10 [==============================] - 0s 3ms/step - loss: 0.2696 - accuracy: 0.9667 - val_loss: 0.2503 - val_accuracy: 0.9667\n",
      "Epoch 206/300\n",
      " 1/10 [==>...........................] - ETA: 0s - loss: 0.2497 - accuracy: 1.0000\n",
      "Epoch 00206: val_accuracy did not improve from 0.96667\n",
      "10/10 [==============================] - 0s 4ms/step - loss: 0.2683 - accuracy: 0.9667 - val_loss: 0.2490 - val_accuracy: 0.9667\n",
      "Epoch 207/300\n",
      " 1/10 [==>...........................] - ETA: 0s - loss: 0.3366 - accuracy: 1.0000\n",
      "Epoch 00207: val_accuracy did not improve from 0.96667\n",
      "10/10 [==============================] - 0s 3ms/step - loss: 0.2670 - accuracy: 0.9667 - val_loss: 0.2477 - val_accuracy: 0.9667\n",
      "Epoch 208/300\n",
      " 1/10 [==>...........................] - ETA: 0s - loss: 0.2568 - accuracy: 1.0000\n",
      "Epoch 00208: val_accuracy did not improve from 0.96667\n",
      "10/10 [==============================] - 0s 3ms/step - loss: 0.2659 - accuracy: 0.9667 - val_loss: 0.2464 - val_accuracy: 0.9667\n",
      "Epoch 209/300\n",
      " 1/10 [==>...........................] - ETA: 0s - loss: 0.1945 - accuracy: 1.0000\n",
      "Epoch 00209: val_accuracy did not improve from 0.96667\n",
      "10/10 [==============================] - 0s 3ms/step - loss: 0.2642 - accuracy: 0.9667 - val_loss: 0.2451 - val_accuracy: 0.9667\n",
      "Epoch 210/300\n",
      " 1/10 [==>...........................] - ETA: 0s - loss: 0.1670 - accuracy: 1.0000\n",
      "Epoch 00210: val_accuracy did not improve from 0.96667\n",
      "10/10 [==============================] - 0s 3ms/step - loss: 0.2634 - accuracy: 0.9667 - val_loss: 0.2438 - val_accuracy: 0.9667\n",
      "Epoch 211/300\n",
      " 1/10 [==>...........................] - ETA: 0s - loss: 0.2290 - accuracy: 1.0000\n",
      "Epoch 00211: val_accuracy did not improve from 0.96667\n",
      "10/10 [==============================] - 0s 3ms/step - loss: 0.2617 - accuracy: 0.9667 - val_loss: 0.2425 - val_accuracy: 0.9667\n",
      "Epoch 212/300\n",
      " 1/10 [==>...........................] - ETA: 0s - loss: 0.2595 - accuracy: 0.9167\n",
      "Epoch 00212: val_accuracy did not improve from 0.96667\n",
      "10/10 [==============================] - 0s 3ms/step - loss: 0.2604 - accuracy: 0.9667 - val_loss: 0.2412 - val_accuracy: 0.9667\n",
      "Epoch 213/300\n",
      " 1/10 [==>...........................] - ETA: 0s - loss: 0.2627 - accuracy: 1.0000\n",
      "Epoch 00213: val_accuracy did not improve from 0.96667\n",
      "10/10 [==============================] - 0s 3ms/step - loss: 0.2591 - accuracy: 0.9667 - val_loss: 0.2399 - val_accuracy: 0.9667\n",
      "Epoch 214/300\n",
      " 1/10 [==>...........................] - ETA: 0s - loss: 0.2861 - accuracy: 1.0000\n",
      "Epoch 00214: val_accuracy did not improve from 0.96667\n",
      "10/10 [==============================] - 0s 3ms/step - loss: 0.2578 - accuracy: 0.9667 - val_loss: 0.2387 - val_accuracy: 0.9667\n",
      "Epoch 215/300\n",
      " 1/10 [==>...........................] - ETA: 0s - loss: 0.1993 - accuracy: 1.0000\n",
      "Epoch 00215: val_accuracy did not improve from 0.96667\n",
      "10/10 [==============================] - 0s 3ms/step - loss: 0.2565 - accuracy: 0.9667 - val_loss: 0.2374 - val_accuracy: 0.9667\n",
      "Epoch 216/300\n",
      " 1/10 [==>...........................] - ETA: 0s - loss: 0.3489 - accuracy: 0.9167\n",
      "Epoch 00216: val_accuracy did not improve from 0.96667\n",
      "10/10 [==============================] - 0s 3ms/step - loss: 0.2553 - accuracy: 0.9667 - val_loss: 0.2362 - val_accuracy: 0.9667\n",
      "Epoch 217/300\n",
      " 1/10 [==>...........................] - ETA: 0s - loss: 0.2541 - accuracy: 0.9167\n",
      "Epoch 00217: val_accuracy did not improve from 0.96667\n",
      "10/10 [==============================] - 0s 3ms/step - loss: 0.2541 - accuracy: 0.9667 - val_loss: 0.2350 - val_accuracy: 0.9667\n",
      "Epoch 218/300\n",
      " 1/10 [==>...........................] - ETA: 0s - loss: 0.2367 - accuracy: 1.0000\n",
      "Epoch 00218: val_accuracy did not improve from 0.96667\n",
      "10/10 [==============================] - 0s 3ms/step - loss: 0.2528 - accuracy: 0.9667 - val_loss: 0.2338 - val_accuracy: 0.9667\n",
      "Epoch 219/300\n",
      " 1/10 [==>...........................] - ETA: 0s - loss: 0.2954 - accuracy: 1.0000\n",
      "Epoch 00219: val_accuracy did not improve from 0.96667\n",
      "10/10 [==============================] - 0s 3ms/step - loss: 0.2518 - accuracy: 0.9667 - val_loss: 0.2326 - val_accuracy: 0.9667\n",
      "Epoch 220/300\n",
      " 1/10 [==>...........................] - ETA: 0s - loss: 0.3186 - accuracy: 1.0000\n",
      "Epoch 00220: val_accuracy did not improve from 0.96667\n",
      "10/10 [==============================] - 0s 3ms/step - loss: 0.2503 - accuracy: 0.9667 - val_loss: 0.2314 - val_accuracy: 0.9667\n",
      "Epoch 221/300\n",
      " 1/10 [==>...........................] - ETA: 0s - loss: 0.3393 - accuracy: 0.9167\n",
      "Epoch 00221: val_accuracy did not improve from 0.96667\n",
      "10/10 [==============================] - 0s 3ms/step - loss: 0.2492 - accuracy: 0.9667 - val_loss: 0.2302 - val_accuracy: 0.9667\n",
      "Epoch 222/300\n",
      " 1/10 [==>...........................] - ETA: 0s - loss: 0.1140 - accuracy: 1.0000\n",
      "Epoch 00222: val_accuracy did not improve from 0.96667\n",
      "10/10 [==============================] - 0s 3ms/step - loss: 0.2478 - accuracy: 0.9667 - val_loss: 0.2290 - val_accuracy: 0.9667\n",
      "Epoch 223/300\n",
      " 1/10 [==>...........................] - ETA: 0s - loss: 0.2333 - accuracy: 0.9167\n",
      "Epoch 00223: val_accuracy did not improve from 0.96667\n",
      "10/10 [==============================] - 0s 3ms/step - loss: 0.2467 - accuracy: 0.9667 - val_loss: 0.2278 - val_accuracy: 0.9667\n",
      "Epoch 224/300\n",
      " 1/10 [==>...........................] - ETA: 0s - loss: 0.3480 - accuracy: 1.0000\n",
      "Epoch 00224: val_accuracy did not improve from 0.96667\n",
      "10/10 [==============================] - 0s 4ms/step - loss: 0.2460 - accuracy: 0.9667 - val_loss: 0.2267 - val_accuracy: 0.9667\n",
      "Epoch 225/300\n",
      " 1/10 [==>...........................] - ETA: 0s - loss: 0.1682 - accuracy: 1.0000\n",
      "Epoch 00225: val_accuracy did not improve from 0.96667\n",
      "10/10 [==============================] - 0s 3ms/step - loss: 0.2445 - accuracy: 0.9667 - val_loss: 0.2254 - val_accuracy: 0.9667\n",
      "Epoch 226/300\n",
      " 1/10 [==>...........................] - ETA: 0s - loss: 0.2988 - accuracy: 1.0000\n",
      "Epoch 00226: val_accuracy did not improve from 0.96667\n",
      "10/10 [==============================] - 0s 3ms/step - loss: 0.2430 - accuracy: 0.9667 - val_loss: 0.2243 - val_accuracy: 0.9667\n",
      "Epoch 227/300\n",
      " 1/10 [==>...........................] - ETA: 0s - loss: 0.1939 - accuracy: 1.0000\n",
      "Epoch 00227: val_accuracy did not improve from 0.96667\n",
      "10/10 [==============================] - 0s 3ms/step - loss: 0.2418 - accuracy: 0.9667 - val_loss: 0.2232 - val_accuracy: 0.9667\n",
      "Epoch 228/300\n",
      " 1/10 [==>...........................] - ETA: 0s - loss: 0.3008 - accuracy: 0.9167\n",
      "Epoch 00228: val_accuracy did not improve from 0.96667\n",
      "10/10 [==============================] - 0s 3ms/step - loss: 0.2406 - accuracy: 0.9667 - val_loss: 0.2220 - val_accuracy: 0.9667\n",
      "Epoch 229/300\n",
      " 1/10 [==>...........................] - ETA: 0s - loss: 0.2686 - accuracy: 0.9167\n",
      "Epoch 00229: val_accuracy did not improve from 0.96667\n",
      "10/10 [==============================] - 0s 3ms/step - loss: 0.2398 - accuracy: 0.9667 - val_loss: 0.2211 - val_accuracy: 0.9667\n",
      "Epoch 230/300\n",
      " 1/10 [==>...........................] - ETA: 0s - loss: 0.1877 - accuracy: 1.0000\n",
      "Epoch 00230: val_accuracy did not improve from 0.96667\n",
      "10/10 [==============================] - 0s 3ms/step - loss: 0.2405 - accuracy: 0.9583 - val_loss: 0.2198 - val_accuracy: 0.9667\n",
      "Epoch 231/300\n",
      " 1/10 [==>...........................] - ETA: 0s - loss: 0.1728 - accuracy: 1.0000\n",
      "Epoch 00231: val_accuracy did not improve from 0.96667\n",
      "10/10 [==============================] - 0s 3ms/step - loss: 0.2373 - accuracy: 0.9583 - val_loss: 0.2186 - val_accuracy: 0.9667\n",
      "Epoch 232/300\n",
      " 1/10 [==>...........................] - ETA: 0s - loss: 0.3268 - accuracy: 1.0000\n",
      "Epoch 00232: val_accuracy did not improve from 0.96667\n",
      "10/10 [==============================] - 0s 3ms/step - loss: 0.2370 - accuracy: 0.9667 - val_loss: 0.2177 - val_accuracy: 0.9667\n",
      "Epoch 233/300\n",
      " 1/10 [==>...........................] - ETA: 0s - loss: 0.2163 - accuracy: 0.9167\n",
      "Epoch 00233: val_accuracy did not improve from 0.96667\n",
      "10/10 [==============================] - 0s 3ms/step - loss: 0.2351 - accuracy: 0.9667 - val_loss: 0.2165 - val_accuracy: 0.9667\n",
      "Epoch 234/300\n",
      " 1/10 [==>...........................] - ETA: 0s - loss: 0.2285 - accuracy: 1.0000\n",
      "Epoch 00234: val_accuracy did not improve from 0.96667\n",
      "10/10 [==============================] - 0s 3ms/step - loss: 0.2337 - accuracy: 0.9667 - val_loss: 0.2154 - val_accuracy: 0.9667\n",
      "Epoch 235/300\n",
      " 1/10 [==>...........................] - ETA: 0s - loss: 0.2200 - accuracy: 1.0000\n",
      "Epoch 00235: val_accuracy did not improve from 0.96667\n",
      "10/10 [==============================] - 0s 3ms/step - loss: 0.2326 - accuracy: 0.9667 - val_loss: 0.2144 - val_accuracy: 0.9667\n",
      "Epoch 236/300\n",
      " 1/10 [==>...........................] - ETA: 0s - loss: 0.1360 - accuracy: 1.0000\n",
      "Epoch 00236: val_accuracy did not improve from 0.96667\n",
      "10/10 [==============================] - 0s 3ms/step - loss: 0.2326 - accuracy: 0.9667 - val_loss: 0.2132 - val_accuracy: 0.9667\n",
      "Epoch 237/300\n",
      " 1/10 [==>...........................] - ETA: 0s - loss: 0.1803 - accuracy: 1.0000\n",
      "Epoch 00237: val_accuracy did not improve from 0.96667\n",
      "10/10 [==============================] - 0s 3ms/step - loss: 0.2311 - accuracy: 0.9667 - val_loss: 0.2124 - val_accuracy: 0.9667\n",
      "Epoch 238/300\n",
      " 1/10 [==>...........................] - ETA: 0s - loss: 0.2827 - accuracy: 1.0000\n",
      "Epoch 00238: val_accuracy did not improve from 0.96667\n",
      "10/10 [==============================] - 0s 3ms/step - loss: 0.2297 - accuracy: 0.9667 - val_loss: 0.2112 - val_accuracy: 0.9667\n",
      "Epoch 239/300\n",
      " 1/10 [==>...........................] - ETA: 0s - loss: 0.3298 - accuracy: 0.7500\n",
      "Epoch 00239: val_accuracy did not improve from 0.96667\n",
      "10/10 [==============================] - 0s 3ms/step - loss: 0.2286 - accuracy: 0.9667 - val_loss: 0.2101 - val_accuracy: 0.9667\n",
      "Epoch 240/300\n",
      " 1/10 [==>...........................] - ETA: 0s - loss: 0.1880 - accuracy: 1.0000\n",
      "Epoch 00240: val_accuracy did not improve from 0.96667\n",
      "10/10 [==============================] - 0s 3ms/step - loss: 0.2273 - accuracy: 0.9667 - val_loss: 0.2093 - val_accuracy: 0.9667\n",
      "Epoch 241/300\n",
      " 1/10 [==>...........................] - ETA: 0s - loss: 0.2074 - accuracy: 1.0000\n",
      "Epoch 00241: val_accuracy did not improve from 0.96667\n",
      "10/10 [==============================] - 0s 3ms/step - loss: 0.2261 - accuracy: 0.9667 - val_loss: 0.2083 - val_accuracy: 0.9667\n",
      "Epoch 242/300\n",
      " 1/10 [==>...........................] - ETA: 0s - loss: 0.2288 - accuracy: 0.9167\n",
      "Epoch 00242: val_accuracy did not improve from 0.96667\n",
      "10/10 [==============================] - 0s 3ms/step - loss: 0.2251 - accuracy: 0.9667 - val_loss: 0.2073 - val_accuracy: 0.9667\n",
      "Epoch 243/300\n",
      " 1/10 [==>...........................] - ETA: 0s - loss: 0.2352 - accuracy: 1.0000\n",
      "Epoch 00243: val_accuracy did not improve from 0.96667\n",
      "10/10 [==============================] - 0s 3ms/step - loss: 0.2240 - accuracy: 0.9667 - val_loss: 0.2061 - val_accuracy: 0.9667\n",
      "Epoch 244/300\n",
      " 1/10 [==>...........................] - ETA: 0s - loss: 0.1982 - accuracy: 1.0000\n",
      "Epoch 00244: val_accuracy did not improve from 0.96667\n",
      "10/10 [==============================] - 0s 3ms/step - loss: 0.2229 - accuracy: 0.9667 - val_loss: 0.2051 - val_accuracy: 0.9667\n",
      "Epoch 245/300\n",
      " 1/10 [==>...........................] - ETA: 0s - loss: 0.2601 - accuracy: 0.9167\n",
      "Epoch 00245: val_accuracy did not improve from 0.96667\n",
      "10/10 [==============================] - 0s 3ms/step - loss: 0.2221 - accuracy: 0.9667 - val_loss: 0.2041 - val_accuracy: 0.9667\n",
      "Epoch 246/300\n",
      " 1/10 [==>...........................] - ETA: 0s - loss: 0.2160 - accuracy: 0.9167\n",
      "Epoch 00246: val_accuracy did not improve from 0.96667\n",
      "10/10 [==============================] - 0s 3ms/step - loss: 0.2209 - accuracy: 0.9667 - val_loss: 0.2032 - val_accuracy: 0.9667\n",
      "Epoch 247/300\n",
      " 1/10 [==>...........................] - ETA: 0s - loss: 0.2908 - accuracy: 0.9167\n",
      "Epoch 00247: val_accuracy did not improve from 0.96667\n",
      "10/10 [==============================] - 0s 3ms/step - loss: 0.2200 - accuracy: 0.9667 - val_loss: 0.2023 - val_accuracy: 0.9667\n",
      "Epoch 248/300\n",
      " 1/10 [==>...........................] - ETA: 0s - loss: 0.2106 - accuracy: 1.0000\n",
      "Epoch 00248: val_accuracy did not improve from 0.96667\n",
      "10/10 [==============================] - 0s 3ms/step - loss: 0.2189 - accuracy: 0.9667 - val_loss: 0.2013 - val_accuracy: 0.9667\n",
      "Epoch 249/300\n",
      " 1/10 [==>...........................] - ETA: 0s - loss: 0.1466 - accuracy: 0.9167\n",
      "Epoch 00249: val_accuracy did not improve from 0.96667\n",
      "10/10 [==============================] - 0s 3ms/step - loss: 0.2186 - accuracy: 0.9583 - val_loss: 0.2002 - val_accuracy: 0.9667\n",
      "Epoch 250/300\n",
      " 1/10 [==>...........................] - ETA: 0s - loss: 0.2798 - accuracy: 0.9167\n",
      "Epoch 00250: val_accuracy did not improve from 0.96667\n",
      "10/10 [==============================] - 0s 3ms/step - loss: 0.2170 - accuracy: 0.9583 - val_loss: 0.1992 - val_accuracy: 0.9667\n",
      "Epoch 251/300\n",
      " 1/10 [==>...........................] - ETA: 0s - loss: 0.1120 - accuracy: 1.0000\n",
      "Epoch 00251: val_accuracy did not improve from 0.96667\n",
      "10/10 [==============================] - 0s 3ms/step - loss: 0.2158 - accuracy: 0.9667 - val_loss: 0.1984 - val_accuracy: 0.9667\n",
      "Epoch 252/300\n",
      " 1/10 [==>...........................] - ETA: 0s - loss: 0.2810 - accuracy: 0.9167\n",
      "Epoch 00252: val_accuracy did not improve from 0.96667\n",
      "10/10 [==============================] - 0s 3ms/step - loss: 0.2150 - accuracy: 0.9667 - val_loss: 0.1977 - val_accuracy: 0.9667\n",
      "Epoch 253/300\n",
      " 1/10 [==>...........................] - ETA: 0s - loss: 0.2328 - accuracy: 0.9167\n",
      "Epoch 00253: val_accuracy did not improve from 0.96667\n",
      "10/10 [==============================] - 0s 3ms/step - loss: 0.2139 - accuracy: 0.9667 - val_loss: 0.1966 - val_accuracy: 0.9667\n",
      "Epoch 254/300\n",
      " 1/10 [==>...........................] - ETA: 0s - loss: 0.2429 - accuracy: 1.0000\n",
      "Epoch 00254: val_accuracy did not improve from 0.96667\n",
      "10/10 [==============================] - 0s 3ms/step - loss: 0.2130 - accuracy: 0.9667 - val_loss: 0.1958 - val_accuracy: 0.9667\n",
      "Epoch 255/300\n",
      " 1/10 [==>...........................] - ETA: 0s - loss: 0.1703 - accuracy: 1.0000\n",
      "Epoch 00255: val_accuracy did not improve from 0.96667\n",
      "10/10 [==============================] - 0s 3ms/step - loss: 0.2120 - accuracy: 0.9667 - val_loss: 0.1948 - val_accuracy: 0.9667\n",
      "Epoch 256/300\n",
      " 1/10 [==>...........................] - ETA: 0s - loss: 0.2097 - accuracy: 1.0000\n",
      "Epoch 00256: val_accuracy did not improve from 0.96667\n",
      "10/10 [==============================] - 0s 3ms/step - loss: 0.2111 - accuracy: 0.9667 - val_loss: 0.1937 - val_accuracy: 0.9667\n",
      "Epoch 257/300\n",
      " 1/10 [==>...........................] - ETA: 0s - loss: 0.1803 - accuracy: 1.0000\n",
      "Epoch 00257: val_accuracy did not improve from 0.96667\n",
      "10/10 [==============================] - 0s 3ms/step - loss: 0.2106 - accuracy: 0.9667 - val_loss: 0.1931 - val_accuracy: 0.9667\n",
      "Epoch 258/300\n",
      " 1/10 [==>...........................] - ETA: 0s - loss: 0.2794 - accuracy: 1.0000\n",
      "Epoch 00258: val_accuracy did not improve from 0.96667\n",
      "10/10 [==============================] - 0s 3ms/step - loss: 0.2094 - accuracy: 0.9583 - val_loss: 0.1919 - val_accuracy: 0.9667\n",
      "Epoch 259/300\n",
      " 1/10 [==>...........................] - ETA: 0s - loss: 0.2913 - accuracy: 0.9167\n",
      "Epoch 00259: val_accuracy did not improve from 0.96667\n",
      "10/10 [==============================] - 0s 3ms/step - loss: 0.2085 - accuracy: 0.9583 - val_loss: 0.1910 - val_accuracy: 0.9667\n",
      "Epoch 260/300\n",
      " 1/10 [==>...........................] - ETA: 0s - loss: 0.2148 - accuracy: 1.0000\n",
      "Epoch 00260: val_accuracy did not improve from 0.96667\n",
      "10/10 [==============================] - 0s 3ms/step - loss: 0.2075 - accuracy: 0.9583 - val_loss: 0.1904 - val_accuracy: 0.9667\n",
      "Epoch 261/300\n",
      " 1/10 [==>...........................] - ETA: 0s - loss: 0.2299 - accuracy: 0.9167\n",
      "Epoch 00261: val_accuracy did not improve from 0.96667\n",
      "10/10 [==============================] - 0s 3ms/step - loss: 0.2066 - accuracy: 0.9667 - val_loss: 0.1897 - val_accuracy: 0.9667\n",
      "Epoch 262/300\n",
      " 1/10 [==>...........................] - ETA: 0s - loss: 0.2149 - accuracy: 1.0000\n",
      "Epoch 00262: val_accuracy did not improve from 0.96667\n",
      "10/10 [==============================] - 0s 3ms/step - loss: 0.2055 - accuracy: 0.9667 - val_loss: 0.1887 - val_accuracy: 0.9667\n",
      "Epoch 263/300\n",
      " 1/10 [==>...........................] - ETA: 0s - loss: 0.2763 - accuracy: 0.9167\n",
      "Epoch 00263: val_accuracy did not improve from 0.96667\n",
      "10/10 [==============================] - 0s 3ms/step - loss: 0.2045 - accuracy: 0.9667 - val_loss: 0.1878 - val_accuracy: 0.9667\n",
      "Epoch 264/300\n",
      " 1/10 [==>...........................] - ETA: 0s - loss: 0.1609 - accuracy: 0.9167\n",
      "Epoch 00264: val_accuracy did not improve from 0.96667\n",
      "10/10 [==============================] - 0s 3ms/step - loss: 0.2036 - accuracy: 0.9583 - val_loss: 0.1869 - val_accuracy: 0.9667\n",
      "Epoch 265/300\n",
      " 1/10 [==>...........................] - ETA: 0s - loss: 0.1372 - accuracy: 1.0000\n",
      "Epoch 00265: val_accuracy did not improve from 0.96667\n",
      "10/10 [==============================] - 0s 3ms/step - loss: 0.2032 - accuracy: 0.9583 - val_loss: 0.1859 - val_accuracy: 0.9667\n",
      "Epoch 266/300\n",
      " 1/10 [==>...........................] - ETA: 0s - loss: 0.1868 - accuracy: 1.0000\n",
      "Epoch 00266: val_accuracy did not improve from 0.96667\n",
      "10/10 [==============================] - 0s 3ms/step - loss: 0.2021 - accuracy: 0.9583 - val_loss: 0.1853 - val_accuracy: 0.9667\n",
      "Epoch 267/300\n",
      " 1/10 [==>...........................] - ETA: 0s - loss: 0.1814 - accuracy: 1.0000\n",
      "Epoch 00267: val_accuracy did not improve from 0.96667\n",
      "10/10 [==============================] - 0s 3ms/step - loss: 0.2012 - accuracy: 0.9667 - val_loss: 0.1846 - val_accuracy: 0.9667\n",
      "Epoch 268/300\n",
      " 1/10 [==>...........................] - ETA: 0s - loss: 0.1917 - accuracy: 0.9167\n",
      "Epoch 00268: val_accuracy did not improve from 0.96667\n",
      "10/10 [==============================] - 0s 3ms/step - loss: 0.2002 - accuracy: 0.9583 - val_loss: 0.1836 - val_accuracy: 0.9667\n",
      "Epoch 269/300\n",
      " 1/10 [==>...........................] - ETA: 0s - loss: 0.0932 - accuracy: 1.0000\n",
      "Epoch 00269: val_accuracy did not improve from 0.96667\n",
      "10/10 [==============================] - 0s 3ms/step - loss: 0.1995 - accuracy: 0.9583 - val_loss: 0.1829 - val_accuracy: 0.9667\n",
      "Epoch 270/300\n",
      " 1/10 [==>...........................] - ETA: 0s - loss: 0.2955 - accuracy: 0.9167\n",
      "Epoch 00270: val_accuracy did not improve from 0.96667\n",
      "10/10 [==============================] - 0s 3ms/step - loss: 0.1983 - accuracy: 0.9667 - val_loss: 0.1820 - val_accuracy: 0.9667\n",
      "Epoch 271/300\n",
      " 1/10 [==>...........................] - ETA: 0s - loss: 0.2676 - accuracy: 0.9167\n",
      "Epoch 00271: val_accuracy did not improve from 0.96667\n",
      "10/10 [==============================] - 0s 3ms/step - loss: 0.1975 - accuracy: 0.9583 - val_loss: 0.1812 - val_accuracy: 0.9667\n",
      "Epoch 272/300\n",
      " 1/10 [==>...........................] - ETA: 0s - loss: 0.1818 - accuracy: 0.9167\n",
      "Epoch 00272: val_accuracy did not improve from 0.96667\n",
      "10/10 [==============================] - 0s 3ms/step - loss: 0.1968 - accuracy: 0.9583 - val_loss: 0.1803 - val_accuracy: 0.9667\n",
      "Epoch 273/300\n",
      " 1/10 [==>...........................] - ETA: 0s - loss: 0.2247 - accuracy: 1.0000\n",
      "Epoch 00273: val_accuracy did not improve from 0.96667\n",
      "10/10 [==============================] - 0s 3ms/step - loss: 0.1959 - accuracy: 0.9583 - val_loss: 0.1796 - val_accuracy: 0.9667\n",
      "Epoch 274/300\n",
      " 1/10 [==>...........................] - ETA: 0s - loss: 0.2123 - accuracy: 1.0000\n",
      "Epoch 00274: val_accuracy did not improve from 0.96667\n",
      "10/10 [==============================] - 0s 3ms/step - loss: 0.1950 - accuracy: 0.9583 - val_loss: 0.1789 - val_accuracy: 0.9667\n",
      "Epoch 275/300\n",
      " 1/10 [==>...........................] - ETA: 0s - loss: 0.3123 - accuracy: 0.8333\n",
      "Epoch 00275: val_accuracy did not improve from 0.96667\n",
      "10/10 [==============================] - 0s 3ms/step - loss: 0.1943 - accuracy: 0.9583 - val_loss: 0.1782 - val_accuracy: 0.9667\n",
      "Epoch 276/300\n",
      " 1/10 [==>...........................] - ETA: 0s - loss: 0.1045 - accuracy: 1.0000\n",
      "Epoch 00276: val_accuracy did not improve from 0.96667\n",
      "10/10 [==============================] - 0s 3ms/step - loss: 0.1935 - accuracy: 0.9583 - val_loss: 0.1774 - val_accuracy: 0.9667\n",
      "Epoch 277/300\n",
      " 1/10 [==>...........................] - ETA: 0s - loss: 0.1900 - accuracy: 0.9167\n",
      "Epoch 00277: val_accuracy did not improve from 0.96667\n",
      "10/10 [==============================] - 0s 3ms/step - loss: 0.1927 - accuracy: 0.9583 - val_loss: 0.1768 - val_accuracy: 0.9667\n",
      "Epoch 278/300\n",
      " 1/10 [==>...........................] - ETA: 0s - loss: 0.1550 - accuracy: 1.0000\n",
      "Epoch 00278: val_accuracy did not improve from 0.96667\n",
      "10/10 [==============================] - 0s 3ms/step - loss: 0.1919 - accuracy: 0.9583 - val_loss: 0.1758 - val_accuracy: 0.9667\n",
      "Epoch 279/300\n",
      " 1/10 [==>...........................] - ETA: 0s - loss: 0.1194 - accuracy: 1.0000\n",
      "Epoch 00279: val_accuracy did not improve from 0.96667\n",
      "10/10 [==============================] - 0s 3ms/step - loss: 0.1910 - accuracy: 0.9583 - val_loss: 0.1751 - val_accuracy: 0.9667\n",
      "Epoch 280/300\n",
      " 1/10 [==>...........................] - ETA: 0s - loss: 0.2529 - accuracy: 0.9167\n",
      "Epoch 00280: val_accuracy did not improve from 0.96667\n",
      "10/10 [==============================] - 0s 3ms/step - loss: 0.1902 - accuracy: 0.9583 - val_loss: 0.1744 - val_accuracy: 0.9667\n",
      "Epoch 281/300\n",
      " 1/10 [==>...........................] - ETA: 0s - loss: 0.3050 - accuracy: 0.7500\n",
      "Epoch 00281: val_accuracy did not improve from 0.96667\n",
      "10/10 [==============================] - 0s 3ms/step - loss: 0.1894 - accuracy: 0.9583 - val_loss: 0.1735 - val_accuracy: 0.9667\n",
      "Epoch 282/300\n",
      " 1/10 [==>...........................] - ETA: 0s - loss: 0.1382 - accuracy: 1.0000\n",
      "Epoch 00282: val_accuracy did not improve from 0.96667\n",
      "10/10 [==============================] - 0s 3ms/step - loss: 0.1886 - accuracy: 0.9583 - val_loss: 0.1729 - val_accuracy: 0.9667\n",
      "Epoch 283/300\n",
      " 1/10 [==>...........................] - ETA: 0s - loss: 0.1696 - accuracy: 0.9167\n",
      "Epoch 00283: val_accuracy did not improve from 0.96667\n",
      "10/10 [==============================] - 0s 3ms/step - loss: 0.1879 - accuracy: 0.9583 - val_loss: 0.1721 - val_accuracy: 0.9667\n",
      "Epoch 284/300\n",
      " 1/10 [==>...........................] - ETA: 0s - loss: 0.1748 - accuracy: 0.9167\n",
      "Epoch 00284: val_accuracy did not improve from 0.96667\n",
      "10/10 [==============================] - 0s 3ms/step - loss: 0.1871 - accuracy: 0.9667 - val_loss: 0.1716 - val_accuracy: 0.9667\n",
      "Epoch 285/300\n",
      " 1/10 [==>...........................] - ETA: 0s - loss: 0.1591 - accuracy: 1.0000\n",
      "Epoch 00285: val_accuracy did not improve from 0.96667\n",
      "10/10 [==============================] - 0s 3ms/step - loss: 0.1864 - accuracy: 0.9667 - val_loss: 0.1709 - val_accuracy: 0.9667\n",
      "Epoch 286/300\n",
      " 1/10 [==>...........................] - ETA: 0s - loss: 0.1641 - accuracy: 0.9167\n",
      "Epoch 00286: val_accuracy did not improve from 0.96667\n",
      "10/10 [==============================] - 0s 3ms/step - loss: 0.1858 - accuracy: 0.9667 - val_loss: 0.1699 - val_accuracy: 0.9667\n",
      "Epoch 287/300\n",
      " 1/10 [==>...........................] - ETA: 0s - loss: 0.1730 - accuracy: 0.9167\n",
      "Epoch 00287: val_accuracy did not improve from 0.96667\n",
      "10/10 [==============================] - 0s 3ms/step - loss: 0.1850 - accuracy: 0.9583 - val_loss: 0.1692 - val_accuracy: 0.9667\n",
      "Epoch 288/300\n",
      " 1/10 [==>...........................] - ETA: 0s - loss: 0.1764 - accuracy: 1.0000\n",
      "Epoch 00288: val_accuracy did not improve from 0.96667\n",
      "10/10 [==============================] - 0s 3ms/step - loss: 0.1840 - accuracy: 0.9583 - val_loss: 0.1688 - val_accuracy: 0.9667\n",
      "Epoch 289/300\n",
      " 1/10 [==>...........................] - ETA: 0s - loss: 0.1687 - accuracy: 1.0000\n",
      "Epoch 00289: val_accuracy did not improve from 0.96667\n",
      "10/10 [==============================] - 0s 3ms/step - loss: 0.1837 - accuracy: 0.9667 - val_loss: 0.1681 - val_accuracy: 0.9667\n",
      "Epoch 290/300\n",
      " 1/10 [==>...........................] - ETA: 0s - loss: 0.2750 - accuracy: 1.0000\n",
      "Epoch 00290: val_accuracy did not improve from 0.96667\n",
      "10/10 [==============================] - 0s 3ms/step - loss: 0.1826 - accuracy: 0.9667 - val_loss: 0.1674 - val_accuracy: 0.9667\n",
      "Epoch 291/300\n",
      " 1/10 [==>...........................] - ETA: 0s - loss: 0.1520 - accuracy: 1.0000\n",
      "Epoch 00291: val_accuracy did not improve from 0.96667\n",
      "10/10 [==============================] - 0s 3ms/step - loss: 0.1826 - accuracy: 0.9583 - val_loss: 0.1664 - val_accuracy: 0.9667\n",
      "Epoch 292/300\n",
      " 1/10 [==>...........................] - ETA: 0s - loss: 0.1889 - accuracy: 0.9167\n",
      "Epoch 00292: val_accuracy did not improve from 0.96667\n",
      "10/10 [==============================] - 0s 3ms/step - loss: 0.1812 - accuracy: 0.9583 - val_loss: 0.1658 - val_accuracy: 0.9667\n",
      "Epoch 293/300\n",
      " 1/10 [==>...........................] - ETA: 0s - loss: 0.1181 - accuracy: 1.0000\n",
      "Epoch 00293: val_accuracy did not improve from 0.96667\n",
      "10/10 [==============================] - 0s 3ms/step - loss: 0.1803 - accuracy: 0.9667 - val_loss: 0.1656 - val_accuracy: 0.9667\n",
      "Epoch 294/300\n",
      " 1/10 [==>...........................] - ETA: 0s - loss: 0.2613 - accuracy: 1.0000\n",
      "Epoch 00294: val_accuracy did not improve from 0.96667\n",
      "10/10 [==============================] - 0s 3ms/step - loss: 0.1801 - accuracy: 0.9750 - val_loss: 0.1653 - val_accuracy: 0.9667\n",
      "Epoch 295/300\n",
      " 1/10 [==>...........................] - ETA: 0s - loss: 0.2097 - accuracy: 1.0000\n",
      "Epoch 00295: val_accuracy did not improve from 0.96667\n",
      "10/10 [==============================] - 0s 3ms/step - loss: 0.1791 - accuracy: 0.9667 - val_loss: 0.1643 - val_accuracy: 0.9667\n",
      "Epoch 296/300\n",
      " 1/10 [==>...........................] - ETA: 0s - loss: 0.2499 - accuracy: 0.9167\n",
      "Epoch 00296: val_accuracy did not improve from 0.96667\n",
      "10/10 [==============================] - 0s 3ms/step - loss: 0.1785 - accuracy: 0.9750 - val_loss: 0.1639 - val_accuracy: 0.9667\n",
      "Epoch 297/300\n",
      " 1/10 [==>...........................] - ETA: 0s - loss: 0.1236 - accuracy: 1.0000\n",
      "Epoch 00297: val_accuracy did not improve from 0.96667\n",
      "10/10 [==============================] - 0s 3ms/step - loss: 0.1775 - accuracy: 0.9667 - val_loss: 0.1627 - val_accuracy: 0.9667\n",
      "Epoch 298/300\n",
      " 1/10 [==>...........................] - ETA: 0s - loss: 0.1076 - accuracy: 1.0000\n",
      "Epoch 00298: val_accuracy did not improve from 0.96667\n",
      "10/10 [==============================] - 0s 3ms/step - loss: 0.1768 - accuracy: 0.9667 - val_loss: 0.1619 - val_accuracy: 0.9667\n",
      "Epoch 299/300\n",
      " 1/10 [==>...........................] - ETA: 0s - loss: 0.1921 - accuracy: 1.0000\n",
      "Epoch 00299: val_accuracy did not improve from 0.96667\n",
      "10/10 [==============================] - 0s 3ms/step - loss: 0.1764 - accuracy: 0.9667 - val_loss: 0.1616 - val_accuracy: 0.9667\n",
      "Epoch 300/300\n",
      " 1/10 [==>...........................] - ETA: 0s - loss: 0.1559 - accuracy: 1.0000\n",
      "Epoch 00300: val_accuracy did not improve from 0.96667\n",
      "10/10 [==============================] - 0s 3ms/step - loss: 0.1754 - accuracy: 0.9667 - val_loss: 0.1609 - val_accuracy: 0.9667\n",
      "Wall time: 11.8 s\n"
     ]
    }
   ],
   "metadata": {}
  },
  {
   "cell_type": "markdown",
   "source": [
    "## Gráfico comparativo da Acurácia e Perda no treinamento"
   ],
   "metadata": {}
  },
  {
   "cell_type": "code",
   "execution_count": 20,
   "source": [
    "plot_history(history)"
   ],
   "outputs": [
    {
     "output_type": "display_data",
     "data": {
      "text/plain": [
       "<Figure size 864x360 with 2 Axes>"
      ],
      "image/png": "[encoded data removed]"
     },
     "metadata": {
      "needs_background": "light"
     }
    }
   ],
   "metadata": {}
  },
  {
   "cell_type": "markdown",
   "source": [
    "## Apresentando a Acurácia final do Treino, carregando o melhor modelo salvo e apresentando a Acurácia do Teste"
   ],
   "metadata": {}
  },
  {
   "cell_type": "code",
   "execution_count": 21,
   "source": [
    "scores = model.evaluate(X_train, y_train)\r\n",
    "print()\r\n",
    "print(f\"Acuracia do Treino: {round(scores[1]*100,2)}%\")"
   ],
   "outputs": [
    {
     "output_type": "stream",
     "name": "stdout",
     "text": [
      "4/4 [==============================] - 0s 1ms/step - loss: 0.1750 - accuracy: 0.9667\n",
      "\n",
      "Acuracia do Treino: 96.67%\n"
     ]
    }
   ],
   "metadata": {}
  },
  {
   "cell_type": "code",
   "execution_count": 22,
   "source": [
    "model = load_model(\"./modelo_mlp_ex3_1.hdf5\")"
   ],
   "outputs": [],
   "metadata": {}
  },
  {
   "cell_type": "code",
   "execution_count": 23,
   "source": [
    "scores = model.evaluate(X_test, y_test)\r\n",
    "print()\r\n",
    "print(f\"Acuracia do Teste: {round(scores[1]*100,2)}%\")"
   ],
   "outputs": [
    {
     "output_type": "stream",
     "name": "stdout",
     "text": [
      "1/1 [==============================] - 0s 998us/step - loss: 0.2785 - accuracy: 0.9667\n",
      "\n",
      "Acuracia da Validação: 96.67%\n"
     ]
    }
   ],
   "metadata": {}
  },
  {
   "cell_type": "markdown",
   "source": [
    "## Verificamos ao final uma Acurácia de mais de 95% na base de treino, mesmo com uma rede bem pequena. \r\n",
    "## Acreditamos que este resultado é possível porque os dados são muito bem definidos, como podemos observar no gráfico das variáveis, permitindo que a rede consiga separar bem a fronteira entra cada uma das respostas."
   ],
   "metadata": {}
  }
 ],
 "metadata": {
  "interpreter": {
   "hash": "c24c9dacf042e5cf8b743bae11b2cef3a95983df3bc5153773d9ffef1d5207d2"
  },
  "kernelspec": {
   "name": "python3",
   "display_name": "Python 3.8.10 64-bit ('tf-gpu': conda)"
  },
  "language_info": {
   "codemirror_mode": {
    "name": "ipython",
    "version": 3
   },
   "file_extension": ".py",
   "mimetype": "text/x-python",
   "name": "python",
   "nbconvert_exporter": "python",
   "pygments_lexer": "ipython3",
   "version": "3.8.10"
  },
  "orig_nbformat": 4
 },
 "nbformat": 4,
 "nbformat_minor": 2
}