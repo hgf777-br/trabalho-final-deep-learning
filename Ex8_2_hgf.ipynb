{
 "cells": [
  {
   "cell_type": "markdown",
   "source": [
    "## Bibliotecas Utilizadas"
   ],
   "metadata": {}
  },
  {
   "cell_type": "code",
   "execution_count": 1,
   "source": [
    "import os\r\n",
    "import numpy as np\r\n",
    "import matplotlib.pyplot as plt\r\n",
    "\r\n",
    "from sklearn.model_selection import train_test_split\r\n",
    "\r\n",
    "from tensorflow.keras.utils import to_categorical\r\n",
    "from keras.models import Sequential, load_model\r\n",
    "from keras.layers import Dense\r\n",
    "from keras.layers import Dropout\r\n",
    "from keras.layers import Flatten\r\n",
    "from keras.layers.convolutional import Conv2D\r\n",
    "from keras.layers.convolutional import MaxPooling2D, AveragePooling2D\r\n",
    "from keras.utils import np_utils\r\n",
    "from keras.callbacks import ModelCheckpoint\r\n",
    "from keras.utils.vis_utils import plot_model\r\n",
    "from keras.preprocessing.image import img_to_array, load_img, array_to_img\r\n",
    "from datetime import datetime, time\r\n",
    "\r\n"
   ],
   "outputs": [],
   "metadata": {}
  },
  {
   "cell_type": "code",
   "execution_count": 2,
   "source": [
    "print (\"Início Execução : \")\r\n",
    "print (datetime.now().strftime(\"%Y-%m-%d %H:%M:%S\"))"
   ],
   "outputs": [
    {
     "output_type": "stream",
     "name": "stdout",
     "text": [
      "Início Execução : \n",
      "2021-07-19 18:15:41\n"
     ]
    }
   ],
   "metadata": {}
  },
  {
   "cell_type": "markdown",
   "source": [
    "# Carregando os dados "
   ],
   "metadata": {}
  },
  {
   "cell_type": "code",
   "execution_count": 3,
   "source": [
    "path_treino = './data/frutas/Training' \r\n",
    "path_teste = './data/frutas/Test'"
   ],
   "outputs": [],
   "metadata": {}
  },
  {
   "cell_type": "code",
   "execution_count": 5,
   "source": [
    "def get_dados(path, numero_frutas):\r\n",
    "    lista_dir = os.listdir(path)\r\n",
    "    X = []\r\n",
    "    Y = []\r\n",
    "    fruta_num = 0\r\n",
    "    passo = len(lista_dir)/numero_frutas\r\n",
    "    for idx, fruta in enumerate(lista_dir):\r\n",
    "        if (idx % passo != 0):\r\n",
    "        #if (idx == numero_frutas):\r\n",
    "            continue\r\n",
    "            #break\r\n",
    "        lista_img = os.listdir(f\"{path}/{fruta}\")\r\n",
    "        print(f\"{fruta_num} - {idx} - {fruta} - {len(lista_img)}\")\r\n",
    "        #counter = 0\r\n",
    "        for img in lista_img:\r\n",
    "            arquivo = f\"{path}/{fruta}/{img}\"\r\n",
    "            img_fruta = img_to_array(load_img(arquivo, target_size=(32, 32)))\r\n",
    "            X.append(img_fruta)\r\n",
    "            Y.append(fruta_num)\r\n",
    "            #counter += 1\r\n",
    "            #if counter == 450:\r\n",
    "            #    break\r\n",
    "        fruta_num = fruta_num + 1    \r\n",
    "    return (X, Y)"
   ],
   "outputs": [],
   "metadata": {}
  },
  {
   "cell_type": "code",
   "execution_count": 6,
   "source": [
    "def plot_history(history):\r\n",
    "    acc = history.history['accuracy']\r\n",
    "    val_acc = history.history['val_accuracy']\r\n",
    "    loss = history.history['loss']\r\n",
    "    val_loss = history.history['val_loss']\r\n",
    "    x = range(1, len(acc) + 1)\r\n",
    "    plt.figure(figsize=(12, 5))\r\n",
    "    plt.subplot(1, 2, 1)\r\n",
    "    plt.plot(x, acc, 'b', label='Training Accuracy')\r\n",
    "    plt.plot(x, val_acc, 'r', label='Validation Accuracy')\r\n",
    "    plt.title('Training and validation Accuracy')\r\n",
    "    plt.subplot(1, 2, 2)\r\n",
    "    plt.plot(x, loss, 'b', label='Training loss')\r\n",
    "    plt.plot(x, val_loss, 'r', label='Validation loss')\r\n",
    "    plt.title('Training and validation loss')\r\n",
    "    plt.legend()"
   ],
   "outputs": [],
   "metadata": {}
  },
  {
   "cell_type": "code",
   "execution_count": 7,
   "source": [
    "num_frutas = 120"
   ],
   "outputs": [],
   "metadata": {}
  },
  {
   "cell_type": "code",
   "execution_count": 8,
   "source": [
    "X_frutas, Y_frutas = get_dados(path_treino, num_frutas)"
   ],
   "outputs": [
    {
     "output_type": "stream",
     "name": "stdout",
     "text": [
      "0 - 0 - Apple Braeburn - 492\n",
      "1 - 1 - Apple Crimson Snow - 444\n",
      "2 - 2 - Apple Golden 1 - 492\n",
      "3 - 3 - Apple Golden 2 - 492\n",
      "4 - 4 - Apple Golden 3 - 481\n",
      "5 - 5 - Apple Granny Smith - 492\n",
      "6 - 6 - Apple Pink Lady - 456\n",
      "7 - 7 - Apple Red 1 - 492\n",
      "8 - 8 - Apple Red 2 - 492\n",
      "9 - 9 - Apple Red 3 - 429\n",
      "10 - 10 - Apple Red Delicious - 490\n",
      "11 - 11 - Apple Red Yellow 1 - 492\n",
      "12 - 12 - Apple Red Yellow 2 - 672\n",
      "13 - 13 - Apricot - 492\n",
      "14 - 14 - Avocado - 427\n",
      "15 - 15 - Avocado ripe - 491\n",
      "16 - 16 - Banana - 490\n",
      "17 - 17 - Banana Lady Finger - 450\n",
      "18 - 18 - Banana Red - 490\n",
      "19 - 19 - Beetroot - 450\n",
      "20 - 20 - Blueberry - 462\n",
      "21 - 21 - Cactus fruit - 490\n",
      "22 - 22 - Cantaloupe 1 - 492\n",
      "23 - 23 - Cantaloupe 2 - 492\n",
      "24 - 24 - Carambula - 490\n",
      "25 - 25 - Cauliflower - 702\n",
      "26 - 26 - Cherry 1 - 492\n",
      "27 - 27 - Cherry 2 - 738\n",
      "28 - 28 - Cherry Rainier - 738\n",
      "29 - 29 - Cherry Wax Black - 492\n",
      "30 - 30 - Cherry Wax Red - 492\n",
      "31 - 31 - Cherry Wax Yellow - 492\n",
      "32 - 32 - Chestnut - 450\n",
      "33 - 33 - Clementine - 490\n",
      "34 - 34 - Cocos - 490\n",
      "35 - 35 - Dates - 490\n",
      "36 - 36 - Eggplant - 468\n",
      "37 - 37 - Ginger Root - 99\n",
      "38 - 38 - Granadilla - 490\n",
      "39 - 39 - Grape Blue - 984\n",
      "40 - 40 - Grape Pink - 492\n",
      "41 - 41 - Grape White - 490\n",
      "42 - 42 - Grape White 2 - 490\n",
      "43 - 43 - Grape White 3 - 492\n",
      "44 - 44 - Grape White 4 - 471\n",
      "45 - 45 - Grapefruit Pink - 490\n",
      "46 - 46 - Grapefruit White - 492\n",
      "47 - 47 - Guava - 490\n",
      "48 - 48 - Hazelnut - 464\n",
      "49 - 49 - Huckleberry - 490\n",
      "50 - 50 - Kaki - 490\n",
      "51 - 51 - Kiwi - 466\n",
      "52 - 52 - Kohlrabi - 471\n",
      "53 - 53 - Kumquats - 490\n",
      "54 - 54 - Lemon - 492\n",
      "55 - 55 - Lemon Meyer - 490\n",
      "56 - 56 - Limes - 490\n",
      "57 - 57 - Lychee - 490\n",
      "58 - 58 - Mandarine - 490\n",
      "59 - 59 - Mango - 490\n",
      "60 - 60 - Mango Red - 426\n",
      "61 - 61 - Mangostan - 300\n",
      "62 - 62 - Maracuja - 490\n",
      "63 - 63 - Melon Piel de Sapo - 738\n",
      "64 - 64 - Mulberry - 492\n",
      "65 - 65 - Nectarine - 492\n",
      "66 - 66 - Nectarine Flat - 480\n",
      "67 - 67 - Nut Forest - 218\n",
      "68 - 68 - Nut Pecan - 178\n",
      "69 - 69 - Onion Red - 450\n",
      "70 - 70 - Onion Red Peeled - 445\n",
      "71 - 71 - Onion White - 438\n",
      "72 - 72 - Orange - 479\n",
      "73 - 73 - Papaya - 492\n",
      "74 - 74 - Passion Fruit - 490\n",
      "75 - 75 - Peach - 492\n",
      "76 - 76 - Peach 2 - 738\n",
      "77 - 77 - Peach Flat - 492\n",
      "78 - 78 - Pear - 492\n",
      "79 - 79 - Pear Abate - 490\n",
      "80 - 80 - Pear Forelle - 702\n",
      "81 - 81 - Pear Kaiser - 300\n",
      "82 - 82 - Pear Monster - 490\n",
      "83 - 83 - Pear Red - 666\n",
      "84 - 84 - Pear Williams - 490\n",
      "85 - 85 - Pepino - 490\n",
      "86 - 86 - Pepper Green - 444\n",
      "87 - 87 - Pepper Red - 666\n",
      "88 - 88 - Pepper Yellow - 666\n",
      "89 - 89 - Physalis - 492\n",
      "90 - 90 - Physalis with Husk - 492\n",
      "91 - 91 - Pineapple - 490\n",
      "92 - 92 - Pineapple Mini - 493\n",
      "93 - 93 - Pitahaya Red - 490\n",
      "94 - 94 - Plum - 447\n",
      "95 - 95 - Plum 2 - 420\n",
      "96 - 96 - Plum 3 - 900\n",
      "97 - 97 - Pomegranate - 492\n",
      "98 - 98 - Pomelo Sweetie - 450\n",
      "99 - 99 - Potato Red - 450\n",
      "100 - 100 - Potato Red Washed - 453\n",
      "101 - 101 - Potato Sweet - 450\n",
      "102 - 102 - Potato White - 450\n",
      "103 - 103 - Quince - 490\n",
      "104 - 104 - Rambutan - 492\n",
      "105 - 105 - Raspberry - 490\n",
      "106 - 106 - Redcurrant - 492\n",
      "107 - 107 - Salak - 490\n",
      "108 - 108 - Strawberry - 492\n",
      "109 - 109 - Strawberry Wedge - 738\n",
      "110 - 110 - Tamarillo - 490\n",
      "111 - 111 - Tangelo - 490\n",
      "112 - 112 - Tomato 1 - 738\n",
      "113 - 113 - Tomato 2 - 672\n",
      "114 - 114 - Tomato 3 - 738\n",
      "115 - 115 - Tomato 4 - 479\n",
      "116 - 116 - Tomato Cherry Red - 492\n",
      "117 - 117 - Tomato Maroon - 367\n",
      "118 - 118 - Tomato Yellow - 459\n",
      "119 - 119 - Walnut - 735\n"
     ]
    }
   ],
   "metadata": {}
  },
  {
   "cell_type": "code",
   "execution_count": 9,
   "source": [
    "plt.figure(figsize=(5,5))\r\n",
    "plt.imshow(array_to_img(X_frutas[0]))"
   ],
   "outputs": [
    {
     "output_type": "execute_result",
     "data": {
      "text/plain": [
       "<matplotlib.image.AxesImage at 0x1567f9621c0>"
      ]
     },
     "metadata": {},
     "execution_count": 9
    },
    {
     "output_type": "display_data",
     "data": {
      "text/plain": [
       "<Figure size 360x360 with 1 Axes>"
      ],
      "image/png": "[encoded data removed]"
     },
     "metadata": {
      "needs_background": "light"
     }
    }
   ],
   "metadata": {}
  },
  {
   "cell_type": "code",
   "execution_count": 10,
   "source": [
    "Y_frutas[0]"
   ],
   "outputs": [
    {
     "output_type": "execute_result",
     "data": {
      "text/plain": [
       "0"
      ]
     },
     "metadata": {},
     "execution_count": 10
    }
   ],
   "metadata": {}
  },
  {
   "cell_type": "code",
   "execution_count": 11,
   "source": [
    "len(X_frutas)"
   ],
   "outputs": [
    {
     "output_type": "execute_result",
     "data": {
      "text/plain": [
       "60498"
      ]
     },
     "metadata": {},
     "execution_count": 11
    }
   ],
   "metadata": {}
  },
  {
   "cell_type": "code",
   "execution_count": 12,
   "source": [
    "len(Y_frutas)"
   ],
   "outputs": [
    {
     "output_type": "execute_result",
     "data": {
      "text/plain": [
       "60498"
      ]
     },
     "metadata": {},
     "execution_count": 12
    }
   ],
   "metadata": {}
  },
  {
   "cell_type": "code",
   "execution_count": 13,
   "source": [
    "X_train = np.asarray(X_frutas).astype(np.float32)\r\n",
    "Y_train = np.asarray(Y_frutas)"
   ],
   "outputs": [],
   "metadata": {}
  },
  {
   "cell_type": "code",
   "execution_count": 14,
   "source": [
    "X_train.shape"
   ],
   "outputs": [
    {
     "output_type": "execute_result",
     "data": {
      "text/plain": [
       "(60498, 32, 32, 3)"
      ]
     },
     "metadata": {},
     "execution_count": 14
    }
   ],
   "metadata": {}
  },
  {
   "cell_type": "code",
   "execution_count": 15,
   "source": [
    "Y_train.shape"
   ],
   "outputs": [
    {
     "output_type": "execute_result",
     "data": {
      "text/plain": [
       "(60498,)"
      ]
     },
     "metadata": {},
     "execution_count": 15
    }
   ],
   "metadata": {}
  },
  {
   "cell_type": "code",
   "execution_count": 16,
   "source": [
    "X_train = X_train/255"
   ],
   "outputs": [],
   "metadata": {}
  },
  {
   "cell_type": "code",
   "execution_count": 17,
   "source": [
    "Y_train = to_categorical(Y_train, num_frutas)"
   ],
   "outputs": [],
   "metadata": {}
  },
  {
   "cell_type": "code",
   "execution_count": 18,
   "source": [
    "Y_train.shape"
   ],
   "outputs": [
    {
     "output_type": "execute_result",
     "data": {
      "text/plain": [
       "(60498, 120)"
      ]
     },
     "metadata": {},
     "execution_count": 18
    }
   ],
   "metadata": {}
  },
  {
   "cell_type": "code",
   "execution_count": 19,
   "source": [
    "X_train, X_val, y_train, y_val = train_test_split(X_train, Y_train, test_size=0.2, random_state=42)"
   ],
   "outputs": [],
   "metadata": {}
  },
  {
   "cell_type": "code",
   "execution_count": 20,
   "source": [
    "# Cria o modelo\r\n",
    "model = Sequential()\r\n",
    "#Convolução 2D \r\n",
    "model.add(Conv2D(6, (5, 5), input_shape=(32, 32, 3), activation='relu'))\r\n",
    "#Camada de Pooling \t    \r\n",
    "#model.add(MaxPooling2D(pool_size=(2, 2)))\r\n",
    "model.add(AveragePooling2D(pool_size=(2, 2)))\r\n",
    "#model.add(Dropout(0.2))\r\n",
    "#Convolução 2D\r\n",
    "model.add(Conv2D(16, (5, 5), activation='relu'))\r\n",
    "#Camada de Pooling \t    \r\n",
    "#model.add(MaxPooling2D(pool_size=(2, 2)))\r\n",
    "model.add(AveragePooling2D(pool_size=(2, 2)))\r\n",
    "#model.add(Dropout(0.2))\r\n",
    "#Converte o conjunto de imagens e um vetor unidimensional para a entrada da rede neural totalmente conectada\r\n",
    "model.add(Flatten())\r\n",
    "model.add(Dense(16, activation='relu'))\r\n",
    "#model.add(Dropout(0.4))\r\n",
    "model.add(Dense(8, activation='relu'))\r\n",
    "#model.add(Dropout(0.4))\r\n",
    "model.add(Dense(num_frutas, activation='softmax'))\r\n",
    "#model.summary()"
   ],
   "outputs": [],
   "metadata": {}
  },
  {
   "cell_type": "code",
   "execution_count": 21,
   "source": [
    "#plot_model(model, show_shapes=True, show_layer_names=True)"
   ],
   "outputs": [],
   "metadata": {}
  },
  {
   "cell_type": "code",
   "execution_count": 22,
   "source": [
    "model.compile(loss='categorical_crossentropy', optimizer='adam', metrics=['accuracy'])"
   ],
   "outputs": [],
   "metadata": {}
  },
  {
   "cell_type": "code",
   "execution_count": 23,
   "source": [
    "checkpointer = ModelCheckpoint(filepath='./modelo_mlp_ex8_2.hdf5', verbose=0,  save_best_only=True, monitor='val_accuracy')\r\n",
    "\r\n",
    "history = model.fit(X_train, y_train, validation_data = (X_val, y_val), epochs=100, batch_size=32, callbacks=[checkpointer], verbose=0)"
   ],
   "outputs": [],
   "metadata": {}
  },
  {
   "cell_type": "code",
   "execution_count": 24,
   "source": [
    "plot_history(history)"
   ],
   "outputs": [
    {
     "output_type": "display_data",
     "data": {
      "text/plain": [
       "<Figure size 864x360 with 2 Axes>"
      ],
      "image/png": "[encoded data removed]"
     },
     "metadata": {
      "needs_background": "light"
     }
    }
   ],
   "metadata": {}
  },
  {
   "cell_type": "code",
   "execution_count": 25,
   "source": [
    "model = load_model(\"./modelo_mlp_ex8_2.hdf5\")"
   ],
   "outputs": [],
   "metadata": {}
  },
  {
   "cell_type": "code",
   "execution_count": 26,
   "source": [
    "scores = model.evaluate(X_train, y_train)\r\n",
    "print()\r\n",
    "print(f\"Acuracia do Treino: {round(scores[1]*100,2)}%\")"
   ],
   "outputs": [
    {
     "output_type": "stream",
     "name": "stdout",
     "text": [
      "Erro da CNN: 0.04%\n",
      "Acurácia da CNN: 99.96%\n"
     ]
    }
   ],
   "metadata": {}
  },
  {
   "cell_type": "code",
   "execution_count": 27,
   "source": [
    "X_frutas, Y_frutas = get_dados(path_teste, num_frutas)"
   ],
   "outputs": [
    {
     "output_type": "stream",
     "name": "stdout",
     "text": [
      "0 - 0 - Apple Braeburn - 164\n",
      "1 - 1 - Apple Crimson Snow - 148\n",
      "2 - 2 - Apple Golden 1 - 164\n",
      "3 - 3 - Apple Golden 2 - 164\n",
      "4 - 4 - Apple Golden 3 - 161\n",
      "5 - 5 - Apple Granny Smith - 164\n",
      "6 - 6 - Apple Pink Lady - 152\n",
      "7 - 7 - Apple Red 1 - 164\n",
      "8 - 8 - Apple Red 2 - 164\n",
      "9 - 9 - Apple Red 3 - 144\n",
      "10 - 10 - Apple Red Delicious - 166\n",
      "11 - 11 - Apple Red Yellow 1 - 164\n",
      "12 - 12 - Apple Red Yellow 2 - 219\n",
      "13 - 13 - Apricot - 164\n",
      "14 - 14 - Avocado - 143\n",
      "15 - 15 - Avocado ripe - 166\n",
      "16 - 16 - Banana - 166\n",
      "17 - 17 - Banana Lady Finger - 152\n",
      "18 - 18 - Banana Red - 166\n",
      "19 - 19 - Beetroot - 150\n",
      "20 - 20 - Blueberry - 154\n",
      "21 - 21 - Cactus fruit - 166\n",
      "22 - 22 - Cantaloupe 1 - 164\n",
      "23 - 23 - Cantaloupe 2 - 164\n",
      "24 - 24 - Carambula - 166\n",
      "25 - 25 - Cauliflower - 234\n",
      "26 - 26 - Cherry 1 - 164\n",
      "27 - 27 - Cherry 2 - 246\n",
      "28 - 28 - Cherry Rainier - 246\n",
      "29 - 29 - Cherry Wax Black - 164\n",
      "30 - 30 - Cherry Wax Red - 164\n",
      "31 - 31 - Cherry Wax Yellow - 164\n",
      "32 - 32 - Chestnut - 153\n",
      "33 - 33 - Clementine - 166\n",
      "34 - 34 - Cocos - 166\n",
      "35 - 35 - Dates - 166\n",
      "36 - 36 - Eggplant - 156\n",
      "37 - 37 - Ginger Root - 99\n",
      "38 - 38 - Granadilla - 166\n",
      "39 - 39 - Grape Blue - 328\n",
      "40 - 40 - Grape Pink - 164\n",
      "41 - 41 - Grape White - 166\n",
      "42 - 42 - Grape White 2 - 166\n",
      "43 - 43 - Grape White 3 - 164\n",
      "44 - 44 - Grape White 4 - 158\n",
      "45 - 45 - Grapefruit Pink - 166\n",
      "46 - 46 - Grapefruit White - 164\n",
      "47 - 47 - Guava - 166\n",
      "48 - 48 - Hazelnut - 157\n",
      "49 - 49 - Huckleberry - 166\n",
      "50 - 50 - Kaki - 166\n",
      "51 - 51 - Kiwi - 156\n",
      "52 - 52 - Kohlrabi - 157\n",
      "53 - 53 - Kumquats - 166\n",
      "54 - 54 - Lemon - 164\n",
      "55 - 55 - Lemon Meyer - 166\n",
      "56 - 56 - Limes - 166\n",
      "57 - 57 - Lychee - 166\n",
      "58 - 58 - Mandarine - 166\n",
      "59 - 59 - Mango - 166\n",
      "60 - 60 - Mango Red - 142\n",
      "61 - 61 - Mangostan - 102\n",
      "62 - 62 - Maracuja - 166\n",
      "63 - 63 - Melon Piel de Sapo - 246\n",
      "64 - 64 - Mulberry - 164\n",
      "65 - 65 - Nectarine - 164\n",
      "66 - 66 - Nectarine Flat - 160\n",
      "67 - 67 - Nut Forest - 218\n",
      "68 - 68 - Nut Pecan - 178\n",
      "69 - 69 - Onion Red - 150\n",
      "70 - 70 - Onion Red Peeled - 155\n",
      "71 - 71 - Onion White - 146\n",
      "72 - 72 - Orange - 160\n",
      "73 - 73 - Papaya - 164\n",
      "74 - 74 - Passion Fruit - 166\n",
      "75 - 75 - Peach - 164\n",
      "76 - 76 - Peach 2 - 246\n",
      "77 - 77 - Peach Flat - 164\n",
      "78 - 78 - Pear - 164\n",
      "79 - 79 - Pear Abate - 166\n",
      "80 - 80 - Pear Forelle - 234\n",
      "81 - 81 - Pear Kaiser - 102\n",
      "82 - 82 - Pear Monster - 166\n",
      "83 - 83 - Pear Red - 222\n",
      "84 - 84 - Pear Williams - 166\n",
      "85 - 85 - Pepino - 166\n",
      "86 - 86 - Pepper Green - 148\n",
      "87 - 87 - Pepper Red - 222\n",
      "88 - 88 - Pepper Yellow - 222\n",
      "89 - 89 - Physalis - 164\n",
      "90 - 90 - Physalis with Husk - 164\n",
      "91 - 91 - Pineapple - 166\n",
      "92 - 92 - Pineapple Mini - 163\n",
      "93 - 93 - Pitahaya Red - 166\n",
      "94 - 94 - Plum - 151\n",
      "95 - 95 - Plum 2 - 142\n",
      "96 - 96 - Plum 3 - 304\n",
      "97 - 97 - Pomegranate - 164\n",
      "98 - 98 - Pomelo Sweetie - 153\n",
      "99 - 99 - Potato Red - 150\n",
      "100 - 100 - Potato Red Washed - 151\n",
      "101 - 101 - Potato Sweet - 150\n",
      "102 - 102 - Potato White - 150\n",
      "103 - 103 - Quince - 166\n",
      "104 - 104 - Rambutan - 164\n",
      "105 - 105 - Raspberry - 166\n",
      "106 - 106 - Redcurrant - 164\n",
      "107 - 107 - Salak - 162\n",
      "108 - 108 - Strawberry - 164\n",
      "109 - 109 - Strawberry Wedge - 246\n",
      "110 - 110 - Tamarillo - 166\n",
      "111 - 111 - Tangelo - 166\n",
      "112 - 112 - Tomato 1 - 246\n",
      "113 - 113 - Tomato 2 - 225\n",
      "114 - 114 - Tomato 3 - 246\n",
      "115 - 115 - Tomato 4 - 160\n",
      "116 - 116 - Tomato Cherry Red - 164\n",
      "117 - 117 - Tomato Maroon - 127\n",
      "118 - 118 - Tomato Yellow - 153\n",
      "119 - 119 - Walnut - 249\n"
     ]
    }
   ],
   "metadata": {}
  },
  {
   "cell_type": "code",
   "execution_count": 28,
   "source": [
    "X_test = np.asarray(X_frutas).astype(np.float32)\r\n",
    "y_test = np.asarray(Y_frutas)"
   ],
   "outputs": [],
   "metadata": {}
  },
  {
   "cell_type": "code",
   "execution_count": 29,
   "source": [
    "X_test = X_test/255\r\n",
    "y_test = to_categorical(Y_test, num_frutas)"
   ],
   "outputs": [],
   "metadata": {}
  },
  {
   "cell_type": "code",
   "execution_count": 30,
   "source": [
    "X_test.shape"
   ],
   "outputs": [
    {
     "output_type": "execute_result",
     "data": {
      "text/plain": [
       "(20622, 32, 32, 3)"
      ]
     },
     "metadata": {},
     "execution_count": 30
    }
   ],
   "metadata": {}
  },
  {
   "cell_type": "code",
   "execution_count": 31,
   "source": [
    "y_test.shape"
   ],
   "outputs": [
    {
     "output_type": "execute_result",
     "data": {
      "text/plain": [
       "(20622, 120)"
      ]
     },
     "metadata": {},
     "execution_count": 31
    }
   ],
   "metadata": {}
  },
  {
   "cell_type": "code",
   "execution_count": 32,
   "source": [
    "scores = model.evaluate(X_test, y_test)\r\n",
    "print()\r\n",
    "print(f\"Acuracia do Teste: {round(scores[1]*100,2)}%\")"
   ],
   "outputs": [
    {
     "output_type": "stream",
     "name": "stdout",
     "text": [
      "Erro da CNN: 4.87%\n",
      "Acurária da CNN: 95.13%\n"
     ]
    }
   ],
   "metadata": {}
  },
  {
   "cell_type": "code",
   "execution_count": 33,
   "source": [
    "print (\"Fim Execução : \")\r\n",
    "print (datetime.now().strftime(\"%Y-%m-%d %H:%M:%S\"))"
   ],
   "outputs": [
    {
     "output_type": "stream",
     "name": "stdout",
     "text": [
      "Fim Execução : \n",
      "2021-07-19 18:29:09\n"
     ]
    }
   ],
   "metadata": {}
  }
 ],
 "metadata": {
  "kernelspec": {
   "display_name": "Python 3",
   "language": "python",
   "name": "python3"
  },
  "language_info": {
   "codemirror_mode": {
    "name": "ipython",
    "version": 3
   },
   "file_extension": ".py",
   "mimetype": "text/x-python",
   "name": "python",
   "nbconvert_exporter": "python",
   "pygments_lexer": "ipython3",
   "version": "3.7.10"
  }
 },
 "nbformat": 4,
 "nbformat_minor": 4
}