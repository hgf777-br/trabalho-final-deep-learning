{
 "cells": [
  {
   "cell_type": "markdown",
   "metadata": {},
   "source": [
    "## Bibliotecas Utilizadas"
   ]
  },
  {
   "cell_type": "code",
   "execution_count": 2,
   "metadata": {},
   "outputs": [],
   "source": [
    "import os\n",
    "import numpy as np\n",
    "import matplotlib.pyplot as plt\n",
    "import tensorflow as tf\n",
    "\n",
    "from sklearn.model_selection import train_test_split\n",
    "from tensorflow.keras.utils import to_categorical\n",
    "from keras.models import Sequential, load_model\n",
    "from keras.layers import Dense\n",
    "from keras.layers import Dropout\n",
    "from keras.layers import Flatten\n",
    "from keras.layers.convolutional import Conv2D\n",
    "from keras.layers.convolutional import MaxPooling2D, AveragePooling2D\n",
    "from keras.utils import np_utils\n",
    "from keras.callbacks import ModelCheckpoint\n",
    "from keras.utils.vis_utils import plot_model\n",
    "from keras import backend as K\n",
    "from keras.preprocessing.image import img_to_array, load_img\n",
    "from datetime import datetime, time"
   ]
  },
  {
   "cell_type": "code",
   "execution_count": 2,
   "metadata": {},
   "outputs": [
    {
     "name": "stdout",
     "output_type": "stream",
     "text": [
      "Início Execução : \n",
      "2021-07-19 23:58:46\n"
     ]
    }
   ],
   "source": [
    "print (\"Início Execução : \")\n",
    "print (datetime.now().strftime(\"%Y-%m-%d %H:%M:%S\"))"
   ]
  },
  {
   "cell_type": "markdown",
   "metadata": {},
   "source": [
    "# Funções"
   ]
  },
  {
   "cell_type": "code",
   "execution_count": 3,
   "metadata": {},
   "outputs": [],
   "source": [
    "def build_grayscale_image(image):\n",
    "    image = tf.image.convert_image_dtype(image , tf.float32)\n",
    "    return tf.image.rgb_to_grayscale(image)"
   ]
  },
  {
   "cell_type": "code",
   "execution_count": 4,
   "metadata": {},
   "outputs": [],
   "source": [
    "def build_hsv_grayscale_image(image):\n",
    "    image = tf.image.convert_image_dtype(image , tf.float32)\n",
    "    gray_image = tf.image.rgb_to_grayscale(image)\n",
    "    image = tf.image.rgb_to_hsv(image)\n",
    "    rez = tf.concat([image , gray_image], 2)\n",
    "    return rez"
   ]
  },
  {
   "cell_type": "code",
   "execution_count": 5,
   "metadata": {},
   "outputs": [],
   "source": [
    "def get_dados(path, size):\n",
    "    lista_dir = os.listdir(path)\n",
    "    X = []\n",
    "    Y = []\n",
    "    for cat_fruta, fruta in enumerate(lista_dir):\n",
    "        lista_img = os.listdir('{0}/{1}'.format(path, fruta))\n",
    "        print('{0} - {1}'.format(cat_fruta, fruta))\n",
    "        for img in lista_img:\n",
    "            arquivo = '{0}/{1}/{2}'.format(path, fruta, img)\n",
    "            img_fruta = img_to_array(load_img(arquivo, target_size=(size, size)))\n",
    "            X.append(img_fruta)\n",
    "            Y.append(cat_fruta)\n",
    "    return (X, Y)"
   ]
  },
  {
   "cell_type": "code",
   "execution_count": 6,
   "metadata": {},
   "outputs": [],
   "source": [
    "def get_dados_grayscale(path, size):\n",
    "    lista_dir = os.listdir(path)\n",
    "    X = []\n",
    "    Y = []\n",
    "    for cat_fruta, fruta in enumerate(lista_dir):\n",
    "        lista_img = os.listdir('{0}/{1}'.format(path, fruta))\n",
    "        print('{0} - {1}'.format(cat_fruta, fruta))\n",
    "        for img in lista_img:\n",
    "            arquivo = '{0}/{1}/{2}'.format(path, fruta, img)\n",
    "            img_fruta = build_grayscale_image(img_to_array(load_img(arquivo, target_size=(size, size))))\n",
    "            X.append(img_fruta)\n",
    "            Y.append(cat_fruta)\n",
    "    return (X, Y)"
   ]
  },
  {
   "cell_type": "code",
   "execution_count": 7,
   "metadata": {},
   "outputs": [],
   "source": [
    "def get_dados_hsv_grayscale(path, size):\n",
    "    lista_dir = os.listdir(path)\n",
    "    X = []\n",
    "    Y = []\n",
    "    for cat_fruta, fruta in enumerate(lista_dir):\n",
    "        lista_img = os.listdir('{0}/{1}'.format(path, fruta))\n",
    "        print('{0} - {1}'.format(cat_fruta, fruta))\n",
    "        for img in lista_img:\n",
    "            arquivo = '{0}/{1}/{2}'.format(path, fruta, img)\n",
    "            img_fruta = build_hsv_grayscale_image(img_to_array(load_img(arquivo, target_size=(size, size))))\n",
    "            X.append(img_fruta)\n",
    "            Y.append(cat_fruta)\n",
    "    return (X, Y)"
   ]
  },
  {
   "cell_type": "code",
   "execution_count": 8,
   "metadata": {},
   "outputs": [],
   "source": [
    "def plot_history(history):\n",
    "    acc = history.history['accuracy']\n",
    "    val_acc = history.history['val_accuracy']\n",
    "    loss = history.history['loss']\n",
    "    val_loss = history.history['val_loss']\n",
    "    x = range(1, len(acc) + 1)\n",
    "    plt.figure(figsize=(12, 5))\n",
    "    plt.subplot(1, 2, 1)\n",
    "    plt.plot(x, acc, 'b', label='Training Accuracy')\n",
    "    plt.plot(x, val_acc, 'r', label='Validation Accuracy')\n",
    "    plt.title('Training and validation Accuracy')\n",
    "    plt.subplot(1, 2, 2)\n",
    "    plt.plot(x, loss, 'b', label='Training loss')\n",
    "    plt.plot(x, val_loss, 'r', label='Validation loss')\n",
    "    plt.title('Training and validation loss')\n",
    "    plt.legend()"
   ]
  },
  {
   "cell_type": "code",
   "execution_count": 9,
   "metadata": {},
   "outputs": [],
   "source": [
    "def CNN_PaperOriginal(num_frutas, size, camadas):\n",
    "    # Cria o modelo\n",
    "    model = Sequential()\n",
    "    \n",
    "    #Convolução 2D com função de ativação Rectified Linear Units 32 kernels/Pesos (filtros) \n",
    "    model.add(Conv2D(4, (5, 5), input_shape=(size, size, camadas), activation='relu'))#\n",
    "    print( model.output_shape)\n",
    "    #Camada de Pooling \t    \n",
    "    model.add(MaxPooling2D(pool_size=(2, 2)))\n",
    "    print(model.output_shape)\n",
    "    \n",
    "    model.add(Dropout(0.2))\n",
    "\n",
    "    model.add(Conv2D(16, (5, 5), activation='relu'))#\n",
    "    print(model.output_shape)\n",
    "    #Camada de Pooling \t    \n",
    "    model.add(MaxPooling2D(pool_size=(2, 2)))\n",
    "    print(model.output_shape)\n",
    "    \n",
    "    model.add(Dropout(0.2))\n",
    "    \n",
    "    model.add(Conv2D(32, (5, 5), activation='relu'))#\n",
    "    print(model.output_shape)\n",
    "    #Camada de Pooling \t    \n",
    "    model.add(MaxPooling2D(pool_size=(2, 2)))\n",
    "    print(model.output_shape)\n",
    "    \n",
    "    model.add(Dropout(0.2))\n",
    "    \n",
    "    model.add(Conv2D(64, (5, 5), activation='relu'))#\n",
    "    print(model.output_shape)\n",
    "    #Camada de Pooling \t    \n",
    "    model.add(MaxPooling2D(pool_size=(2, 2)))\n",
    "    print(model.output_shape)\n",
    "    \n",
    "    model.add(Dropout(0.2))\n",
    "    \n",
    "    #Converte o conjunto de imagens e um vetor unidimensional para a entrada da rede neural totalmente conectada\n",
    "    model.add(Flatten())\n",
    "    print(model.output_shape)\n",
    "    model.add(Dense(1024, activation='tanh'))\n",
    "    print(model.output_shape)\n",
    "    model.add(Dropout(0.2))\n",
    "    model.add(Dense(256, activation='tanh'))\n",
    "    print(model.output_shape)\n",
    "    model.add(Dropout(0.2))\n",
    "    model.add(Dense(60, activation='tanh'))\n",
    "    print(model.output_shape)\n",
    "    model.add(Dropout(0.2))\n",
    "    #Função de Ativação Softmax\n",
    "    model.add(Dense(num_frutas, activation='softmax'))\n",
    "    print(model.output_shape)\n",
    "    return model"
   ]
  },
  {
   "cell_type": "code",
   "execution_count": 10,
   "metadata": {},
   "outputs": [],
   "source": [
    "def CNN_LeNet5(num_frutas,size, camadas):\n",
    "    # Cria o modelo\n",
    "    model = Sequential()\n",
    "    #Convolução 2D com função de ativação Rectified Linear Units 32 kernels/Pesos (filtros) \n",
    "    model.add(Conv2D(6, (5, 5), input_shape=(size, size, camadas), activation='relu'))#\n",
    "    print( model.output_shape)\n",
    "    #Camada de Pooling \t    \n",
    "    model.add(AveragePooling2D(pool_size=(2, 2)))\n",
    "    print( model.output_shape)\n",
    "    \n",
    "    model.add(Dropout(0.2))\n",
    "\n",
    "    model.add(Conv2D(16, (5, 5), activation='relu'))#\n",
    "    print( model.output_shape)\n",
    "    #Camada de Pooling \t    \n",
    "    model.add(AveragePooling2D(pool_size=(2, 2)))\n",
    "    print( model.output_shape)\n",
    "    \n",
    "    model.add(Dropout(0.2))\n",
    "\n",
    "    #Converte o conjunto de imagens e um vetor unidimensional para a entrada da rede neural totalmente conectada\n",
    "    model.add(Flatten())\n",
    "    print(model.output_shape)\n",
    "    model.add(Dense(240, activation='tanh'))\n",
    "    print(model.output_shape)\n",
    "    model.add(Dropout(0.2))    \n",
    "    model.add(Dense(120, activation='tanh'))\n",
    "    print(model.output_shape)\n",
    "    model.add(Dropout(0.2))    \n",
    "    #Função de Ativação Softmax\n",
    "    model.add(Dense(num_frutas, activation='softmax'))\n",
    "    print(model.output_shape)\n",
    "    return model"
   ]
  },
  {
   "cell_type": "code",
   "execution_count": 11,
   "metadata": {},
   "outputs": [],
   "source": [
    "def CNN_AlexNet(num_frutas,size,camadas):\n",
    "    # Cria o modelo\n",
    "    model = Sequential()\n",
    "    #Convolução 2D com função de ativação Rectified Linear Units 32 kernels/Pesos (filtros) \n",
    "    model.add(Conv2D(96, (11, 11), input_shape=(size, size, camadas), activation='relu'))#\n",
    "    print(model.output_shape)\n",
    "    #Camada de Pooling \t    \n",
    "    model.add(MaxPooling2D(pool_size=(3, 3)))\n",
    "    print(model.output_shape)\n",
    "    \n",
    "    model.add(Dropout(0.2))\n",
    "\n",
    "    model.add(Conv2D(256, (5, 5), activation='relu'))#\n",
    "    print(model.output_shape)\n",
    "    #Camada de Pooling \t    \n",
    "    model.add(MaxPooling2D(pool_size=(3, 3)))\n",
    "    print(model.output_shape)\n",
    "    \n",
    "    model.add(Dropout(0.2))\n",
    "\n",
    "    model.add(Conv2D(384, (3, 3), activation='relu'))#\n",
    "    print(model.output_shape)\n",
    "    model.add(Dropout(0.2))\n",
    "\n",
    "    model.add(Conv2D(384, (3, 3), activation='relu'))#\n",
    "    print(model.output_shape)\n",
    "    model.add(Dropout(0.2))\n",
    "\n",
    "    model.add(Conv2D(256, (3, 3), activation='relu'))#\n",
    "    print(model.output_shape)\n",
    "    model.add(Dropout(0.2))\n",
    "\n",
    "    #Converte o conjunto de imagens e um vetor unidimensional para a entrada da rede neural totalmente conectada\n",
    "    model.add(Flatten())\n",
    "    print(model.output_shape)\n",
    "    model.add(Dense(512, activation='relu'))\n",
    "    print(model.output_shape)\n",
    "    model.add(Dropout(0.2))\n",
    "    model.add(Dense(256, activation='relu'))\n",
    "    print(model.output_shape)\n",
    "    model.add(Dropout(0.2))\n",
    "    #Função de Ativação Softmax\n",
    "    model.add(Dense(num_frutas, activation='softmax'))\n",
    "    print(model.output_shape)\n",
    "    return model"
   ]
  },
  {
   "cell_type": "markdown",
   "metadata": {},
   "source": [
    "# Rodando Algoritmos"
   ]
  },
  {
   "cell_type": "code",
   "execution_count": 12,
   "metadata": {},
   "outputs": [],
   "source": [
    "path_treino = './fruits-15/Training' \n",
    "path_teste = './fruits-15/Test'"
   ]
  },
  {
   "cell_type": "code",
   "execution_count": 13,
   "metadata": {},
   "outputs": [
    {
     "name": "stdout",
     "output_type": "stream",
     "text": [
      "0 - Apple Red 1\n",
      "1 - Banana\n",
      "2 - Blueberry\n",
      "3 - Cherry 2\n",
      "4 - Grape Blue\n",
      "5 - Kiwi\n",
      "6 - Lemon\n",
      "7 - Mango\n",
      "8 - Maracuja\n",
      "9 - Orange\n",
      "10 - Papaya\n",
      "11 - Pear\n",
      "12 - Pineapple\n",
      "13 - Raspberry\n",
      "14 - Strawberry\n",
      "15\n"
     ]
    }
   ],
   "source": [
    "X_frutas, Y_frutas = get_dados(path_treino, 100)\n",
    "X_train = np.asarray(X_frutas).astype(np.float32)\n",
    "Y_train = np.asarray(Y_frutas)\n",
    "X_train = X_train.astype('float32')/255\n",
    "num_frutas = len(list(set(Y_train)))\n",
    "print(num_frutas)\n",
    "Y_train = to_categorical(Y_train, num_frutas)\n",
    "\n",
    "X_train, x_val, Y_train, y_val = train_test_split(X_train, Y_train, test_size=0.2, random_state=42)"
   ]
  },
  {
   "cell_type": "code",
   "execution_count": 14,
   "metadata": {},
   "outputs": [
    {
     "name": "stdout",
     "output_type": "stream",
     "text": [
      "(None, 96, 96, 4)\n",
      "(None, 48, 48, 4)\n",
      "(None, 44, 44, 16)\n",
      "(None, 22, 22, 16)\n",
      "(None, 18, 18, 32)\n",
      "(None, 9, 9, 32)\n",
      "(None, 5, 5, 64)\n",
      "(None, 2, 2, 64)\n",
      "(None, 256)\n",
      "(None, 1024)\n",
      "(None, 256)\n",
      "(None, 60)\n",
      "(None, 15)\n",
      "Train on 6431 samples, validate on 1608 samples\n",
      "Epoch 1/50\n",
      "6431/6431 [==============================] - 10s 2ms/step - loss: 1.2239 - accuracy: 0.6027 - val_loss: 0.5763 - val_accuracy: 0.8060\n",
      "Epoch 2/50\n",
      "6431/6431 [==============================] - 7s 1ms/step - loss: 0.2236 - accuracy: 0.9409 - val_loss: 0.1784 - val_accuracy: 0.9453\n",
      "Epoch 3/50\n",
      "6431/6431 [==============================] - 7s 1ms/step - loss: 0.0925 - accuracy: 0.9787 - val_loss: 0.1995 - val_accuracy: 0.9347\n",
      "Epoch 4/50\n",
      "6431/6431 [==============================] - 7s 1ms/step - loss: 0.0697 - accuracy: 0.9818 - val_loss: 0.0985 - val_accuracy: 0.9627\n",
      "Epoch 5/50\n",
      "6431/6431 [==============================] - 7s 1ms/step - loss: 0.0394 - accuracy: 0.9913 - val_loss: 0.2257 - val_accuracy: 0.9210\n",
      "Epoch 6/50\n",
      "6431/6431 [==============================] - 7s 1ms/step - loss: 0.0309 - accuracy: 0.9933 - val_loss: 0.1220 - val_accuracy: 0.9496\n",
      "Epoch 7/50\n",
      "6431/6431 [==============================] - 8s 1ms/step - loss: 0.0431 - accuracy: 0.9871 - val_loss: 0.0775 - val_accuracy: 0.9677\n",
      "Epoch 8/50\n",
      "6431/6431 [==============================] - 8s 1ms/step - loss: 0.0246 - accuracy: 0.9939 - val_loss: 0.0477 - val_accuracy: 0.9801\n",
      "Epoch 9/50\n",
      "6431/6431 [==============================] - 8s 1ms/step - loss: 0.0399 - accuracy: 0.9883 - val_loss: 0.0756 - val_accuracy: 0.9701\n",
      "Epoch 10/50\n",
      "6431/6431 [==============================] - 8s 1ms/step - loss: 0.0332 - accuracy: 0.9913 - val_loss: 0.3417 - val_accuracy: 0.9204\n",
      "Epoch 11/50\n",
      "6431/6431 [==============================] - 8s 1ms/step - loss: 0.0204 - accuracy: 0.9947 - val_loss: 0.0034 - val_accuracy: 0.9994\n",
      "Epoch 12/50\n",
      "6431/6431 [==============================] - 8s 1ms/step - loss: 0.0044 - accuracy: 0.9997 - val_loss: 0.0313 - val_accuracy: 0.9845\n",
      "Epoch 13/50\n",
      "6431/6431 [==============================] - 8s 1ms/step - loss: 0.0024 - accuracy: 1.0000 - val_loss: 0.0116 - val_accuracy: 0.9944\n",
      "Epoch 14/50\n",
      "6431/6431 [==============================] - 8s 1ms/step - loss: 0.0710 - accuracy: 0.9789 - val_loss: 0.3596 - val_accuracy: 0.9080\n",
      "Epoch 15/50\n",
      "6431/6431 [==============================] - 8s 1ms/step - loss: 0.0457 - accuracy: 0.9869 - val_loss: 0.5219 - val_accuracy: 0.8688\n",
      "Epoch 16/50\n",
      "6431/6431 [==============================] - 8s 1ms/step - loss: 0.0717 - accuracy: 0.9799 - val_loss: 0.0658 - val_accuracy: 0.9807\n",
      "Epoch 17/50\n",
      "6431/6431 [==============================] - 8s 1ms/step - loss: 0.0509 - accuracy: 0.9854 - val_loss: 0.0538 - val_accuracy: 0.9801\n",
      "Epoch 18/50\n",
      "6431/6431 [==============================] - 8s 1ms/step - loss: 0.0058 - accuracy: 0.9994 - val_loss: 0.0189 - val_accuracy: 0.9913\n",
      "Epoch 19/50\n",
      "6431/6431 [==============================] - 8s 1ms/step - loss: 0.0105 - accuracy: 0.9978 - val_loss: 0.0481 - val_accuracy: 0.9838\n",
      "Epoch 20/50\n",
      "6431/6431 [==============================] - 8s 1ms/step - loss: 0.0056 - accuracy: 0.9989 - val_loss: 0.0328 - val_accuracy: 0.9869\n",
      "Epoch 21/50\n",
      "6431/6431 [==============================] - 8s 1ms/step - loss: 0.0108 - accuracy: 0.9975 - val_loss: 0.0011 - val_accuracy: 1.0000\n",
      "Epoch 22/50\n",
      "6431/6431 [==============================] - 8s 1ms/step - loss: 0.0489 - accuracy: 0.9874 - val_loss: 0.0144 - val_accuracy: 0.9975\n",
      "Epoch 23/50\n",
      "6431/6431 [==============================] - 8s 1ms/step - loss: 0.0150 - accuracy: 0.9967 - val_loss: 0.0051 - val_accuracy: 1.0000\n",
      "Epoch 24/50\n",
      "6431/6431 [==============================] - 8s 1ms/step - loss: 0.0145 - accuracy: 0.9953 - val_loss: 0.0410 - val_accuracy: 0.9888\n",
      "Epoch 25/50\n",
      "6431/6431 [==============================] - 8s 1ms/step - loss: 0.0060 - accuracy: 0.9986 - val_loss: 4.3964e-04 - val_accuracy: 1.0000\n",
      "Epoch 26/50\n",
      "6431/6431 [==============================] - 8s 1ms/step - loss: 0.0071 - accuracy: 0.9977 - val_loss: 0.0030 - val_accuracy: 0.9988\n",
      "Epoch 27/50\n",
      "6431/6431 [==============================] - 8s 1ms/step - loss: 0.0012 - accuracy: 1.0000 - val_loss: 0.0035 - val_accuracy: 0.9988\n",
      "Epoch 28/50\n",
      "6431/6431 [==============================] - 8s 1ms/step - loss: 0.0142 - accuracy: 0.9958 - val_loss: 0.0014 - val_accuracy: 1.0000089 - ac - ETA\n",
      "Epoch 29/50\n",
      "6431/6431 [==============================] - 8s 1ms/step - loss: 0.0390 - accuracy: 0.9897 - val_loss: 0.0162 - val_accuracy: 0.9932\n",
      "Epoch 30/50\n",
      "6431/6431 [==============================] - 8s 1ms/step - loss: 0.0067 - accuracy: 0.9984 - val_loss: 0.1395 - val_accuracy: 0.9614\n",
      "Epoch 31/50\n",
      "6431/6431 [==============================] - 8s 1ms/step - loss: 0.0024 - accuracy: 0.9998 - val_loss: 0.0498 - val_accuracy: 0.9857\n",
      "Epoch 32/50\n",
      "6431/6431 [==============================] - 8s 1ms/step - loss: 0.0077 - accuracy: 0.9980 - val_loss: 0.0148 - val_accuracy: 0.9938\n",
      "Epoch 33/50\n",
      "6431/6431 [==============================] - 8s 1ms/step - loss: 0.0072 - accuracy: 0.9972 - val_loss: 9.8802e-04 - val_accuracy: 1.0000\n",
      "Epoch 34/50\n",
      "6431/6431 [==============================] - 8s 1ms/step - loss: 0.0068 - accuracy: 0.9983 - val_loss: 0.0013 - val_accuracy: 1.0000\n",
      "Epoch 35/50\n",
      "6431/6431 [==============================] - 8s 1ms/step - loss: 0.0028 - accuracy: 0.9994 - val_loss: 0.0024 - val_accuracy: 0.9994\n",
      "Epoch 36/50\n",
      "6431/6431 [==============================] - 8s 1ms/step - loss: 0.0035 - accuracy: 0.9992 - val_loss: 0.0012 - val_accuracy: 1.0000\n",
      "Epoch 37/50\n",
      "6431/6431 [==============================] - 8s 1ms/step - loss: 0.0017 - accuracy: 0.9997 - val_loss: 1.7074e-04 - val_accuracy: 1.0000\n",
      "Epoch 38/50\n",
      "6431/6431 [==============================] - 8s 1ms/step - loss: 0.0011 - accuracy: 0.9997 - val_loss: 1.2771e-04 - val_accuracy: 1.0000\n",
      "Epoch 39/50\n",
      "6431/6431 [==============================] - 8s 1ms/step - loss: 4.7618e-04 - accuracy: 1.0000 - val_loss: 1.4999e-04 - val_accuracy: 1.0000\n",
      "Epoch 40/50\n",
      "6431/6431 [==============================] - 8s 1ms/step - loss: 0.0035 - accuracy: 0.9991 - val_loss: 1.4553e-04 - val_accuracy: 1.0000\n",
      "Epoch 41/50\n",
      "6431/6431 [==============================] - 8s 1ms/step - loss: 0.0202 - accuracy: 0.9936 - val_loss: 0.0017 - val_accuracy: 0.9994\n",
      "Epoch 42/50\n",
      "6431/6431 [==============================] - 8s 1ms/step - loss: 0.0619 - accuracy: 0.9817 - val_loss: 9.6050e-04 - val_accuracy: 1.0000\n",
      "Epoch 43/50\n",
      "6431/6431 [==============================] - 8s 1ms/step - loss: 0.0096 - accuracy: 0.9972 - val_loss: 3.1880e-04 - val_accuracy: 1.0000\n",
      "Epoch 44/50\n",
      "6431/6431 [==============================] - 8s 1ms/step - loss: 0.0024 - accuracy: 0.9997 - val_loss: 0.0012 - val_accuracy: 1.0000\n",
      "Epoch 45/50\n",
      "6431/6431 [==============================] - 8s 1ms/step - loss: 0.0221 - accuracy: 0.9935 - val_loss: 0.0019 - val_accuracy: 1.0000\n",
      "Epoch 46/50\n",
      "6431/6431 [==============================] - 8s 1ms/step - loss: 0.0174 - accuracy: 0.9952 - val_loss: 0.1343 - val_accuracy: 0.9646\n",
      "Epoch 47/50\n",
      "6431/6431 [==============================] - 8s 1ms/step - loss: 0.0205 - accuracy: 0.9935 - val_loss: 0.0226 - val_accuracy: 0.9932\n",
      "Epoch 48/50\n",
      "6431/6431 [==============================] - 8s 1ms/step - loss: 0.0103 - accuracy: 0.9977 - val_loss: 0.0024 - val_accuracy: 0.9988\n",
      "Epoch 49/50\n",
      "6431/6431 [==============================] - 8s 1ms/step - loss: 0.0131 - accuracy: 0.9960 - val_loss: 0.0153 - val_accuracy: 0.9944\n",
      "Epoch 50/50\n",
      "6431/6431 [==============================] - 8s 1ms/step - loss: 0.0010 - accuracy: 1.0000 - val_loss: 1.1987e-04 - val_accuracy: 1.0000\n",
      "Erro da CNN: 0.00%\n",
      "Acurácia da CNN: 100.00%\n"
     ]
    },
    {
     "data": {
      "image/png": "[encoded data removed]",
      "text/plain": [
       "<Figure size 864x360 with 2 Axes>"
      ]
     },
     "metadata": {
      "needs_background": "light"
     },
     "output_type": "display_data"
    }
   ],
   "source": [
    "model = CNN_PaperOriginal(num_frutas,100,3)\n",
    "#plot_model(model, show_shapes=True, show_layer_names=True)\n",
    "model.compile(loss='categorical_crossentropy', optimizer='adam', metrics=['accuracy'])\n",
    "checkpoint = ModelCheckpoint(filepath='./modelo_cnn_8.hdf5', verbose=0,  save_best_only=True, monitor='val_accuracy')\n",
    "history = model.fit(X_train, Y_train, validation_data = (x_val, y_val), epochs=50, batch_size=60, callbacks=[checkpoint])\n",
    "plot_history(history)\n",
    "scores = model.evaluate(X_train, Y_train, verbose=0)\n",
    "print(\"Erro da CNN: %.2f%%\" % (100-scores[1]*100))\n",
    "print(\"Acurácia da CNN: %.2f%%\" % (scores[1]*100))\n",
    "X_train = None\n",
    "Y_train = None\n",
    "x_val = None\n",
    "y_val = None"
   ]
  },
  {
   "cell_type": "markdown",
   "metadata": {},
   "source": [
    "# Gray Scale"
   ]
  },
  {
   "cell_type": "code",
   "execution_count": 16,
   "metadata": {},
   "outputs": [
    {
     "name": "stdout",
     "output_type": "stream",
     "text": [
      "0 - Apple Red 1\n",
      "1 - Banana\n",
      "2 - Blueberry\n",
      "3 - Cherry 2\n",
      "4 - Grape Blue\n",
      "5 - Kiwi\n",
      "6 - Lemon\n",
      "7 - Mango\n",
      "8 - Maracuja\n",
      "9 - Orange\n",
      "10 - Papaya\n",
      "11 - Pear\n",
      "12 - Pineapple\n",
      "13 - Raspberry\n",
      "14 - Strawberry\n",
      "15\n"
     ]
    }
   ],
   "source": [
    "X_frutas, Y_frutas = get_dados_grayscale(path_treino, 28)\n",
    "X_train_grayscale = np.asarray(X_frutas).astype(np.float32)\n",
    "Y_train_grayscale = np.asarray(Y_frutas)\n",
    "X_train_grayscale = X_train_grayscale.astype('float32')/255\n",
    "num_frutas = len(list(set(Y_train_grayscale)))\n",
    "print(num_frutas)\n",
    "Y_train_grayscale = to_categorical(Y_train_grayscale, num_frutas)\n",
    "\n",
    "X_train_grayscale, x_val_grayscale, Y_train_grayscale, y_val_grayscale = train_test_split(X_train_grayscale, Y_train_grayscale, test_size=0.2, random_state=42)"
   ]
  },
  {
   "cell_type": "code",
   "execution_count": 17,
   "metadata": {},
   "outputs": [
    {
     "name": "stdout",
     "output_type": "stream",
     "text": [
      "(None, 24, 24, 6)\n",
      "(None, 12, 12, 6)\n",
      "(None, 8, 8, 16)\n",
      "(None, 4, 4, 16)\n",
      "(None, 256)\n",
      "(None, 240)\n",
      "(None, 120)\n",
      "(None, 15)\n",
      "Train on 6431 samples, validate on 1608 samples\n",
      "Epoch 1/50\n",
      "6431/6431 [==============================] - 2s 249us/step - loss: 1.6327 - accuracy: 0.4618 - val_loss: 0.7734 - val_accuracy: 0.7351\n",
      "Epoch 2/50\n",
      "6431/6431 [==============================] - 1s 139us/step - loss: 0.7889 - accuracy: 0.7165 - val_loss: 0.4344 - val_accuracy: 0.8750\n",
      "Epoch 3/50\n",
      "6431/6431 [==============================] - 1s 136us/step - loss: 0.5561 - accuracy: 0.7983 - val_loss: 0.3305 - val_accuracy: 0.8856\n",
      "Epoch 4/50\n",
      "6431/6431 [==============================] - 1s 147us/step - loss: 0.4317 - accuracy: 0.8498 - val_loss: 0.1987 - val_accuracy: 0.9565\n",
      "Epoch 5/50\n",
      "6431/6431 [==============================] - 1s 136us/step - loss: 0.3414 - accuracy: 0.8857 - val_loss: 0.1281 - val_accuracy: 0.9801\n",
      "Epoch 6/50\n",
      "6431/6431 [==============================] - 1s 142us/step - loss: 0.2672 - accuracy: 0.9120 - val_loss: 0.1010 - val_accuracy: 0.9813\n",
      "Epoch 7/50\n",
      "6431/6431 [==============================] - 1s 141us/step - loss: 0.2371 - accuracy: 0.9201 - val_loss: 0.0769 - val_accuracy: 0.9869\n",
      "Epoch 8/50\n",
      "6431/6431 [==============================] - 1s 145us/step - loss: 0.2021 - accuracy: 0.9320 - val_loss: 0.0665 - val_accuracy: 0.9851\n",
      "Epoch 9/50\n",
      "6431/6431 [==============================] - 1s 148us/step - loss: 0.1633 - accuracy: 0.9471 - val_loss: 0.0660 - val_accuracy: 0.9820\n",
      "Epoch 10/50\n",
      "6431/6431 [==============================] - 1s 143us/step - loss: 0.1432 - accuracy: 0.9568 - val_loss: 0.0401 - val_accuracy: 0.9919\n",
      "Epoch 11/50\n",
      "6431/6431 [==============================] - 1s 155us/step - loss: 0.1251 - accuracy: 0.9608 - val_loss: 0.0351 - val_accuracy: 0.9913\n",
      "Epoch 12/50\n",
      "6431/6431 [==============================] - 1s 150us/step - loss: 0.1098 - accuracy: 0.9649 - val_loss: 0.0404 - val_accuracy: 0.9869\n",
      "Epoch 13/50\n",
      "6431/6431 [==============================] - 1s 143us/step - loss: 0.1059 - accuracy: 0.9669 - val_loss: 0.0350 - val_accuracy: 0.9882\n",
      "Epoch 14/50\n",
      "6431/6431 [==============================] - 1s 139us/step - loss: 0.0914 - accuracy: 0.9719 - val_loss: 0.0230 - val_accuracy: 0.9950\n",
      "Epoch 15/50\n",
      "6431/6431 [==============================] - 1s 139us/step - loss: 0.0773 - accuracy: 0.9775 - val_loss: 0.0178 - val_accuracy: 0.9963\n",
      "Epoch 16/50\n",
      "6431/6431 [==============================] - 1s 149us/step - loss: 0.0722 - accuracy: 0.9782 - val_loss: 0.0128 - val_accuracy: 0.9988\n",
      "Epoch 17/50\n",
      "6431/6431 [==============================] - 1s 140us/step - loss: 0.0681 - accuracy: 0.9798 - val_loss: 0.0163 - val_accuracy: 0.9944\n",
      "Epoch 18/50\n",
      "6431/6431 [==============================] - 1s 148us/step - loss: 0.0800 - accuracy: 0.9756 - val_loss: 0.0235 - val_accuracy: 0.9938\n",
      "Epoch 19/50\n",
      "6431/6431 [==============================] - 1s 146us/step - loss: 0.0587 - accuracy: 0.9810 - val_loss: 0.0109 - val_accuracy: 0.9963\n",
      "Epoch 20/50\n",
      "6431/6431 [==============================] - 1s 139us/step - loss: 0.0529 - accuracy: 0.9841 - val_loss: 0.0116 - val_accuracy: 0.9975\n",
      "Epoch 21/50\n",
      "6431/6431 [==============================] - 1s 150us/step - loss: 0.0422 - accuracy: 0.9877 - val_loss: 0.0051 - val_accuracy: 0.9994\n",
      "Epoch 22/50\n",
      "6431/6431 [==============================] - 1s 146us/step - loss: 0.0411 - accuracy: 0.9876 - val_loss: 0.0033 - val_accuracy: 1.0000\n",
      "Epoch 23/50\n",
      "6431/6431 [==============================] - 1s 138us/step - loss: 0.0473 - accuracy: 0.9865 - val_loss: 0.0098 - val_accuracy: 0.9988\n",
      "Epoch 24/50\n",
      "6431/6431 [==============================] - 1s 138us/step - loss: 0.0552 - accuracy: 0.9803 - val_loss: 0.0052 - val_accuracy: 1.0000\n",
      "Epoch 25/50\n",
      "6431/6431 [==============================] - 1s 139us/step - loss: 0.0324 - accuracy: 0.9905 - val_loss: 0.0025 - val_accuracy: 0.9994\n",
      "Epoch 26/50\n",
      "6431/6431 [==============================] - 1s 141us/step - loss: 0.0330 - accuracy: 0.9908 - val_loss: 0.0026 - val_accuracy: 0.9994\n",
      "Epoch 27/50\n",
      "6431/6431 [==============================] - 1s 141us/step - loss: 0.0413 - accuracy: 0.9874 - val_loss: 0.0034 - val_accuracy: 0.9994\n",
      "Epoch 28/50\n",
      "6431/6431 [==============================] - 1s 149us/step - loss: 0.0319 - accuracy: 0.9910 - val_loss: 0.0032 - val_accuracy: 0.9994\n",
      "Epoch 29/50\n",
      "6431/6431 [==============================] - 1s 148us/step - loss: 0.0341 - accuracy: 0.9908 - val_loss: 0.0039 - val_accuracy: 0.9994\n",
      "Epoch 30/50\n",
      "6431/6431 [==============================] - 1s 149us/step - loss: 0.0363 - accuracy: 0.9876 - val_loss: 0.0025 - val_accuracy: 0.9994\n",
      "Epoch 31/50\n",
      "6431/6431 [==============================] - 1s 142us/step - loss: 0.0313 - accuracy: 0.9899 - val_loss: 0.0051 - val_accuracy: 0.9988\n",
      "Epoch 32/50\n",
      "6431/6431 [==============================] - 1s 140us/step - loss: 0.0265 - accuracy: 0.9919 - val_loss: 0.0020 - val_accuracy: 0.9994\n",
      "Epoch 33/50\n",
      "6431/6431 [==============================] - 1s 142us/step - loss: 0.0279 - accuracy: 0.9922 - val_loss: 0.0022 - val_accuracy: 0.9994\n",
      "Epoch 34/50\n",
      "6431/6431 [==============================] - 1s 140us/step - loss: 0.0287 - accuracy: 0.9899 - val_loss: 0.0025 - val_accuracy: 0.9994\n",
      "Epoch 35/50\n",
      "6431/6431 [==============================] - 1s 143us/step - loss: 0.0228 - accuracy: 0.9947 - val_loss: 0.0073 - val_accuracy: 0.9975\n",
      "Epoch 36/50\n",
      "6431/6431 [==============================] - 1s 157us/step - loss: 0.0225 - accuracy: 0.9939 - val_loss: 0.0010 - val_accuracy: 1.0000\n",
      "Epoch 37/50\n",
      "6431/6431 [==============================] - 1s 143us/step - loss: 0.0229 - accuracy: 0.9925 - val_loss: 0.0079 - val_accuracy: 0.9969\n",
      "Epoch 38/50\n",
      "6431/6431 [==============================] - 1s 142us/step - loss: 0.0237 - accuracy: 0.9927 - val_loss: 6.3881e-04 - val_accuracy: 1.0000\n",
      "Epoch 39/50\n",
      "6431/6431 [==============================] - 1s 142us/step - loss: 0.0158 - accuracy: 0.9958 - val_loss: 9.0325e-04 - val_accuracy: 1.0000\n",
      "Epoch 40/50\n",
      "6431/6431 [==============================] - 1s 142us/step - loss: 0.0219 - accuracy: 0.9924 - val_loss: 0.0010 - val_accuracy: 0.9994\n",
      "Epoch 41/50\n",
      "6431/6431 [==============================] - 1s 142us/step - loss: 0.0200 - accuracy: 0.9942 - val_loss: 7.6504e-04 - val_accuracy: 1.0000\n",
      "Epoch 42/50\n",
      "6431/6431 [==============================] - 1s 145us/step - loss: 0.0159 - accuracy: 0.9952 - val_loss: 6.4448e-04 - val_accuracy: 1.0000\n",
      "Epoch 43/50\n",
      "6431/6431 [==============================] - 1s 161us/step - loss: 0.0165 - accuracy: 0.9950 - val_loss: 4.8210e-04 - val_accuracy: 1.0000\n",
      "Epoch 44/50\n",
      "6431/6431 [==============================] - 1s 152us/step - loss: 0.0354 - accuracy: 0.9879 - val_loss: 4.4059e-04 - val_accuracy: 1.0000\n",
      "Epoch 45/50\n",
      "6431/6431 [==============================] - 1s 150us/step - loss: 0.0185 - accuracy: 0.9944 - val_loss: 5.9745e-04 - val_accuracy: 1.0000\n",
      "Epoch 46/50\n",
      "6431/6431 [==============================] - 1s 160us/step - loss: 0.0169 - accuracy: 0.9946 - val_loss: 3.2099e-04 - val_accuracy: 1.0000\n",
      "Epoch 47/50\n",
      "6431/6431 [==============================] - 1s 142us/step - loss: 0.0163 - accuracy: 0.9941 - val_loss: 0.0045 - val_accuracy: 0.9988\n",
      "Epoch 48/50\n",
      "6431/6431 [==============================] - 1s 142us/step - loss: 0.0193 - accuracy: 0.9938 - val_loss: 7.9997e-04 - val_accuracy: 1.0000\n",
      "Epoch 49/50\n",
      "6431/6431 [==============================] - 1s 145us/step - loss: 0.0186 - accuracy: 0.9938 - val_loss: 4.1539e-04 - val_accuracy: 1.0000\n",
      "Epoch 50/50\n",
      "6431/6431 [==============================] - 1s 147us/step - loss: 0.0160 - accuracy: 0.9956 - val_loss: 3.0104e-04 - val_accuracy: 1.0000\n",
      "Erro da CNN: 0.00%\n",
      "Acurácia da CNN: 100.00%\n"
     ]
    },
    {
     "data": {
      "image/png": "[encoded data removed]",
      "text/plain": [
       "<Figure size 864x360 with 2 Axes>"
      ]
     },
     "metadata": {
      "needs_background": "light"
     },
     "output_type": "display_data"
    }
   ],
   "source": [
    "model = CNN_LeNet5(num_frutas,28,1)\n",
    "#plot_model(model, show_shapes=True, show_layer_names=True)\n",
    "model.compile(loss='categorical_crossentropy', optimizer='adam', metrics=['accuracy'])\n",
    "checkpoint = ModelCheckpoint(filepath='./modelo_cnn_LeNet_8.hdf5', verbose=0,  save_best_only=True, monitor='val_accuracy')\n",
    "history = model.fit(X_train_grayscale, Y_train_grayscale, validation_data = (x_val_grayscale, y_val_grayscale), epochs=50, batch_size=60, callbacks=[checkpoint])\n",
    "plot_history(history)\n",
    "scores = model.evaluate(X_train_grayscale, Y_train_grayscale, verbose=0)\n",
    "print(\"Erro da CNN: %.2f%%\" % (100-scores[1]*100))\n",
    "print(\"Acurácia da CNN: %.2f%%\" % (scores[1]*100))\n",
    "X_train_grayscale = None\n",
    "Y_train_grayscale = None\n",
    "x_val_grayscale = None\n",
    "y_val_grayscale = None"
   ]
  },
  {
   "cell_type": "markdown",
   "metadata": {},
   "source": [
    "# HSV_GrayScale"
   ]
  },
  {
   "cell_type": "code",
   "execution_count": 19,
   "metadata": {},
   "outputs": [],
   "source": [
    "X_frutas, Y_frutas = get_dados_hsv_grayscale(path_treino, 100)\n",
    "X_train_hsv_grayscale = np.asarray(X_frutas).astype(np.float32)\n",
    "Y_train_hsv_grayscale = np.asarray(Y_frutas)\n",
    "X_train_hsv_grayscale = X_train_hsv_grayscale.astype('float32')/255\n",
    "num_frutas = len(list(set(Y_train_hsv_grayscale)))\n",
    "print(num_frutas)\n",
    "Y_train_hsv_grayscale = to_categorical(Y_train_hsv_grayscale, num_frutas)\n",
    "\n",
    "X_train_hsv_grayscale, x_val_hsv_grayscale, Y_train_hsv_grayscale, y_val_hsv_grayscale = train_test_split(X_train_hsv_grayscale, Y_train_hsv_grayscale, test_size=0.2, random_state=42)"
   ]
  },
  {
   "cell_type": "code",
   "execution_count": 20,
   "metadata": {},
   "outputs": [],
   "source": [
    "model = CNN_AlexNet(num_frutas,100,4)\n",
    "plot_model(model, show_shapes=True, show_layer_names=True)\n",
    "model.compile(loss='categorical_crossentropy', optimizer='adam', metrics=['accuracy'])\n",
    "checkpoint = ModelCheckpoint(filepath='./modelo_cnn_AlexNet_8.hdf5', verbose=0,  save_best_only=True, monitor='val_accuracy')\n",
    "history = model.fit(X_train_hsv_grayscale, Y_train_hsv_grayscale, validation_data = (x_val_hsv_grayscale, y_val_hsv_grayscale), epochs=50, batch_size=60, callbacks=[checkpoint])\n",
    "plot_history(history)\n",
    "scores = model.evaluate(X_train_grayscale, Y_train_grayscale, verbose=0)\n",
    "print(\"Erro da CNN: %.2f%%\" % (100-scores[1]*100))\n",
    "print(\"Acurácia da CNN: %.2f%%\" % (scores[1]*100))\n",
    "X_train_hsv_grayscale = None\n",
    "Y_train_hsv_grayscale = None\n",
    "x_val_hsv_grayscale = None\n",
    "y_val_hsv_grayscale = None"
   ]
  },
  {
   "cell_type": "markdown",
   "metadata": {},
   "source": [
    "# Teste"
   ]
  },
  {
   "cell_type": "code",
   "execution_count": null,
   "metadata": {},
   "outputs": [],
   "source": [
    "X_frutas, Y_frutas = get_dados(path_teste, 100)\n",
    "X_test = np.asarray(X_frutas).astype(np.float32)\n",
    "Y_test = np.asarray(Y_frutas)\n",
    "X_test = X_test.astype('float32')/255\n",
    "Y_test = to_categorical(Y_test, num_frutas)\n",
    "model = load_model('./modelo_cnn_8.hdf5')\n",
    "scores = model.evaluate(X_test, Y_test, verbose=0)\n",
    "print(\"Erro da CNN: %.2f%%\" % (100-scores[1]*100))\n",
    "print(\"Acurária da CNN: %.2f%%\" % (scores[1]*100))"
   ]
  },
  {
   "cell_type": "code",
   "execution_count": null,
   "metadata": {},
   "outputs": [],
   "source": [
    "X_frutas, Y_frutas = get_dados_grayscale(path_teste, 28)\n",
    "X_test_grayscale = np.asarray(X_frutas).astype(np.float32)\n",
    "Y_test_grayscale = np.asarray(Y_frutas)\n",
    "X_test_grayscale = X_test_grayscale.astype('float32')/255\n",
    "Y_test_grayscale = to_categorical(Y_test_grayscale, num_frutas)\n",
    "model = load_model('./modelo_cnn_LeNet_8.hdf5')\n",
    "scores = model.evaluate(X_test_grayscale, Y_test_grayscale, verbose=0)\n",
    "print(\"Erro da CNN: %.2f%%\" % (100-scores[1]*100))\n",
    "print(\"Acurária da CNN: %.2f%%\" % (scores[1]*100))"
   ]
  },
  {
   "cell_type": "code",
   "execution_count": 21,
   "metadata": {
    "tags": []
   },
   "outputs": [],
   "source": [
    "X_frutas, Y_frutas = get_dados_hsv_grayscale(path_teste, 28)\n",
    "X_test_hsv_grayscale = np.asarray(X_frutas).astype(np.float32)\n",
    "Y_test_hsv_grayscale = np.asarray(Y_frutas)\n",
    "X_test_hsv_grayscale = X_test_hsv_grayscale.astype('float32')/255\n",
    "Y_test_hsv_grayscale = to_categorical(Y_test_hsv_grayscale, num_frutas)\n",
    "model = load_model('./modelo_cnn_AlexNet_8_1.hdf5')\n",
    "scores = model.evaluate(X_test_hsv_grayscale, Y_test_hsv_grayscale, verbose=0)\n",
    "print(\"Erro da CNN: %.2f%%\" % (100-scores[1]*100))\n",
    "print(\"Acurária da CNN: %.2f%%\" % (scores[1]*100))"
   ]
  },
  {
   "cell_type": "code",
   "execution_count": 22,
   "metadata": {},
   "outputs": [
    {
     "name": "stdout",
     "output_type": "stream",
     "text": [
      "Fim Execução : \n",
      "2021-07-20 00:06:44\n"
     ]
    }
   ],
   "source": [
    "print (\"Fim Execução : \")\n",
    "print (datetime.now().strftime(\"%Y-%m-%d %H:%M:%S\"))"
   ]
  }
 ],
 "metadata": {
  "kernelspec": {
   "display_name": "Python 3",
   "language": "python",
   "name": "python3"
  },
  "language_info": {
   "codemirror_mode": {
    "name": "ipython",
    "version": 3
   },
   "file_extension": ".py",
   "mimetype": "text/x-python",
   "name": "python",
   "nbconvert_exporter": "python",
   "pygments_lexer": "ipython3",
   "version": "3.7.10"
  }
 },
 "nbformat": 4,
 "nbformat_minor": 4
}
