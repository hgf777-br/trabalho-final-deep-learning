{
 "cells": [
  {
   "cell_type": "markdown",
   "metadata": {},
   "source": [
    "## Bibliotecas Utilizadas"
   ]
  },
  {
   "cell_type": "code",
   "execution_count": 3,
   "metadata": {},
   "outputs": [],
   "source": [
    "import os\n",
    "import pandas as pd\n",
    "import numpy as np\n",
    "import matplotlib.pyplot as plt\n",
    "import tensorflow as tf\n",
    "\n",
    "from sklearn.model_selection import train_test_split\n",
    "from tensorflow.keras.utils import to_categorical\n",
    "from keras.models import Sequential, load_model\n",
    "from keras.layers import Dense\n",
    "from keras.layers import Dropout\n",
    "from keras.layers import Flatten\n",
    "from keras.layers.convolutional import Conv2D\n",
    "from keras.layers.convolutional import MaxPooling2D, AveragePooling2D\n",
    "from keras.utils import np_utils\n",
    "from keras.callbacks import ModelCheckpoint\n",
    "from keras.utils.vis_utils import plot_model\n",
    "from keras import backend as K\n",
    "from keras.preprocessing.image import img_to_array, load_img\n",
    "from datetime import datetime, time"
   ]
  },
  {
   "cell_type": "code",
   "execution_count": 4,
   "metadata": {},
   "outputs": [
    {
     "name": "stdout",
     "output_type": "stream",
     "text": [
      "Início Execução : \n",
      "2021-07-21 23:34:11\n"
     ]
    }
   ],
   "source": [
    "print (\"Início Execução : \")\n",
    "print (datetime.now().strftime(\"%Y-%m-%d %H:%M:%S\"))"
   ]
  },
  {
   "cell_type": "markdown",
   "metadata": {},
   "source": [
    "# Funções"
   ]
  },
  {
   "cell_type": "code",
   "execution_count": 30,
   "metadata": {},
   "outputs": [],
   "source": [
    "def get_dados(path, df):\n",
    "    X = []\n",
    "    Y = []\n",
    "    for index, row in df.iterrows():\n",
    "            arquivo = '{0}/{1}'.format(path, row[\"X_ray_image_name\"])\n",
    "            Xray = img_to_array(load_img(arquivo, target_size=(28, 28)))\n",
    "            X.append(Xray)\n",
    "            Y.append(row[\"Label\"])\n",
    "    return (X, Y)"
   ]
  },
  {
   "cell_type": "code",
   "execution_count": 6,
   "metadata": {},
   "outputs": [],
   "source": [
    "def plot_history(history):\n",
    "    acc = history.history['accuracy']\n",
    "    val_acc = history.history['val_accuracy']\n",
    "    loss = history.history['loss']\n",
    "    val_loss = history.history['val_loss']\n",
    "    x = range(1, len(acc) + 1)\n",
    "    plt.figure(figsize=(12, 5))\n",
    "    plt.subplot(1, 2, 1)\n",
    "    plt.plot(x, acc, 'b', label='Training Accuracy')\n",
    "    plt.plot(x, val_acc, 'r', label='Validation Accuracy')\n",
    "    plt.title('Training and validation Accuracy')\n",
    "    plt.subplot(1, 2, 2)\n",
    "    plt.plot(x, loss, 'b', label='Training loss')\n",
    "    plt.plot(x, val_loss, 'r', label='Validation loss')\n",
    "    plt.title('Training and validation loss')\n",
    "    plt.legend()"
   ]
  },
  {
   "cell_type": "code",
   "execution_count": 7,
   "metadata": {},
   "outputs": [],
   "source": [
    "def CNN_PaperOriginal(num_frutas, size, camadas):\n",
    "    # Cria o modelo\n",
    "    model = Sequential()\n",
    "    \n",
    "    #Convolução 2D com função de ativação Rectified Linear Units 32 kernels/Pesos (filtros) \n",
    "    model.add(Conv2D(4, (5, 5), input_shape=(size, size, camadas), activation='relu'))#\n",
    "    print( model.output_shape)\n",
    "    #Camada de Pooling \t    \n",
    "    model.add(MaxPooling2D(pool_size=(2, 2)))\n",
    "    print(model.output_shape)\n",
    "    \n",
    "    model.add(Dropout(0.2))\n",
    "\n",
    "    model.add(Conv2D(16, (5, 5), activation='relu'))#\n",
    "    print(model.output_shape)\n",
    "    #Camada de Pooling \t    \n",
    "    model.add(MaxPooling2D(pool_size=(2, 2)))\n",
    "    print(model.output_shape)\n",
    "    \n",
    "    model.add(Dropout(0.2))\n",
    "    \n",
    "    model.add(Conv2D(32, (5, 5), activation='relu'))#\n",
    "    print(model.output_shape)\n",
    "    #Camada de Pooling \t    \n",
    "    model.add(MaxPooling2D(pool_size=(2, 2)))\n",
    "    print(model.output_shape)\n",
    "    \n",
    "    model.add(Dropout(0.2))\n",
    "    \n",
    "    model.add(Conv2D(64, (5, 5), activation='relu'))#\n",
    "    print(model.output_shape)\n",
    "    #Camada de Pooling \t    \n",
    "    model.add(MaxPooling2D(pool_size=(2, 2)))\n",
    "    print(model.output_shape)\n",
    "    \n",
    "    model.add(Dropout(0.2))\n",
    "    \n",
    "    #Converte o conjunto de imagens e um vetor unidimensional para a entrada da rede neural totalmente conectada\n",
    "    model.add(Flatten())\n",
    "    print(model.output_shape)\n",
    "    model.add(Dense(1024, activation='tanh'))\n",
    "    print(model.output_shape)\n",
    "    model.add(Dropout(0.2))\n",
    "    model.add(Dense(256, activation='tanh'))\n",
    "    print(model.output_shape)\n",
    "    model.add(Dropout(0.2))\n",
    "    model.add(Dense(60, activation='tanh'))\n",
    "    print(model.output_shape)\n",
    "    model.add(Dropout(0.2))\n",
    "    #Função de Ativação Softmax\n",
    "    model.add(Dense(num_frutas, activation='softmax'))\n",
    "    print(model.output_shape)\n",
    "    return model"
   ]
  },
  {
   "cell_type": "code",
   "execution_count": 8,
   "metadata": {},
   "outputs": [],
   "source": [
    "def CNN_LeNet5(num_frutas,size, camadas):\n",
    "    # Cria o modelo\n",
    "    model = Sequential()\n",
    "    #Convolução 2D com função de ativação Rectified Linear Units 32 kernels/Pesos (filtros) \n",
    "    model.add(Conv2D(6, (5, 5), input_shape=(size, size, camadas), activation='relu'))#\n",
    "    print( model.output_shape)\n",
    "    #Camada de Pooling \t    \n",
    "    model.add(AveragePooling2D(pool_size=(2, 2)))\n",
    "    print( model.output_shape)\n",
    "    \n",
    "    model.add(Dropout(0.2))\n",
    "\n",
    "    model.add(Conv2D(16, (5, 5), activation='relu'))#\n",
    "    print( model.output_shape)\n",
    "    #Camada de Pooling \t    \n",
    "    model.add(AveragePooling2D(pool_size=(2, 2)))\n",
    "    print( model.output_shape)\n",
    "    \n",
    "    model.add(Dropout(0.2))\n",
    "\n",
    "    #Converte o conjunto de imagens e um vetor unidimensional para a entrada da rede neural totalmente conectada\n",
    "    model.add(Flatten())\n",
    "    print(model.output_shape)\n",
    "    model.add(Dense(240, activation='tanh'))\n",
    "    print(model.output_shape)\n",
    "    model.add(Dropout(0.2))    \n",
    "    model.add(Dense(120, activation='tanh'))\n",
    "    print(model.output_shape)\n",
    "    model.add(Dropout(0.2))    \n",
    "    #Função de Ativação Softmax\n",
    "    model.add(Dense(num_frutas, activation='softmax'))\n",
    "    print(model.output_shape)\n",
    "    return model"
   ]
  },
  {
   "cell_type": "code",
   "execution_count": 9,
   "metadata": {},
   "outputs": [],
   "source": [
    "def CNN_AlexNet(num_frutas,size,camadas):\n",
    "    # Cria o modelo\n",
    "    model = Sequential()\n",
    "    #Convolução 2D com função de ativação Rectified Linear Units 32 kernels/Pesos (filtros) \n",
    "    model.add(Conv2D(96, (11, 11), input_shape=(size, size, camadas), activation='relu'))#\n",
    "    print(model.output_shape)\n",
    "    #Camada de Pooling \t    \n",
    "    model.add(MaxPooling2D(pool_size=(3, 3)))\n",
    "    print(model.output_shape)\n",
    "    \n",
    "    model.add(Dropout(0.2))\n",
    "\n",
    "    model.add(Conv2D(256, (5, 5), activation='relu'))#\n",
    "    print(model.output_shape)\n",
    "    #Camada de Pooling \t    \n",
    "    model.add(MaxPooling2D(pool_size=(3, 3)))\n",
    "    print(model.output_shape)\n",
    "    \n",
    "    model.add(Dropout(0.2))\n",
    "\n",
    "    model.add(Conv2D(384, (3, 3), activation='relu'))#\n",
    "    print(model.output_shape)\n",
    "    model.add(Dropout(0.2))\n",
    "\n",
    "    model.add(Conv2D(384, (3, 3), activation='relu'))#\n",
    "    print(model.output_shape)\n",
    "    model.add(Dropout(0.2))\n",
    "\n",
    "    model.add(Conv2D(256, (3, 3), activation='relu'))#\n",
    "    print(model.output_shape)\n",
    "    model.add(Dropout(0.2))\n",
    "\n",
    "    #Converte o conjunto de imagens e um vetor unidimensional para a entrada da rede neural totalmente conectada\n",
    "    model.add(Flatten())\n",
    "    print(model.output_shape)\n",
    "    model.add(Dense(512, activation='relu'))\n",
    "    print(model.output_shape)\n",
    "    model.add(Dropout(0.2))\n",
    "    model.add(Dense(256, activation='relu'))\n",
    "    print(model.output_shape)\n",
    "    model.add(Dropout(0.2))\n",
    "    #Função de Ativação Softmax\n",
    "    model.add(Dense(num_frutas, activation='softmax'))\n",
    "    print(model.output_shape)\n",
    "    return model"
   ]
  },
  {
   "cell_type": "markdown",
   "metadata": {},
   "source": [
    "# Rodando Algoritmos"
   ]
  },
  {
   "cell_type": "code",
   "execution_count": 10,
   "metadata": {},
   "outputs": [],
   "source": [
    "path_treino = './X-Rays/train' \n",
    "path_teste = './X-Rays/test'"
   ]
  },
  {
   "cell_type": "code",
   "execution_count": 11,
   "metadata": {},
   "outputs": [
    {
     "data": {
      "text/html": [
       "<div>\n",
       "<style scoped>\n",
       "    .dataframe tbody tr th:only-of-type {\n",
       "        vertical-align: middle;\n",
       "    }\n",
       "\n",
       "    .dataframe tbody tr th {\n",
       "        vertical-align: top;\n",
       "    }\n",
       "\n",
       "    .dataframe thead th {\n",
       "        text-align: right;\n",
       "    }\n",
       "</style>\n",
       "<table border=\"1\" class=\"dataframe\">\n",
       "  <thead>\n",
       "    <tr style=\"text-align: right;\">\n",
       "      <th></th>\n",
       "      <th>Unnamed: 0</th>\n",
       "      <th>X_ray_image_name</th>\n",
       "      <th>Label</th>\n",
       "      <th>Dataset_type</th>\n",
       "      <th>Label_2_Virus_category</th>\n",
       "      <th>Label_1_Virus_category</th>\n",
       "    </tr>\n",
       "  </thead>\n",
       "  <tbody>\n",
       "    <tr>\n",
       "      <th>0</th>\n",
       "      <td>0</td>\n",
       "      <td>IM-0128-0001.jpeg</td>\n",
       "      <td>Normal</td>\n",
       "      <td>TRAIN</td>\n",
       "      <td>NaN</td>\n",
       "      <td>NaN</td>\n",
       "    </tr>\n",
       "    <tr>\n",
       "      <th>1</th>\n",
       "      <td>1</td>\n",
       "      <td>IM-0127-0001.jpeg</td>\n",
       "      <td>Normal</td>\n",
       "      <td>TRAIN</td>\n",
       "      <td>NaN</td>\n",
       "      <td>NaN</td>\n",
       "    </tr>\n",
       "    <tr>\n",
       "      <th>2</th>\n",
       "      <td>2</td>\n",
       "      <td>IM-0125-0001.jpeg</td>\n",
       "      <td>Normal</td>\n",
       "      <td>TRAIN</td>\n",
       "      <td>NaN</td>\n",
       "      <td>NaN</td>\n",
       "    </tr>\n",
       "    <tr>\n",
       "      <th>3</th>\n",
       "      <td>3</td>\n",
       "      <td>IM-0122-0001.jpeg</td>\n",
       "      <td>Normal</td>\n",
       "      <td>TRAIN</td>\n",
       "      <td>NaN</td>\n",
       "      <td>NaN</td>\n",
       "    </tr>\n",
       "    <tr>\n",
       "      <th>4</th>\n",
       "      <td>4</td>\n",
       "      <td>IM-0119-0001.jpeg</td>\n",
       "      <td>Normal</td>\n",
       "      <td>TRAIN</td>\n",
       "      <td>NaN</td>\n",
       "      <td>NaN</td>\n",
       "    </tr>\n",
       "  </tbody>\n",
       "</table>\n",
       "</div>"
      ],
      "text/plain": [
       "   Unnamed: 0   X_ray_image_name   Label Dataset_type Label_2_Virus_category  \\\n",
       "0           0  IM-0128-0001.jpeg  Normal        TRAIN                    NaN   \n",
       "1           1  IM-0127-0001.jpeg  Normal        TRAIN                    NaN   \n",
       "2           2  IM-0125-0001.jpeg  Normal        TRAIN                    NaN   \n",
       "3           3  IM-0122-0001.jpeg  Normal        TRAIN                    NaN   \n",
       "4           4  IM-0119-0001.jpeg  Normal        TRAIN                    NaN   \n",
       "\n",
       "  Label_1_Virus_category  \n",
       "0                    NaN  \n",
       "1                    NaN  \n",
       "2                    NaN  \n",
       "3                    NaN  \n",
       "4                    NaN  "
      ]
     },
     "execution_count": 11,
     "metadata": {},
     "output_type": "execute_result"
    }
   ],
   "source": [
    "XRay = pd.read_csv('./X-Rays/Chest_xray_Corona_Metadata.csv')\n",
    "XRay.head()"
   ]
  },
  {
   "cell_type": "code",
   "execution_count": 12,
   "metadata": {},
   "outputs": [],
   "source": [
    "XRayTreino = XRay[XRay[\"Dataset_type\"]=='TRAIN']\n",
    "XRayTest = XRay[XRay[\"Dataset_type\"]=='TEST']"
   ]
  },
  {
   "cell_type": "code",
   "execution_count": 13,
   "metadata": {},
   "outputs": [
    {
     "data": {
      "text/plain": [
       "35460"
      ]
     },
     "execution_count": 13,
     "metadata": {},
     "output_type": "execute_result"
    }
   ],
   "source": [
    "XRay.size"
   ]
  },
  {
   "cell_type": "code",
   "execution_count": 14,
   "metadata": {},
   "outputs": [
    {
     "data": {
      "text/plain": [
       "31716"
      ]
     },
     "execution_count": 14,
     "metadata": {},
     "output_type": "execute_result"
    }
   ],
   "source": [
    "XRayTreino.size"
   ]
  },
  {
   "cell_type": "code",
   "execution_count": 15,
   "metadata": {},
   "outputs": [
    {
     "data": {
      "text/plain": [
       "3744"
      ]
     },
     "execution_count": 15,
     "metadata": {},
     "output_type": "execute_result"
    }
   ],
   "source": [
    "XRayTest.size"
   ]
  },
  {
   "cell_type": "code",
   "execution_count": 16,
   "metadata": {},
   "outputs": [
    {
     "data": {
      "text/plain": [
       "35460"
      ]
     },
     "execution_count": 16,
     "metadata": {},
     "output_type": "execute_result"
    }
   ],
   "source": [
    "XRayTreino.size + XRayTest.size"
   ]
  },
  {
   "cell_type": "code",
   "execution_count": 40,
   "metadata": {},
   "outputs": [
    {
     "name": "stdout",
     "output_type": "stream",
     "text": [
      "2\n"
     ]
    },
    {
     "ename": "ValueError",
     "evalue": "invalid literal for int() with base 10: 'Normal'",
     "output_type": "error",
     "traceback": [
      "\u001b[1;31m---------------------------------------------------------------------------\u001b[0m",
      "\u001b[1;31mValueError\u001b[0m                                Traceback (most recent call last)",
      "\u001b[1;32m<ipython-input-40-64c8c3c9e70e>\u001b[0m in \u001b[0;36m<module>\u001b[1;34m\u001b[0m\n\u001b[0;32m      5\u001b[0m \u001b[0mnum_cateogorias\u001b[0m \u001b[1;33m=\u001b[0m \u001b[0mlen\u001b[0m\u001b[1;33m(\u001b[0m\u001b[0mlist\u001b[0m\u001b[1;33m(\u001b[0m\u001b[0mset\u001b[0m\u001b[1;33m(\u001b[0m\u001b[0mY_train\u001b[0m\u001b[1;33m)\u001b[0m\u001b[1;33m)\u001b[0m\u001b[1;33m)\u001b[0m\u001b[1;33m\u001b[0m\u001b[1;33m\u001b[0m\u001b[0m\n\u001b[0;32m      6\u001b[0m \u001b[0mprint\u001b[0m\u001b[1;33m(\u001b[0m\u001b[0mnum_cateogorias\u001b[0m\u001b[1;33m)\u001b[0m\u001b[1;33m\u001b[0m\u001b[1;33m\u001b[0m\u001b[0m\n\u001b[1;32m----> 7\u001b[1;33m \u001b[0mY_train\u001b[0m \u001b[1;33m=\u001b[0m \u001b[0mto_categorical\u001b[0m\u001b[1;33m(\u001b[0m\u001b[0mY_train\u001b[0m\u001b[1;33m,\u001b[0m \u001b[0mnum_cateogorias\u001b[0m\u001b[1;33m)\u001b[0m\u001b[1;33m\u001b[0m\u001b[1;33m\u001b[0m\u001b[0m\n\u001b[0m\u001b[0;32m      8\u001b[0m \u001b[1;33m\u001b[0m\u001b[0m\n\u001b[0;32m      9\u001b[0m \u001b[1;31m#X_train, x_val, Y_train, y_val = train_test_split(X_train, Y_train, test_size=0.2, random_state=42)\u001b[0m\u001b[1;33m\u001b[0m\u001b[1;33m\u001b[0m\u001b[1;33m\u001b[0m\u001b[0m\n",
      "\u001b[1;32mD:\\FIAP\\Anaconda3\\envs\\tensorflow\\lib\\site-packages\\tensorflow_core\\python\\keras\\utils\\np_utils.py\u001b[0m in \u001b[0;36mto_categorical\u001b[1;34m(y, num_classes, dtype)\u001b[0m\n\u001b[0;32m     38\u001b[0m       \u001b[0mlast\u001b[0m\u001b[1;33m.\u001b[0m\u001b[1;33m\u001b[0m\u001b[1;33m\u001b[0m\u001b[0m\n\u001b[0;32m     39\u001b[0m   \"\"\"\n\u001b[1;32m---> 40\u001b[1;33m   \u001b[0my\u001b[0m \u001b[1;33m=\u001b[0m \u001b[0mnp\u001b[0m\u001b[1;33m.\u001b[0m\u001b[0marray\u001b[0m\u001b[1;33m(\u001b[0m\u001b[0my\u001b[0m\u001b[1;33m,\u001b[0m \u001b[0mdtype\u001b[0m\u001b[1;33m=\u001b[0m\u001b[1;34m'int'\u001b[0m\u001b[1;33m)\u001b[0m\u001b[1;33m\u001b[0m\u001b[1;33m\u001b[0m\u001b[0m\n\u001b[0m\u001b[0;32m     41\u001b[0m   \u001b[0minput_shape\u001b[0m \u001b[1;33m=\u001b[0m \u001b[0my\u001b[0m\u001b[1;33m.\u001b[0m\u001b[0mshape\u001b[0m\u001b[1;33m\u001b[0m\u001b[1;33m\u001b[0m\u001b[0m\n\u001b[0;32m     42\u001b[0m   \u001b[1;32mif\u001b[0m \u001b[0minput_shape\u001b[0m \u001b[1;32mand\u001b[0m \u001b[0minput_shape\u001b[0m\u001b[1;33m[\u001b[0m\u001b[1;33m-\u001b[0m\u001b[1;36m1\u001b[0m\u001b[1;33m]\u001b[0m \u001b[1;33m==\u001b[0m \u001b[1;36m1\u001b[0m \u001b[1;32mand\u001b[0m \u001b[0mlen\u001b[0m\u001b[1;33m(\u001b[0m\u001b[0minput_shape\u001b[0m\u001b[1;33m)\u001b[0m \u001b[1;33m>\u001b[0m \u001b[1;36m1\u001b[0m\u001b[1;33m:\u001b[0m\u001b[1;33m\u001b[0m\u001b[1;33m\u001b[0m\u001b[0m\n",
      "\u001b[1;31mValueError\u001b[0m: invalid literal for int() with base 10: 'Normal'"
     ]
    }
   ],
   "source": [
    "X_Ray, Result = get_dados(path_treino, XRayTreino)\n",
    "X_train = np.asarray(X_Ray).astype(np.float32)\n",
    "Y_train = np.asarray(Result)\n",
    "X_train = X_train.astype('float32')/255\n",
    "num_cateogorias = len(list(set(Y_train)))\n",
    "print(num_cateogorias)\n",
    "Y_train = to_categorical(Y_train, num_cateogorias)\n",
    "\n",
    "#X_train, x_val, Y_train, y_val = train_test_split(X_train, Y_train, test_size=0.2, random_state=42)"
   ]
  },
  {
   "cell_type": "code",
   "execution_count": 37,
   "metadata": {},
   "outputs": [
    {
     "data": {
      "text/plain": [
       "array([[[  0.,   0.,   0.],\n",
       "        [ 23.,  23.,  23.],\n",
       "        [ 69.,  69.,  69.],\n",
       "        ...,\n",
       "        [ 70.,  70.,  70.],\n",
       "        [ 35.,  35.,  35.],\n",
       "        [ 12.,  12.,  12.]],\n",
       "\n",
       "       [[  0.,   0.,   0.],\n",
       "        [ 23.,  23.,  23.],\n",
       "        [ 80.,  80.,  80.],\n",
       "        ...,\n",
       "        [ 77.,  77.,  77.],\n",
       "        [ 19.,  19.,  19.],\n",
       "        [  1.,   1.,   1.]],\n",
       "\n",
       "       [[  0.,   0.,   0.],\n",
       "        [ 17.,  17.,  17.],\n",
       "        [ 37.,  37.,  37.],\n",
       "        ...,\n",
       "        [ 92.,  92.,  92.],\n",
       "        [ 30.,  30.,  30.],\n",
       "        [  0.,   0.,   0.]],\n",
       "\n",
       "       ...,\n",
       "\n",
       "       [[  0.,   0.,   0.],\n",
       "        [  0.,   0.,   0.],\n",
       "        [  0.,   0.,   0.],\n",
       "        ...,\n",
       "        [ 95.,  95.,  95.],\n",
       "        [  0.,   0.,   0.],\n",
       "        [  0.,   0.,   0.]],\n",
       "\n",
       "       [[  0.,   0.,   0.],\n",
       "        [  0.,   0.,   0.],\n",
       "        [  0.,   0.,   0.],\n",
       "        ...,\n",
       "        [102., 102., 102.],\n",
       "        [  0.,   0.,   0.],\n",
       "        [  0.,   0.,   0.]],\n",
       "\n",
       "       [[  0.,   0.,   0.],\n",
       "        [  0.,   0.,   0.],\n",
       "        [  0.,   0.,   0.],\n",
       "        ...,\n",
       "        [133., 133., 133.],\n",
       "        [  0.,   0.,   0.],\n",
       "        [  0.,   0.,   0.]]], dtype=float32)"
      ]
     },
     "execution_count": 37,
     "metadata": {},
     "output_type": "execute_result"
    }
   ],
   "source": [
    "X_Train[0]"
   ]
  },
  {
   "cell_type": "code",
   "execution_count": 13,
   "metadata": {},
   "outputs": [
    {
     "name": "stdout",
     "output_type": "stream",
     "text": [
      "0 - Apple Braeburn\n",
      "1 - Apple Crimson Snow\n",
      "2 - Apple Golden 1\n",
      "3 - Apple Golden 2\n",
      "4 - Apple Golden 3\n",
      "5 - Apple Granny Smith\n",
      "6 - Apple Pink Lady\n",
      "7 - Apple Red 1\n",
      "8 - Apple Red 2\n",
      "9 - Apple Red 3\n",
      "10 - Apple Red Delicious\n",
      "11 - Apple Red Yellow 1\n",
      "12 - Apple Red Yellow 2\n",
      "13 - Apricot\n",
      "14 - Avocado\n",
      "15 - Avocado ripe\n",
      "16 - Banana\n",
      "17 - Banana Lady Finger\n",
      "18 - Banana Red\n",
      "19 - Beetroot\n",
      "20 - Blueberry\n",
      "21 - Cactus fruit\n",
      "22 - Cantaloupe 1\n",
      "23 - Cantaloupe 2\n",
      "24 - Carambula\n",
      "25 - Cauliflower\n",
      "26 - Cherry 1\n",
      "27 - Cherry 2\n",
      "28 - Cherry Rainier\n",
      "29 - Cherry Wax Black\n",
      "30 - Cherry Wax Red\n",
      "31 - Cherry Wax Yellow\n",
      "32 - Chestnut\n",
      "33 - Clementine\n",
      "34 - Cocos\n",
      "35 - Dates\n",
      "36 - Eggplant\n",
      "37 - Ginger Root\n",
      "38 - Granadilla\n",
      "39 - Grape Blue\n",
      "40 - Grape Pink\n",
      "41 - Grape White\n",
      "42 - Grape White 2\n",
      "43 - Grape White 3\n",
      "44 - Grape White 4\n",
      "45 - Grapefruit Pink\n",
      "46 - Grapefruit White\n",
      "47 - Guava\n",
      "48 - Hazelnut\n",
      "49 - Huckleberry\n",
      "50 - Kaki\n",
      "51 - Kiwi\n",
      "52 - Kohlrabi\n",
      "53 - Kumquats\n",
      "54 - Lemon\n",
      "55 - Lemon Meyer\n",
      "56 - Limes\n",
      "57 - Lychee\n",
      "58 - Mandarine\n",
      "59 - Mango\n",
      "60 - Mango Red\n",
      "61 - Mangostan\n",
      "62 - Maracuja\n",
      "63 - Melon Piel de Sapo\n",
      "64 - Mulberry\n",
      "65 - Nectarine\n",
      "66 - Nectarine Flat\n",
      "67 - Nut Forest\n",
      "68 - Nut Pecan\n",
      "69 - Onion Red\n",
      "70 - Onion Red Peeled\n",
      "71 - Onion White\n",
      "72 - Orange\n",
      "73 - Papaya\n",
      "74 - Passion Fruit\n",
      "75 - Peach\n",
      "76 - Peach 2\n",
      "77 - Peach Flat\n",
      "78 - Pear\n",
      "79 - Pear Abate\n",
      "80 - Pear Forelle\n",
      "81 - Pear Kaiser\n",
      "82 - Pear Monster\n",
      "83 - Pear Red\n",
      "84 - Pear Williams\n",
      "85 - Pepino\n",
      "86 - Pepper Green\n",
      "87 - Pepper Red\n",
      "88 - Pepper Yellow\n",
      "89 - Physalis\n",
      "90 - Physalis with Husk\n",
      "91 - Pineapple\n",
      "92 - Pineapple Mini\n",
      "93 - Pitahaya Red\n",
      "94 - Plum\n",
      "95 - Plum 2\n",
      "96 - Plum 3\n",
      "97 - Pomegranate\n",
      "98 - Pomelo Sweetie\n",
      "99 - Potato Red\n",
      "100 - Potato Red Washed\n",
      "101 - Potato Sweet\n",
      "102 - Potato White\n",
      "103 - Quince\n",
      "104 - Rambutan\n",
      "105 - Raspberry\n",
      "106 - Redcurrant\n",
      "107 - Salak\n",
      "108 - Strawberry\n",
      "109 - Strawberry Wedge\n",
      "110 - Tamarillo\n",
      "111 - Tangelo\n",
      "112 - Tomato 1\n",
      "113 - Tomato 2\n",
      "114 - Tomato 3\n",
      "115 - Tomato 4\n",
      "116 - Tomato Cherry Red\n",
      "117 - Tomato Maroon\n",
      "118 - Tomato Yellow\n",
      "119 - Walnut\n"
     ]
    },
    {
     "ename": "MemoryError",
     "evalue": "Unable to allocate 6.76 GiB for an array with shape (60498, 100, 100, 3) and data type float32",
     "output_type": "error",
     "traceback": [
      "\u001b[1;31m---------------------------------------------------------------------------\u001b[0m",
      "\u001b[1;31mMemoryError\u001b[0m                               Traceback (most recent call last)",
      "\u001b[1;32m<ipython-input-13-9062baf96856>\u001b[0m in \u001b[0;36m<module>\u001b[1;34m\u001b[0m\n\u001b[0;32m      1\u001b[0m \u001b[0mX_frutas\u001b[0m\u001b[1;33m,\u001b[0m \u001b[0mY_frutas\u001b[0m \u001b[1;33m=\u001b[0m \u001b[0mget_dados\u001b[0m\u001b[1;33m(\u001b[0m\u001b[0mpath_treino\u001b[0m\u001b[1;33m,\u001b[0m \u001b[1;36m100\u001b[0m\u001b[1;33m)\u001b[0m\u001b[1;33m\u001b[0m\u001b[1;33m\u001b[0m\u001b[0m\n\u001b[1;32m----> 2\u001b[1;33m \u001b[0mX_train\u001b[0m \u001b[1;33m=\u001b[0m \u001b[0mnp\u001b[0m\u001b[1;33m.\u001b[0m\u001b[0masarray\u001b[0m\u001b[1;33m(\u001b[0m\u001b[0mX_frutas\u001b[0m\u001b[1;33m)\u001b[0m\u001b[1;33m.\u001b[0m\u001b[0mastype\u001b[0m\u001b[1;33m(\u001b[0m\u001b[0mnp\u001b[0m\u001b[1;33m.\u001b[0m\u001b[0mfloat32\u001b[0m\u001b[1;33m)\u001b[0m\u001b[1;33m\u001b[0m\u001b[1;33m\u001b[0m\u001b[0m\n\u001b[0m\u001b[0;32m      3\u001b[0m \u001b[0mY_train\u001b[0m \u001b[1;33m=\u001b[0m \u001b[0mnp\u001b[0m\u001b[1;33m.\u001b[0m\u001b[0masarray\u001b[0m\u001b[1;33m(\u001b[0m\u001b[0mY_frutas\u001b[0m\u001b[1;33m)\u001b[0m\u001b[1;33m\u001b[0m\u001b[1;33m\u001b[0m\u001b[0m\n\u001b[0;32m      4\u001b[0m \u001b[0mX_train\u001b[0m \u001b[1;33m=\u001b[0m \u001b[0mX_train\u001b[0m\u001b[1;33m.\u001b[0m\u001b[0mastype\u001b[0m\u001b[1;33m(\u001b[0m\u001b[1;34m'float32'\u001b[0m\u001b[1;33m)\u001b[0m\u001b[1;33m/\u001b[0m\u001b[1;36m255\u001b[0m\u001b[1;33m\u001b[0m\u001b[1;33m\u001b[0m\u001b[0m\n\u001b[0;32m      5\u001b[0m \u001b[0mnum_frutas\u001b[0m \u001b[1;33m=\u001b[0m \u001b[0mlen\u001b[0m\u001b[1;33m(\u001b[0m\u001b[0mlist\u001b[0m\u001b[1;33m(\u001b[0m\u001b[0mset\u001b[0m\u001b[1;33m(\u001b[0m\u001b[0mY_train\u001b[0m\u001b[1;33m)\u001b[0m\u001b[1;33m)\u001b[0m\u001b[1;33m)\u001b[0m\u001b[1;33m\u001b[0m\u001b[1;33m\u001b[0m\u001b[0m\n",
      "\u001b[1;31mMemoryError\u001b[0m: Unable to allocate 6.76 GiB for an array with shape (60498, 100, 100, 3) and data type float32"
     ]
    }
   ],
   "source": [
    "X_train = np.asarray(X_frutas).astype(np.float32)\n",
    "Y_train = np.asarray(Y_frutas)\n",
    "X_train = X_train.astype('float32')/255\n",
    "num_frutas = len(list(set(Y_train)))\n",
    "print(num_frutas)\n",
    "Y_train = to_categorical(Y_train, num_frutas)\n",
    "\n",
    "X_train, x_val, Y_train, y_val = train_test_split(X_train, Y_train, test_size=0.2, random_state=42)"
   ]
  },
  {
   "cell_type": "code",
   "execution_count": null,
   "metadata": {},
   "outputs": [],
   "source": [
    "model = CNN_PaperOriginal(num_frutas,100,3)\n",
    "#plot_model(model, show_shapes=True, show_layer_names=True)\n",
    "model.compile(loss='categorical_crossentropy', optimizer='adam', metrics=['accuracy'])\n",
    "checkpoint = ModelCheckpoint(filepath='./modelo_cnn_8_1.hdf5', verbose=0,  save_best_only=True, monitor='val_accuracy')\n",
    "history = model.fit(X_train, Y_train, validation_data = (x_val, y_val), epochs=50, batch_size=60, callbacks=[checkpoint])\n",
    "plot_history(history)\n",
    "scores = model.evaluate(X_train, Y_train, verbose=0)\n",
    "print(\"Erro da CNN: %.2f%%\" % (100-scores[1]*100))\n",
    "print(\"Acurácia da CNN: %.2f%%\" % (scores[1]*100))\n",
    "X_train = None\n",
    "Y_train = None\n",
    "x_val = None\n",
    "y_val = None"
   ]
  },
  {
   "cell_type": "markdown",
   "metadata": {},
   "source": [
    "# Gray Scale"
   ]
  },
  {
   "cell_type": "code",
   "execution_count": null,
   "metadata": {},
   "outputs": [],
   "source": [
    "X_frutas, Y_frutas = get_dados_grayscale(path_treino, 28)\n",
    "X_train_grayscale = np.asarray(X_frutas).astype(np.float32)\n",
    "Y_train_grayscale = np.asarray(Y_frutas)\n",
    "X_train_grayscale = X_train_grayscale.astype('float32')/255\n",
    "num_frutas = len(list(set(Y_train_grayscale)))\n",
    "print(num_frutas)\n",
    "Y_train_grayscale = to_categorical(Y_train_grayscale, num_frutas)\n",
    "\n",
    "X_train_grayscale, x_val_grayscale, Y_train_grayscale, y_val_grayscale = train_test_split(X_train_grayscale, Y_train_grayscale, test_size=0.2, random_state=42)"
   ]
  },
  {
   "cell_type": "code",
   "execution_count": null,
   "metadata": {},
   "outputs": [],
   "source": [
    "model = CNN_LeNet5(num_frutas,28,1)\n",
    "#plot_model(model, show_shapes=True, show_layer_names=True)\n",
    "model.compile(loss='categorical_crossentropy', optimizer='adam', metrics=['accuracy'])\n",
    "checkpoint = ModelCheckpoint(filepath='./modelo_cnn_LeNet_8_1.hdf5', verbose=0,  save_best_only=True, monitor='val_accuracy')\n",
    "history = model.fit(X_train_grayscale, Y_train_grayscale, validation_data = (x_val_grayscale, y_val_grayscale), epochs=50, batch_size=60, callbacks=[checkpoint])\n",
    "plot_history(history)\n",
    "scores = model.evaluate(X_train_grayscale, Y_train_grayscale, verbose=0)\n",
    "print(\"Erro da CNN: %.2f%%\" % (100-scores[1]*100))\n",
    "print(\"Acurácia da CNN: %.2f%%\" % (scores[1]*100))\n",
    "X_train_grayscale = None\n",
    "Y_train_grayscale = None\n",
    "x_val_grayscale = None\n",
    "y_val_grayscale = None"
   ]
  },
  {
   "cell_type": "markdown",
   "metadata": {},
   "source": [
    "# HSV_GrayScale"
   ]
  },
  {
   "cell_type": "code",
   "execution_count": null,
   "metadata": {},
   "outputs": [],
   "source": [
    "X_frutas, Y_frutas = get_dados_hsv_grayscale(path_treino, 100)\n",
    "X_train_hsv_grayscale = np.asarray(X_frutas).astype(np.float32)\n",
    "Y_train_hsv_grayscale = np.asarray(Y_frutas)\n",
    "X_train_hsv_grayscale = X_train_hsv_grayscale.astype('float32')/255\n",
    "num_frutas = len(list(set(Y_train_hsv_grayscale)))\n",
    "print(num_frutas)\n",
    "Y_train_hsv_grayscale = to_categorical(Y_train_hsv_grayscale, num_frutas)\n",
    "\n",
    "X_train_hsv_grayscale, x_val_hsv_grayscale, Y_train_hsv_grayscale, y_val_hsv_grayscale = train_test_split(X_train_hsv_grayscale, Y_train_hsv_grayscale, test_size=0.2, random_state=42)"
   ]
  },
  {
   "cell_type": "code",
   "execution_count": null,
   "metadata": {},
   "outputs": [],
   "source": [
    "model = CNN_AlexNet(num_frutas,100,4)\n",
    "#plot_model(model, show_shapes=True, show_layer_names=True)\n",
    "model.compile(loss='categorical_crossentropy', optimizer='adam', metrics=['accuracy'])\n",
    "checkpoint = ModelCheckpoint(filepath='./modelo_cnn_AlexNet_8_1.hdf5', verbose=0,  save_best_only=True, monitor='val_accuracy')\n",
    "history = model.fit(X_train_hsv_grayscale, Y_train_hsv_grayscale, validation_data = (x_val_hsv_grayscale, y_val_hsv_grayscale), epochs=50, batch_size=60, callbacks=[checkpoint])\n",
    "plot_history(history)\n",
    "scores = model.evaluate(X_train_grayscale, Y_train_grayscale, verbose=0)\n",
    "print(\"Erro da CNN: %.2f%%\" % (100-scores[1]*100))\n",
    "print(\"Acurácia da CNN: %.2f%%\" % (scores[1]*100))\n",
    "X_train_hsv_grayscale = None\n",
    "Y_train_hsv_grayscale = None\n",
    "x_val_hsv_grayscale = None\n",
    "y_val_hsv_grayscale = None"
   ]
  },
  {
   "cell_type": "markdown",
   "metadata": {},
   "source": [
    "#model = CNN_AlexNet(num_frutas,224,4)\n",
    "#model.compile(loss='categorical_crossentropy', optimizer='adam', metrics=['accuracy'])\n",
    "#history = model.fit(X_train, Y_train, validation_split = 0.2, epochs=10, batch_size=60)\n",
    "#plot_history(history)\n",
    "#scores = model.evaluate(X_train, Y_train, verbose=0)\n",
    "#print(\"Erro da CNN: %.2f%%\" % (100-scores[1]*100))\n",
    "#print(\"Acurácia da CNN: %.2f%%\" % (scores[1]*100))"
   ]
  },
  {
   "cell_type": "markdown",
   "metadata": {},
   "source": [
    "# Teste"
   ]
  },
  {
   "cell_type": "code",
   "execution_count": null,
   "metadata": {},
   "outputs": [],
   "source": [
    "X_frutas, Y_frutas = get_dados(path_teste, 100)\n",
    "X_test = np.asarray(X_frutas).astype(np.float32)\n",
    "Y_test = np.asarray(Y_frutas)\n",
    "X_test = X_test.astype('float32')/255\n",
    "Y_test = to_categorical(Y_test, num_frutas)\n",
    "model = load_model('./modelo_cnn_8.hdf5')\n",
    "scores = model.evaluate(X_test, Y_test, verbose=0)\n",
    "print(\"Erro da CNN: %.2f%%\" % (100-scores[1]*100))\n",
    "print(\"Acurária da CNN: %.2f%%\" % (scores[1]*100))"
   ]
  },
  {
   "cell_type": "code",
   "execution_count": null,
   "metadata": {},
   "outputs": [],
   "source": [
    "X_frutas, Y_frutas = get_dados_grayscale(path_teste, 28)\n",
    "X_test_grayscale = np.asarray(X_frutas).astype(np.float32)\n",
    "Y_test_grayscale = np.asarray(Y_frutas)\n",
    "X_test_grayscale = X_test_grayscale.astype('float32')/255\n",
    "Y_test_grayscale = to_categorical(Y_test_grayscale, num_frutas)\n",
    "model = load_model('./modelo_cnn_LeNet_8.hdf5')\n",
    "scores = model.evaluate(X_test_grayscale, Y_test_grayscale, verbose=0)\n",
    "print(\"Erro da CNN: %.2f%%\" % (100-scores[1]*100))\n",
    "print(\"Acurária da CNN: %.2f%%\" % (scores[1]*100))"
   ]
  },
  {
   "cell_type": "code",
   "execution_count": null,
   "metadata": {
    "tags": []
   },
   "outputs": [],
   "source": [
    "X_frutas, Y_frutas = get_dados_hsv_grayscale(path_teste, 28)\n",
    "X_test_hsv_grayscale = np.asarray(X_frutas).astype(np.float32)\n",
    "Y_test_hsv_grayscale = np.asarray(Y_frutas)\n",
    "X_test_hsv_grayscale = X_test_hsv_grayscale.astype('float32')/255\n",
    "Y_test_hsv_grayscale = to_categorical(Y_test_hsv_grayscale, num_frutas)\n",
    "model = load_model('./modelo_cnn_AlexNet_8.hdf5')\n",
    "scores = model.evaluate(X_test_hsv_grayscale, Y_test_hsv_grayscale, verbose=0)\n",
    "print(\"Erro da CNN: %.2f%%\" % (100-scores[1]*100))\n",
    "print(\"Acurária da CNN: %.2f%%\" % (scores[1]*100))"
   ]
  },
  {
   "cell_type": "code",
   "execution_count": null,
   "metadata": {},
   "outputs": [],
   "source": [
    "print (\"Fim Execução : \")\n",
    "print (datetime.now().strftime(\"%Y-%m-%d %H:%M:%S\"))"
   ]
  }
 ],
 "metadata": {
  "kernelspec": {
   "display_name": "Python 3",
   "language": "python",
   "name": "python3"
  },
  "language_info": {
   "codemirror_mode": {
    "name": "ipython",
    "version": 3
   },
   "file_extension": ".py",
   "mimetype": "text/x-python",
   "name": "python",
   "nbconvert_exporter": "python",
   "pygments_lexer": "ipython3",
   "version": "3.7.10"
  }
 },
 "nbformat": 4,
 "nbformat_minor": 4
}
