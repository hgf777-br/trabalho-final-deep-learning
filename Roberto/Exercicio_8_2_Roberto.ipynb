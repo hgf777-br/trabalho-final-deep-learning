{
 "cells": [
  {
   "cell_type": "markdown",
   "metadata": {},
   "source": [
    "## Bibliotecas Utilizadas"
   ]
  },
  {
   "cell_type": "code",
   "execution_count": 1,
   "metadata": {},
   "outputs": [
    {
     "name": "stderr",
     "output_type": "stream",
     "text": [
      "Using TensorFlow backend.\n"
     ]
    }
   ],
   "source": [
    "import os\n",
    "import numpy as np\n",
    "import matplotlib.pyplot as plt\n",
    "import tensorflow as tf\n",
    "\n",
    "from sklearn.model_selection import train_test_split\n",
    "from tensorflow.keras.utils import to_categorical\n",
    "from keras.models import Sequential, load_model\n",
    "from keras.layers import Dense\n",
    "from keras.layers import Dropout\n",
    "from keras.layers import Flatten\n",
    "from keras.layers.convolutional import Conv2D\n",
    "from keras.layers.convolutional import MaxPooling2D, AveragePooling2D\n",
    "from keras.utils import np_utils\n",
    "from keras.callbacks import ModelCheckpoint\n",
    "from keras.utils.vis_utils import plot_model\n",
    "from keras import backend as K\n",
    "from keras.preprocessing.image import img_to_array, load_img\n",
    "from datetime import datetime, time"
   ]
  },
  {
   "cell_type": "code",
   "execution_count": 2,
   "metadata": {},
   "outputs": [
    {
     "name": "stdout",
     "output_type": "stream",
     "text": [
      "Início Execução : \n",
      "2021-07-21 21:34:19\n"
     ]
    }
   ],
   "source": [
    "print (\"Início Execução : \")\n",
    "print (datetime.now().strftime(\"%Y-%m-%d %H:%M:%S\"))"
   ]
  },
  {
   "cell_type": "markdown",
   "metadata": {},
   "source": [
    "# Funções"
   ]
  },
  {
   "cell_type": "code",
   "execution_count": 3,
   "metadata": {},
   "outputs": [],
   "source": [
    "def build_grayscale_image(image):\n",
    "    image = tf.image.convert_image_dtype(image , tf.float32)\n",
    "    return tf.image.rgb_to_grayscale(image)"
   ]
  },
  {
   "cell_type": "code",
   "execution_count": 4,
   "metadata": {},
   "outputs": [],
   "source": [
    "def build_hsv_grayscale_image(image):\n",
    "    image = tf.image.convert_image_dtype(image , tf.float32)\n",
    "    gray_image = tf.image.rgb_to_grayscale(image)\n",
    "    image = tf.image.rgb_to_hsv(image)\n",
    "    rez = tf.concat([image , gray_image], 2)\n",
    "    return rez"
   ]
  },
  {
   "cell_type": "code",
   "execution_count": 5,
   "metadata": {},
   "outputs": [],
   "source": [
    "def get_dados(path, size):\n",
    "    lista_dir = os.listdir(path)\n",
    "    X = []\n",
    "    Y = []\n",
    "    for cat_fruta, fruta in enumerate(lista_dir):\n",
    "        lista_img = os.listdir('{0}/{1}'.format(path, fruta))\n",
    "        print('{0} - {1}'.format(cat_fruta, fruta))\n",
    "        for img in lista_img:\n",
    "            arquivo = '{0}/{1}/{2}'.format(path, fruta, img)\n",
    "            img_fruta = img_to_array(load_img(arquivo, target_size=(size, size)))\n",
    "            X.append(img_fruta)\n",
    "            Y.append(cat_fruta)\n",
    "    return (X, Y)"
   ]
  },
  {
   "cell_type": "code",
   "execution_count": 6,
   "metadata": {},
   "outputs": [],
   "source": [
    "def get_dados_grayscale(path, size):\n",
    "    lista_dir = os.listdir(path)\n",
    "    X = []\n",
    "    Y = []\n",
    "    for cat_fruta, fruta in enumerate(lista_dir):\n",
    "        lista_img = os.listdir('{0}/{1}'.format(path, fruta))\n",
    "        print('{0} - {1}'.format(cat_fruta, fruta))\n",
    "        for img in lista_img:\n",
    "            arquivo = '{0}/{1}/{2}'.format(path, fruta, img)\n",
    "            img_fruta = build_grayscale_image(img_to_array(load_img(arquivo, target_size=(size, size))))\n",
    "            X.append(img_fruta)\n",
    "            Y.append(cat_fruta)\n",
    "    return (X, Y)"
   ]
  },
  {
   "cell_type": "code",
   "execution_count": 7,
   "metadata": {},
   "outputs": [],
   "source": [
    "def get_dados_hsv_grayscale(path, size):\n",
    "    lista_dir = os.listdir(path)\n",
    "    X = []\n",
    "    Y = []\n",
    "    for cat_fruta, fruta in enumerate(lista_dir):\n",
    "        lista_img = os.listdir('{0}/{1}'.format(path, fruta))\n",
    "        print('{0} - {1}'.format(cat_fruta, fruta))\n",
    "        for img in lista_img:\n",
    "            arquivo = '{0}/{1}/{2}'.format(path, fruta, img)\n",
    "            img_fruta = build_hsv_grayscale_image(img_to_array(load_img(arquivo, target_size=(size, size))))\n",
    "            X.append(img_fruta)\n",
    "            Y.append(cat_fruta)\n",
    "    return (X, Y)"
   ]
  },
  {
   "cell_type": "code",
   "execution_count": 8,
   "metadata": {},
   "outputs": [],
   "source": [
    "def plot_history(history):\n",
    "    acc = history.history['accuracy']\n",
    "    val_acc = history.history['val_accuracy']\n",
    "    loss = history.history['loss']\n",
    "    val_loss = history.history['val_loss']\n",
    "    x = range(1, len(acc) + 1)\n",
    "    plt.figure(figsize=(12, 5))\n",
    "    plt.subplot(1, 2, 1)\n",
    "    plt.plot(x, acc, 'b', label='Training Accuracy')\n",
    "    plt.plot(x, val_acc, 'r', label='Validation Accuracy')\n",
    "    plt.title('Training and validation Accuracy')\n",
    "    plt.subplot(1, 2, 2)\n",
    "    plt.plot(x, loss, 'b', label='Training loss')\n",
    "    plt.plot(x, val_loss, 'r', label='Validation loss')\n",
    "    plt.title('Training and validation loss')\n",
    "    plt.legend()"
   ]
  },
  {
   "cell_type": "code",
   "execution_count": 9,
   "metadata": {},
   "outputs": [],
   "source": [
    "def CNN_PaperOriginal(num_frutas, size, camadas):\n",
    "    # Cria o modelo\n",
    "    model = Sequential()\n",
    "    \n",
    "    #Convolução 2D com função de ativação Rectified Linear Units 32 kernels/Pesos (filtros) \n",
    "    model.add(Conv2D(4, (5, 5), input_shape=(size, size, camadas), activation='relu'))#\n",
    "    print( model.output_shape)\n",
    "    #Camada de Pooling \t    \n",
    "    model.add(MaxPooling2D(pool_size=(2, 2)))\n",
    "    print(model.output_shape)\n",
    "    \n",
    "    model.add(Dropout(0.2))\n",
    "\n",
    "    model.add(Conv2D(16, (5, 5), activation='relu'))#\n",
    "    print(model.output_shape)\n",
    "    #Camada de Pooling \t    \n",
    "    model.add(MaxPooling2D(pool_size=(2, 2)))\n",
    "    print(model.output_shape)\n",
    "    \n",
    "    model.add(Dropout(0.2))\n",
    "    \n",
    "    model.add(Conv2D(32, (5, 5), activation='relu'))#\n",
    "    print(model.output_shape)\n",
    "    #Camada de Pooling \t    \n",
    "    model.add(MaxPooling2D(pool_size=(2, 2)))\n",
    "    print(model.output_shape)\n",
    "    \n",
    "    model.add(Dropout(0.2))\n",
    "    \n",
    "    model.add(Conv2D(64, (5, 5), activation='relu'))#\n",
    "    print(model.output_shape)\n",
    "    #Camada de Pooling \t    \n",
    "    model.add(MaxPooling2D(pool_size=(2, 2)))\n",
    "    print(model.output_shape)\n",
    "    \n",
    "    model.add(Dropout(0.2))\n",
    "    \n",
    "    #Converte o conjunto de imagens e um vetor unidimensional para a entrada da rede neural totalmente conectada\n",
    "    model.add(Flatten())\n",
    "    print(model.output_shape)\n",
    "    model.add(Dense(1024, activation='tanh'))\n",
    "    print(model.output_shape)\n",
    "    model.add(Dropout(0.2))\n",
    "    model.add(Dense(256, activation='tanh'))\n",
    "    print(model.output_shape)\n",
    "    model.add(Dropout(0.2))\n",
    "    model.add(Dense(60, activation='tanh'))\n",
    "    print(model.output_shape)\n",
    "    model.add(Dropout(0.2))\n",
    "    #Função de Ativação Softmax\n",
    "    model.add(Dense(num_frutas, activation='softmax'))\n",
    "    print(model.output_shape)\n",
    "    return model"
   ]
  },
  {
   "cell_type": "code",
   "execution_count": 10,
   "metadata": {},
   "outputs": [],
   "source": [
    "def CNN_LeNet5(num_frutas,size, camadas):\n",
    "    # Cria o modelo\n",
    "    model = Sequential()\n",
    "    #Convolução 2D com função de ativação Rectified Linear Units 32 kernels/Pesos (filtros) \n",
    "    model.add(Conv2D(6, (5, 5), input_shape=(size, size, camadas), activation='relu'))#\n",
    "    print( model.output_shape)\n",
    "    #Camada de Pooling \t    \n",
    "    model.add(AveragePooling2D(pool_size=(2, 2)))\n",
    "    print( model.output_shape)\n",
    "    \n",
    "    model.add(Dropout(0.2))\n",
    "\n",
    "    model.add(Conv2D(16, (5, 5), activation='relu'))#\n",
    "    print( model.output_shape)\n",
    "    #Camada de Pooling \t    \n",
    "    model.add(AveragePooling2D(pool_size=(2, 2)))\n",
    "    print( model.output_shape)\n",
    "    \n",
    "    model.add(Dropout(0.2))\n",
    "\n",
    "    #Converte o conjunto de imagens e um vetor unidimensional para a entrada da rede neural totalmente conectada\n",
    "    model.add(Flatten())\n",
    "    print(model.output_shape)\n",
    "    model.add(Dense(240, activation='tanh'))\n",
    "    print(model.output_shape)\n",
    "    model.add(Dropout(0.2))    \n",
    "    model.add(Dense(120, activation='tanh'))\n",
    "    print(model.output_shape)\n",
    "    model.add(Dropout(0.2))    \n",
    "    #Função de Ativação Softmax\n",
    "    model.add(Dense(num_frutas, activation='softmax'))\n",
    "    print(model.output_shape)\n",
    "    return model"
   ]
  },
  {
   "cell_type": "code",
   "execution_count": 11,
   "metadata": {},
   "outputs": [],
   "source": [
    "def CNN_AlexNet(num_frutas,size,camadas):\n",
    "    # Cria o modelo\n",
    "    model = Sequential()\n",
    "    #Convolução 2D com função de ativação Rectified Linear Units 32 kernels/Pesos (filtros) \n",
    "    model.add(Conv2D(96, (11, 11), input_shape=(size, size, camadas), activation='relu'))#\n",
    "    print(model.output_shape)\n",
    "    #Camada de Pooling \t    \n",
    "    model.add(MaxPooling2D(pool_size=(3, 3)))\n",
    "    print(model.output_shape)\n",
    "    \n",
    "    model.add(Dropout(0.2))\n",
    "\n",
    "    model.add(Conv2D(256, (5, 5), activation='relu'))#\n",
    "    print(model.output_shape)\n",
    "    #Camada de Pooling \t    \n",
    "    model.add(MaxPooling2D(pool_size=(3, 3)))\n",
    "    print(model.output_shape)\n",
    "    \n",
    "    model.add(Dropout(0.2))\n",
    "\n",
    "    model.add(Conv2D(384, (3, 3), activation='relu'))#\n",
    "    print(model.output_shape)\n",
    "    model.add(Dropout(0.2))\n",
    "\n",
    "    model.add(Conv2D(384, (3, 3), activation='relu'))#\n",
    "    print(model.output_shape)\n",
    "    model.add(Dropout(0.2))\n",
    "\n",
    "    model.add(Conv2D(256, (3, 3), activation='relu'))#\n",
    "    print(model.output_shape)\n",
    "    model.add(Dropout(0.2))\n",
    "\n",
    "    #Converte o conjunto de imagens e um vetor unidimensional para a entrada da rede neural totalmente conectada\n",
    "    model.add(Flatten())\n",
    "    print(model.output_shape)\n",
    "    model.add(Dense(512, activation='relu'))\n",
    "    print(model.output_shape)\n",
    "    model.add(Dropout(0.2))\n",
    "    model.add(Dense(256, activation='relu'))\n",
    "    print(model.output_shape)\n",
    "    model.add(Dropout(0.2))\n",
    "    #Função de Ativação Softmax\n",
    "    model.add(Dense(num_frutas, activation='softmax'))\n",
    "    print(model.output_shape)\n",
    "    return model"
   ]
  },
  {
   "cell_type": "markdown",
   "metadata": {},
   "source": [
    "# Rodando Algoritmos"
   ]
  },
  {
   "cell_type": "code",
   "execution_count": 12,
   "metadata": {},
   "outputs": [],
   "source": [
    "path_treino = './fruits-360/Training' \n",
    "path_teste = './fruits-360/Test'"
   ]
  },
  {
   "cell_type": "code",
   "execution_count": 13,
   "metadata": {},
   "outputs": [
    {
     "name": "stdout",
     "output_type": "stream",
     "text": [
      "0 - Apple Braeburn\n",
      "1 - Apple Crimson Snow\n",
      "2 - Apple Golden 1\n",
      "3 - Apple Golden 2\n",
      "4 - Apple Golden 3\n",
      "5 - Apple Granny Smith\n",
      "6 - Apple Pink Lady\n",
      "7 - Apple Red 1\n",
      "8 - Apple Red 2\n",
      "9 - Apple Red 3\n",
      "10 - Apple Red Delicious\n",
      "11 - Apple Red Yellow 1\n",
      "12 - Apple Red Yellow 2\n",
      "13 - Apricot\n",
      "14 - Avocado\n",
      "15 - Avocado ripe\n",
      "16 - Banana\n",
      "17 - Banana Lady Finger\n",
      "18 - Banana Red\n",
      "19 - Beetroot\n",
      "20 - Blueberry\n",
      "21 - Cactus fruit\n",
      "22 - Cantaloupe 1\n",
      "23 - Cantaloupe 2\n",
      "24 - Carambula\n",
      "25 - Cauliflower\n",
      "26 - Cherry 1\n",
      "27 - Cherry 2\n",
      "28 - Cherry Rainier\n",
      "29 - Cherry Wax Black\n",
      "30 - Cherry Wax Red\n",
      "31 - Cherry Wax Yellow\n",
      "32 - Chestnut\n",
      "33 - Clementine\n",
      "34 - Cocos\n",
      "35 - Dates\n",
      "36 - Eggplant\n",
      "37 - Ginger Root\n",
      "38 - Granadilla\n",
      "39 - Grape Blue\n",
      "40 - Grape Pink\n",
      "41 - Grape White\n",
      "42 - Grape White 2\n",
      "43 - Grape White 3\n",
      "44 - Grape White 4\n",
      "45 - Grapefruit Pink\n",
      "46 - Grapefruit White\n",
      "47 - Guava\n",
      "48 - Hazelnut\n",
      "49 - Huckleberry\n",
      "50 - Kaki\n",
      "51 - Kiwi\n",
      "52 - Kohlrabi\n",
      "53 - Kumquats\n",
      "54 - Lemon\n",
      "55 - Lemon Meyer\n",
      "56 - Limes\n",
      "57 - Lychee\n",
      "58 - Mandarine\n",
      "59 - Mango\n",
      "60 - Mango Red\n",
      "61 - Mangostan\n",
      "62 - Maracuja\n",
      "63 - Melon Piel de Sapo\n",
      "64 - Mulberry\n",
      "65 - Nectarine\n",
      "66 - Nectarine Flat\n",
      "67 - Nut Forest\n",
      "68 - Nut Pecan\n",
      "69 - Onion Red\n",
      "70 - Onion Red Peeled\n",
      "71 - Onion White\n",
      "72 - Orange\n",
      "73 - Papaya\n",
      "74 - Passion Fruit\n",
      "75 - Peach\n",
      "76 - Peach 2\n",
      "77 - Peach Flat\n",
      "78 - Pear\n",
      "79 - Pear Abate\n",
      "80 - Pear Forelle\n",
      "81 - Pear Kaiser\n",
      "82 - Pear Monster\n",
      "83 - Pear Red\n",
      "84 - Pear Williams\n",
      "85 - Pepino\n",
      "86 - Pepper Green\n",
      "87 - Pepper Red\n",
      "88 - Pepper Yellow\n",
      "89 - Physalis\n",
      "90 - Physalis with Husk\n",
      "91 - Pineapple\n",
      "92 - Pineapple Mini\n",
      "93 - Pitahaya Red\n",
      "94 - Plum\n",
      "95 - Plum 2\n",
      "96 - Plum 3\n",
      "97 - Pomegranate\n",
      "98 - Pomelo Sweetie\n",
      "99 - Potato Red\n",
      "100 - Potato Red Washed\n",
      "101 - Potato Sweet\n",
      "102 - Potato White\n",
      "103 - Quince\n",
      "104 - Rambutan\n",
      "105 - Raspberry\n",
      "106 - Redcurrant\n",
      "107 - Salak\n",
      "108 - Strawberry\n",
      "109 - Strawberry Wedge\n",
      "110 - Tamarillo\n",
      "111 - Tangelo\n",
      "112 - Tomato 1\n",
      "113 - Tomato 2\n",
      "114 - Tomato 3\n",
      "115 - Tomato 4\n",
      "116 - Tomato Cherry Red\n",
      "117 - Tomato Maroon\n",
      "118 - Tomato Yellow\n",
      "119 - Walnut\n"
     ]
    },
    {
     "ename": "MemoryError",
     "evalue": "Unable to allocate 6.76 GiB for an array with shape (60498, 100, 100, 3) and data type float32",
     "output_type": "error",
     "traceback": [
      "\u001b[1;31m---------------------------------------------------------------------------\u001b[0m",
      "\u001b[1;31mMemoryError\u001b[0m                               Traceback (most recent call last)",
      "\u001b[1;32m<ipython-input-13-9062baf96856>\u001b[0m in \u001b[0;36m<module>\u001b[1;34m\u001b[0m\n\u001b[0;32m      1\u001b[0m \u001b[0mX_frutas\u001b[0m\u001b[1;33m,\u001b[0m \u001b[0mY_frutas\u001b[0m \u001b[1;33m=\u001b[0m \u001b[0mget_dados\u001b[0m\u001b[1;33m(\u001b[0m\u001b[0mpath_treino\u001b[0m\u001b[1;33m,\u001b[0m \u001b[1;36m100\u001b[0m\u001b[1;33m)\u001b[0m\u001b[1;33m\u001b[0m\u001b[1;33m\u001b[0m\u001b[0m\n\u001b[1;32m----> 2\u001b[1;33m \u001b[0mX_train\u001b[0m \u001b[1;33m=\u001b[0m \u001b[0mnp\u001b[0m\u001b[1;33m.\u001b[0m\u001b[0masarray\u001b[0m\u001b[1;33m(\u001b[0m\u001b[0mX_frutas\u001b[0m\u001b[1;33m)\u001b[0m\u001b[1;33m.\u001b[0m\u001b[0mastype\u001b[0m\u001b[1;33m(\u001b[0m\u001b[0mnp\u001b[0m\u001b[1;33m.\u001b[0m\u001b[0mfloat32\u001b[0m\u001b[1;33m)\u001b[0m\u001b[1;33m\u001b[0m\u001b[1;33m\u001b[0m\u001b[0m\n\u001b[0m\u001b[0;32m      3\u001b[0m \u001b[0mY_train\u001b[0m \u001b[1;33m=\u001b[0m \u001b[0mnp\u001b[0m\u001b[1;33m.\u001b[0m\u001b[0masarray\u001b[0m\u001b[1;33m(\u001b[0m\u001b[0mY_frutas\u001b[0m\u001b[1;33m)\u001b[0m\u001b[1;33m\u001b[0m\u001b[1;33m\u001b[0m\u001b[0m\n\u001b[0;32m      4\u001b[0m \u001b[0mX_train\u001b[0m \u001b[1;33m=\u001b[0m \u001b[0mX_train\u001b[0m\u001b[1;33m.\u001b[0m\u001b[0mastype\u001b[0m\u001b[1;33m(\u001b[0m\u001b[1;34m'float32'\u001b[0m\u001b[1;33m)\u001b[0m\u001b[1;33m/\u001b[0m\u001b[1;36m255\u001b[0m\u001b[1;33m\u001b[0m\u001b[1;33m\u001b[0m\u001b[0m\n\u001b[0;32m      5\u001b[0m \u001b[0mnum_frutas\u001b[0m \u001b[1;33m=\u001b[0m \u001b[0mlen\u001b[0m\u001b[1;33m(\u001b[0m\u001b[0mlist\u001b[0m\u001b[1;33m(\u001b[0m\u001b[0mset\u001b[0m\u001b[1;33m(\u001b[0m\u001b[0mY_train\u001b[0m\u001b[1;33m)\u001b[0m\u001b[1;33m)\u001b[0m\u001b[1;33m)\u001b[0m\u001b[1;33m\u001b[0m\u001b[1;33m\u001b[0m\u001b[0m\n",
      "\u001b[1;31mMemoryError\u001b[0m: Unable to allocate 6.76 GiB for an array with shape (60498, 100, 100, 3) and data type float32"
     ]
    }
   ],
   "source": [
    "X_frutas, Y_frutas = get_dados(path_treino, 100)\n",
    "X_train = np.asarray(X_frutas).astype(np.float32)\n",
    "Y_train = np.asarray(Y_frutas)\n",
    "X_train = X_train.astype('float32')/255\n",
    "num_frutas = len(list(set(Y_train)))\n",
    "print(num_frutas)\n",
    "Y_train = to_categorical(Y_train, num_frutas)\n",
    "\n",
    "X_train, x_val, Y_train, y_val = train_test_split(X_train, Y_train, test_size=0.2, random_state=42)"
   ]
  },
  {
   "cell_type": "code",
   "execution_count": null,
   "metadata": {},
   "outputs": [],
   "source": [
    "model = CNN_PaperOriginal(num_frutas,100,3)\n",
    "#plot_model(model, show_shapes=True, show_layer_names=True)\n",
    "model.compile(loss='categorical_crossentropy', optimizer='adam', metrics=['accuracy'])\n",
    "checkpoint = ModelCheckpoint(filepath='./modelo_cnn_8_1.hdf5', verbose=0,  save_best_only=True, monitor='val_accuracy')\n",
    "history = model.fit(X_train, Y_train, validation_data = (x_val, y_val), epochs=50, batch_size=60, callbacks=[checkpoint])\n",
    "plot_history(history)\n",
    "scores = model.evaluate(X_train, Y_train, verbose=0)\n",
    "print(\"Erro da CNN: %.2f%%\" % (100-scores[1]*100))\n",
    "print(\"Acurácia da CNN: %.2f%%\" % (scores[1]*100))\n",
    "X_train = None\n",
    "Y_train = None\n",
    "x_val = None\n",
    "y_val = None"
   ]
  },
  {
   "cell_type": "markdown",
   "metadata": {},
   "source": [
    "# Gray Scale"
   ]
  },
  {
   "cell_type": "code",
   "execution_count": null,
   "metadata": {},
   "outputs": [],
   "source": [
    "X_frutas, Y_frutas = get_dados_grayscale(path_treino, 28)\n",
    "X_train_grayscale = np.asarray(X_frutas).astype(np.float32)\n",
    "Y_train_grayscale = np.asarray(Y_frutas)\n",
    "X_train_grayscale = X_train_grayscale.astype('float32')/255\n",
    "num_frutas = len(list(set(Y_train_grayscale)))\n",
    "print(num_frutas)\n",
    "Y_train_grayscale = to_categorical(Y_train_grayscale, num_frutas)\n",
    "\n",
    "X_train_grayscale, x_val_grayscale, Y_train_grayscale, y_val_grayscale = train_test_split(X_train_grayscale, Y_train_grayscale, test_size=0.2, random_state=42)"
   ]
  },
  {
   "cell_type": "code",
   "execution_count": null,
   "metadata": {},
   "outputs": [],
   "source": [
    "model = CNN_LeNet5(num_frutas,28,1)\n",
    "#plot_model(model, show_shapes=True, show_layer_names=True)\n",
    "model.compile(loss='categorical_crossentropy', optimizer='adam', metrics=['accuracy'])\n",
    "checkpoint = ModelCheckpoint(filepath='./modelo_cnn_LeNet_8_1.hdf5', verbose=0,  save_best_only=True, monitor='val_accuracy')\n",
    "history = model.fit(X_train_grayscale, Y_train_grayscale, validation_data = (x_val_grayscale, y_val_grayscale), epochs=50, batch_size=60, callbacks=[checkpoint])\n",
    "plot_history(history)\n",
    "scores = model.evaluate(X_train_grayscale, Y_train_grayscale, verbose=0)\n",
    "print(\"Erro da CNN: %.2f%%\" % (100-scores[1]*100))\n",
    "print(\"Acurácia da CNN: %.2f%%\" % (scores[1]*100))\n",
    "X_train_grayscale = None\n",
    "Y_train_grayscale = None\n",
    "x_val_grayscale = None\n",
    "y_val_grayscale = None"
   ]
  },
  {
   "cell_type": "markdown",
   "metadata": {},
   "source": [
    "# HSV_GrayScale"
   ]
  },
  {
   "cell_type": "code",
   "execution_count": null,
   "metadata": {},
   "outputs": [],
   "source": [
    "X_frutas, Y_frutas = get_dados_hsv_grayscale(path_treino, 100)\n",
    "X_train_hsv_grayscale = np.asarray(X_frutas).astype(np.float32)\n",
    "Y_train_hsv_grayscale = np.asarray(Y_frutas)\n",
    "X_train_hsv_grayscale = X_train_hsv_grayscale.astype('float32')/255\n",
    "num_frutas = len(list(set(Y_train_hsv_grayscale)))\n",
    "print(num_frutas)\n",
    "Y_train_hsv_grayscale = to_categorical(Y_train_hsv_grayscale, num_frutas)\n",
    "\n",
    "X_train_hsv_grayscale, x_val_hsv_grayscale, Y_train_hsv_grayscale, y_val_hsv_grayscale = train_test_split(X_train_hsv_grayscale, Y_train_hsv_grayscale, test_size=0.2, random_state=42)"
   ]
  },
  {
   "cell_type": "code",
   "execution_count": null,
   "metadata": {},
   "outputs": [],
   "source": [
    "model = CNN_AlexNet(num_frutas,100,4)\n",
    "#plot_model(model, show_shapes=True, show_layer_names=True)\n",
    "model.compile(loss='categorical_crossentropy', optimizer='adam', metrics=['accuracy'])\n",
    "checkpoint = ModelCheckpoint(filepath='./modelo_cnn_AlexNet_8_1.hdf5', verbose=0,  save_best_only=True, monitor='val_accuracy')\n",
    "history = model.fit(X_train_hsv_grayscale, Y_train_hsv_grayscale, validation_data = (x_val_hsv_grayscale, y_val_hsv_grayscale), epochs=50, batch_size=60, callbacks=[checkpoint])\n",
    "plot_history(history)\n",
    "scores = model.evaluate(X_train_grayscale, Y_train_grayscale, verbose=0)\n",
    "print(\"Erro da CNN: %.2f%%\" % (100-scores[1]*100))\n",
    "print(\"Acurácia da CNN: %.2f%%\" % (scores[1]*100))\n",
    "X_train_hsv_grayscale = None\n",
    "Y_train_hsv_grayscale = None\n",
    "x_val_hsv_grayscale = None\n",
    "y_val_hsv_grayscale = None"
   ]
  },
  {
   "cell_type": "markdown",
   "metadata": {},
   "source": [
    "#model = CNN_AlexNet(num_frutas,224,4)\n",
    "#model.compile(loss='categorical_crossentropy', optimizer='adam', metrics=['accuracy'])\n",
    "#history = model.fit(X_train, Y_train, validation_split = 0.2, epochs=10, batch_size=60)\n",
    "#plot_history(history)\n",
    "#scores = model.evaluate(X_train, Y_train, verbose=0)\n",
    "#print(\"Erro da CNN: %.2f%%\" % (100-scores[1]*100))\n",
    "#print(\"Acurácia da CNN: %.2f%%\" % (scores[1]*100))"
   ]
  },
  {
   "cell_type": "markdown",
   "metadata": {},
   "source": [
    "# Teste"
   ]
  },
  {
   "cell_type": "code",
   "execution_count": null,
   "metadata": {},
   "outputs": [],
   "source": [
    "X_frutas, Y_frutas = get_dados(path_teste, 100)\n",
    "X_test = np.asarray(X_frutas).astype(np.float32)\n",
    "Y_test = np.asarray(Y_frutas)\n",
    "X_test = X_test.astype('float32')/255\n",
    "Y_test = to_categorical(Y_test, num_frutas)\n",
    "model = load_model('./modelo_cnn_8.hdf5')\n",
    "scores = model.evaluate(X_test, Y_test, verbose=0)\n",
    "print(\"Erro da CNN: %.2f%%\" % (100-scores[1]*100))\n",
    "print(\"Acurária da CNN: %.2f%%\" % (scores[1]*100))"
   ]
  },
  {
   "cell_type": "code",
   "execution_count": null,
   "metadata": {},
   "outputs": [],
   "source": [
    "X_frutas, Y_frutas = get_dados_grayscale(path_teste, 28)\n",
    "X_test_grayscale = np.asarray(X_frutas).astype(np.float32)\n",
    "Y_test_grayscale = np.asarray(Y_frutas)\n",
    "X_test_grayscale = X_test_grayscale.astype('float32')/255\n",
    "Y_test_grayscale = to_categorical(Y_test_grayscale, num_frutas)\n",
    "model = load_model('./modelo_cnn_LeNet_8.hdf5')\n",
    "scores = model.evaluate(X_test_grayscale, Y_test_grayscale, verbose=0)\n",
    "print(\"Erro da CNN: %.2f%%\" % (100-scores[1]*100))\n",
    "print(\"Acurária da CNN: %.2f%%\" % (scores[1]*100))"
   ]
  },
  {
   "cell_type": "code",
   "execution_count": null,
   "metadata": {
    "tags": []
   },
   "outputs": [],
   "source": [
    "X_frutas, Y_frutas = get_dados_hsv_grayscale(path_teste, 28)\n",
    "X_test_hsv_grayscale = np.asarray(X_frutas).astype(np.float32)\n",
    "Y_test_hsv_grayscale = np.asarray(Y_frutas)\n",
    "X_test_hsv_grayscale = X_test_hsv_grayscale.astype('float32')/255\n",
    "Y_test_hsv_grayscale = to_categorical(Y_test_hsv_grayscale, num_frutas)\n",
    "model = load_model('./modelo_cnn_AlexNet_8.hdf5')\n",
    "scores = model.evaluate(X_test_hsv_grayscale, Y_test_hsv_grayscale, verbose=0)\n",
    "print(\"Erro da CNN: %.2f%%\" % (100-scores[1]*100))\n",
    "print(\"Acurária da CNN: %.2f%%\" % (scores[1]*100))"
   ]
  },
  {
   "cell_type": "code",
   "execution_count": null,
   "metadata": {},
   "outputs": [],
   "source": [
    "print (\"Fim Execução : \")\n",
    "print (datetime.now().strftime(\"%Y-%m-%d %H:%M:%S\"))"
   ]
  }
 ],
 "metadata": {
  "kernelspec": {
   "display_name": "Python 3",
   "language": "python",
   "name": "python3"
  },
  "language_info": {
   "codemirror_mode": {
    "name": "ipython",
    "version": 3
   },
   "file_extension": ".py",
   "mimetype": "text/x-python",
   "name": "python",
   "nbconvert_exporter": "python",
   "pygments_lexer": "ipython3",
   "version": "3.7.10"
  }
 },
 "nbformat": 4,
 "nbformat_minor": 4
}
