{
 "cells": [
  {
   "cell_type": "markdown",
   "source": [
    "## Bibliotecas Utilizadas"
   ],
   "metadata": {}
  },
  {
   "cell_type": "code",
   "execution_count": 189,
   "source": [
    "import os\r\n",
    "import cv2\r\n",
    "import numpy as np\r\n",
    "import matplotlib.pyplot as plt\r\n",
    "import tensorflow as tf\r\n",
    "\r\n",
    "from sklearn.model_selection import train_test_split\r\n",
    "\r\n",
    "from tensorflow.keras.utils import to_categorical\r\n",
    "from keras.models import Sequential, load_model\r\n",
    "from keras.layers import Dense\r\n",
    "from keras.layers import Dropout\r\n",
    "from keras.layers import Flatten\r\n",
    "from keras.layers.convolutional import Conv2D\r\n",
    "from keras.layers.convolutional import MaxPooling2D, AveragePooling2D\r\n",
    "from keras.utils import np_utils\r\n",
    "from keras.callbacks import ModelCheckpoint\r\n",
    "from keras.utils.vis_utils import plot_model\r\n",
    "from keras import backend as K\r\n",
    "from keras.preprocessing.image import img_to_array, load_img, array_to_img\r\n",
    "from datetime import datetime, time\r\n",
    "\r\n"
   ],
   "outputs": [],
   "metadata": {}
  },
  {
   "cell_type": "code",
   "execution_count": 2,
   "source": [
    "print (\"Início Execução : \")\r\n",
    "print (datetime.now().strftime(\"%Y-%m-%d %H:%M:%S\"))"
   ],
   "outputs": [
    {
     "output_type": "stream",
     "name": "stdout",
     "text": [
      "Início Execução : \n",
      "2021-07-19 16:48:58\n"
     ]
    }
   ],
   "metadata": {}
  },
  {
   "cell_type": "markdown",
   "source": [
    "# Carregando os dados "
   ],
   "metadata": {}
  },
  {
   "cell_type": "code",
   "execution_count": 196,
   "source": [
    "path_treino = './data/frutas/Training' \r\n",
    "path_teste = './data/frutas/Test'"
   ],
   "outputs": [],
   "metadata": {}
  },
  {
   "cell_type": "code",
   "execution_count": 198,
   "source": [
    "def get_dados(path, numero_frutas):\r\n",
    "    lista_dir = os.listdir(path)\r\n",
    "    X = []\r\n",
    "    Y = []\r\n",
    "    fruta_num = 0\r\n",
    "    passo = len(lista_dir)/numero_frutas\r\n",
    "    for idx, fruta in enumerate(lista_dir):\r\n",
    "        if (idx % passo != 0):\r\n",
    "        #if (idx == numero_frutas):\r\n",
    "            continue\r\n",
    "            #break\r\n",
    "        lista_img = os.listdir(f\"{path}/{fruta}\")\r\n",
    "        print(f\"{fruta_num} - {idx} - {fruta} - {len(lista_img)}\")\r\n",
    "        #counter = 0\r\n",
    "        for img in lista_img:\r\n",
    "            arquivo = f\"{path}/{fruta}/{img}\"\r\n",
    "            img_fruta = img_to_array(load_img(arquivo, target_size=(32, 32)))\r\n",
    "            X.append(img_fruta)\r\n",
    "            Y.append(fruta_num)\r\n",
    "            #counter += 1\r\n",
    "            #if counter == 450:\r\n",
    "            #    break\r\n",
    "        fruta_num = fruta_num + 1    \r\n",
    "    return (X, Y)"
   ],
   "outputs": [],
   "metadata": {}
  },
  {
   "cell_type": "code",
   "execution_count": 199,
   "source": [
    "def plot_history(history):\r\n",
    "    acc = history.history['accuracy']\r\n",
    "    val_acc = history.history['val_accuracy']\r\n",
    "    loss = history.history['loss']\r\n",
    "    val_loss = history.history['val_loss']\r\n",
    "    x = range(1, len(acc) + 1)\r\n",
    "    plt.figure(figsize=(12, 5))\r\n",
    "    plt.subplot(1, 2, 1)\r\n",
    "    plt.plot(x, acc, 'b', label='Training Accuracy')\r\n",
    "    plt.plot(x, val_acc, 'r', label='Validation Accuracy')\r\n",
    "    plt.title('Training and validation Accuracy')\r\n",
    "    plt.subplot(1, 2, 2)\r\n",
    "    plt.plot(x, loss, 'b', label='Training loss')\r\n",
    "    plt.plot(x, val_loss, 'r', label='Validation loss')\r\n",
    "    plt.title('Training and validation loss')\r\n",
    "    plt.legend()"
   ],
   "outputs": [],
   "metadata": {}
  },
  {
   "cell_type": "code",
   "execution_count": 200,
   "source": [
    "num_frutas = 15"
   ],
   "outputs": [],
   "metadata": {}
  },
  {
   "cell_type": "code",
   "execution_count": 201,
   "source": [
    "X_frutas, Y_frutas = get_dados(path_treino, num_frutas)"
   ],
   "outputs": [
    {
     "output_type": "stream",
     "name": "stdout",
     "text": [
      "0 - 0 - Apple Braeburn - 492\n",
      "1 - 8 - Apple Red 2 - 492\n",
      "2 - 16 - Banana - 490\n",
      "3 - 24 - Carambula - 490\n",
      "4 - 32 - Chestnut - 450\n",
      "5 - 40 - Grape Pink - 492\n",
      "6 - 48 - Hazelnut - 464\n",
      "7 - 56 - Limes - 490\n",
      "8 - 64 - Mulberry - 492\n",
      "9 - 72 - Orange - 479\n",
      "10 - 80 - Pear Forelle - 702\n",
      "11 - 88 - Pepper Yellow - 666\n",
      "12 - 96 - Plum 3 - 900\n",
      "13 - 104 - Rambutan - 492\n",
      "14 - 112 - Tomato 1 - 738\n"
     ]
    }
   ],
   "metadata": {}
  },
  {
   "cell_type": "code",
   "execution_count": 202,
   "source": [
    "plt.figure(figsize=(5,5))\r\n",
    "plt.imshow(array_to_img(X_frutas[0]))"
   ],
   "outputs": [
    {
     "output_type": "execute_result",
     "data": {
      "text/plain": [
       "<matplotlib.image.AxesImage at 0x20a5caf7280>"
      ]
     },
     "metadata": {},
     "execution_count": 202
    },
    {
     "output_type": "display_data",
     "data": {
      "text/plain": [
       "<Figure size 360x360 with 1 Axes>"
      ],
      "image/png": "[encoded data removed]"
     },
     "metadata": {
      "needs_background": "light"
     }
    }
   ],
   "metadata": {}
  },
  {
   "cell_type": "code",
   "execution_count": 203,
   "source": [
    "Y_frutas[0]"
   ],
   "outputs": [
    {
     "output_type": "execute_result",
     "data": {
      "text/plain": [
       "0"
      ]
     },
     "metadata": {},
     "execution_count": 203
    }
   ],
   "metadata": {}
  },
  {
   "cell_type": "code",
   "execution_count": 204,
   "source": [
    "len(X_frutas)"
   ],
   "outputs": [
    {
     "output_type": "execute_result",
     "data": {
      "text/plain": [
       "8329"
      ]
     },
     "metadata": {},
     "execution_count": 204
    }
   ],
   "metadata": {}
  },
  {
   "cell_type": "code",
   "execution_count": 205,
   "source": [
    "len(Y_frutas)"
   ],
   "outputs": [
    {
     "output_type": "execute_result",
     "data": {
      "text/plain": [
       "8329"
      ]
     },
     "metadata": {},
     "execution_count": 205
    }
   ],
   "metadata": {}
  },
  {
   "cell_type": "code",
   "execution_count": 206,
   "source": [
    "X_train = np.asarray(X_frutas).astype(np.float32)\r\n",
    "Y_train = np.asarray(Y_frutas)"
   ],
   "outputs": [],
   "metadata": {}
  },
  {
   "cell_type": "code",
   "execution_count": 207,
   "source": [
    "X_train.shape"
   ],
   "outputs": [
    {
     "output_type": "execute_result",
     "data": {
      "text/plain": [
       "(8329, 32, 32, 3)"
      ]
     },
     "metadata": {},
     "execution_count": 207
    }
   ],
   "metadata": {}
  },
  {
   "cell_type": "code",
   "execution_count": 208,
   "source": [
    "Y_train.shape"
   ],
   "outputs": [
    {
     "output_type": "execute_result",
     "data": {
      "text/plain": [
       "(8329,)"
      ]
     },
     "metadata": {},
     "execution_count": 208
    }
   ],
   "metadata": {}
  },
  {
   "cell_type": "code",
   "execution_count": 209,
   "source": [
    "X_train = X_train/255"
   ],
   "outputs": [],
   "metadata": {}
  },
  {
   "cell_type": "code",
   "execution_count": 210,
   "source": [
    "Y_train = to_categorical(Y_train, num_frutas)"
   ],
   "outputs": [],
   "metadata": {}
  },
  {
   "cell_type": "code",
   "execution_count": 211,
   "source": [
    "Y_train.shape"
   ],
   "outputs": [
    {
     "output_type": "execute_result",
     "data": {
      "text/plain": [
       "(8329, 15)"
      ]
     },
     "metadata": {},
     "execution_count": 211
    }
   ],
   "metadata": {}
  },
  {
   "cell_type": "code",
   "execution_count": 212,
   "source": [
    "X_train, X_val, y_train, y_val = train_test_split(X_train, Y_train, test_size=0.2, random_state=42)"
   ],
   "outputs": [],
   "metadata": {}
  },
  {
   "cell_type": "code",
   "execution_count": 213,
   "source": [
    "# Cria o modelo\r\n",
    "model = Sequential()\r\n",
    "#Convolução 2D \r\n",
    "model.add(Conv2D(6, (5, 5), input_shape=(32, 32, 3), activation='relu'))\r\n",
    "#Camada de Pooling \t    \r\n",
    "#model.add(MaxPooling2D(pool_size=(2, 2)))\r\n",
    "model.add(AveragePooling2D(pool_size=(2, 2)))\r\n",
    "#model.add(Dropout(0.2))\r\n",
    "#Convolução 2D\r\n",
    "model.add(Conv2D(16, (5, 5), activation='relu'))\r\n",
    "#Camada de Pooling \t    \r\n",
    "#model.add(MaxPooling2D(pool_size=(2, 2)))\r\n",
    "model.add(AveragePooling2D(pool_size=(2, 2)))\r\n",
    "#model.add(Dropout(0.2))\r\n",
    "#Converte o conjunto de imagens e um vetor unidimensional para a entrada da rede neural totalmente conectada\r\n",
    "model.add(Flatten())\r\n",
    "model.add(Dense(16, activation='relu'))\r\n",
    "#model.add(Dropout(0.4))\r\n",
    "model.add(Dense(8, activation='relu'))\r\n",
    "#model.add(Dropout(0.4))\r\n",
    "model.add(Dense(num_frutas, activation='softmax'))\r\n",
    "model.summary()"
   ],
   "outputs": [],
   "metadata": {}
  },
  {
   "cell_type": "code",
   "execution_count": 214,
   "source": [
    "plot_model(model, show_shapes=True, show_layer_names=True)"
   ],
   "outputs": [],
   "metadata": {}
  },
  {
   "cell_type": "code",
   "execution_count": 215,
   "source": [
    "model.compile(loss='categorical_crossentropy', optimizer='adam', metrics=['accuracy'])"
   ],
   "outputs": [],
   "metadata": {}
  },
  {
   "cell_type": "code",
   "execution_count": 216,
   "source": [
    "checkpointer = ModelCheckpoint(filepath='./modelo_mlp_ex8_1.hdf5', verbose=1,  save_best_only=True, monitor='val_accuracy')\r\n",
    "\r\n",
    "history = model.fit(X_train, y_train, validation_data = (X_val, y_val), epochs=50, batch_size=32, callbacks=[checkpointer], verbose=1)"
   ],
   "outputs": [],
   "metadata": {}
  },
  {
   "cell_type": "code",
   "execution_count": 217,
   "source": [
    "plot_history(history)"
   ],
   "outputs": [
    {
     "output_type": "display_data",
     "data": {
      "text/plain": [
       "<Figure size 864x360 with 2 Axes>"
      ],
      "image/png": "[encoded data removed]"
     },
     "metadata": {
      "needs_background": "light"
     }
    }
   ],
   "metadata": {}
  },
  {
   "cell_type": "code",
   "execution_count": 218,
   "source": [
    "model = load_model(\"./modelo_mlp_ex8_1.hdf5\")"
   ],
   "outputs": [],
   "metadata": {}
  },
  {
   "cell_type": "code",
   "execution_count": 228,
   "source": [
    "scores = model.evaluate(X_train, y_train)\r\n",
    "print()\r\n",
    "print(f\"Acuracia do Treino: {round(scores[1]*100,2)}%\")"
   ],
   "outputs": [
    {
     "output_type": "stream",
     "name": "stdout",
     "text": [
      "209/209 [==============================] - 0s 2ms/step - loss: 0.0115 - accuracy: 0.9991\n",
      "\n",
      "Acuracia do Treino: 95.45%\n"
     ]
    }
   ],
   "metadata": {}
  },
  {
   "cell_type": "code",
   "execution_count": 221,
   "source": [
    "X_frutas, Y_frutas = get_dados(path_teste, num_frutas)"
   ],
   "outputs": [
    {
     "output_type": "stream",
     "name": "stdout",
     "text": [
      "0 - 0 - Apple Braeburn - 164\n",
      "1 - 8 - Apple Red 2 - 164\n",
      "2 - 16 - Banana - 166\n",
      "3 - 24 - Carambula - 166\n",
      "4 - 32 - Chestnut - 153\n",
      "5 - 40 - Grape Pink - 164\n",
      "6 - 48 - Hazelnut - 157\n",
      "7 - 56 - Limes - 166\n",
      "8 - 64 - Mulberry - 164\n",
      "9 - 72 - Orange - 160\n",
      "10 - 80 - Pear Forelle - 234\n",
      "11 - 88 - Pepper Yellow - 222\n",
      "12 - 96 - Plum 3 - 304\n",
      "13 - 104 - Rambutan - 164\n",
      "14 - 112 - Tomato 1 - 246\n"
     ]
    }
   ],
   "metadata": {}
  },
  {
   "cell_type": "code",
   "execution_count": 222,
   "source": [
    "X_test = np.asarray(X_frutas).astype(np.float32)\r\n",
    "y_test = np.asarray(Y_frutas)"
   ],
   "outputs": [],
   "metadata": {}
  },
  {
   "cell_type": "code",
   "execution_count": 223,
   "source": [
    "X_test = X_test/255\r\n",
    "y_test = to_categorical(Y_test, num_frutas)"
   ],
   "outputs": [],
   "metadata": {}
  },
  {
   "cell_type": "code",
   "execution_count": 224,
   "source": [
    "X_test.shape"
   ],
   "outputs": [
    {
     "output_type": "execute_result",
     "data": {
      "text/plain": [
       "(2794, 32, 32, 3)"
      ]
     },
     "metadata": {},
     "execution_count": 224
    }
   ],
   "metadata": {}
  },
  {
   "cell_type": "code",
   "execution_count": 225,
   "source": [
    "y_test.shape"
   ],
   "outputs": [
    {
     "output_type": "execute_result",
     "data": {
      "text/plain": [
       "(2794, 15)"
      ]
     },
     "metadata": {},
     "execution_count": 225
    }
   ],
   "metadata": {}
  },
  {
   "cell_type": "code",
   "execution_count": 229,
   "source": [
    "scores = model.evaluate(X_test, y_test)\r\n",
    "print()\r\n",
    "print(f\"Acuracia do Teste: {round(scores[1]*100,2)}%\")"
   ],
   "outputs": [
    {
     "output_type": "error",
     "ename": "NameError",
     "evalue": "name 'y_test' is not defined",
     "traceback": [
      "\u001b[1;31m---------------------------------------------------------------------------\u001b[0m",
      "\u001b[1;31mNameError\u001b[0m                                 Traceback (most recent call last)",
      "\u001b[1;32m<ipython-input-229-6662646aba46>\u001b[0m in \u001b[0;36m<module>\u001b[1;34m\u001b[0m\n\u001b[1;32m----> 1\u001b[1;33m \u001b[0mscores\u001b[0m \u001b[1;33m=\u001b[0m \u001b[0mmodel\u001b[0m\u001b[1;33m.\u001b[0m\u001b[0mevaluate\u001b[0m\u001b[1;33m(\u001b[0m\u001b[0mX_test\u001b[0m\u001b[1;33m,\u001b[0m \u001b[0my_test\u001b[0m\u001b[1;33m)\u001b[0m\u001b[1;33m\u001b[0m\u001b[1;33m\u001b[0m\u001b[0m\n\u001b[0m\u001b[0;32m      2\u001b[0m \u001b[0mprint\u001b[0m\u001b[1;33m(\u001b[0m\u001b[1;33m)\u001b[0m\u001b[1;33m\u001b[0m\u001b[1;33m\u001b[0m\u001b[0m\n\u001b[0;32m      3\u001b[0m \u001b[0mprint\u001b[0m\u001b[1;33m(\u001b[0m\u001b[1;34mf\"Acuracia do Teste: {round(scores[1]*100,2)}%\"\u001b[0m\u001b[1;33m)\u001b[0m\u001b[1;33m\u001b[0m\u001b[1;33m\u001b[0m\u001b[0m\n",
      "\u001b[1;31mNameError\u001b[0m: name 'y_test' is not defined"
     ]
    }
   ],
   "metadata": {}
  },
  {
   "cell_type": "code",
   "execution_count": 227,
   "source": [
    "print (\"Fim Execução : \")\r\n",
    "print (datetime.now().strftime(\"%Y-%m-%d %H:%M:%S\"))"
   ],
   "outputs": [
    {
     "output_type": "stream",
     "name": "stdout",
     "text": [
      "Fim Execução : \n",
      "2021-07-19 18:10:08\n"
     ]
    }
   ],
   "metadata": {}
  }
 ],
 "metadata": {
  "kernelspec": {
   "display_name": "Python 3",
   "language": "python",
   "name": "python3"
  },
  "language_info": {
   "codemirror_mode": {
    "name": "ipython",
    "version": 3
   },
   "file_extension": ".py",
   "mimetype": "text/x-python",
   "name": "python",
   "nbconvert_exporter": "python",
   "pygments_lexer": "ipython3",
   "version": "3.7.10"
  }
 },
 "nbformat": 4,
 "nbformat_minor": 4
}