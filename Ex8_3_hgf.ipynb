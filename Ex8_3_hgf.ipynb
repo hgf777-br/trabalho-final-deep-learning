{
 "cells": [
  {
   "cell_type": "markdown",
   "source": [
    "# Bibliotecas"
   ],
   "metadata": {}
  },
  {
   "cell_type": "code",
   "execution_count": 1,
   "source": [
    "import os\r\n",
    "import numpy as np\r\n",
    "import pandas as pd\r\n",
    "import matplotlib.pyplot as plt\r\n",
    "import seaborn as sns\r\n",
    "import tensorflow as tf\r\n",
    "\r\n",
    "from sklearn.model_selection import train_test_split\r\n",
    "\r\n",
    "from tensorflow.keras.utils import to_categorical\r\n",
    "import keras.backend as K\r\n",
    "from keras.models import Sequential, load_model\r\n",
    "from keras.layers import Dense\r\n",
    "from keras.layers import Dropout\r\n",
    "from keras.layers import Flatten\r\n",
    "from keras.layers.convolutional import Conv2D\r\n",
    "from keras.layers.convolutional import MaxPooling2D, AveragePooling2D\r\n",
    "from keras.utils import np_utils\r\n",
    "from keras.callbacks import ModelCheckpoint\r\n",
    "from keras.utils.vis_utils import plot_model\r\n",
    "from keras.preprocessing.image import img_to_array, load_img, array_to_img\r\n",
    "from datetime import datetime, time"
   ],
   "outputs": [],
   "metadata": {}
  },
  {
   "cell_type": "code",
   "execution_count": 2,
   "source": [
    "print(\"Num GPUs Available: \", len(tf.config.experimental.list_physical_devices('GPU')))"
   ],
   "outputs": [
    {
     "output_type": "stream",
     "name": "stdout",
     "text": [
      "Num GPUs Available:  1\n"
     ]
    }
   ],
   "metadata": {}
  },
  {
   "cell_type": "code",
   "execution_count": 3,
   "source": [
    "print (\"Início Execução : \")\r\n",
    "print (datetime.now().strftime(\"%Y-%m-%d %H:%M:%S\"))"
   ],
   "outputs": [
    {
     "output_type": "stream",
     "name": "stdout",
     "text": [
      "Início Execução : \n",
      "2021-07-23 16:53:40\n"
     ]
    }
   ],
   "metadata": {}
  },
  {
   "cell_type": "markdown",
   "source": [
    "# Funções Auxiliares"
   ],
   "metadata": {}
  },
  {
   "cell_type": "code",
   "execution_count": 4,
   "source": [
    "def get_dados(path, df):\r\n",
    "    X = []\r\n",
    "    Y = []\r\n",
    "    print(f\"Serão carregadas {df.shape[0]} imagens\")\r\n",
    "    for idx, image, label in zip(df.index, df.image, df.label):\r\n",
    "        if (idx % 100 == 0):\r\n",
    "            print(idx, end=' : ')\r\n",
    "        arquivo = f\"{path}/{image}\"\r\n",
    "        img_xray = img_to_array(load_img(arquivo, color_mode='grayscale', target_size=(64, 64)))\r\n",
    "        X.append(img_xray)\r\n",
    "        if (label == 'Normal'):\r\n",
    "            Y.append(0)\r\n",
    "        else:\r\n",
    "            Y.append(1)\r\n",
    "            \r\n",
    "    return (X, Y)\r\n",
    "\r\n",
    "def plot_history(history):\r\n",
    "    acc = history.history['accuracy']\r\n",
    "    val_acc = history.history['val_accuracy']\r\n",
    "    f1 = history.history['get_f1']\r\n",
    "    val_f1 = history.history['val_get_f1']\r\n",
    "    loss = history.history['loss']\r\n",
    "    val_loss = history.history['val_loss']\r\n",
    "    x = range(1, len(acc) + 1)\r\n",
    "\r\n",
    "    plt.figure(figsize=(16, 8))\r\n",
    "    plt.subplot(1, 2, 1)\r\n",
    "    plt.plot(x, acc, 'b', label='Training Accuracy')\r\n",
    "    plt.plot(x, f1, 'k', label='Training F1 Score')\r\n",
    "    plt.plot(x, val_acc, 'r', label='Validation Accuracy')\r\n",
    "    plt.plot(x, val_f1, 'g', label='Validation F1 Score')\r\n",
    "    plt.title('Acurácia e F1 Score')\r\n",
    "    plt.legend()\r\n",
    "    plt.subplot(1, 2, 2)\r\n",
    "    plt.plot(x, loss, 'b', label='Training loss')\r\n",
    "    plt.plot(x, val_loss, 'r', label='Validation loss')\r\n",
    "    plt.title('Perda')\r\n",
    "    plt.legend()\r\n",
    "    \r\n",
    "class ModelCheckpoint_tweaked(tf.keras.callbacks.ModelCheckpoint):\r\n",
    "    def __init__(self,\r\n",
    "                   filepath,\r\n",
    "                   monitor='val_loss',\r\n",
    "                   verbose=0,\r\n",
    "                   save_best_only=False,\r\n",
    "                   save_weights_only=False,\r\n",
    "                   mode='auto',\r\n",
    "                   save_freq='epoch',\r\n",
    "                   options=None,\r\n",
    "                   **kwargs):\r\n",
    "        \r\n",
    "        #Change tf_utils source package.\r\n",
    "        from tensorflow.python.keras.utils import tf_utils\r\n",
    "        \r\n",
    "        super(ModelCheckpoint_tweaked, self).__init__(filepath,\r\n",
    "                   monitor,\r\n",
    "                   verbose,\r\n",
    "                   save_best_only,\r\n",
    "                   save_weights_only,\r\n",
    "                   mode,\r\n",
    "                   save_freq,\r\n",
    "                   options,\r\n",
    "                   **kwargs)\r\n",
    "        \r\n",
    "def get_f1(y_true, y_pred): #taken from old keras source code\r\n",
    "    true_positives = K.sum(K.round(K.clip(y_true * y_pred, 0, 1)))\r\n",
    "    possible_positives = K.sum(K.round(K.clip(y_true, 0, 1)))\r\n",
    "    predicted_positives = K.sum(K.round(K.clip(y_pred, 0, 1)))\r\n",
    "    precision = true_positives / (predicted_positives + K.epsilon())\r\n",
    "    recall = true_positives / (possible_positives + K.epsilon())\r\n",
    "    f1_val = 2*(precision*recall)/(precision+recall+K.epsilon())\r\n",
    "    return f1_val    "
   ],
   "outputs": [],
   "metadata": {}
  },
  {
   "cell_type": "markdown",
   "source": [
    "# Carregando os dados "
   ],
   "metadata": {}
  },
  {
   "cell_type": "code",
   "execution_count": 5,
   "source": [
    "path_treino = './data/Xray/train' \r\n",
    "path_teste = './data/Xray/test'"
   ],
   "outputs": [],
   "metadata": {}
  },
  {
   "cell_type": "code",
   "execution_count": 6,
   "source": [
    "df = pd.read_csv(\"./data/Xray/Chest_xray_Corona_Metadata.csv\", usecols=[1,2,3], header=0, names=['image', 'label', 'dataset'])"
   ],
   "outputs": [],
   "metadata": {}
  },
  {
   "cell_type": "code",
   "execution_count": 7,
   "source": [
    "df.head()"
   ],
   "outputs": [
    {
     "output_type": "execute_result",
     "data": {
      "text/plain": [
       "               image   label dataset\n",
       "0  IM-0128-0001.jpeg  Normal   TRAIN\n",
       "1  IM-0127-0001.jpeg  Normal   TRAIN\n",
       "2  IM-0125-0001.jpeg  Normal   TRAIN\n",
       "3  IM-0122-0001.jpeg  Normal   TRAIN\n",
       "4  IM-0119-0001.jpeg  Normal   TRAIN"
      ],
      "text/html": [
       "<div>\n",
       "<style scoped>\n",
       "    .dataframe tbody tr th:only-of-type {\n",
       "        vertical-align: middle;\n",
       "    }\n",
       "\n",
       "    .dataframe tbody tr th {\n",
       "        vertical-align: top;\n",
       "    }\n",
       "\n",
       "    .dataframe thead th {\n",
       "        text-align: right;\n",
       "    }\n",
       "</style>\n",
       "<table border=\"1\" class=\"dataframe\">\n",
       "  <thead>\n",
       "    <tr style=\"text-align: right;\">\n",
       "      <th></th>\n",
       "      <th>image</th>\n",
       "      <th>label</th>\n",
       "      <th>dataset</th>\n",
       "    </tr>\n",
       "  </thead>\n",
       "  <tbody>\n",
       "    <tr>\n",
       "      <th>0</th>\n",
       "      <td>IM-0128-0001.jpeg</td>\n",
       "      <td>Normal</td>\n",
       "      <td>TRAIN</td>\n",
       "    </tr>\n",
       "    <tr>\n",
       "      <th>1</th>\n",
       "      <td>IM-0127-0001.jpeg</td>\n",
       "      <td>Normal</td>\n",
       "      <td>TRAIN</td>\n",
       "    </tr>\n",
       "    <tr>\n",
       "      <th>2</th>\n",
       "      <td>IM-0125-0001.jpeg</td>\n",
       "      <td>Normal</td>\n",
       "      <td>TRAIN</td>\n",
       "    </tr>\n",
       "    <tr>\n",
       "      <th>3</th>\n",
       "      <td>IM-0122-0001.jpeg</td>\n",
       "      <td>Normal</td>\n",
       "      <td>TRAIN</td>\n",
       "    </tr>\n",
       "    <tr>\n",
       "      <th>4</th>\n",
       "      <td>IM-0119-0001.jpeg</td>\n",
       "      <td>Normal</td>\n",
       "      <td>TRAIN</td>\n",
       "    </tr>\n",
       "  </tbody>\n",
       "</table>\n",
       "</div>"
      ]
     },
     "metadata": {},
     "execution_count": 7
    }
   ],
   "metadata": {}
  },
  {
   "cell_type": "code",
   "execution_count": 8,
   "source": [
    "df_train = df[df.dataset == 'TRAIN']\r\n",
    "df_test = df[df.dataset == 'TEST']"
   ],
   "outputs": [],
   "metadata": {}
  },
  {
   "cell_type": "code",
   "execution_count": 9,
   "source": [
    "sns.countplot(x =df_train.label)\r\n",
    "plt.title('Distribuição da variável resposta para o Treino')\r\n",
    "plt.xlabel('Target')\r\n",
    "plt.xticks()\r\n",
    "plt.show()"
   ],
   "outputs": [
    {
     "output_type": "display_data",
     "data": {
      "text/plain": [
       "<Figure size 432x288 with 1 Axes>"
      ],
      "image/png": "[encoded data removed]"
     },
     "metadata": {
      "needs_background": "light"
     }
    }
   ],
   "metadata": {}
  },
  {
   "cell_type": "code",
   "execution_count": 10,
   "source": [
    "sns.countplot(x =df_test.label)\r\n",
    "plt.title('Distribuição da variável resposta para o Teste')\r\n",
    "plt.xlabel('Target')\r\n",
    "plt.xticks()\r\n",
    "plt.show()"
   ],
   "outputs": [
    {
     "output_type": "display_data",
     "data": {
      "text/plain": [
       "<Figure size 432x288 with 1 Axes>"
      ],
      "image/png": "[encoded data removed]"
     },
     "metadata": {
      "needs_background": "light"
     }
    }
   ],
   "metadata": {}
  },
  {
   "cell_type": "code",
   "execution_count": 11,
   "source": [
    "# carregando as imagens com tamanho 64x64 (para a LENET5) e os labels em memória\r\n",
    "X_xray, y_xray = get_dados(path_treino, df_train)"
   ],
   "outputs": [
    {
     "output_type": "stream",
     "name": "stdout",
     "text": [
      "Serão carregadas 5286 imagens\n",
      "0 : 100 : 200 : 300 : 400 : 500 : 600 : 700 : 800 : 900 : 1000 : 1100 : 1200 : 1300 : 1400 : 1500 : 1600 : 1700 : 1800 : 1900 : 2000 : 2100 : 2200 : 2300 : 2400 : 2500 : 2600 : 2700 : 2800 : 2900 : 3000 : 3100 : 3200 : 3300 : 3400 : 3500 : 3600 : 3700 : 3800 : 3900 : 4000 : 4100 : 4200 : 4300 : 4400 : 4500 : 4600 : 4700 : 4800 : 4900 : 5000 : 5100 : 5200 : "
     ]
    }
   ],
   "metadata": {}
  },
  {
   "cell_type": "code",
   "execution_count": 12,
   "source": [
    "X_xray[0].shape"
   ],
   "outputs": [
    {
     "output_type": "execute_result",
     "data": {
      "text/plain": [
       "(64, 64, 1)"
      ]
     },
     "metadata": {},
     "execution_count": 12
    }
   ],
   "metadata": {}
  },
  {
   "cell_type": "code",
   "execution_count": 13,
   "source": [
    "plt.figure(figsize=(5,5))\r\n",
    "idx = 2765\r\n",
    "plt.imshow(array_to_img(X_xray[idx]), cmap=\"gray\")\r\n",
    "print(df.image[idx])"
   ],
   "outputs": [
    {
     "output_type": "stream",
     "name": "stdout",
     "text": [
      "person1669_bacteria_4422.jpeg\n"
     ]
    },
    {
     "output_type": "display_data",
     "data": {
      "text/plain": [
       "<Figure size 360x360 with 1 Axes>"
      ],
      "image/png": "[encoded data removed]"
     },
     "metadata": {
      "needs_background": "light"
     }
    }
   ],
   "metadata": {}
  },
  {
   "cell_type": "code",
   "execution_count": 14,
   "source": [
    "y_xray[:10]"
   ],
   "outputs": [
    {
     "output_type": "execute_result",
     "data": {
      "text/plain": [
       "[0, 0, 0, 0, 0, 0, 0, 0, 0, 0]"
      ]
     },
     "metadata": {},
     "execution_count": 14
    }
   ],
   "metadata": {}
  },
  {
   "cell_type": "code",
   "execution_count": 15,
   "source": [
    "len(X_xray)"
   ],
   "outputs": [
    {
     "output_type": "execute_result",
     "data": {
      "text/plain": [
       "5286"
      ]
     },
     "metadata": {},
     "execution_count": 15
    }
   ],
   "metadata": {}
  },
  {
   "cell_type": "code",
   "execution_count": 16,
   "source": [
    "len(y_xray)"
   ],
   "outputs": [
    {
     "output_type": "execute_result",
     "data": {
      "text/plain": [
       "5286"
      ]
     },
     "metadata": {},
     "execution_count": 16
    }
   ],
   "metadata": {}
  },
  {
   "cell_type": "code",
   "execution_count": 17,
   "source": [
    "X_xray[0]"
   ],
   "outputs": [
    {
     "output_type": "execute_result",
     "data": {
      "text/plain": [
       "array([[[ 0.],\n",
       "        [ 8.],\n",
       "        [30.],\n",
       "        ...,\n",
       "        [27.],\n",
       "        [18.],\n",
       "        [ 6.]],\n",
       "\n",
       "       [[ 0.],\n",
       "        [ 1.],\n",
       "        [20.],\n",
       "        ...,\n",
       "        [25.],\n",
       "        [17.],\n",
       "        [ 3.]],\n",
       "\n",
       "       [[ 0.],\n",
       "        [ 0.],\n",
       "        [16.],\n",
       "        ...,\n",
       "        [15.],\n",
       "        [ 6.],\n",
       "        [ 1.]],\n",
       "\n",
       "       ...,\n",
       "\n",
       "       [[ 0.],\n",
       "        [ 0.],\n",
       "        [ 0.],\n",
       "        ...,\n",
       "        [ 0.],\n",
       "        [ 0.],\n",
       "        [ 0.]],\n",
       "\n",
       "       [[ 0.],\n",
       "        [ 0.],\n",
       "        [ 0.],\n",
       "        ...,\n",
       "        [ 0.],\n",
       "        [ 0.],\n",
       "        [ 0.]],\n",
       "\n",
       "       [[ 0.],\n",
       "        [ 0.],\n",
       "        [ 0.],\n",
       "        ...,\n",
       "        [ 0.],\n",
       "        [ 0.],\n",
       "        [ 0.]]], dtype=float32)"
      ]
     },
     "metadata": {},
     "execution_count": 17
    }
   ],
   "metadata": {}
  },
  {
   "cell_type": "code",
   "execution_count": 18,
   "source": [
    "X = np.asarray(X_xray).astype(np.float32)\r\n",
    "Y = np.asarray(y_xray)"
   ],
   "outputs": [],
   "metadata": {}
  },
  {
   "cell_type": "markdown",
   "source": [
    "## Padronizando os dados, que estão entre 0 e 255, dividindo por 255.\r\n",
    "### Dados padronizados entre 0 e 1."
   ],
   "metadata": {}
  },
  {
   "cell_type": "code",
   "execution_count": 19,
   "source": [
    "X = X/255\r\n",
    "X.shape"
   ],
   "outputs": [
    {
     "output_type": "execute_result",
     "data": {
      "text/plain": [
       "(5286, 64, 64, 1)"
      ]
     },
     "metadata": {},
     "execution_count": 19
    }
   ],
   "metadata": {}
  },
  {
   "cell_type": "code",
   "execution_count": 20,
   "source": [
    "Y.shape"
   ],
   "outputs": [
    {
     "output_type": "execute_result",
     "data": {
      "text/plain": [
       "(5286,)"
      ]
     },
     "metadata": {},
     "execution_count": 20
    }
   ],
   "metadata": {}
  },
  {
   "cell_type": "markdown",
   "source": [
    "## Dividindo a Base de Dados de treino entre treino e validação, com 20% para a validação."
   ],
   "metadata": {}
  },
  {
   "cell_type": "code",
   "execution_count": 21,
   "source": [
    "X_train, X_val, y_train, y_val = train_test_split(X, Y, test_size=0.2, random_state=42)"
   ],
   "outputs": [],
   "metadata": {}
  },
  {
   "cell_type": "markdown",
   "source": [
    "# Modelo de MLP\r\n",
    "\r\n",
    "## Criando o modelo Lenet5 padrão com a função de ativação \"relu\""
   ],
   "metadata": {}
  },
  {
   "cell_type": "code",
   "execution_count": 34,
   "source": [
    "# Cria o modelo\r\n",
    "model = Sequential()\r\n",
    "model.add(Conv2D(12, (5, 5), input_shape=(64, 64, 1), activation='relu'))   \r\n",
    "#model.add(MaxPooling2D(pool_size=(2, 2)))\r\n",
    "model.add(AveragePooling2D(pool_size=(2, 2)))\r\n",
    "model.add(Dropout(0.2))\r\n",
    "model.add(Conv2D(32, (5, 5), activation='relu'))  \r\n",
    "#model.add(MaxPooling2D(pool_size=(2, 2)))\r\n",
    "model.add(AveragePooling2D(pool_size=(2, 2)))\r\n",
    "model.add(Dropout(0.2))\r\n",
    "model.add(Flatten())\r\n",
    "model.add(Dense(120, activation='relu'))\r\n",
    "model.add(Dropout(0.3))\r\n",
    "model.add(Dense(84, activation='relu'))\r\n",
    "model.add(Dropout(0.3))\r\n",
    "model.add(Dense(1, activation='sigmoid'))\r\n",
    "model.summary()"
   ],
   "outputs": [
    {
     "output_type": "stream",
     "name": "stdout",
     "text": [
      "Model: \"sequential_1\"\n",
      "_________________________________________________________________\n",
      "Layer (type)                 Output Shape              Param #   \n",
      "=================================================================\n",
      "conv2d_2 (Conv2D)            (None, 60, 60, 12)        312       \n",
      "_________________________________________________________________\n",
      "average_pooling2d_2 (Average (None, 30, 30, 12)        0         \n",
      "_________________________________________________________________\n",
      "dropout_4 (Dropout)          (None, 30, 30, 12)        0         \n",
      "_________________________________________________________________\n",
      "conv2d_3 (Conv2D)            (None, 26, 26, 32)        9632      \n",
      "_________________________________________________________________\n",
      "average_pooling2d_3 (Average (None, 13, 13, 32)        0         \n",
      "_________________________________________________________________\n",
      "dropout_5 (Dropout)          (None, 13, 13, 32)        0         \n",
      "_________________________________________________________________\n",
      "flatten_1 (Flatten)          (None, 5408)              0         \n",
      "_________________________________________________________________\n",
      "dense_3 (Dense)              (None, 120)               649080    \n",
      "_________________________________________________________________\n",
      "dropout_6 (Dropout)          (None, 120)               0         \n",
      "_________________________________________________________________\n",
      "dense_4 (Dense)              (None, 84)                10164     \n",
      "_________________________________________________________________\n",
      "dropout_7 (Dropout)          (None, 84)                0         \n",
      "_________________________________________________________________\n",
      "dense_5 (Dense)              (None, 1)                 85        \n",
      "=================================================================\n",
      "Total params: 669,273\n",
      "Trainable params: 669,273\n",
      "Non-trainable params: 0\n",
      "_________________________________________________________________\n"
     ]
    }
   ],
   "metadata": {}
  },
  {
   "cell_type": "code",
   "execution_count": 21,
   "source": [
    "#plot_model(model, show_shapes=True, show_layer_names=True)"
   ],
   "outputs": [],
   "metadata": {}
  },
  {
   "cell_type": "markdown",
   "source": [
    "## Compilando e treinando o modelo. \r\n",
    "### Vamos utilizar a função de Callback ModelCheckPointer para salvar o modelo com a melhor accuracia na base de validação."
   ],
   "metadata": {}
  },
  {
   "cell_type": "code",
   "execution_count": 23,
   "source": [
    "model.compile(loss='binary_crossentropy', optimizer='adam', metrics=['accuracy', get_f1])\r\n",
    "\r\n",
    "checkpointer = ModelCheckpoint_tweaked(filepath='./modelo_mlp_ex8_3.hdf5', verbose=1,  mode='max', save_best_only=True, monitor='val_get_f1')\r\n",
    "#checkpointer = ModelCheckpoint(filepath='./modelo_mlp_ex8_3.hdf5', verbose=1,  save_best_only=True, monitor='val_accuracy')\r\n",
    "\r\n",
    "history = model.fit(X_train, y_train, validation_data = (X_val, y_val), epochs=40, batch_size=16, verbose=1, callbacks=[checkpointer])"
   ],
   "outputs": [
    {
     "output_type": "stream",
     "name": "stdout",
     "text": [
      "Epoch 1/30\n",
      "265/265 [==============================] - ETA: 0s - loss: 0.3284 - accuracy: 0.8609 - get_f1: 0.9107\n",
      "Epoch 00001: val_get_f1 improved from -inf to 0.93674, saving model to .\\modelo_mlp_ex8_3.hdf5\n",
      "265/265 [==============================] - 2s 8ms/step - loss: 0.3284 - accuracy: 0.8609 - get_f1: 0.9107 - val_loss: 0.2469 - val_accuracy: 0.9036 - val_get_f1: 0.9367\n",
      "Epoch 2/30\n",
      "261/265 [============================>.] - ETA: 0s - loss: 0.1667 - accuracy: 0.9358 - get_f1: 0.9551\n",
      "Epoch 00002: val_get_f1 improved from 0.93674 to 0.95814, saving model to .\\modelo_mlp_ex8_3.hdf5\n",
      "265/265 [==============================] - 2s 6ms/step - loss: 0.1684 - accuracy: 0.9350 - get_f1: 0.9546 - val_loss: 0.1399 - val_accuracy: 0.9395 - val_get_f1: 0.9581\n",
      "Epoch 3/30\n",
      "265/265 [==============================] - ETA: 0s - loss: 0.1342 - accuracy: 0.9489 - get_f1: 0.9650\n",
      "Epoch 00003: val_get_f1 improved from 0.95814 to 0.96918, saving model to .\\modelo_mlp_ex8_3.hdf5\n",
      "265/265 [==============================] - 2s 6ms/step - loss: 0.1342 - accuracy: 0.9489 - get_f1: 0.9650 - val_loss: 0.1219 - val_accuracy: 0.9565 - val_get_f1: 0.9692\n",
      "Epoch 4/30\n",
      "264/265 [============================>.] - ETA: 0s - loss: 0.1410 - accuracy: 0.9508 - get_f1: 0.9649\n",
      "Epoch 00004: val_get_f1 did not improve from 0.96918\n",
      "265/265 [==============================] - 1s 5ms/step - loss: 0.1409 - accuracy: 0.9508 - get_f1: 0.9650 - val_loss: 0.1331 - val_accuracy: 0.9509 - val_get_f1: 0.9665\n",
      "Epoch 5/30\n",
      "257/265 [============================>.] - ETA: 0s - loss: 0.1190 - accuracy: 0.9543 - get_f1: 0.9681\n",
      "Epoch 00005: val_get_f1 improved from 0.96918 to 0.96928, saving model to .\\modelo_mlp_ex8_3.hdf5\n",
      "265/265 [==============================] - 2s 6ms/step - loss: 0.1187 - accuracy: 0.9546 - get_f1: 0.9684 - val_loss: 0.0898 - val_accuracy: 0.9622 - val_get_f1: 0.9693\n",
      "Epoch 6/30\n",
      "263/265 [============================>.] - ETA: 0s - loss: 0.1184 - accuracy: 0.9563 - get_f1: 0.9699\n",
      "Epoch 00006: val_get_f1 improved from 0.96928 to 0.97041, saving model to .\\modelo_mlp_ex8_3.hdf5\n",
      "265/265 [==============================] - 2s 6ms/step - loss: 0.1180 - accuracy: 0.9565 - get_f1: 0.9701 - val_loss: 0.0922 - val_accuracy: 0.9641 - val_get_f1: 0.9704\n",
      "Epoch 7/30\n",
      "255/265 [===========================>..] - ETA: 0s - loss: 0.0982 - accuracy: 0.9642 - get_f1: 0.9754\n",
      "Epoch 00007: val_get_f1 improved from 0.97041 to 0.97277, saving model to .\\modelo_mlp_ex8_3.hdf5\n",
      "265/265 [==============================] - 2s 6ms/step - loss: 0.0985 - accuracy: 0.9638 - get_f1: 0.9751 - val_loss: 0.0813 - val_accuracy: 0.9669 - val_get_f1: 0.9728\n",
      "Epoch 8/30\n",
      "262/265 [============================>.] - ETA: 0s - loss: 0.0946 - accuracy: 0.9645 - get_f1: 0.9751\n",
      "Epoch 00008: val_get_f1 improved from 0.97277 to 0.97430, saving model to .\\modelo_mlp_ex8_3.hdf5\n",
      "265/265 [==============================] - 2s 6ms/step - loss: 0.0940 - accuracy: 0.9648 - get_f1: 0.9754 - val_loss: 0.0861 - val_accuracy: 0.9622 - val_get_f1: 0.9743\n",
      "Epoch 9/30\n",
      "262/265 [============================>.] - ETA: 0s - loss: 0.0786 - accuracy: 0.9726 - get_f1: 0.9808\n",
      "Epoch 00009: val_get_f1 improved from 0.97430 to 0.98386, saving model to .\\modelo_mlp_ex8_3.hdf5\n",
      "265/265 [==============================] - 2s 6ms/step - loss: 0.0791 - accuracy: 0.9726 - get_f1: 0.9805 - val_loss: 0.0700 - val_accuracy: 0.9764 - val_get_f1: 0.9839\n",
      "Epoch 10/30\n",
      "255/265 [===========================>..] - ETA: 0s - loss: 0.0779 - accuracy: 0.9686 - get_f1: 0.9779\n",
      "Epoch 00010: val_get_f1 did not improve from 0.98386\n",
      "265/265 [==============================] - 1s 6ms/step - loss: 0.0782 - accuracy: 0.9683 - get_f1: 0.9777 - val_loss: 0.0834 - val_accuracy: 0.9669 - val_get_f1: 0.9776\n",
      "Epoch 11/30\n",
      "264/265 [============================>.] - ETA: 0s - loss: 0.0743 - accuracy: 0.9725 - get_f1: 0.9808\n",
      "Epoch 00011: val_get_f1 did not improve from 0.98386\n",
      "265/265 [==============================] - 1s 5ms/step - loss: 0.0742 - accuracy: 0.9726 - get_f1: 0.9809 - val_loss: 0.0752 - val_accuracy: 0.9716 - val_get_f1: 0.9812\n",
      "Epoch 12/30\n",
      "258/265 [============================>.] - ETA: 0s - loss: 0.0701 - accuracy: 0.9755 - get_f1: 0.9829\n",
      "Epoch 00012: val_get_f1 improved from 0.98386 to 0.98613, saving model to .\\modelo_mlp_ex8_3.hdf5\n",
      "265/265 [==============================] - 2s 6ms/step - loss: 0.0692 - accuracy: 0.9759 - get_f1: 0.9832 - val_loss: 0.0629 - val_accuracy: 0.9802 - val_get_f1: 0.9861\n",
      "Epoch 13/30\n",
      "264/265 [============================>.] - ETA: 0s - loss: 0.0675 - accuracy: 0.9751 - get_f1: 0.9822\n",
      "Epoch 00013: val_get_f1 did not improve from 0.98613\n",
      "265/265 [==============================] - 1s 6ms/step - loss: 0.0675 - accuracy: 0.9752 - get_f1: 0.9823 - val_loss: 0.0827 - val_accuracy: 0.9745 - val_get_f1: 0.9816\n",
      "Epoch 14/30\n",
      "256/265 [===========================>..] - ETA: 0s - loss: 0.0672 - accuracy: 0.9746 - get_f1: 0.9821\n",
      "Epoch 00014: val_get_f1 did not improve from 0.98613\n",
      "265/265 [==============================] - 1s 6ms/step - loss: 0.0670 - accuracy: 0.9742 - get_f1: 0.9819 - val_loss: 0.0725 - val_accuracy: 0.9773 - val_get_f1: 0.9847\n",
      "Epoch 15/30\n",
      "262/265 [============================>.] - ETA: 0s - loss: 0.0604 - accuracy: 0.9776 - get_f1: 0.9843\n",
      "Epoch 00015: val_get_f1 did not improve from 0.98613\n",
      "265/265 [==============================] - 1s 6ms/step - loss: 0.0605 - accuracy: 0.9775 - get_f1: 0.9843 - val_loss: 0.0814 - val_accuracy: 0.9669 - val_get_f1: 0.9770\n",
      "Epoch 16/30\n",
      "263/265 [============================>.] - ETA: 0s - loss: 0.0509 - accuracy: 0.9817 - get_f1: 0.9875\n",
      "Epoch 00016: val_get_f1 did not improve from 0.98613\n",
      "265/265 [==============================] - 1s 5ms/step - loss: 0.0508 - accuracy: 0.9818 - get_f1: 0.9876 - val_loss: 0.0706 - val_accuracy: 0.9783 - val_get_f1: 0.9852\n",
      "Epoch 17/30\n",
      "260/265 [============================>.] - ETA: 0s - loss: 0.0576 - accuracy: 0.9786 - get_f1: 0.9853\n",
      "Epoch 00017: val_get_f1 did not improve from 0.98613\n",
      "265/265 [==============================] - 1s 6ms/step - loss: 0.0590 - accuracy: 0.9782 - get_f1: 0.9850 - val_loss: 0.0708 - val_accuracy: 0.9783 - val_get_f1: 0.9847\n",
      "Epoch 18/30\n",
      "263/265 [============================>.] - ETA: 0s - loss: 0.0460 - accuracy: 0.9819 - get_f1: 0.9876\n",
      "Epoch 00018: val_get_f1 did not improve from 0.98613\n",
      "265/265 [==============================] - 1s 5ms/step - loss: 0.0458 - accuracy: 0.9820 - get_f1: 0.9877 - val_loss: 0.0783 - val_accuracy: 0.9754 - val_get_f1: 0.9831\n",
      "Epoch 19/30\n",
      "261/265 [============================>.] - ETA: 0s - loss: 0.0484 - accuracy: 0.9806 - get_f1: 0.9867\n",
      "Epoch 00019: val_get_f1 did not improve from 0.98613\n",
      "265/265 [==============================] - 1s 5ms/step - loss: 0.0484 - accuracy: 0.9806 - get_f1: 0.9867 - val_loss: 0.0744 - val_accuracy: 0.9745 - val_get_f1: 0.9825\n",
      "Epoch 20/30\n",
      "260/265 [============================>.] - ETA: 0s - loss: 0.0363 - accuracy: 0.9853 - get_f1: 0.9896\n",
      "Epoch 00020: val_get_f1 did not improve from 0.98613\n",
      "265/265 [==============================] - 1s 5ms/step - loss: 0.0360 - accuracy: 0.9856 - get_f1: 0.9898 - val_loss: 0.0714 - val_accuracy: 0.9773 - val_get_f1: 0.9841\n",
      "Epoch 21/30\n",
      "264/265 [============================>.] - ETA: 0s - loss: 0.0407 - accuracy: 0.9846 - get_f1: 0.9894\n",
      "Epoch 00021: val_get_f1 did not improve from 0.98613\n",
      "265/265 [==============================] - 1s 5ms/step - loss: 0.0407 - accuracy: 0.9846 - get_f1: 0.9895 - val_loss: 0.0725 - val_accuracy: 0.9764 - val_get_f1: 0.9833\n",
      "Epoch 22/30\n",
      "258/265 [============================>.] - ETA: 0s - loss: 0.0340 - accuracy: 0.9872 - get_f1: 0.9912\n",
      "Epoch 00022: val_get_f1 did not improve from 0.98613\n",
      "265/265 [==============================] - 1s 5ms/step - loss: 0.0338 - accuracy: 0.9872 - get_f1: 0.9912 - val_loss: 0.0700 - val_accuracy: 0.9745 - val_get_f1: 0.9822\n",
      "Epoch 23/30\n",
      "262/265 [============================>.] - ETA: 0s - loss: 0.0388 - accuracy: 0.9852 - get_f1: 0.9897\n",
      "Epoch 00023: val_get_f1 did not improve from 0.98613\n",
      "265/265 [==============================] - 1s 5ms/step - loss: 0.0386 - accuracy: 0.9853 - get_f1: 0.9898 - val_loss: 0.0666 - val_accuracy: 0.9792 - val_get_f1: 0.9858\n",
      "Epoch 24/30\n",
      "260/265 [============================>.] - ETA: 0s - loss: 0.0237 - accuracy: 0.9909 - get_f1: 0.9937\n",
      "Epoch 00024: val_get_f1 did not improve from 0.98613\n",
      "265/265 [==============================] - 1s 6ms/step - loss: 0.0241 - accuracy: 0.9905 - get_f1: 0.9936 - val_loss: 0.0803 - val_accuracy: 0.9726 - val_get_f1: 0.9806\n",
      "Epoch 25/30\n",
      "265/265 [==============================] - ETA: 0s - loss: 0.0325 - accuracy: 0.9870 - get_f1: 0.9910\n",
      "Epoch 00025: val_get_f1 did not improve from 0.98613\n",
      "265/265 [==============================] - 1s 5ms/step - loss: 0.0325 - accuracy: 0.9870 - get_f1: 0.9910 - val_loss: 0.0855 - val_accuracy: 0.9783 - val_get_f1: 0.9846\n",
      "Epoch 26/30\n",
      "264/265 [============================>.] - ETA: 0s - loss: 0.0357 - accuracy: 0.9879 - get_f1: 0.9914\n",
      "Epoch 00026: val_get_f1 did not improve from 0.98613\n",
      "265/265 [==============================] - 1s 5ms/step - loss: 0.0357 - accuracy: 0.9879 - get_f1: 0.9914 - val_loss: 0.0802 - val_accuracy: 0.9764 - val_get_f1: 0.9832\n",
      "Epoch 27/30\n",
      "263/265 [============================>.] - ETA: 0s - loss: 0.0305 - accuracy: 0.9895 - get_f1: 0.9928\n",
      "Epoch 00027: val_get_f1 did not improve from 0.98613\n",
      "265/265 [==============================] - 1s 5ms/step - loss: 0.0305 - accuracy: 0.9896 - get_f1: 0.9928 - val_loss: 0.1126 - val_accuracy: 0.9669 - val_get_f1: 0.9778\n",
      "Epoch 28/30\n",
      "260/265 [============================>.] - ETA: 0s - loss: 0.0198 - accuracy: 0.9925 - get_f1: 0.9949\n",
      "Epoch 00028: val_get_f1 improved from 0.98613 to 0.98700, saving model to .\\modelo_mlp_ex8_3.hdf5\n",
      "265/265 [==============================] - 2s 6ms/step - loss: 0.0209 - accuracy: 0.9924 - get_f1: 0.9949 - val_loss: 0.0911 - val_accuracy: 0.9811 - val_get_f1: 0.9870\n",
      "Epoch 29/30\n",
      "259/265 [============================>.] - ETA: 0s - loss: 0.0259 - accuracy: 0.9906 - get_f1: 0.9937\n",
      "Epoch 00029: val_get_f1 did not improve from 0.98700\n",
      "265/265 [==============================] - 1s 6ms/step - loss: 0.0262 - accuracy: 0.9905 - get_f1: 0.9931 - val_loss: 0.0737 - val_accuracy: 0.9764 - val_get_f1: 0.9829\n",
      "Epoch 30/30\n",
      "256/265 [===========================>..] - ETA: 0s - loss: 0.0316 - accuracy: 0.9893 - get_f1: 0.9927\n",
      "Epoch 00030: val_get_f1 did not improve from 0.98700\n",
      "265/265 [==============================] - 1s 6ms/step - loss: 0.0310 - accuracy: 0.9896 - get_f1: 0.9929 - val_loss: 0.0924 - val_accuracy: 0.9716 - val_get_f1: 0.9799\n"
     ]
    }
   ],
   "metadata": {}
  },
  {
   "cell_type": "markdown",
   "source": [
    "## Gráfico comparativo da Acurácia e Perda no treinamento"
   ],
   "metadata": {}
  },
  {
   "cell_type": "code",
   "execution_count": 24,
   "source": [
    "plot_history(history)"
   ],
   "outputs": [
    {
     "output_type": "display_data",
     "data": {
      "text/plain": [
       "<Figure size 1152x576 with 2 Axes>"
      ],
      "image/png": "[encoded data removed]"
     },
     "metadata": {
      "needs_background": "light"
     }
    }
   ],
   "metadata": {}
  },
  {
   "cell_type": "markdown",
   "source": [
    "## Apresentando a Acurácia final do Treino, carregando o melhor modelo salvo e apresentando a Acurácia da Validação"
   ],
   "metadata": {}
  },
  {
   "cell_type": "code",
   "execution_count": 25,
   "source": [
    "scores = model.evaluate(X_train, y_train)\r\n",
    "print()\r\n",
    "print(f\"Acurácia do Treino: {round(scores[1]*100,2)}%\")\r\n",
    "print(f\"F1 Score do Treino: {round(scores[2]*100,2)}%\")"
   ],
   "outputs": [
    {
     "output_type": "stream",
     "name": "stdout",
     "text": [
      "133/133 [==============================] - 0s 3ms/step - loss: 0.0085 - accuracy: 0.9981 - get_f1: 0.9988\n",
      "\n",
      "Acurácia do Treino: 99.81%\n",
      "F1 Score do Treino: 99.88%\n"
     ]
    }
   ],
   "metadata": {}
  },
  {
   "cell_type": "code",
   "execution_count": 26,
   "source": [
    "model = load_model(\"./modelo_mlp_ex8_3.hdf5\", custom_objects={'get_f1': get_f1})"
   ],
   "outputs": [],
   "metadata": {}
  },
  {
   "cell_type": "code",
   "execution_count": 27,
   "source": [
    "scores = model.evaluate(X_val, y_val)\r\n",
    "print()\r\n",
    "print(f\"Acurácia da Validação: {round(scores[1]*100,2)}%\")\r\n",
    "print(f\"F1 Score da Validação: {round(scores[2]*100,2)}%\")"
   ],
   "outputs": [
    {
     "output_type": "stream",
     "name": "stdout",
     "text": [
      "34/34 [==============================] - 0s 3ms/step - loss: 0.0911 - accuracy: 0.9811 - get_f1: 0.9868\n",
      "\n",
      "Acurácia da Validação: 98.11%\n",
      "F1 Score da Validação: 98.68%\n"
     ]
    }
   ],
   "metadata": {}
  },
  {
   "cell_type": "markdown",
   "source": [
    "## Carregando os dados para o Teste e aplicando os mesmos pré processamentos"
   ],
   "metadata": {}
  },
  {
   "cell_type": "code",
   "execution_count": 28,
   "source": [
    "X_xray, y_xray = get_dados(path_teste, df_test)"
   ],
   "outputs": [
    {
     "output_type": "stream",
     "name": "stdout",
     "text": [
      "Serão carregadas 624 imagens\n",
      "5300 : 5400 : 5500 : 5600 : 5700 : 5800 : 5900 : "
     ]
    }
   ],
   "metadata": {}
  },
  {
   "cell_type": "code",
   "execution_count": 30,
   "source": [
    "X_test = np.asarray(X_xray).astype(np.float32)\r\n",
    "y_test = np.asarray(y_xray)"
   ],
   "outputs": [],
   "metadata": {}
  },
  {
   "cell_type": "code",
   "execution_count": 31,
   "source": [
    "X_test = X_test/255\r\n",
    "X_test.shape"
   ],
   "outputs": [
    {
     "output_type": "execute_result",
     "data": {
      "text/plain": [
       "(624, 64, 64, 1)"
      ]
     },
     "metadata": {},
     "execution_count": 31
    }
   ],
   "metadata": {}
  },
  {
   "cell_type": "code",
   "execution_count": 32,
   "source": [
    "y_test.shape"
   ],
   "outputs": [
    {
     "output_type": "execute_result",
     "data": {
      "text/plain": [
       "(624,)"
      ]
     },
     "metadata": {},
     "execution_count": 32
    }
   ],
   "metadata": {}
  },
  {
   "cell_type": "code",
   "execution_count": 33,
   "source": [
    "scores = model.evaluate(X_test, y_test)\r\n",
    "print()\r\n",
    "print(f\"Acurácia do Teste: {round(scores[1]*100,2)}%\")\r\n",
    "print(f\"F1 Score do Teste: {round(scores[2]*100,2)}%\")"
   ],
   "outputs": [
    {
     "output_type": "stream",
     "name": "stdout",
     "text": [
      "20/20 [==============================] - 0s 3ms/step - loss: 2.1809 - accuracy: 0.7724 - get_f1: 0.6442\n",
      "\n",
      "Acurácia do Teste: 77.24%\n",
      "F1 Score do Teste: 64.42%\n"
     ]
    }
   ],
   "metadata": {}
  },
  {
   "cell_type": "code",
   "execution_count": 33,
   "source": [
    "print (\"Fim Execução : \")\r\n",
    "print (datetime.now().strftime(\"%Y-%m-%d %H:%M:%S\"))"
   ],
   "outputs": [
    {
     "output_type": "stream",
     "name": "stdout",
     "text": [
      "Fim Execução : \n",
      "2021-07-19 18:29:09\n"
     ]
    }
   ],
   "metadata": {}
  }
 ],
 "metadata": {
  "kernelspec": {
   "name": "python3",
   "display_name": "Python 3.8.10 64-bit ('tf-gpu': conda)"
  },
  "language_info": {
   "codemirror_mode": {
    "name": "ipython",
    "version": 3
   },
   "file_extension": ".py",
   "mimetype": "text/x-python",
   "name": "python",
   "nbconvert_exporter": "python",
   "pygments_lexer": "ipython3",
   "version": "3.8.10"
  },
  "interpreter": {
   "hash": "c24c9dacf042e5cf8b743bae11b2cef3a95983df3bc5153773d9ffef1d5207d2"
  }
 },
 "nbformat": 4,
 "nbformat_minor": 4
}