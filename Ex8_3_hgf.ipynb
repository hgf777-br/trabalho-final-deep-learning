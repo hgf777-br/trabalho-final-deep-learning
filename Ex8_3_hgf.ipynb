{
 "cells": [
  {
   "cell_type": "markdown",
   "source": [
    "# Bibliotecas"
   ],
   "metadata": {}
  },
  {
   "cell_type": "code",
   "execution_count": 1,
   "source": [
    "import os\r\n",
    "import numpy as np\r\n",
    "import pandas as pd\r\n",
    "import matplotlib.pyplot as plt\r\n",
    "import seaborn as sns\r\n",
    "import tensorflow as tf\r\n",
    "\r\n",
    "from sklearn.model_selection import train_test_split\r\n",
    "\r\n",
    "from tensorflow.keras.utils import to_categorical\r\n",
    "import keras.backend as K\r\n",
    "from keras.models import Sequential, load_model\r\n",
    "from keras.layers import Dense, Dropout, Flatten, BatchNormalization\r\n",
    "from keras.layers.convolutional import Conv2D\r\n",
    "from keras.layers.convolutional import MaxPooling2D, AveragePooling2D\r\n",
    "from keras.utils import np_utils\r\n",
    "from keras.callbacks import ModelCheckpoint\r\n",
    "from keras.utils.vis_utils import plot_model\r\n",
    "from keras.preprocessing.image import img_to_array, load_img, array_to_img\r\n",
    "from datetime import datetime, time"
   ],
   "outputs": [],
   "metadata": {}
  },
  {
   "cell_type": "code",
   "execution_count": 2,
   "source": [
    "print(\"Num GPUs Available: \", len(tf.config.experimental.list_physical_devices('GPU')))"
   ],
   "outputs": [
    {
     "output_type": "stream",
     "name": "stdout",
     "text": [
      "Num GPUs Available:  1\n"
     ]
    }
   ],
   "metadata": {}
  },
  {
   "cell_type": "markdown",
   "source": [
    "# Funções Auxiliares"
   ],
   "metadata": {}
  },
  {
   "cell_type": "code",
   "execution_count": 4,
   "source": [
    "def get_dados(path, df):\r\n",
    "    X = []\r\n",
    "    Y = []\r\n",
    "    print(f\"Serão carregadas {df.shape[0]} imagens\")\r\n",
    "    for idx, image, label in zip(df.index, df.image, df.label):\r\n",
    "        if (idx % 100 == 0):\r\n",
    "            print(idx, end=' : ')\r\n",
    "        arquivo = f\"{path}/{image}\"\r\n",
    "        img_xray = img_to_array(load_img(arquivo, color_mode='grayscale', target_size=(64, 64)))\r\n",
    "        X.append(img_xray)\r\n",
    "        if (label == 'Normal'):\r\n",
    "            Y.append(0)\r\n",
    "        else:\r\n",
    "            Y.append(1)\r\n",
    "            \r\n",
    "    return (X, Y)\r\n",
    "\r\n",
    "def plot_history(history):\r\n",
    "    acc = history.history['accuracy']\r\n",
    "    val_acc = history.history['val_accuracy']\r\n",
    "    f1 = history.history['get_f1']\r\n",
    "    val_f1 = history.history['val_get_f1']\r\n",
    "    loss = history.history['loss']\r\n",
    "    val_loss = history.history['val_loss']\r\n",
    "    x = range(1, len(acc) + 1)\r\n",
    "\r\n",
    "    plt.figure(figsize=(16, 8))\r\n",
    "    plt.subplot(1, 2, 1)\r\n",
    "    plt.plot(x, acc, 'b', label='Training Accuracy')\r\n",
    "    plt.plot(x, f1, 'k', label='Training F1 Score')\r\n",
    "    plt.plot(x, val_acc, 'r', label='Validation Accuracy')\r\n",
    "    plt.plot(x, val_f1, 'g', label='Validation F1 Score')\r\n",
    "    plt.title('Acurácia e F1 Score')\r\n",
    "    plt.legend()\r\n",
    "    plt.subplot(1, 2, 2)\r\n",
    "    plt.plot(x, loss, 'b', label='Training loss')\r\n",
    "    plt.plot(x, val_loss, 'r', label='Validation loss')\r\n",
    "    plt.title('Perda')\r\n",
    "    plt.legend()\r\n",
    "    \r\n",
    "class ModelCheckpoint_tweaked(tf.keras.callbacks.ModelCheckpoint):\r\n",
    "    def __init__(self,\r\n",
    "                   filepath,\r\n",
    "                   monitor='val_loss',\r\n",
    "                   verbose=0,\r\n",
    "                   save_best_only=False,\r\n",
    "                   save_weights_only=False,\r\n",
    "                   mode='auto',\r\n",
    "                   save_freq='epoch',\r\n",
    "                   options=None,\r\n",
    "                   **kwargs):\r\n",
    "        \r\n",
    "        #Change tf_utils source package.\r\n",
    "        from tensorflow.python.keras.utils import tf_utils\r\n",
    "        \r\n",
    "        super(ModelCheckpoint_tweaked, self).__init__(filepath,\r\n",
    "                   monitor,\r\n",
    "                   verbose,\r\n",
    "                   save_best_only,\r\n",
    "                   save_weights_only,\r\n",
    "                   mode,\r\n",
    "                   save_freq,\r\n",
    "                   options,\r\n",
    "                   **kwargs)\r\n",
    "        \r\n",
    "def get_f1(y_true, y_pred): #taken from old keras source code\r\n",
    "    true_positives = K.sum(K.round(K.clip(y_true * y_pred, 0, 1)))\r\n",
    "    possible_positives = K.sum(K.round(K.clip(y_true, 0, 1)))\r\n",
    "    predicted_positives = K.sum(K.round(K.clip(y_pred, 0, 1)))\r\n",
    "    precision = true_positives / (predicted_positives + K.epsilon())\r\n",
    "    recall = true_positives / (possible_positives + K.epsilon())\r\n",
    "    f1_val = 2*(precision*recall)/(precision+recall+K.epsilon())\r\n",
    "    return f1_val    "
   ],
   "outputs": [],
   "metadata": {}
  },
  {
   "cell_type": "markdown",
   "source": [
    "# Carregando os dados "
   ],
   "metadata": {}
  },
  {
   "cell_type": "code",
   "execution_count": 5,
   "source": [
    "path_treino = './data/Xray/train' \r\n",
    "path_teste = './data/Xray/test'"
   ],
   "outputs": [],
   "metadata": {}
  },
  {
   "cell_type": "code",
   "execution_count": 6,
   "source": [
    "df = pd.read_csv(\"./data/Xray/Chest_xray_Corona_Metadata.csv\", usecols=[1,2,3], header=0, names=['image', 'label', 'dataset'])"
   ],
   "outputs": [],
   "metadata": {}
  },
  {
   "cell_type": "code",
   "execution_count": 7,
   "source": [
    "df.head()"
   ],
   "outputs": [
    {
     "output_type": "execute_result",
     "data": {
      "text/plain": [
       "               image   label dataset\n",
       "0  IM-0128-0001.jpeg  Normal   TRAIN\n",
       "1  IM-0127-0001.jpeg  Normal   TRAIN\n",
       "2  IM-0125-0001.jpeg  Normal   TRAIN\n",
       "3  IM-0122-0001.jpeg  Normal   TRAIN\n",
       "4  IM-0119-0001.jpeg  Normal   TRAIN"
      ],
      "text/html": [
       "<div>\n",
       "<style scoped>\n",
       "    .dataframe tbody tr th:only-of-type {\n",
       "        vertical-align: middle;\n",
       "    }\n",
       "\n",
       "    .dataframe tbody tr th {\n",
       "        vertical-align: top;\n",
       "    }\n",
       "\n",
       "    .dataframe thead th {\n",
       "        text-align: right;\n",
       "    }\n",
       "</style>\n",
       "<table border=\"1\" class=\"dataframe\">\n",
       "  <thead>\n",
       "    <tr style=\"text-align: right;\">\n",
       "      <th></th>\n",
       "      <th>image</th>\n",
       "      <th>label</th>\n",
       "      <th>dataset</th>\n",
       "    </tr>\n",
       "  </thead>\n",
       "  <tbody>\n",
       "    <tr>\n",
       "      <th>0</th>\n",
       "      <td>IM-0128-0001.jpeg</td>\n",
       "      <td>Normal</td>\n",
       "      <td>TRAIN</td>\n",
       "    </tr>\n",
       "    <tr>\n",
       "      <th>1</th>\n",
       "      <td>IM-0127-0001.jpeg</td>\n",
       "      <td>Normal</td>\n",
       "      <td>TRAIN</td>\n",
       "    </tr>\n",
       "    <tr>\n",
       "      <th>2</th>\n",
       "      <td>IM-0125-0001.jpeg</td>\n",
       "      <td>Normal</td>\n",
       "      <td>TRAIN</td>\n",
       "    </tr>\n",
       "    <tr>\n",
       "      <th>3</th>\n",
       "      <td>IM-0122-0001.jpeg</td>\n",
       "      <td>Normal</td>\n",
       "      <td>TRAIN</td>\n",
       "    </tr>\n",
       "    <tr>\n",
       "      <th>4</th>\n",
       "      <td>IM-0119-0001.jpeg</td>\n",
       "      <td>Normal</td>\n",
       "      <td>TRAIN</td>\n",
       "    </tr>\n",
       "  </tbody>\n",
       "</table>\n",
       "</div>"
      ]
     },
     "metadata": {},
     "execution_count": 7
    }
   ],
   "metadata": {}
  },
  {
   "cell_type": "code",
   "execution_count": 8,
   "source": [
    "df_train = df[df.dataset == 'TRAIN']\r\n",
    "df_test = df[df.dataset == 'TEST']"
   ],
   "outputs": [],
   "metadata": {}
  },
  {
   "cell_type": "code",
   "execution_count": 9,
   "source": [
    "sns.countplot(x =df_train.label)\r\n",
    "plt.title('Distribuição da variável resposta para o Treino')\r\n",
    "plt.xlabel('Target')\r\n",
    "plt.xticks()\r\n",
    "plt.show()"
   ],
   "outputs": [
    {
     "output_type": "display_data",
     "data": {
      "text/plain": [
       "<Figure size 432x288 with 1 Axes>"
      ],
      "image/png": "[encoded data removed]"
     },
     "metadata": {
      "needs_background": "light"
     }
    }
   ],
   "metadata": {}
  },
  {
   "cell_type": "code",
   "execution_count": 10,
   "source": [
    "sns.countplot(x =df_test.label)\r\n",
    "plt.title('Distribuição da variável resposta para o Teste')\r\n",
    "plt.xlabel('Target')\r\n",
    "plt.xticks()\r\n",
    "plt.show()"
   ],
   "outputs": [
    {
     "output_type": "display_data",
     "data": {
      "text/plain": [
       "<Figure size 432x288 with 1 Axes>"
      ],
      "image/png": "[encoded data removed]"
     },
     "metadata": {
      "needs_background": "light"
     }
    }
   ],
   "metadata": {}
  },
  {
   "cell_type": "code",
   "execution_count": 11,
   "source": [
    "# carregando as imagens com tamanho 64x64 (para a LENET5) e os labels em memória\r\n",
    "X_xray, y_xray = get_dados(path_treino, df_train)"
   ],
   "outputs": [
    {
     "output_type": "stream",
     "name": "stdout",
     "text": [
      "Serão carregadas 5286 imagens\n",
      "0 : 100 : 200 : 300 : 400 : 500 : 600 : 700 : 800 : 900 : 1000 : 1100 : 1200 : 1300 : 1400 : 1500 : 1600 : 1700 : 1800 : 1900 : 2000 : 2100 : 2200 : 2300 : 2400 : 2500 : 2600 : 2700 : 2800 : 2900 : 3000 : 3100 : 3200 : 3300 : 3400 : 3500 : 3600 : 3700 : 3800 : 3900 : 4000 : 4100 : 4200 : 4300 : 4400 : 4500 : 4600 : 4700 : 4800 : 4900 : 5000 : 5100 : 5200 : "
     ]
    }
   ],
   "metadata": {}
  },
  {
   "cell_type": "code",
   "execution_count": 12,
   "source": [
    "X_xray[0].shape"
   ],
   "outputs": [
    {
     "output_type": "execute_result",
     "data": {
      "text/plain": [
       "(64, 64, 1)"
      ]
     },
     "metadata": {},
     "execution_count": 12
    }
   ],
   "metadata": {}
  },
  {
   "cell_type": "code",
   "execution_count": 13,
   "source": [
    "plt.figure(figsize=(5,5))\r\n",
    "idx = 2765\r\n",
    "plt.imshow(array_to_img(X_xray[idx]), cmap=\"gray\")\r\n",
    "print(df.image[idx])"
   ],
   "outputs": [
    {
     "output_type": "stream",
     "name": "stdout",
     "text": [
      "person1669_bacteria_4422.jpeg\n"
     ]
    },
    {
     "output_type": "display_data",
     "data": {
      "text/plain": [
       "<Figure size 360x360 with 1 Axes>"
      ],
      "image/png": "[encoded data removed]"
     },
     "metadata": {
      "needs_background": "light"
     }
    }
   ],
   "metadata": {}
  },
  {
   "cell_type": "code",
   "execution_count": 14,
   "source": [
    "y_xray[:10]"
   ],
   "outputs": [
    {
     "output_type": "execute_result",
     "data": {
      "text/plain": [
       "[0, 0, 0, 0, 0, 0, 0, 0, 0, 0]"
      ]
     },
     "metadata": {},
     "execution_count": 14
    }
   ],
   "metadata": {}
  },
  {
   "cell_type": "code",
   "execution_count": 15,
   "source": [
    "len(X_xray)"
   ],
   "outputs": [
    {
     "output_type": "execute_result",
     "data": {
      "text/plain": [
       "5286"
      ]
     },
     "metadata": {},
     "execution_count": 15
    }
   ],
   "metadata": {}
  },
  {
   "cell_type": "code",
   "execution_count": 16,
   "source": [
    "len(y_xray)"
   ],
   "outputs": [
    {
     "output_type": "execute_result",
     "data": {
      "text/plain": [
       "5286"
      ]
     },
     "metadata": {},
     "execution_count": 16
    }
   ],
   "metadata": {}
  },
  {
   "cell_type": "code",
   "execution_count": 17,
   "source": [
    "X_xray[0]"
   ],
   "outputs": [
    {
     "output_type": "execute_result",
     "data": {
      "text/plain": [
       "array([[[ 0.],\n",
       "        [ 8.],\n",
       "        [30.],\n",
       "        ...,\n",
       "        [27.],\n",
       "        [18.],\n",
       "        [ 6.]],\n",
       "\n",
       "       [[ 0.],\n",
       "        [ 1.],\n",
       "        [20.],\n",
       "        ...,\n",
       "        [25.],\n",
       "        [17.],\n",
       "        [ 3.]],\n",
       "\n",
       "       [[ 0.],\n",
       "        [ 0.],\n",
       "        [16.],\n",
       "        ...,\n",
       "        [15.],\n",
       "        [ 6.],\n",
       "        [ 1.]],\n",
       "\n",
       "       ...,\n",
       "\n",
       "       [[ 0.],\n",
       "        [ 0.],\n",
       "        [ 0.],\n",
       "        ...,\n",
       "        [ 0.],\n",
       "        [ 0.],\n",
       "        [ 0.]],\n",
       "\n",
       "       [[ 0.],\n",
       "        [ 0.],\n",
       "        [ 0.],\n",
       "        ...,\n",
       "        [ 0.],\n",
       "        [ 0.],\n",
       "        [ 0.]],\n",
       "\n",
       "       [[ 0.],\n",
       "        [ 0.],\n",
       "        [ 0.],\n",
       "        ...,\n",
       "        [ 0.],\n",
       "        [ 0.],\n",
       "        [ 0.]]], dtype=float32)"
      ]
     },
     "metadata": {},
     "execution_count": 17
    }
   ],
   "metadata": {}
  },
  {
   "cell_type": "code",
   "execution_count": 18,
   "source": [
    "X = np.asarray(X_xray).astype(np.float32)\r\n",
    "Y = np.asarray(y_xray)"
   ],
   "outputs": [],
   "metadata": {}
  },
  {
   "cell_type": "markdown",
   "source": [
    "## Padronizando os dados, que estão entre 0 e 255, dividindo por 255.\r\n",
    "### Dados padronizados entre 0 e 1."
   ],
   "metadata": {}
  },
  {
   "cell_type": "code",
   "execution_count": 19,
   "source": [
    "X = X/255\r\n",
    "X.shape"
   ],
   "outputs": [
    {
     "output_type": "execute_result",
     "data": {
      "text/plain": [
       "(5286, 64, 64, 1)"
      ]
     },
     "metadata": {},
     "execution_count": 19
    }
   ],
   "metadata": {}
  },
  {
   "cell_type": "code",
   "execution_count": 20,
   "source": [
    "Y.shape"
   ],
   "outputs": [
    {
     "output_type": "execute_result",
     "data": {
      "text/plain": [
       "(5286,)"
      ]
     },
     "metadata": {},
     "execution_count": 20
    }
   ],
   "metadata": {}
  },
  {
   "cell_type": "markdown",
   "source": [
    "## Dividindo a Base de Dados de treino entre treino e validação, com 20% para a validação."
   ],
   "metadata": {}
  },
  {
   "cell_type": "code",
   "execution_count": 21,
   "source": [
    "X_train, X_val, y_train, y_val = train_test_split(X, Y, test_size=0.2, random_state=42)"
   ],
   "outputs": [],
   "metadata": {}
  },
  {
   "cell_type": "markdown",
   "source": [
    "# Modelo de MLP\r\n",
    "\r\n",
    "## Criando o modelo Lenet5 padrão com a função de ativação \"relu\""
   ],
   "metadata": {}
  },
  {
   "cell_type": "code",
   "execution_count": 38,
   "source": [
    "# Cria o modelo\r\n",
    "model = Sequential()\r\n",
    "model.add(Conv2D(12, (5, 5), input_shape=(64, 64, 1), activation='relu'))\r\n",
    "#model.add(MaxPooling2D(pool_size=(2, 2)))\r\n",
    "model.add(AveragePooling2D(pool_size=(2, 2)))\r\n",
    "model.add(Dropout(0.2))\r\n",
    "model.add(Conv2D(32, (5, 5), activation='relu'))\r\n",
    "#model.add(MaxPooling2D(pool_size=(2, 2)))\r\n",
    "model.add(AveragePooling2D(pool_size=(2, 2)))\r\n",
    "model.add(Dropout(0.3))\r\n",
    "model.add(Flatten())\r\n",
    "model.add(Dense(120, activation='relu'))\r\n",
    "model.add(Dropout(0.4))\r\n",
    "model.add(Dense(84, activation='relu'))\r\n",
    "model.add(Dropout(0.4))\r\n",
    "model.add(Dense(1, activation='sigmoid'))\r\n",
    "model.summary()"
   ],
   "outputs": [
    {
     "output_type": "stream",
     "name": "stdout",
     "text": [
      "Model: \"sequential_1\"\n",
      "_________________________________________________________________\n",
      "Layer (type)                 Output Shape              Param #   \n",
      "=================================================================\n",
      "conv2d_2 (Conv2D)            (None, 60, 60, 12)        312       \n",
      "_________________________________________________________________\n",
      "average_pooling2d_2 (Average (None, 30, 30, 12)        0         \n",
      "_________________________________________________________________\n",
      "dropout_4 (Dropout)          (None, 30, 30, 12)        0         \n",
      "_________________________________________________________________\n",
      "conv2d_3 (Conv2D)            (None, 26, 26, 32)        9632      \n",
      "_________________________________________________________________\n",
      "average_pooling2d_3 (Average (None, 13, 13, 32)        0         \n",
      "_________________________________________________________________\n",
      "dropout_5 (Dropout)          (None, 13, 13, 32)        0         \n",
      "_________________________________________________________________\n",
      "flatten_1 (Flatten)          (None, 5408)              0         \n",
      "_________________________________________________________________\n",
      "dense_3 (Dense)              (None, 120)               649080    \n",
      "_________________________________________________________________\n",
      "dropout_6 (Dropout)          (None, 120)               0         \n",
      "_________________________________________________________________\n",
      "dense_4 (Dense)              (None, 84)                10164     \n",
      "_________________________________________________________________\n",
      "dropout_7 (Dropout)          (None, 84)                0         \n",
      "_________________________________________________________________\n",
      "dense_5 (Dense)              (None, 1)                 85        \n",
      "=================================================================\n",
      "Total params: 669,273\n",
      "Trainable params: 669,273\n",
      "Non-trainable params: 0\n",
      "_________________________________________________________________\n"
     ]
    }
   ],
   "metadata": {}
  },
  {
   "cell_type": "code",
   "execution_count": 23,
   "source": [
    "#plot_model(model, show_shapes=True, show_layer_names=True)"
   ],
   "outputs": [],
   "metadata": {}
  },
  {
   "cell_type": "markdown",
   "source": [
    "## Compilando e treinando o modelo. \r\n",
    "### Vamos utilizar a função de Callback ModelCheckPointer para salvar o modelo com a melhor accuracia na base de validação."
   ],
   "metadata": {}
  },
  {
   "cell_type": "code",
   "execution_count": 39,
   "source": [
    "model.compile(loss='binary_crossentropy', optimizer='adam', metrics=['accuracy', get_f1])\r\n",
    "\r\n",
    "checkpointer = ModelCheckpoint_tweaked(filepath='./modelo_mlp_ex8_3.hdf5', verbose=1,  mode='max', save_best_only=True, monitor='val_get_f1')\r\n",
    "#checkpointer = ModelCheckpoint(filepath='./modelo_mlp_ex8_3.hdf5', verbose=1,  save_best_only=True, monitor='val_accuracy')\r\n",
    "\r\n",
    "history = model.fit(X_train, y_train, validation_data = (X_val, y_val), epochs=50, batch_size=64, verbose=1, callbacks=[checkpointer])"
   ],
   "outputs": [
    {
     "output_type": "stream",
     "name": "stdout",
     "text": [
      "Epoch 1/40\n",
      "255/265 [===========================>..] - ETA: 0s - loss: 0.3554 - accuracy: 0.8458 - get_f1: 0.8998\n",
      "Epoch 00001: val_get_f1 improved from -inf to 0.93938, saving model to .\\modelo_mlp_ex8_3.hdf5\n",
      "265/265 [==============================] - 2s 7ms/step - loss: 0.3526 - accuracy: 0.8486 - get_f1: 0.9018 - val_loss: 0.1860 - val_accuracy: 0.9225 - val_get_f1: 0.9394\n",
      "Epoch 2/40\n",
      "258/265 [============================>.] - ETA: 0s - loss: 0.1887 - accuracy: 0.9300 - get_f1: 0.9510\n",
      "Epoch 00002: val_get_f1 improved from 0.93938 to 0.96530, saving model to .\\modelo_mlp_ex8_3.hdf5\n",
      "265/265 [==============================] - 2s 6ms/step - loss: 0.1890 - accuracy: 0.9293 - get_f1: 0.9502 - val_loss: 0.1247 - val_accuracy: 0.9499 - val_get_f1: 0.9653\n",
      "Epoch 3/40\n",
      "263/265 [============================>.] - ETA: 0s - loss: 0.1540 - accuracy: 0.9456 - get_f1: 0.9624\n",
      "Epoch 00003: val_get_f1 did not improve from 0.96530\n",
      "265/265 [==============================] - 1s 5ms/step - loss: 0.1536 - accuracy: 0.9456 - get_f1: 0.9622 - val_loss: 0.1428 - val_accuracy: 0.9433 - val_get_f1: 0.9611\n",
      "Epoch 4/40\n",
      "260/265 [============================>.] - ETA: 0s - loss: 0.1406 - accuracy: 0.9440 - get_f1: 0.9612\n",
      "Epoch 00004: val_get_f1 improved from 0.96530 to 0.97297, saving model to .\\modelo_mlp_ex8_3.hdf5\n",
      "265/265 [==============================] - 2s 6ms/step - loss: 0.1391 - accuracy: 0.9449 - get_f1: 0.9619 - val_loss: 0.1082 - val_accuracy: 0.9612 - val_get_f1: 0.9730\n",
      "Epoch 5/40\n",
      "264/265 [============================>.] - ETA: 0s - loss: 0.1211 - accuracy: 0.9534 - get_f1: 0.9674\n",
      "Epoch 00005: val_get_f1 improved from 0.97297 to 0.97387, saving model to .\\modelo_mlp_ex8_3.hdf5\n",
      "265/265 [==============================] - 2s 6ms/step - loss: 0.1210 - accuracy: 0.9534 - get_f1: 0.9675 - val_loss: 0.0996 - val_accuracy: 0.9622 - val_get_f1: 0.9739\n",
      "Epoch 6/40\n",
      "257/265 [============================>.] - ETA: 0s - loss: 0.1218 - accuracy: 0.9550 - get_f1: 0.9689\n",
      "Epoch 00006: val_get_f1 did not improve from 0.97387\n",
      "265/265 [==============================] - 2s 6ms/step - loss: 0.1211 - accuracy: 0.9553 - get_f1: 0.9686 - val_loss: 0.1771 - val_accuracy: 0.9263 - val_get_f1: 0.9511\n",
      "Epoch 7/40\n",
      "263/265 [============================>.] - ETA: 0s - loss: 0.1068 - accuracy: 0.9589 - get_f1: 0.9718\n",
      "Epoch 00007: val_get_f1 did not improve from 0.97387\n",
      "265/265 [==============================] - 1s 5ms/step - loss: 0.1064 - accuracy: 0.9591 - get_f1: 0.9720 - val_loss: 0.1176 - val_accuracy: 0.9480 - val_get_f1: 0.9651\n",
      "Epoch 8/40\n",
      "263/265 [============================>.] - ETA: 0s - loss: 0.1002 - accuracy: 0.9641 - get_f1: 0.9750\n",
      "Epoch 00008: val_get_f1 improved from 0.97387 to 0.98115, saving model to .\\modelo_mlp_ex8_3.hdf5\n",
      "265/265 [==============================] - 2s 6ms/step - loss: 0.1001 - accuracy: 0.9643 - get_f1: 0.9751 - val_loss: 0.0811 - val_accuracy: 0.9726 - val_get_f1: 0.9812\n",
      "Epoch 9/40\n",
      "262/265 [============================>.] - ETA: 0s - loss: 0.0918 - accuracy: 0.9692 - get_f1: 0.9786\n",
      "Epoch 00009: val_get_f1 did not improve from 0.98115\n",
      "265/265 [==============================] - 2s 6ms/step - loss: 0.0914 - accuracy: 0.9695 - get_f1: 0.9789 - val_loss: 0.0780 - val_accuracy: 0.9679 - val_get_f1: 0.9780\n",
      "Epoch 10/40\n",
      "259/265 [============================>.] - ETA: 0s - loss: 0.0908 - accuracy: 0.9660 - get_f1: 0.9762\n",
      "Epoch 00010: val_get_f1 did not improve from 0.98115\n",
      "265/265 [==============================] - 1s 5ms/step - loss: 0.0914 - accuracy: 0.9657 - get_f1: 0.9761 - val_loss: 0.2125 - val_accuracy: 0.8998 - val_get_f1: 0.9356\n",
      "Epoch 11/40\n",
      "259/265 [============================>.] - ETA: 0s - loss: 0.0851 - accuracy: 0.9653 - get_f1: 0.9757\n",
      "Epoch 00011: val_get_f1 did not improve from 0.98115\n",
      "265/265 [==============================] - 1s 6ms/step - loss: 0.0861 - accuracy: 0.9648 - get_f1: 0.9755 - val_loss: 0.2520 - val_accuracy: 0.9130 - val_get_f1: 0.9426\n",
      "Epoch 12/40\n",
      "261/265 [============================>.] - ETA: 0s - loss: 0.0865 - accuracy: 0.9648 - get_f1: 0.9754\n",
      "Epoch 00012: val_get_f1 did not improve from 0.98115\n",
      "265/265 [==============================] - 1s 5ms/step - loss: 0.0863 - accuracy: 0.9648 - get_f1: 0.9751 - val_loss: 0.1040 - val_accuracy: 0.9612 - val_get_f1: 0.9740\n",
      "Epoch 13/40\n",
      "261/265 [============================>.] - ETA: 0s - loss: 0.0682 - accuracy: 0.9744 - get_f1: 0.9821\n",
      "Epoch 00013: val_get_f1 did not improve from 0.98115\n",
      "265/265 [==============================] - 1s 5ms/step - loss: 0.0683 - accuracy: 0.9745 - get_f1: 0.9816 - val_loss: 0.0800 - val_accuracy: 0.9707 - val_get_f1: 0.9800\n",
      "Epoch 14/40\n",
      "260/265 [============================>.] - ETA: 0s - loss: 0.0723 - accuracy: 0.9755 - get_f1: 0.9832\n",
      "Epoch 00014: val_get_f1 did not improve from 0.98115\n",
      "265/265 [==============================] - 1s 5ms/step - loss: 0.0726 - accuracy: 0.9756 - get_f1: 0.9834 - val_loss: 0.0909 - val_accuracy: 0.9660 - val_get_f1: 0.9757\n",
      "Epoch 15/40\n",
      "264/265 [============================>.] - ETA: 0s - loss: 0.0597 - accuracy: 0.9759 - get_f1: 0.9825\n",
      "Epoch 00015: val_get_f1 improved from 0.98115 to 0.98262, saving model to .\\modelo_mlp_ex8_3.hdf5\n",
      "265/265 [==============================] - 2s 6ms/step - loss: 0.0597 - accuracy: 0.9759 - get_f1: 0.9826 - val_loss: 0.0721 - val_accuracy: 0.9754 - val_get_f1: 0.9826\n",
      "Epoch 16/40\n",
      "259/265 [============================>.] - ETA: 0s - loss: 0.0565 - accuracy: 0.9802 - get_f1: 0.9862\n",
      "Epoch 00016: val_get_f1 did not improve from 0.98262\n",
      "265/265 [==============================] - 1s 6ms/step - loss: 0.0567 - accuracy: 0.9797 - get_f1: 0.9858 - val_loss: 0.0850 - val_accuracy: 0.9726 - val_get_f1: 0.9817\n",
      "Epoch 17/40\n",
      "255/265 [===========================>..] - ETA: 0s - loss: 0.0592 - accuracy: 0.9787 - get_f1: 0.9848\n",
      "Epoch 00017: val_get_f1 did not improve from 0.98262\n",
      "265/265 [==============================] - 1s 6ms/step - loss: 0.0584 - accuracy: 0.9789 - get_f1: 0.9851 - val_loss: 0.0804 - val_accuracy: 0.9735 - val_get_f1: 0.9819\n",
      "Epoch 18/40\n",
      "261/265 [============================>.] - ETA: 0s - loss: 0.0637 - accuracy: 0.9765 - get_f1: 0.9839\n",
      "Epoch 00018: val_get_f1 did not improve from 0.98262\n",
      "265/265 [==============================] - 2s 6ms/step - loss: 0.0640 - accuracy: 0.9761 - get_f1: 0.9837 - val_loss: 0.0917 - val_accuracy: 0.9688 - val_get_f1: 0.9782\n",
      "Epoch 19/40\n",
      "259/265 [============================>.] - ETA: 0s - loss: 0.0646 - accuracy: 0.9768 - get_f1: 0.9843\n",
      "Epoch 00019: val_get_f1 did not improve from 0.98262\n",
      "265/265 [==============================] - 1s 5ms/step - loss: 0.0651 - accuracy: 0.9761 - get_f1: 0.9838 - val_loss: 0.0677 - val_accuracy: 0.9707 - val_get_f1: 0.9804\n",
      "Epoch 20/40\n",
      "264/265 [============================>.] - ETA: 0s - loss: 0.0586 - accuracy: 0.9777 - get_f1: 0.9844\n",
      "Epoch 00020: val_get_f1 improved from 0.98262 to 0.98298, saving model to .\\modelo_mlp_ex8_3.hdf5\n",
      "265/265 [==============================] - 2s 6ms/step - loss: 0.0586 - accuracy: 0.9778 - get_f1: 0.9844 - val_loss: 0.0664 - val_accuracy: 0.9745 - val_get_f1: 0.9830\n",
      "Epoch 21/40\n",
      "262/265 [============================>.] - ETA: 0s - loss: 0.0507 - accuracy: 0.9823 - get_f1: 0.9876\n",
      "Epoch 00021: val_get_f1 did not improve from 0.98298\n",
      "265/265 [==============================] - 2s 6ms/step - loss: 0.0504 - accuracy: 0.9825 - get_f1: 0.9877 - val_loss: 0.0801 - val_accuracy: 0.9707 - val_get_f1: 0.9802\n",
      "Epoch 22/40\n",
      "264/265 [============================>.] - ETA: 0s - loss: 0.0550 - accuracy: 0.9785 - get_f1: 0.9851\n",
      "Epoch 00022: val_get_f1 improved from 0.98298 to 0.98331, saving model to .\\modelo_mlp_ex8_3.hdf5\n",
      "265/265 [==============================] - 2s 6ms/step - loss: 0.0550 - accuracy: 0.9785 - get_f1: 0.9852 - val_loss: 0.0742 - val_accuracy: 0.9754 - val_get_f1: 0.9833\n",
      "Epoch 23/40\n",
      "257/265 [============================>.] - ETA: 0s - loss: 0.0478 - accuracy: 0.9837 - get_f1: 0.9886\n",
      "Epoch 00023: val_get_f1 improved from 0.98331 to 0.98449, saving model to .\\modelo_mlp_ex8_3.hdf5\n",
      "265/265 [==============================] - 2s 6ms/step - loss: 0.0470 - accuracy: 0.9839 - get_f1: 0.9888 - val_loss: 0.0706 - val_accuracy: 0.9773 - val_get_f1: 0.9845\n",
      "Epoch 24/40\n",
      "256/265 [===========================>..] - ETA: 0s - loss: 0.0404 - accuracy: 0.9844 - get_f1: 0.9890\n",
      "Epoch 00024: val_get_f1 did not improve from 0.98449\n",
      "265/265 [==============================] - 1s 6ms/step - loss: 0.0399 - accuracy: 0.9849 - get_f1: 0.9893 - val_loss: 0.0638 - val_accuracy: 0.9764 - val_get_f1: 0.9839\n",
      "Epoch 25/40\n",
      "263/265 [============================>.] - ETA: 0s - loss: 0.0425 - accuracy: 0.9831 - get_f1: 0.9885\n",
      "Epoch 00025: val_get_f1 did not improve from 0.98449\n",
      "265/265 [==============================] - 1s 6ms/step - loss: 0.0429 - accuracy: 0.9827 - get_f1: 0.9872 - val_loss: 0.1163 - val_accuracy: 0.9669 - val_get_f1: 0.9773\n",
      "Epoch 26/40\n",
      "258/265 [============================>.] - ETA: 0s - loss: 0.0523 - accuracy: 0.9816 - get_f1: 0.9872\n",
      "Epoch 00026: val_get_f1 improved from 0.98449 to 0.98554, saving model to .\\modelo_mlp_ex8_3.hdf5\n",
      "265/265 [==============================] - 2s 6ms/step - loss: 0.0517 - accuracy: 0.9818 - get_f1: 0.9874 - val_loss: 0.0678 - val_accuracy: 0.9792 - val_get_f1: 0.9855\n",
      "Epoch 27/40\n",
      "257/265 [============================>.] - ETA: 0s - loss: 0.0411 - accuracy: 0.9835 - get_f1: 0.9881\n",
      "Epoch 00027: val_get_f1 did not improve from 0.98554\n",
      "265/265 [==============================] - 1s 6ms/step - loss: 0.0409 - accuracy: 0.9834 - get_f1: 0.9882 - val_loss: 0.1089 - val_accuracy: 0.9707 - val_get_f1: 0.9801\n",
      "Epoch 28/40\n",
      "259/265 [============================>.] - ETA: 0s - loss: 0.0411 - accuracy: 0.9836 - get_f1: 0.9886\n",
      "Epoch 00028: val_get_f1 did not improve from 0.98554\n",
      "265/265 [==============================] - 1s 6ms/step - loss: 0.0416 - accuracy: 0.9830 - get_f1: 0.9883 - val_loss: 0.0795 - val_accuracy: 0.9745 - val_get_f1: 0.9824\n",
      "Epoch 29/40\n",
      "257/265 [============================>.] - ETA: 0s - loss: 0.0383 - accuracy: 0.9871 - get_f1: 0.9912\n",
      "Epoch 00029: val_get_f1 did not improve from 0.98554\n",
      "265/265 [==============================] - 1s 6ms/step - loss: 0.0377 - accuracy: 0.9872 - get_f1: 0.9913 - val_loss: 0.0918 - val_accuracy: 0.9726 - val_get_f1: 0.9819\n",
      "Epoch 30/40\n",
      "257/265 [============================>.] - ETA: 0s - loss: 0.0392 - accuracy: 0.9857 - get_f1: 0.9902\n",
      "Epoch 00030: val_get_f1 did not improve from 0.98554\n",
      "265/265 [==============================] - 2s 6ms/step - loss: 0.0398 - accuracy: 0.9853 - get_f1: 0.9900 - val_loss: 0.0904 - val_accuracy: 0.9726 - val_get_f1: 0.9816\n",
      "Epoch 31/40\n",
      "262/265 [============================>.] - ETA: 0s - loss: 0.0360 - accuracy: 0.9871 - get_f1: 0.9909\n",
      "Epoch 00031: val_get_f1 did not improve from 0.98554\n",
      "265/265 [==============================] - 1s 5ms/step - loss: 0.0362 - accuracy: 0.9870 - get_f1: 0.9908 - val_loss: 0.0704 - val_accuracy: 0.9754 - val_get_f1: 0.9834\n",
      "Epoch 32/40\n",
      "259/265 [============================>.] - ETA: 0s - loss: 0.0334 - accuracy: 0.9879 - get_f1: 0.9915\n",
      "Epoch 00032: val_get_f1 did not improve from 0.98554\n",
      "265/265 [==============================] - 1s 5ms/step - loss: 0.0329 - accuracy: 0.9882 - get_f1: 0.9917 - val_loss: 0.1126 - val_accuracy: 0.9716 - val_get_f1: 0.9808\n",
      "Epoch 33/40\n",
      "262/265 [============================>.] - ETA: 0s - loss: 0.0358 - accuracy: 0.9869 - get_f1: 0.9910\n",
      "Epoch 00033: val_get_f1 did not improve from 0.98554\n",
      "265/265 [==============================] - 1s 5ms/step - loss: 0.0359 - accuracy: 0.9865 - get_f1: 0.9908 - val_loss: 0.0893 - val_accuracy: 0.9669 - val_get_f1: 0.9774\n",
      "Epoch 34/40\n",
      "256/265 [===========================>..] - ETA: 0s - loss: 0.0341 - accuracy: 0.9888 - get_f1: 0.9919\n",
      "Epoch 00034: val_get_f1 improved from 0.98554 to 0.98649, saving model to .\\modelo_mlp_ex8_3.hdf5\n",
      "265/265 [==============================] - 2s 6ms/step - loss: 0.0337 - accuracy: 0.9889 - get_f1: 0.9920 - val_loss: 0.0687 - val_accuracy: 0.9802 - val_get_f1: 0.9865\n",
      "Epoch 35/40\n",
      "258/265 [============================>.] - ETA: 0s - loss: 0.0323 - accuracy: 0.9857 - get_f1: 0.9898\n",
      "Epoch 00035: val_get_f1 did not improve from 0.98649\n",
      "265/265 [==============================] - 2s 6ms/step - loss: 0.0317 - accuracy: 0.9860 - get_f1: 0.9901 - val_loss: 0.0838 - val_accuracy: 0.9745 - val_get_f1: 0.9827\n",
      "Epoch 36/40\n",
      "258/265 [============================>.] - ETA: 0s - loss: 0.0377 - accuracy: 0.9859 - get_f1: 0.9902\n",
      "Epoch 00036: val_get_f1 improved from 0.98649 to 0.98673, saving model to .\\modelo_mlp_ex8_3.hdf5\n",
      "265/265 [==============================] - 2s 6ms/step - loss: 0.0378 - accuracy: 0.9860 - get_f1: 0.9902 - val_loss: 0.0825 - val_accuracy: 0.9802 - val_get_f1: 0.9867\n",
      "Epoch 37/40\n",
      "255/265 [===========================>..] - ETA: 0s - loss: 0.0327 - accuracy: 0.9895 - get_f1: 0.9926\n",
      "Epoch 00037: val_get_f1 did not improve from 0.98673\n",
      "265/265 [==============================] - 1s 6ms/step - loss: 0.0323 - accuracy: 0.9894 - get_f1: 0.9926 - val_loss: 0.0744 - val_accuracy: 0.9783 - val_get_f1: 0.9846\n",
      "Epoch 38/40\n",
      "258/265 [============================>.] - ETA: 0s - loss: 0.0380 - accuracy: 0.9855 - get_f1: 0.9900\n",
      "Epoch 00038: val_get_f1 improved from 0.98673 to 0.98774, saving model to .\\modelo_mlp_ex8_3.hdf5\n",
      "265/265 [==============================] - 2s 6ms/step - loss: 0.0375 - accuracy: 0.9856 - get_f1: 0.9901 - val_loss: 0.0727 - val_accuracy: 0.9820 - val_get_f1: 0.9877\n",
      "Epoch 39/40\n",
      "260/265 [============================>.] - ETA: 0s - loss: 0.0372 - accuracy: 0.9865 - get_f1: 0.9903\n",
      "Epoch 00039: val_get_f1 did not improve from 0.98774\n",
      "265/265 [==============================] - 2s 6ms/step - loss: 0.0367 - accuracy: 0.9868 - get_f1: 0.9905 - val_loss: 0.0690 - val_accuracy: 0.9773 - val_get_f1: 0.9847\n",
      "Epoch 40/40\n",
      "255/265 [===========================>..] - ETA: 0s - loss: 0.0321 - accuracy: 0.9890 - get_f1: 0.9923\n",
      "Epoch 00040: val_get_f1 did not improve from 0.98774\n",
      "265/265 [==============================] - 1s 6ms/step - loss: 0.0325 - accuracy: 0.9891 - get_f1: 0.9924 - val_loss: 0.1376 - val_accuracy: 0.9556 - val_get_f1: 0.9697\n"
     ]
    }
   ],
   "metadata": {}
  },
  {
   "cell_type": "markdown",
   "source": [
    "## Gráfico comparativo da Acurácia e Perda no treinamento"
   ],
   "metadata": {}
  },
  {
   "cell_type": "code",
   "execution_count": 40,
   "source": [
    "plot_history(history)"
   ],
   "outputs": [
    {
     "output_type": "display_data",
     "data": {
      "text/plain": [
       "<Figure size 1152x576 with 2 Axes>"
      ],
      "image/png": "[encoded data removed]"
     },
     "metadata": {
      "needs_background": "light"
     }
    }
   ],
   "metadata": {}
  },
  {
   "cell_type": "markdown",
   "source": [
    "## Apresentando a Acurácia final do Treino, carregando o melhor modelo salvo e apresentando a Acurácia da Validação"
   ],
   "metadata": {}
  },
  {
   "cell_type": "code",
   "execution_count": 41,
   "source": [
    "scores = model.evaluate(X_train, y_train)\r\n",
    "print()\r\n",
    "print(f\"Acurácia do Treino: {round(scores[1]*100,2)}%\")\r\n",
    "print(f\"F1 Score do Treino: {round(scores[2]*100,2)}%\")"
   ],
   "outputs": [
    {
     "output_type": "stream",
     "name": "stdout",
     "text": [
      "133/133 [==============================] - 0s 3ms/step - loss: 0.0246 - accuracy: 0.9908 - get_f1: 0.9935\n",
      "\n",
      "Acurácia do Treino: 99.08%\n",
      "F1 Score do Treino: 99.35%\n"
     ]
    }
   ],
   "metadata": {}
  },
  {
   "cell_type": "code",
   "execution_count": 42,
   "source": [
    "model = load_model(\"./modelo_mlp_ex8_3.hdf5\", custom_objects={'get_f1': get_f1})"
   ],
   "outputs": [],
   "metadata": {}
  },
  {
   "cell_type": "code",
   "execution_count": 43,
   "source": [
    "scores = model.evaluate(X_val, y_val)\r\n",
    "print()\r\n",
    "print(f\"Acurácia da Validação: {round(scores[1]*100,2)}%\")\r\n",
    "print(f\"F1 Score da Validação: {round(scores[2]*100,2)}%\")"
   ],
   "outputs": [
    {
     "output_type": "stream",
     "name": "stdout",
     "text": [
      "34/34 [==============================] - 0s 3ms/step - loss: 0.0727 - accuracy: 0.9820 - get_f1: 0.9876\n",
      "\n",
      "Acurácia da Validação: 98.2%\n",
      "F1 Score da Validação: 98.76%\n"
     ]
    }
   ],
   "metadata": {}
  },
  {
   "cell_type": "markdown",
   "source": [
    "## Carregando os dados para o Teste e aplicando os mesmos pré processamentos"
   ],
   "metadata": {}
  },
  {
   "cell_type": "code",
   "execution_count": 29,
   "source": [
    "X_xray, y_xray = get_dados(path_teste, df_test)"
   ],
   "outputs": [
    {
     "output_type": "stream",
     "name": "stdout",
     "text": [
      "Serão carregadas 624 imagens\n",
      "5300 : 5400 : 5500 : 5600 : 5700 : 5800 : 5900 : "
     ]
    }
   ],
   "metadata": {}
  },
  {
   "cell_type": "code",
   "execution_count": 30,
   "source": [
    "X_test = np.asarray(X_xray).astype(np.float32)\r\n",
    "y_test = np.asarray(y_xray)"
   ],
   "outputs": [],
   "metadata": {}
  },
  {
   "cell_type": "code",
   "execution_count": 31,
   "source": [
    "X_test = X_test/255\r\n",
    "X_test.shape"
   ],
   "outputs": [
    {
     "output_type": "execute_result",
     "data": {
      "text/plain": [
       "(624, 64, 64, 1)"
      ]
     },
     "metadata": {},
     "execution_count": 31
    }
   ],
   "metadata": {}
  },
  {
   "cell_type": "code",
   "execution_count": 32,
   "source": [
    "y_test.shape"
   ],
   "outputs": [
    {
     "output_type": "execute_result",
     "data": {
      "text/plain": [
       "(624,)"
      ]
     },
     "metadata": {},
     "execution_count": 32
    }
   ],
   "metadata": {}
  },
  {
   "cell_type": "code",
   "execution_count": 44,
   "source": [
    "scores = model.evaluate(X_test, y_test)\r\n",
    "print()\r\n",
    "print(f\"Acurácia do Teste: {round(scores[1]*100,2)}%\")\r\n",
    "print(f\"F1 Score do Teste: {round(scores[2]*100,2)}%\")"
   ],
   "outputs": [
    {
     "output_type": "stream",
     "name": "stdout",
     "text": [
      "20/20 [==============================] - 0s 3ms/step - loss: 1.8037 - accuracy: 0.7837 - get_f1: 0.6438\n",
      "\n",
      "Acurácia do Teste: 78.37%\n",
      "F1 Score do Teste: 64.38%\n"
     ]
    }
   ],
   "metadata": {}
  }
 ],
 "metadata": {
  "kernelspec": {
   "name": "python3",
   "display_name": "Python 3.8.10 64-bit ('tf-gpu': conda)"
  },
  "language_info": {
   "codemirror_mode": {
    "name": "ipython",
    "version": 3
   },
   "file_extension": ".py",
   "mimetype": "text/x-python",
   "name": "python",
   "nbconvert_exporter": "python",
   "pygments_lexer": "ipython3",
   "version": "3.8.10"
  },
  "interpreter": {
   "hash": "c24c9dacf042e5cf8b743bae11b2cef3a95983df3bc5153773d9ffef1d5207d2"
  }
 },
 "nbformat": 4,
 "nbformat_minor": 4
}