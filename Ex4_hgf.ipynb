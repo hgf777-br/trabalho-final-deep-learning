{
  "nbformat": 4,
  "nbformat_minor": 2,
  "metadata": {
    "kernelspec": {
      "name": "python3",
      "display_name": "Python 3.8.10 64-bit ('tf-gpu': conda)"
    },
    "language_info": {
      "codemirror_mode": {
        "name": "ipython",
        "version": 3
      },
      "file_extension": ".py",
      "mimetype": "text/x-python",
      "name": "python",
      "nbconvert_exporter": "python",
      "pygments_lexer": "ipython3",
      "version": "3.8.10"
    },
    "colab": {
      "name": "ELM Dataset Mushrooms.ipynb",
      "provenance": [],
      "collapsed_sections": [
        "39CqzS5HWP_t"
      ]
    },
    "accelerator": "TPU",
    "interpreter": {
      "hash": "c24c9dacf042e5cf8b743bae11b2cef3a95983df3bc5153773d9ffef1d5207d2"
    }
  },
  "cells": [
    {
      "cell_type": "markdown",
      "source": [
        "###Configs Iniciais"
      ],
      "metadata": {
        "id": "0rKghV1CxK5v"
      }
    },
    {
      "cell_type": "code",
      "execution_count": 1,
      "source": [
        "!pip install sklearn_extensions"
      ],
      "outputs": [
        {
          "output_type": "stream",
          "name": "stdout",
          "text": [
            "Requirement already satisfied: sklearn_extensions in /usr/local/lib/python3.7/dist-packages (0.0.2)\n",
            "Requirement already satisfied: scipy>=0.16.0 in /usr/local/lib/python3.7/dist-packages (from sklearn_extensions) (1.4.1)\n",
            "Requirement already satisfied: numpy>=1.9.0 in /usr/local/lib/python3.7/dist-packages (from sklearn_extensions) (1.19.5)\n",
            "Requirement already satisfied: scikit-learn>=0.15 in /usr/local/lib/python3.7/dist-packages (from sklearn_extensions) (0.22.2.post1)\n",
            "Requirement already satisfied: joblib>=0.11 in /usr/local/lib/python3.7/dist-packages (from scikit-learn>=0.15->sklearn_extensions) (1.0.1)\n"
          ]
        }
      ],
      "metadata": {
        "colab": {
          "base_uri": "https://localhost:8080/"
        },
        "id": "g9lKUpFK-xoO",
        "outputId": "f9c1d7be-f16b-4b09-af22-f2ef89e0a0ca"
      }
    },
    {
      "cell_type": "code",
      "execution_count": 1,
      "source": [
        "import pandas as pd\r\n",
        "import seaborn as sb\r\n",
        "import matplotlib.pyplot as plt\r\n",
        "\r\n",
        "from sklearn.model_selection import train_test_split\r\n",
        "from sklearn import metrics \r\n",
        "from sklearn.preprocessing import StandardScaler, MinMaxScaler\r\n",
        "\r\n",
        "from sklearn_extensions.extreme_learning_machines.elm import GenELMClassifier\r\n",
        "from sklearn_extensions.extreme_learning_machines.random_layer import RBFRandomLayer, MLPRandomLayer"
      ],
      "outputs": [
        {
          "output_type": "stream",
          "name": "stderr",
          "text": [
            "C:\\Users\\hgf77\\anaconda3\\envs\\tf-gpu\\lib\\site-packages\\sklearn\\utils\\validation.py:70: FutureWarning: Pass neg_label=-1, pos_label=1 as keyword args. From version 1.0 (renaming of 0.25) passing these as positional arguments will result in an error\n",
            "  warnings.warn(f\"Pass {args_msg} as keyword args. From version \"\n"
          ]
        }
      ],
      "metadata": {
        "id": "sR3YY2_lWP-d"
      }
    },
    {
      "cell_type": "code",
      "execution_count": 2,
      "source": [
        "mushrooms_db = pd.read_csv('./data/mushrooms.csv')\r\n",
        "mushrooms_db.head(10)"
      ],
      "outputs": [
        {
          "output_type": "execute_result",
          "data": {
            "text/plain": [
              "  class cap-shape cap-surface cap-color bruises odor gill-attachment  \\\n",
              "0     p         x           s         n       t    p               f   \n",
              "1     e         x           s         y       t    a               f   \n",
              "2     e         b           s         w       t    l               f   \n",
              "3     p         x           y         w       t    p               f   \n",
              "4     e         x           s         g       f    n               f   \n",
              "5     e         x           y         y       t    a               f   \n",
              "6     e         b           s         w       t    a               f   \n",
              "7     e         b           y         w       t    l               f   \n",
              "8     p         x           y         w       t    p               f   \n",
              "9     e         b           s         y       t    a               f   \n",
              "\n",
              "  gill-spacing gill-size gill-color  ... stalk-surface-below-ring  \\\n",
              "0            c         n          k  ...                        s   \n",
              "1            c         b          k  ...                        s   \n",
              "2            c         b          n  ...                        s   \n",
              "3            c         n          n  ...                        s   \n",
              "4            w         b          k  ...                        s   \n",
              "5            c         b          n  ...                        s   \n",
              "6            c         b          g  ...                        s   \n",
              "7            c         b          n  ...                        s   \n",
              "8            c         n          p  ...                        s   \n",
              "9            c         b          g  ...                        s   \n",
              "\n",
              "  stalk-color-above-ring stalk-color-below-ring veil-type veil-color  \\\n",
              "0                      w                      w         p          w   \n",
              "1                      w                      w         p          w   \n",
              "2                      w                      w         p          w   \n",
              "3                      w                      w         p          w   \n",
              "4                      w                      w         p          w   \n",
              "5                      w                      w         p          w   \n",
              "6                      w                      w         p          w   \n",
              "7                      w                      w         p          w   \n",
              "8                      w                      w         p          w   \n",
              "9                      w                      w         p          w   \n",
              "\n",
              "  ring-number ring-type spore-print-color population habitat  \n",
              "0           o         p                 k          s       u  \n",
              "1           o         p                 n          n       g  \n",
              "2           o         p                 n          n       m  \n",
              "3           o         p                 k          s       u  \n",
              "4           o         e                 n          a       g  \n",
              "5           o         p                 k          n       g  \n",
              "6           o         p                 k          n       m  \n",
              "7           o         p                 n          s       m  \n",
              "8           o         p                 k          v       g  \n",
              "9           o         p                 k          s       m  \n",
              "\n",
              "[10 rows x 23 columns]"
            ],
            "text/html": [
              "<div>\n",
              "<style scoped>\n",
              "    .dataframe tbody tr th:only-of-type {\n",
              "        vertical-align: middle;\n",
              "    }\n",
              "\n",
              "    .dataframe tbody tr th {\n",
              "        vertical-align: top;\n",
              "    }\n",
              "\n",
              "    .dataframe thead th {\n",
              "        text-align: right;\n",
              "    }\n",
              "</style>\n",
              "<table border=\"1\" class=\"dataframe\">\n",
              "  <thead>\n",
              "    <tr style=\"text-align: right;\">\n",
              "      <th></th>\n",
              "      <th>class</th>\n",
              "      <th>cap-shape</th>\n",
              "      <th>cap-surface</th>\n",
              "      <th>cap-color</th>\n",
              "      <th>bruises</th>\n",
              "      <th>odor</th>\n",
              "      <th>gill-attachment</th>\n",
              "      <th>gill-spacing</th>\n",
              "      <th>gill-size</th>\n",
              "      <th>gill-color</th>\n",
              "      <th>...</th>\n",
              "      <th>stalk-surface-below-ring</th>\n",
              "      <th>stalk-color-above-ring</th>\n",
              "      <th>stalk-color-below-ring</th>\n",
              "      <th>veil-type</th>\n",
              "      <th>veil-color</th>\n",
              "      <th>ring-number</th>\n",
              "      <th>ring-type</th>\n",
              "      <th>spore-print-color</th>\n",
              "      <th>population</th>\n",
              "      <th>habitat</th>\n",
              "    </tr>\n",
              "  </thead>\n",
              "  <tbody>\n",
              "    <tr>\n",
              "      <th>0</th>\n",
              "      <td>p</td>\n",
              "      <td>x</td>\n",
              "      <td>s</td>\n",
              "      <td>n</td>\n",
              "      <td>t</td>\n",
              "      <td>p</td>\n",
              "      <td>f</td>\n",
              "      <td>c</td>\n",
              "      <td>n</td>\n",
              "      <td>k</td>\n",
              "      <td>...</td>\n",
              "      <td>s</td>\n",
              "      <td>w</td>\n",
              "      <td>w</td>\n",
              "      <td>p</td>\n",
              "      <td>w</td>\n",
              "      <td>o</td>\n",
              "      <td>p</td>\n",
              "      <td>k</td>\n",
              "      <td>s</td>\n",
              "      <td>u</td>\n",
              "    </tr>\n",
              "    <tr>\n",
              "      <th>1</th>\n",
              "      <td>e</td>\n",
              "      <td>x</td>\n",
              "      <td>s</td>\n",
              "      <td>y</td>\n",
              "      <td>t</td>\n",
              "      <td>a</td>\n",
              "      <td>f</td>\n",
              "      <td>c</td>\n",
              "      <td>b</td>\n",
              "      <td>k</td>\n",
              "      <td>...</td>\n",
              "      <td>s</td>\n",
              "      <td>w</td>\n",
              "      <td>w</td>\n",
              "      <td>p</td>\n",
              "      <td>w</td>\n",
              "      <td>o</td>\n",
              "      <td>p</td>\n",
              "      <td>n</td>\n",
              "      <td>n</td>\n",
              "      <td>g</td>\n",
              "    </tr>\n",
              "    <tr>\n",
              "      <th>2</th>\n",
              "      <td>e</td>\n",
              "      <td>b</td>\n",
              "      <td>s</td>\n",
              "      <td>w</td>\n",
              "      <td>t</td>\n",
              "      <td>l</td>\n",
              "      <td>f</td>\n",
              "      <td>c</td>\n",
              "      <td>b</td>\n",
              "      <td>n</td>\n",
              "      <td>...</td>\n",
              "      <td>s</td>\n",
              "      <td>w</td>\n",
              "      <td>w</td>\n",
              "      <td>p</td>\n",
              "      <td>w</td>\n",
              "      <td>o</td>\n",
              "      <td>p</td>\n",
              "      <td>n</td>\n",
              "      <td>n</td>\n",
              "      <td>m</td>\n",
              "    </tr>\n",
              "    <tr>\n",
              "      <th>3</th>\n",
              "      <td>p</td>\n",
              "      <td>x</td>\n",
              "      <td>y</td>\n",
              "      <td>w</td>\n",
              "      <td>t</td>\n",
              "      <td>p</td>\n",
              "      <td>f</td>\n",
              "      <td>c</td>\n",
              "      <td>n</td>\n",
              "      <td>n</td>\n",
              "      <td>...</td>\n",
              "      <td>s</td>\n",
              "      <td>w</td>\n",
              "      <td>w</td>\n",
              "      <td>p</td>\n",
              "      <td>w</td>\n",
              "      <td>o</td>\n",
              "      <td>p</td>\n",
              "      <td>k</td>\n",
              "      <td>s</td>\n",
              "      <td>u</td>\n",
              "    </tr>\n",
              "    <tr>\n",
              "      <th>4</th>\n",
              "      <td>e</td>\n",
              "      <td>x</td>\n",
              "      <td>s</td>\n",
              "      <td>g</td>\n",
              "      <td>f</td>\n",
              "      <td>n</td>\n",
              "      <td>f</td>\n",
              "      <td>w</td>\n",
              "      <td>b</td>\n",
              "      <td>k</td>\n",
              "      <td>...</td>\n",
              "      <td>s</td>\n",
              "      <td>w</td>\n",
              "      <td>w</td>\n",
              "      <td>p</td>\n",
              "      <td>w</td>\n",
              "      <td>o</td>\n",
              "      <td>e</td>\n",
              "      <td>n</td>\n",
              "      <td>a</td>\n",
              "      <td>g</td>\n",
              "    </tr>\n",
              "    <tr>\n",
              "      <th>5</th>\n",
              "      <td>e</td>\n",
              "      <td>x</td>\n",
              "      <td>y</td>\n",
              "      <td>y</td>\n",
              "      <td>t</td>\n",
              "      <td>a</td>\n",
              "      <td>f</td>\n",
              "      <td>c</td>\n",
              "      <td>b</td>\n",
              "      <td>n</td>\n",
              "      <td>...</td>\n",
              "      <td>s</td>\n",
              "      <td>w</td>\n",
              "      <td>w</td>\n",
              "      <td>p</td>\n",
              "      <td>w</td>\n",
              "      <td>o</td>\n",
              "      <td>p</td>\n",
              "      <td>k</td>\n",
              "      <td>n</td>\n",
              "      <td>g</td>\n",
              "    </tr>\n",
              "    <tr>\n",
              "      <th>6</th>\n",
              "      <td>e</td>\n",
              "      <td>b</td>\n",
              "      <td>s</td>\n",
              "      <td>w</td>\n",
              "      <td>t</td>\n",
              "      <td>a</td>\n",
              "      <td>f</td>\n",
              "      <td>c</td>\n",
              "      <td>b</td>\n",
              "      <td>g</td>\n",
              "      <td>...</td>\n",
              "      <td>s</td>\n",
              "      <td>w</td>\n",
              "      <td>w</td>\n",
              "      <td>p</td>\n",
              "      <td>w</td>\n",
              "      <td>o</td>\n",
              "      <td>p</td>\n",
              "      <td>k</td>\n",
              "      <td>n</td>\n",
              "      <td>m</td>\n",
              "    </tr>\n",
              "    <tr>\n",
              "      <th>7</th>\n",
              "      <td>e</td>\n",
              "      <td>b</td>\n",
              "      <td>y</td>\n",
              "      <td>w</td>\n",
              "      <td>t</td>\n",
              "      <td>l</td>\n",
              "      <td>f</td>\n",
              "      <td>c</td>\n",
              "      <td>b</td>\n",
              "      <td>n</td>\n",
              "      <td>...</td>\n",
              "      <td>s</td>\n",
              "      <td>w</td>\n",
              "      <td>w</td>\n",
              "      <td>p</td>\n",
              "      <td>w</td>\n",
              "      <td>o</td>\n",
              "      <td>p</td>\n",
              "      <td>n</td>\n",
              "      <td>s</td>\n",
              "      <td>m</td>\n",
              "    </tr>\n",
              "    <tr>\n",
              "      <th>8</th>\n",
              "      <td>p</td>\n",
              "      <td>x</td>\n",
              "      <td>y</td>\n",
              "      <td>w</td>\n",
              "      <td>t</td>\n",
              "      <td>p</td>\n",
              "      <td>f</td>\n",
              "      <td>c</td>\n",
              "      <td>n</td>\n",
              "      <td>p</td>\n",
              "      <td>...</td>\n",
              "      <td>s</td>\n",
              "      <td>w</td>\n",
              "      <td>w</td>\n",
              "      <td>p</td>\n",
              "      <td>w</td>\n",
              "      <td>o</td>\n",
              "      <td>p</td>\n",
              "      <td>k</td>\n",
              "      <td>v</td>\n",
              "      <td>g</td>\n",
              "    </tr>\n",
              "    <tr>\n",
              "      <th>9</th>\n",
              "      <td>e</td>\n",
              "      <td>b</td>\n",
              "      <td>s</td>\n",
              "      <td>y</td>\n",
              "      <td>t</td>\n",
              "      <td>a</td>\n",
              "      <td>f</td>\n",
              "      <td>c</td>\n",
              "      <td>b</td>\n",
              "      <td>g</td>\n",
              "      <td>...</td>\n",
              "      <td>s</td>\n",
              "      <td>w</td>\n",
              "      <td>w</td>\n",
              "      <td>p</td>\n",
              "      <td>w</td>\n",
              "      <td>o</td>\n",
              "      <td>p</td>\n",
              "      <td>k</td>\n",
              "      <td>s</td>\n",
              "      <td>m</td>\n",
              "    </tr>\n",
              "  </tbody>\n",
              "</table>\n",
              "<p>10 rows × 23 columns</p>\n",
              "</div>"
            ]
          },
          "metadata": {},
          "execution_count": 2
        }
      ],
      "metadata": {
        "id": "opDXxjLkWP-t",
        "colab": {
          "base_uri": "https://localhost:8080/",
          "height": 0
        },
        "outputId": "2d91d1ee-63e2-448f-d2df-a21b6d7ccf2c"
      }
    },
    {
      "cell_type": "markdown",
      "source": [
        "DETALHAMENTO DAS VARIÁVEIS:\n",
        "<ol>\n",
        "<li>cap-shape: bell=b, conical=c, convex=x, flat=f, knobbed=k, sunken=s</li>\n",
        "<li>cap-surface: fibrous=f, grooves=g, scaly=y, smooth=s</li>\n",
        "<li>cap-color: brown=n, buff=b, cinnamon=c, gray=g, green=r, pink=p, purple=u, red=e, white=w, yellow=y</li>\n",
        "<li>bruises: bruises=t, no=f</li>\n",
        "<li>odor: almond=a, anise=l, creosote=c, fishy=y, foul=f, musty=m, none=n, pungent=p, spicy=s</li>\n",
        "<li>gill-attachment: attached=a, descending=d, free=f, notched=n</li>\n",
        "<li>gill-spacing: close=c, crowded=w, distant=d</li>\n",
        "<li>gill-size: broad=b, narrow=n</li>\n",
        "<li>gill-color: black=k, brown=n, buff=b, chocolate=h, gray=g, green=r, orange=o, pink=p, purple=u, red=e, white=w, yellow=y</li>\n",
        "<li>stalk-shape: enlarging=e, tapering=t</li>\n",
        "<li>stalk-root: bulbous=b, club=c, cup=u, equal=e, rhizomorphs=z, rooted=r, missing=?</li>\n",
        "<li>stalk-surface-above-ring: fibrous=f, scaly=y, silky=k, smooth=s</li>\n",
        "<li>stalk-surface-below-ring: fibrous=f, scaly=y, silky=k, smooth=s</li>\n",
        "<li>stalk-color-above-ring: brown=n, buff=b, cinnamon=c, gray=g, orange=o, pink=p, red=e, white=w, yellow=y</li>\n",
        "<li>stalk-color-below-ring: brown=n, buff=b, cinnamon=c, gray=g, orange=o, pink=p, red=e, white=w, yellow=y</li>\n",
        "<li>veil-type: partial=p, universal=u</li>\n",
        "<li>veil-color: brown=n, orange=o, white=w, yellow=y</li>\n",
        "<li>ring-number: none=n, one=o, two=t</li>\n",
        "<li>ring-type: cobwebby=c, evanescent=e, flaring=f, large=l, none=n, pendant=p, sheathing=s, zone=z</li>\n",
        "<li>spore-print-color: black=k, brown=n, buff=b, chocolate=h, green=r, orange=o, purple=u, white=w, yellow=y</li>\n",
        "<li>population: abundant=a, clustered=c, numerous=n, scattered=s, several=v, solitary=y</li>\n",
        "<li>habitat: grasses=g, leaves=l, meadows=m, paths=p, urban=u, waste=w, woods=d</li>\n",
        "</ol>"
      ],
      "metadata": {
        "id": "Fwfll6fLWP-3"
      }
    },
    {
      "cell_type": "markdown",
      "source": [
        "### Checar valores faltantes (missing values)"
      ],
      "metadata": {
        "id": "9KxEyoPGWP-_"
      }
    },
    {
      "cell_type": "code",
      "execution_count": 4,
      "source": [
        "mushrooms_db.isnull().sum()"
      ],
      "outputs": [
        {
          "output_type": "execute_result",
          "data": {
            "text/plain": [
              "class                       0\n",
              "cap-shape                   0\n",
              "cap-surface                 0\n",
              "cap-color                   0\n",
              "bruises                     0\n",
              "odor                        0\n",
              "gill-attachment             0\n",
              "gill-spacing                0\n",
              "gill-size                   0\n",
              "gill-color                  0\n",
              "stalk-shape                 0\n",
              "stalk-root                  0\n",
              "stalk-surface-above-ring    0\n",
              "stalk-surface-below-ring    0\n",
              "stalk-color-above-ring      0\n",
              "stalk-color-below-ring      0\n",
              "veil-type                   0\n",
              "veil-color                  0\n",
              "ring-number                 0\n",
              "ring-type                   0\n",
              "spore-print-color           0\n",
              "population                  0\n",
              "habitat                     0\n",
              "dtype: int64"
            ]
          },
          "metadata": {},
          "execution_count": 4
        }
      ],
      "metadata": {
        "id": "o4trtrPAWP_A",
        "colab": {
          "base_uri": "https://localhost:8080/"
        },
        "outputId": "48f8e663-5747-48c7-c378-5fbc4360bdc0"
      }
    },
    {
      "cell_type": "code",
      "execution_count": 3,
      "source": [
        "mushrooms_db.info()"
      ],
      "outputs": [
        {
          "output_type": "stream",
          "name": "stdout",
          "text": [
            "<class 'pandas.core.frame.DataFrame'>\n",
            "RangeIndex: 8124 entries, 0 to 8123\n",
            "Data columns (total 23 columns):\n",
            " #   Column                    Non-Null Count  Dtype \n",
            "---  ------                    --------------  ----- \n",
            " 0   class                     8124 non-null   object\n",
            " 1   cap-shape                 8124 non-null   object\n",
            " 2   cap-surface               8124 non-null   object\n",
            " 3   cap-color                 8124 non-null   object\n",
            " 4   bruises                   8124 non-null   object\n",
            " 5   odor                      8124 non-null   object\n",
            " 6   gill-attachment           8124 non-null   object\n",
            " 7   gill-spacing              8124 non-null   object\n",
            " 8   gill-size                 8124 non-null   object\n",
            " 9   gill-color                8124 non-null   object\n",
            " 10  stalk-shape               8124 non-null   object\n",
            " 11  stalk-root                8124 non-null   object\n",
            " 12  stalk-surface-above-ring  8124 non-null   object\n",
            " 13  stalk-surface-below-ring  8124 non-null   object\n",
            " 14  stalk-color-above-ring    8124 non-null   object\n",
            " 15  stalk-color-below-ring    8124 non-null   object\n",
            " 16  veil-type                 8124 non-null   object\n",
            " 17  veil-color                8124 non-null   object\n",
            " 18  ring-number               8124 non-null   object\n",
            " 19  ring-type                 8124 non-null   object\n",
            " 20  spore-print-color         8124 non-null   object\n",
            " 21  population                8124 non-null   object\n",
            " 22  habitat                   8124 non-null   object\n",
            "dtypes: object(23)\n",
            "memory usage: 1.4+ MB\n"
          ]
        }
      ],
      "metadata": {
        "id": "T6iW6XuuWP_F",
        "colab": {
          "base_uri": "https://localhost:8080/"
        },
        "outputId": "be223d56-5faf-4591-e6b5-ff03eebf060f"
      }
    },
    {
      "cell_type": "markdown",
      "source": [
        "###Converter variáveis categóricas"
      ],
      "metadata": {
        "id": "ePMBG9_5xfb-"
      }
    },
    {
      "cell_type": "code",
      "execution_count": 5,
      "source": [
        "mushrooms_aux = pd.get_dummies(mushrooms_db,drop_first=False)\r\n",
        "mushrooms_aux.head()"
      ],
      "outputs": [
        {
          "output_type": "execute_result",
          "data": {
            "text/plain": [
              "   class_e  class_p  cap-shape_b  cap-shape_c  cap-shape_f  cap-shape_k  \\\n",
              "0        0        1            0            0            0            0   \n",
              "1        1        0            0            0            0            0   \n",
              "2        1        0            1            0            0            0   \n",
              "3        0        1            0            0            0            0   \n",
              "4        1        0            0            0            0            0   \n",
              "\n",
              "   cap-shape_s  cap-shape_x  cap-surface_f  cap-surface_g  ...  population_s  \\\n",
              "0            0            1              0              0  ...             1   \n",
              "1            0            1              0              0  ...             0   \n",
              "2            0            0              0              0  ...             0   \n",
              "3            0            1              0              0  ...             1   \n",
              "4            0            1              0              0  ...             0   \n",
              "\n",
              "   population_v  population_y  habitat_d  habitat_g  habitat_l  habitat_m  \\\n",
              "0             0             0          0          0          0          0   \n",
              "1             0             0          0          1          0          0   \n",
              "2             0             0          0          0          0          1   \n",
              "3             0             0          0          0          0          0   \n",
              "4             0             0          0          1          0          0   \n",
              "\n",
              "   habitat_p  habitat_u  habitat_w  \n",
              "0          0          1          0  \n",
              "1          0          0          0  \n",
              "2          0          0          0  \n",
              "3          0          1          0  \n",
              "4          0          0          0  \n",
              "\n",
              "[5 rows x 119 columns]"
            ],
            "text/html": [
              "<div>\n",
              "<style scoped>\n",
              "    .dataframe tbody tr th:only-of-type {\n",
              "        vertical-align: middle;\n",
              "    }\n",
              "\n",
              "    .dataframe tbody tr th {\n",
              "        vertical-align: top;\n",
              "    }\n",
              "\n",
              "    .dataframe thead th {\n",
              "        text-align: right;\n",
              "    }\n",
              "</style>\n",
              "<table border=\"1\" class=\"dataframe\">\n",
              "  <thead>\n",
              "    <tr style=\"text-align: right;\">\n",
              "      <th></th>\n",
              "      <th>class_e</th>\n",
              "      <th>class_p</th>\n",
              "      <th>cap-shape_b</th>\n",
              "      <th>cap-shape_c</th>\n",
              "      <th>cap-shape_f</th>\n",
              "      <th>cap-shape_k</th>\n",
              "      <th>cap-shape_s</th>\n",
              "      <th>cap-shape_x</th>\n",
              "      <th>cap-surface_f</th>\n",
              "      <th>cap-surface_g</th>\n",
              "      <th>...</th>\n",
              "      <th>population_s</th>\n",
              "      <th>population_v</th>\n",
              "      <th>population_y</th>\n",
              "      <th>habitat_d</th>\n",
              "      <th>habitat_g</th>\n",
              "      <th>habitat_l</th>\n",
              "      <th>habitat_m</th>\n",
              "      <th>habitat_p</th>\n",
              "      <th>habitat_u</th>\n",
              "      <th>habitat_w</th>\n",
              "    </tr>\n",
              "  </thead>\n",
              "  <tbody>\n",
              "    <tr>\n",
              "      <th>0</th>\n",
              "      <td>0</td>\n",
              "      <td>1</td>\n",
              "      <td>0</td>\n",
              "      <td>0</td>\n",
              "      <td>0</td>\n",
              "      <td>0</td>\n",
              "      <td>0</td>\n",
              "      <td>1</td>\n",
              "      <td>0</td>\n",
              "      <td>0</td>\n",
              "      <td>...</td>\n",
              "      <td>1</td>\n",
              "      <td>0</td>\n",
              "      <td>0</td>\n",
              "      <td>0</td>\n",
              "      <td>0</td>\n",
              "      <td>0</td>\n",
              "      <td>0</td>\n",
              "      <td>0</td>\n",
              "      <td>1</td>\n",
              "      <td>0</td>\n",
              "    </tr>\n",
              "    <tr>\n",
              "      <th>1</th>\n",
              "      <td>1</td>\n",
              "      <td>0</td>\n",
              "      <td>0</td>\n",
              "      <td>0</td>\n",
              "      <td>0</td>\n",
              "      <td>0</td>\n",
              "      <td>0</td>\n",
              "      <td>1</td>\n",
              "      <td>0</td>\n",
              "      <td>0</td>\n",
              "      <td>...</td>\n",
              "      <td>0</td>\n",
              "      <td>0</td>\n",
              "      <td>0</td>\n",
              "      <td>0</td>\n",
              "      <td>1</td>\n",
              "      <td>0</td>\n",
              "      <td>0</td>\n",
              "      <td>0</td>\n",
              "      <td>0</td>\n",
              "      <td>0</td>\n",
              "    </tr>\n",
              "    <tr>\n",
              "      <th>2</th>\n",
              "      <td>1</td>\n",
              "      <td>0</td>\n",
              "      <td>1</td>\n",
              "      <td>0</td>\n",
              "      <td>0</td>\n",
              "      <td>0</td>\n",
              "      <td>0</td>\n",
              "      <td>0</td>\n",
              "      <td>0</td>\n",
              "      <td>0</td>\n",
              "      <td>...</td>\n",
              "      <td>0</td>\n",
              "      <td>0</td>\n",
              "      <td>0</td>\n",
              "      <td>0</td>\n",
              "      <td>0</td>\n",
              "      <td>0</td>\n",
              "      <td>1</td>\n",
              "      <td>0</td>\n",
              "      <td>0</td>\n",
              "      <td>0</td>\n",
              "    </tr>\n",
              "    <tr>\n",
              "      <th>3</th>\n",
              "      <td>0</td>\n",
              "      <td>1</td>\n",
              "      <td>0</td>\n",
              "      <td>0</td>\n",
              "      <td>0</td>\n",
              "      <td>0</td>\n",
              "      <td>0</td>\n",
              "      <td>1</td>\n",
              "      <td>0</td>\n",
              "      <td>0</td>\n",
              "      <td>...</td>\n",
              "      <td>1</td>\n",
              "      <td>0</td>\n",
              "      <td>0</td>\n",
              "      <td>0</td>\n",
              "      <td>0</td>\n",
              "      <td>0</td>\n",
              "      <td>0</td>\n",
              "      <td>0</td>\n",
              "      <td>1</td>\n",
              "      <td>0</td>\n",
              "    </tr>\n",
              "    <tr>\n",
              "      <th>4</th>\n",
              "      <td>1</td>\n",
              "      <td>0</td>\n",
              "      <td>0</td>\n",
              "      <td>0</td>\n",
              "      <td>0</td>\n",
              "      <td>0</td>\n",
              "      <td>0</td>\n",
              "      <td>1</td>\n",
              "      <td>0</td>\n",
              "      <td>0</td>\n",
              "      <td>...</td>\n",
              "      <td>0</td>\n",
              "      <td>0</td>\n",
              "      <td>0</td>\n",
              "      <td>0</td>\n",
              "      <td>1</td>\n",
              "      <td>0</td>\n",
              "      <td>0</td>\n",
              "      <td>0</td>\n",
              "      <td>0</td>\n",
              "      <td>0</td>\n",
              "    </tr>\n",
              "  </tbody>\n",
              "</table>\n",
              "<p>5 rows × 119 columns</p>\n",
              "</div>"
            ]
          },
          "metadata": {},
          "execution_count": 5
        }
      ],
      "metadata": {
        "colab": {
          "base_uri": "https://localhost:8080/",
          "height": 0
        },
        "id": "URV0tfZoJdrh",
        "outputId": "eebd9d4b-5ca3-4be9-c5bf-4d216c31aa5b"
      }
    },
    {
      "cell_type": "markdown",
      "source": [
        "### Classificação\n",
        "\n",
        "1º: Separar o conjunto em variavel resposta e características de treinamento"
      ],
      "metadata": {
        "id": "QP__opAzWP_2"
      }
    },
    {
      "cell_type": "code",
      "execution_count": 6,
      "source": [
        "X = mushrooms_aux.iloc[:, 2:].values\r\n",
        "y = mushrooms_aux.iloc[:,1].values"
      ],
      "outputs": [],
      "metadata": {
        "id": "NxhTxzZdWP_3"
      }
    },
    {
      "cell_type": "code",
      "execution_count": 7,
      "source": [
        "X.shape"
      ],
      "outputs": [
        {
          "output_type": "execute_result",
          "data": {
            "text/plain": [
              "(8124, 119)"
            ]
          },
          "metadata": {},
          "execution_count": 7
        }
      ],
      "metadata": {
        "id": "wfikeiL2cH_E",
        "colab": {
          "base_uri": "https://localhost:8080/"
        },
        "outputId": "1aef9089-af64-4729-8d59-559dc1357ee9"
      }
    },
    {
      "cell_type": "code",
      "execution_count": 8,
      "source": [
        "X"
      ],
      "outputs": [
        {
          "output_type": "execute_result",
          "data": {
            "text/plain": [
              "array([[0, 1, 0, ..., 0, 1, 0],\n",
              "       [1, 0, 0, ..., 0, 0, 0],\n",
              "       [1, 0, 1, ..., 0, 0, 0],\n",
              "       ...,\n",
              "       [1, 0, 0, ..., 0, 0, 0],\n",
              "       [0, 1, 0, ..., 0, 0, 0],\n",
              "       [1, 0, 0, ..., 0, 0, 0]], dtype=uint8)"
            ]
          },
          "metadata": {},
          "execution_count": 8
        }
      ],
      "metadata": {
        "id": "r3pTioYwcJuG",
        "colab": {
          "base_uri": "https://localhost:8080/"
        },
        "outputId": "f27743d1-ffdc-4c97-c891-b632fed3a175"
      }
    },
    {
      "cell_type": "code",
      "execution_count": 9,
      "source": [
        "y"
      ],
      "outputs": [
        {
          "output_type": "execute_result",
          "data": {
            "text/plain": [
              "array([0, 1, 1, ..., 1, 0, 1], dtype=uint8)"
            ]
          },
          "metadata": {},
          "execution_count": 9
        }
      ],
      "metadata": {
        "id": "ZoeRkHyPh9M7",
        "colab": {
          "base_uri": "https://localhost:8080/"
        },
        "outputId": "c493d056-4a15-4dd8-a00e-d85f2a244688"
      }
    },
    {
      "cell_type": "markdown",
      "source": [
        "### Normalização do Conjunto"
      ],
      "metadata": {
        "id": "nQIIbvEUWP_5"
      }
    },
    {
      "cell_type": "code",
      "execution_count": 10,
      "source": [
        "X = StandardScaler().fit_transform(X)"
      ],
      "outputs": [],
      "metadata": {
        "id": "YTaMxJCvWP_6"
      }
    },
    {
      "cell_type": "code",
      "execution_count": 11,
      "source": [
        "X"
      ],
      "outputs": [
        {
          "output_type": "execute_result",
          "data": {
            "text/plain": [
              "array([[-1.0366127 ,  1.0366127 , -0.24272523, ..., -0.40484176,\n",
              "         4.59086996, -0.15558197],\n",
              "       [ 0.96468045, -0.96468045, -0.24272523, ..., -0.40484176,\n",
              "        -0.21782364, -0.15558197],\n",
              "       [ 0.96468045, -0.96468045,  4.11988487, ..., -0.40484176,\n",
              "        -0.21782364, -0.15558197],\n",
              "       ...,\n",
              "       [ 0.96468045, -0.96468045, -0.24272523, ..., -0.40484176,\n",
              "        -0.21782364, -0.15558197],\n",
              "       [-1.0366127 ,  1.0366127 , -0.24272523, ..., -0.40484176,\n",
              "        -0.21782364, -0.15558197],\n",
              "       [ 0.96468045, -0.96468045, -0.24272523, ..., -0.40484176,\n",
              "        -0.21782364, -0.15558197]])"
            ]
          },
          "metadata": {},
          "execution_count": 11
        }
      ],
      "metadata": {
        "id": "YighZt5_GjAo",
        "colab": {
          "base_uri": "https://localhost:8080/"
        },
        "outputId": "e237b89c-ea61-4106-d4c3-9fb02999ae1f"
      }
    },
    {
      "cell_type": "markdown",
      "source": [
        "Agora dividir em treino e teste (teste com 30%)"
      ],
      "metadata": {
        "id": "CesbZNAFWP_9"
      }
    },
    {
      "cell_type": "code",
      "execution_count": 12,
      "source": [
        "X_train, X_test, y_train, y_test = train_test_split(X, y, test_size = .3, random_state=0)"
      ],
      "outputs": [],
      "metadata": {
        "id": "tiaydEIUWP_-"
      }
    },
    {
      "cell_type": "code",
      "execution_count": 13,
      "source": [
        "X_train.shape"
      ],
      "outputs": [
        {
          "output_type": "execute_result",
          "data": {
            "text/plain": [
              "(5686, 119)"
            ]
          },
          "metadata": {},
          "execution_count": 13
        }
      ],
      "metadata": {
        "id": "Pfe9MisAhBha",
        "colab": {
          "base_uri": "https://localhost:8080/"
        },
        "outputId": "1c4b967b-28ce-4512-ce8f-f19b2e2585f5"
      }
    },
    {
      "cell_type": "markdown",
      "source": [
        "### Modelo de Rede Neural ELM\r\n",
        "\r\n"
      ],
      "metadata": {
        "id": "1CYttvfhWQAA"
      }
    },
    {
      "cell_type": "code",
      "execution_count": 14,
      "source": [
        "nh = 20\r\n",
        "funcoes = ['tanh', 'sine', 'tribas', 'sigmoid', 'hardlim', 'softlim', 'gaussian', 'multiquadric', 'inv_multiquadric']\r\n"
      ],
      "outputs": [],
      "metadata": {
        "id": "69yw3Y8qpqqY"
      }
    },
    {
      "cell_type": "code",
      "execution_count": 15,
      "source": [
        "#EML baseado em MLP\r\n",
        "\r\n",
        "acc = []\r\n",
        "dictionary = {}\r\n",
        "\r\n",
        "for funcao in range(len(funcoes)):\r\n",
        "  srhl = MLPRandomLayer(n_hidden=nh, activation_func=funcoes[funcao], random_state=0)\r\n",
        "  elm_model = GenELMClassifier(hidden_layer=srhl)\r\n",
        "  elm_model.fit(X_train, y_train)\r\n",
        "  acc.append(elm_model.score(X_test, y_test))\r\n",
        "\r\n",
        "dictionary = {'Função':funcoes,'Acuracia':acc}\r\n",
        "\r\n",
        "acc_df = pd.DataFrame(dictionary).sort_values(by='Acuracia', ascending=False)\r\n",
        "acc_df"
      ],
      "outputs": [
        {
          "output_type": "execute_result",
          "data": {
            "text/plain": [
              "             Função  Acuracia\n",
              "3           sigmoid  0.938884\n",
              "5           softlim  0.932322\n",
              "0              tanh  0.927810\n",
              "4           hardlim  0.926169\n",
              "7      multiquadric  0.790812\n",
              "8  inv_multiquadric  0.685398\n",
              "6          gaussian  0.583265\n",
              "2            tribas  0.541017\n",
              "1              sine  0.513536"
            ],
            "text/html": [
              "<div>\n",
              "<style scoped>\n",
              "    .dataframe tbody tr th:only-of-type {\n",
              "        vertical-align: middle;\n",
              "    }\n",
              "\n",
              "    .dataframe tbody tr th {\n",
              "        vertical-align: top;\n",
              "    }\n",
              "\n",
              "    .dataframe thead th {\n",
              "        text-align: right;\n",
              "    }\n",
              "</style>\n",
              "<table border=\"1\" class=\"dataframe\">\n",
              "  <thead>\n",
              "    <tr style=\"text-align: right;\">\n",
              "      <th></th>\n",
              "      <th>Função</th>\n",
              "      <th>Acuracia</th>\n",
              "    </tr>\n",
              "  </thead>\n",
              "  <tbody>\n",
              "    <tr>\n",
              "      <th>3</th>\n",
              "      <td>sigmoid</td>\n",
              "      <td>0.938884</td>\n",
              "    </tr>\n",
              "    <tr>\n",
              "      <th>5</th>\n",
              "      <td>softlim</td>\n",
              "      <td>0.932322</td>\n",
              "    </tr>\n",
              "    <tr>\n",
              "      <th>0</th>\n",
              "      <td>tanh</td>\n",
              "      <td>0.927810</td>\n",
              "    </tr>\n",
              "    <tr>\n",
              "      <th>4</th>\n",
              "      <td>hardlim</td>\n",
              "      <td>0.926169</td>\n",
              "    </tr>\n",
              "    <tr>\n",
              "      <th>7</th>\n",
              "      <td>multiquadric</td>\n",
              "      <td>0.790812</td>\n",
              "    </tr>\n",
              "    <tr>\n",
              "      <th>8</th>\n",
              "      <td>inv_multiquadric</td>\n",
              "      <td>0.685398</td>\n",
              "    </tr>\n",
              "    <tr>\n",
              "      <th>6</th>\n",
              "      <td>gaussian</td>\n",
              "      <td>0.583265</td>\n",
              "    </tr>\n",
              "    <tr>\n",
              "      <th>2</th>\n",
              "      <td>tribas</td>\n",
              "      <td>0.541017</td>\n",
              "    </tr>\n",
              "    <tr>\n",
              "      <th>1</th>\n",
              "      <td>sine</td>\n",
              "      <td>0.513536</td>\n",
              "    </tr>\n",
              "  </tbody>\n",
              "</table>\n",
              "</div>"
            ]
          },
          "metadata": {},
          "execution_count": 15
        }
      ],
      "metadata": {
        "id": "SxZQx2XhWQAA",
        "colab": {
          "base_uri": "https://localhost:8080/",
          "height": 326
        },
        "outputId": "97a38ee2-fd04-4b8d-af22-12c3a142fc65"
      }
    },
    {
      "cell_type": "code",
      "execution_count": 16,
      "source": [
        "#EML baseado em rede RBF\r\n",
        "\r\n",
        "acc = []\r\n",
        "dictionary = {}\r\n",
        "\r\n",
        "for funcao in range(len(funcoes)):\r\n",
        "  srhl_rbf = RBFRandomLayer(n_hidden=nh, rbf_width=1, random_state=0,activation_func=funcoes[funcao])\r\n",
        "  elm_model = GenELMClassifier(hidden_layer=srhl_rbf)\r\n",
        "  elm_model.fit(X_train, y_train)\r\n",
        "  acc.append(elm_model.score(X_test, y_test))\r\n",
        "\r\n",
        "dictionary = {'Função':funcoes,'Acuracia':acc}\r\n",
        "# Put the accuracies in a data frame.\r\n",
        "acc_df = pd.DataFrame(dictionary).sort_values(by='Acuracia', ascending=False)\r\n",
        "acc_df"
      ],
      "outputs": [
        {
          "output_type": "execute_result",
          "data": {
            "text/plain": [
              "             Função  Acuracia\n",
              "6          gaussian  0.839212\n",
              "0              tanh  0.817473\n",
              "3           sigmoid  0.803527\n",
              "7      multiquadric  0.792863\n",
              "8  inv_multiquadric  0.791222\n",
              "1              sine  0.788351\n",
              "4           hardlim  0.521739\n",
              "5           softlim  0.521739\n",
              "2            tribas  0.478261"
            ],
            "text/html": [
              "<div>\n",
              "<style scoped>\n",
              "    .dataframe tbody tr th:only-of-type {\n",
              "        vertical-align: middle;\n",
              "    }\n",
              "\n",
              "    .dataframe tbody tr th {\n",
              "        vertical-align: top;\n",
              "    }\n",
              "\n",
              "    .dataframe thead th {\n",
              "        text-align: right;\n",
              "    }\n",
              "</style>\n",
              "<table border=\"1\" class=\"dataframe\">\n",
              "  <thead>\n",
              "    <tr style=\"text-align: right;\">\n",
              "      <th></th>\n",
              "      <th>Função</th>\n",
              "      <th>Acuracia</th>\n",
              "    </tr>\n",
              "  </thead>\n",
              "  <tbody>\n",
              "    <tr>\n",
              "      <th>6</th>\n",
              "      <td>gaussian</td>\n",
              "      <td>0.839212</td>\n",
              "    </tr>\n",
              "    <tr>\n",
              "      <th>0</th>\n",
              "      <td>tanh</td>\n",
              "      <td>0.817473</td>\n",
              "    </tr>\n",
              "    <tr>\n",
              "      <th>3</th>\n",
              "      <td>sigmoid</td>\n",
              "      <td>0.803527</td>\n",
              "    </tr>\n",
              "    <tr>\n",
              "      <th>7</th>\n",
              "      <td>multiquadric</td>\n",
              "      <td>0.792863</td>\n",
              "    </tr>\n",
              "    <tr>\n",
              "      <th>8</th>\n",
              "      <td>inv_multiquadric</td>\n",
              "      <td>0.791222</td>\n",
              "    </tr>\n",
              "    <tr>\n",
              "      <th>1</th>\n",
              "      <td>sine</td>\n",
              "      <td>0.788351</td>\n",
              "    </tr>\n",
              "    <tr>\n",
              "      <th>4</th>\n",
              "      <td>hardlim</td>\n",
              "      <td>0.521739</td>\n",
              "    </tr>\n",
              "    <tr>\n",
              "      <th>5</th>\n",
              "      <td>softlim</td>\n",
              "      <td>0.521739</td>\n",
              "    </tr>\n",
              "    <tr>\n",
              "      <th>2</th>\n",
              "      <td>tribas</td>\n",
              "      <td>0.478261</td>\n",
              "    </tr>\n",
              "  </tbody>\n",
              "</table>\n",
              "</div>"
            ]
          },
          "metadata": {},
          "execution_count": 16
        }
      ],
      "metadata": {
        "colab": {
          "base_uri": "https://localhost:8080/",
          "height": 326
        },
        "id": "JQHbry68mbkS",
        "outputId": "816ce9a8-5d8d-48f9-f8e3-ead0aadbd16c"
      }
    }
  ]
}