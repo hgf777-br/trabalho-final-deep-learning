{
 "cells": [
  {
   "cell_type": "markdown",
   "source": [
    "# Bibliotecas"
   ],
   "metadata": {}
  },
  {
   "cell_type": "code",
   "execution_count": 1,
   "source": [
    "import numpy as np\r\n",
    "import pandas as pd\r\n",
    "import tensorflow as tf\r\n",
    "import matplotlib.pyplot as plt\r\n",
    "import seaborn as sns\r\n",
    "import plotly.express as px\r\n",
    "import math\r\n",
    "\r\n",
    "from sklearn import datasets\r\n",
    "from sklearn.model_selection import train_test_split\r\n",
    "from sklearn.preprocessing import OneHotEncoder, StandardScaler, MinMaxScaler\r\n",
    "from sklearn.model_selection import cross_val_score\r\n",
    "from sklearn.metrics import accuracy_score, f1_score\r\n",
    "\r\n",
    "import keras.backend as K\r\n",
    "from keras.models import Sequential, load_model\r\n",
    "from keras.layers import Dense\r\n",
    "from keras.layers import Dropout\r\n",
    "from keras.utils.vis_utils import plot_model\r\n",
    "from keras.utils.np_utils import  to_categorical\r\n",
    "from keras.callbacks import ModelCheckpoint\r\n",
    "from keras.wrappers.scikit_learn import KerasClassifier"
   ],
   "outputs": [],
   "metadata": {}
  },
  {
   "cell_type": "markdown",
   "source": [
    "# Funções Auxiliares"
   ],
   "metadata": {}
  },
  {
   "cell_type": "code",
   "execution_count": 2,
   "source": [
    "def plot_history(history):\r\n",
    "    acc = history.history['accuracy']\r\n",
    "    val_acc = history.history['val_accuracy']\r\n",
    "    f1 = history.history['get_f1']\r\n",
    "    val_f1 = history.history['val_get_f1']\r\n",
    "    loss = history.history['loss']\r\n",
    "    val_loss = history.history['val_loss']\r\n",
    "    x = range(1, len(acc) + 1)\r\n",
    "\r\n",
    "    plt.figure(figsize=(16, 8))\r\n",
    "    plt.subplot(1, 2, 1)\r\n",
    "    plt.plot(x, acc, 'b', label='Training Accuracy')\r\n",
    "    plt.plot(x, f1, 'k', label='Training F1 Score')\r\n",
    "    plt.plot(x, val_acc, 'r', label='Validation Accuracy')\r\n",
    "    plt.plot(x, val_f1, 'g', label='Validation F1 Score')\r\n",
    "    plt.title('Acurácia e F1 Score')\r\n",
    "    plt.legend()\r\n",
    "    plt.subplot(1, 2, 2)\r\n",
    "    plt.plot(x, loss, 'b', label='Training loss')\r\n",
    "    plt.plot(x, val_loss, 'r', label='Validation loss')\r\n",
    "    plt.title('Perda')\r\n",
    "    plt.legend()\r\n",
    "    \r\n",
    "class ModelCheckpoint_tweaked(tf.keras.callbacks.ModelCheckpoint):\r\n",
    "    def __init__(self,\r\n",
    "                   filepath,\r\n",
    "                   monitor='val_loss',\r\n",
    "                   verbose=0,\r\n",
    "                   save_best_only=False,\r\n",
    "                   save_weights_only=False,\r\n",
    "                   mode='auto',\r\n",
    "                   save_freq='epoch',\r\n",
    "                   options=None,\r\n",
    "                   **kwargs):\r\n",
    "        \r\n",
    "        #Change tf_utils source package.\r\n",
    "        from tensorflow.python.keras.utils import tf_utils\r\n",
    "        \r\n",
    "        super(ModelCheckpoint_tweaked, self).__init__(filepath,\r\n",
    "                   monitor,\r\n",
    "                   verbose,\r\n",
    "                   save_best_only,\r\n",
    "                   save_weights_only,\r\n",
    "                   mode,\r\n",
    "                   save_freq,\r\n",
    "                   options,\r\n",
    "                   **kwargs)\r\n",
    "        \r\n",
    "def get_f1(y_true, y_pred): #taken from old keras source code\r\n",
    "    true_positives = K.sum(K.round(K.clip(y_true * y_pred, 0, 1)))\r\n",
    "    possible_positives = K.sum(K.round(K.clip(y_true, 0, 1)))\r\n",
    "    predicted_positives = K.sum(K.round(K.clip(y_pred, 0, 1)))\r\n",
    "    precision = true_positives / (predicted_positives + K.epsilon())\r\n",
    "    recall = true_positives / (possible_positives + K.epsilon())\r\n",
    "    f1_val = 2*(precision*recall)/(precision+recall+K.epsilon())\r\n",
    "    return f1_val\r\n",
    "\r\n",
    "def grupos(lista, subs):\r\n",
    "    tam = len(lista)\r\n",
    "    res = []\r\n",
    "    res_df = pd.DataFrame()\r\n",
    "    for i in range(0, tam, subs):\r\n",
    "        tmp = lista[i:i+subs]\r\n",
    "        if (len(tmp) == subs):\r\n",
    "            res.append(tmp.mean())\r\n",
    "    return res"
   ],
   "outputs": [],
   "metadata": {}
  },
  {
   "cell_type": "markdown",
   "source": [
    "# Análise dos Dados\r\n",
    "\r\n",
    "## Carregando os dados"
   ],
   "metadata": {}
  },
  {
   "cell_type": "code",
   "execution_count": 3,
   "source": [
    "df = pd.read_csv(\"./data/pulsar_stars.csv\", header=0, names=['MIP', 'SDIP', 'EKIP', 'SIP', 'MDM-SNR', 'SDDM-SNR', 'EKDM-SNR', 'SDM-SNR', 'target'])"
   ],
   "outputs": [],
   "metadata": {}
  },
  {
   "cell_type": "markdown",
   "source": [
    "## Amostra dos Dados"
   ],
   "metadata": {}
  },
  {
   "cell_type": "code",
   "execution_count": 5,
   "source": [
    "df.head()"
   ],
   "outputs": [
    {
     "output_type": "execute_result",
     "data": {
      "text/plain": [
       "          MIP       SDIP      EKIP       SIP   MDM-SNR   SDDM-SNR   EKDM-SNR  \\\n",
       "0  140.562500  55.683782 -0.234571 -0.699648  3.199833  19.110426   7.975532   \n",
       "1  102.507812  58.882430  0.465318 -0.515088  1.677258  14.860146  10.576487   \n",
       "2  103.015625  39.341649  0.323328  1.051164  3.121237  21.744669   7.735822   \n",
       "3  136.750000  57.178449 -0.068415 -0.636238  3.642977  20.959280   6.896499   \n",
       "4   88.726562  40.672225  0.600866  1.123492  1.178930  11.468720  14.269573   \n",
       "\n",
       "      SDM-SNR  target  \n",
       "0   74.242225       0  \n",
       "1  127.393580       0  \n",
       "2   63.171909       0  \n",
       "3   53.593661       0  \n",
       "4  252.567306       0  "
      ],
      "text/html": [
       "<div>\n",
       "<style scoped>\n",
       "    .dataframe tbody tr th:only-of-type {\n",
       "        vertical-align: middle;\n",
       "    }\n",
       "\n",
       "    .dataframe tbody tr th {\n",
       "        vertical-align: top;\n",
       "    }\n",
       "\n",
       "    .dataframe thead th {\n",
       "        text-align: right;\n",
       "    }\n",
       "</style>\n",
       "<table border=\"1\" class=\"dataframe\">\n",
       "  <thead>\n",
       "    <tr style=\"text-align: right;\">\n",
       "      <th></th>\n",
       "      <th>MIP</th>\n",
       "      <th>SDIP</th>\n",
       "      <th>EKIP</th>\n",
       "      <th>SIP</th>\n",
       "      <th>MDM-SNR</th>\n",
       "      <th>SDDM-SNR</th>\n",
       "      <th>EKDM-SNR</th>\n",
       "      <th>SDM-SNR</th>\n",
       "      <th>target</th>\n",
       "    </tr>\n",
       "  </thead>\n",
       "  <tbody>\n",
       "    <tr>\n",
       "      <th>0</th>\n",
       "      <td>140.562500</td>\n",
       "      <td>55.683782</td>\n",
       "      <td>-0.234571</td>\n",
       "      <td>-0.699648</td>\n",
       "      <td>3.199833</td>\n",
       "      <td>19.110426</td>\n",
       "      <td>7.975532</td>\n",
       "      <td>74.242225</td>\n",
       "      <td>0</td>\n",
       "    </tr>\n",
       "    <tr>\n",
       "      <th>1</th>\n",
       "      <td>102.507812</td>\n",
       "      <td>58.882430</td>\n",
       "      <td>0.465318</td>\n",
       "      <td>-0.515088</td>\n",
       "      <td>1.677258</td>\n",
       "      <td>14.860146</td>\n",
       "      <td>10.576487</td>\n",
       "      <td>127.393580</td>\n",
       "      <td>0</td>\n",
       "    </tr>\n",
       "    <tr>\n",
       "      <th>2</th>\n",
       "      <td>103.015625</td>\n",
       "      <td>39.341649</td>\n",
       "      <td>0.323328</td>\n",
       "      <td>1.051164</td>\n",
       "      <td>3.121237</td>\n",
       "      <td>21.744669</td>\n",
       "      <td>7.735822</td>\n",
       "      <td>63.171909</td>\n",
       "      <td>0</td>\n",
       "    </tr>\n",
       "    <tr>\n",
       "      <th>3</th>\n",
       "      <td>136.750000</td>\n",
       "      <td>57.178449</td>\n",
       "      <td>-0.068415</td>\n",
       "      <td>-0.636238</td>\n",
       "      <td>3.642977</td>\n",
       "      <td>20.959280</td>\n",
       "      <td>6.896499</td>\n",
       "      <td>53.593661</td>\n",
       "      <td>0</td>\n",
       "    </tr>\n",
       "    <tr>\n",
       "      <th>4</th>\n",
       "      <td>88.726562</td>\n",
       "      <td>40.672225</td>\n",
       "      <td>0.600866</td>\n",
       "      <td>1.123492</td>\n",
       "      <td>1.178930</td>\n",
       "      <td>11.468720</td>\n",
       "      <td>14.269573</td>\n",
       "      <td>252.567306</td>\n",
       "      <td>0</td>\n",
       "    </tr>\n",
       "  </tbody>\n",
       "</table>\n",
       "</div>"
      ]
     },
     "metadata": {},
     "execution_count": 5
    }
   ],
   "metadata": {}
  },
  {
   "cell_type": "markdown",
   "source": [
    "## Conferindo se temos dados nulos, qual o formato das variáveis e quais podem ser numéricas ou categóricas"
   ],
   "metadata": {}
  },
  {
   "cell_type": "code",
   "execution_count": 4,
   "source": [
    "df.info()"
   ],
   "outputs": [
    {
     "output_type": "stream",
     "name": "stdout",
     "text": [
      "<class 'pandas.core.frame.DataFrame'>\n",
      "RangeIndex: 17898 entries, 0 to 17897\n",
      "Data columns (total 9 columns):\n",
      " #   Column    Non-Null Count  Dtype  \n",
      "---  ------    --------------  -----  \n",
      " 0   MIP       17898 non-null  float64\n",
      " 1   SDIP      17898 non-null  float64\n",
      " 2   EKIP      17898 non-null  float64\n",
      " 3   SIP       17898 non-null  float64\n",
      " 4   MDM-SNR   17898 non-null  float64\n",
      " 5   SDDM-SNR  17898 non-null  float64\n",
      " 6   EKDM-SNR  17898 non-null  float64\n",
      " 7   SDM-SNR   17898 non-null  float64\n",
      " 8   target    17898 non-null  int64  \n",
      "dtypes: float64(8), int64(1)\n",
      "memory usage: 1.2 MB\n"
     ]
    }
   ],
   "metadata": {}
  },
  {
   "cell_type": "code",
   "execution_count": 6,
   "source": [
    "df.isnull().sum()"
   ],
   "outputs": [
    {
     "output_type": "execute_result",
     "data": {
      "text/plain": [
       "MIP         0\n",
       "SDIP        0\n",
       "EKIP        0\n",
       "SIP         0\n",
       "MDM-SNR     0\n",
       "SDDM-SNR    0\n",
       "EKDM-SNR    0\n",
       "SDM-SNR     0\n",
       "target      0\n",
       "dtype: int64"
      ]
     },
     "metadata": {},
     "execution_count": 6
    }
   ],
   "metadata": {}
  },
  {
   "cell_type": "markdown",
   "source": [
    "## Distribuição das respostas\r\n"
   ],
   "metadata": {}
  },
  {
   "cell_type": "code",
   "execution_count": 8,
   "source": [
    "sns.countplot(x = df.target)\r\n",
    "plt.title('Distribuição da variável Target')\r\n",
    "plt.xlabel('Target')\r\n",
    "plt.xticks(ticks=range(0,2), labels=['0', '1'])\r\n",
    "plt.show()"
   ],
   "outputs": [
    {
     "output_type": "display_data",
     "data": {
      "text/plain": [
       "<Figure size 432x288 with 1 Axes>"
      ],
      "image/png": "[encoded data removed]"
     },
     "metadata": {
      "needs_background": "light"
     }
    }
   ],
   "metadata": {}
  },
  {
   "cell_type": "markdown",
   "source": [
    "### Vamos reduzir a respota \"0\" para ficar compartível com a varíavel 1. Para isso iremos dividir as respostas \"0\" em +/- 1600 grupos e tirar a média dos mesmos."
   ],
   "metadata": {}
  },
  {
   "cell_type": "code",
   "execution_count": 9,
   "source": [
    "c = round(df.groupby('target').count().MIP)\r\n",
    "print(f\"Quantidades: 0 = {c[0]} e 1 = {c[1]}\")\r\n",
    "print('-'*50)\r\n",
    "subs = math.ceil(c[0]/c[1])\r\n",
    "negativas = df[df.target == 0]\r\n",
    "negativas = grupos(negativas, subs)\r\n",
    "print(negativas[0])\r\n",
    "print(f\"Quantidade final: 0 = {len(negativas)} e 1 = {c[1]}\")"
   ],
   "outputs": [
    {
     "output_type": "stream",
     "name": "stdout",
     "text": [
      "Quantidades: 0 = 16259 e 1 = 1639\n",
      "--------------------------------------------------\n",
      "MIP         112.950781\n",
      "SDIP         47.918933\n",
      "EKIP          0.241014\n",
      "SIP           0.235100\n",
      "MDM-SNR       2.308779\n",
      "SDDM-SNR     16.581414\n",
      "EKDM-SNR     10.721943\n",
      "SDM-SNR     154.611295\n",
      "target        0.000000\n",
      "dtype: float64\n",
      "Quantidade final: 0 = 1625 e 1 = 1639\n"
     ]
    }
   ],
   "metadata": {}
  },
  {
   "cell_type": "code",
   "execution_count": 10,
   "source": [
    "df_final = pd.DataFrame()\r\n",
    "df_final = pd.concat(negativas, ignore_index=True, axis=1).T\r\n",
    "df_final"
   ],
   "outputs": [
    {
     "output_type": "execute_result",
     "data": {
      "text/plain": [
       "             MIP       SDIP      EKIP       SIP    MDM-SNR   SDDM-SNR  \\\n",
       "0     112.950781  47.918933  0.241014  0.235100   2.308779  16.581414   \n",
       "1     122.826562  49.221999  0.077544  0.017286   4.718562  24.909668   \n",
       "2     112.427344  49.117316  0.202946  0.058117   3.173913  19.209042   \n",
       "3     121.482812  46.729040  0.098601  0.324605   2.380853  16.975910   \n",
       "4     116.225781  48.677019  0.226620  0.109116   2.432358  17.298481   \n",
       "...          ...        ...       ...       ...        ...        ...   \n",
       "1620  111.690625  46.934039  0.215711  0.321320  16.111789  34.533356   \n",
       "1621  117.635156  49.079374  0.234606  0.107255   4.347492  22.373660   \n",
       "1622  114.566406  43.731026  0.276497  1.037177   2.783863  18.012064   \n",
       "1623  116.150000  47.684957  0.212700  0.291412   3.907023  20.858949   \n",
       "1624  114.694531  47.419011  0.228012  0.149351   1.921321  15.017101   \n",
       "\n",
       "       EKDM-SNR     SDM-SNR  target  \n",
       "0     10.721943  154.611295     0.0  \n",
       "1      7.806080   81.871273     0.0  \n",
       "2      9.373305  111.543404     0.0  \n",
       "3     10.749121  154.253410     0.0  \n",
       "4     10.144861  127.757623     0.0  \n",
       "...         ...         ...     ...  \n",
       "1620   7.078829   78.093823     0.0  \n",
       "1621   8.792710   98.365991     0.0  \n",
       "1622  11.382899  171.067199     0.0  \n",
       "1623   9.947946  137.493596     0.0  \n",
       "1624  13.832511  256.914841     0.0  \n",
       "\n",
       "[1625 rows x 9 columns]"
      ],
      "text/html": [
       "<div>\n",
       "<style scoped>\n",
       "    .dataframe tbody tr th:only-of-type {\n",
       "        vertical-align: middle;\n",
       "    }\n",
       "\n",
       "    .dataframe tbody tr th {\n",
       "        vertical-align: top;\n",
       "    }\n",
       "\n",
       "    .dataframe thead th {\n",
       "        text-align: right;\n",
       "    }\n",
       "</style>\n",
       "<table border=\"1\" class=\"dataframe\">\n",
       "  <thead>\n",
       "    <tr style=\"text-align: right;\">\n",
       "      <th></th>\n",
       "      <th>MIP</th>\n",
       "      <th>SDIP</th>\n",
       "      <th>EKIP</th>\n",
       "      <th>SIP</th>\n",
       "      <th>MDM-SNR</th>\n",
       "      <th>SDDM-SNR</th>\n",
       "      <th>EKDM-SNR</th>\n",
       "      <th>SDM-SNR</th>\n",
       "      <th>target</th>\n",
       "    </tr>\n",
       "  </thead>\n",
       "  <tbody>\n",
       "    <tr>\n",
       "      <th>0</th>\n",
       "      <td>112.950781</td>\n",
       "      <td>47.918933</td>\n",
       "      <td>0.241014</td>\n",
       "      <td>0.235100</td>\n",
       "      <td>2.308779</td>\n",
       "      <td>16.581414</td>\n",
       "      <td>10.721943</td>\n",
       "      <td>154.611295</td>\n",
       "      <td>0.0</td>\n",
       "    </tr>\n",
       "    <tr>\n",
       "      <th>1</th>\n",
       "      <td>122.826562</td>\n",
       "      <td>49.221999</td>\n",
       "      <td>0.077544</td>\n",
       "      <td>0.017286</td>\n",
       "      <td>4.718562</td>\n",
       "      <td>24.909668</td>\n",
       "      <td>7.806080</td>\n",
       "      <td>81.871273</td>\n",
       "      <td>0.0</td>\n",
       "    </tr>\n",
       "    <tr>\n",
       "      <th>2</th>\n",
       "      <td>112.427344</td>\n",
       "      <td>49.117316</td>\n",
       "      <td>0.202946</td>\n",
       "      <td>0.058117</td>\n",
       "      <td>3.173913</td>\n",
       "      <td>19.209042</td>\n",
       "      <td>9.373305</td>\n",
       "      <td>111.543404</td>\n",
       "      <td>0.0</td>\n",
       "    </tr>\n",
       "    <tr>\n",
       "      <th>3</th>\n",
       "      <td>121.482812</td>\n",
       "      <td>46.729040</td>\n",
       "      <td>0.098601</td>\n",
       "      <td>0.324605</td>\n",
       "      <td>2.380853</td>\n",
       "      <td>16.975910</td>\n",
       "      <td>10.749121</td>\n",
       "      <td>154.253410</td>\n",
       "      <td>0.0</td>\n",
       "    </tr>\n",
       "    <tr>\n",
       "      <th>4</th>\n",
       "      <td>116.225781</td>\n",
       "      <td>48.677019</td>\n",
       "      <td>0.226620</td>\n",
       "      <td>0.109116</td>\n",
       "      <td>2.432358</td>\n",
       "      <td>17.298481</td>\n",
       "      <td>10.144861</td>\n",
       "      <td>127.757623</td>\n",
       "      <td>0.0</td>\n",
       "    </tr>\n",
       "    <tr>\n",
       "      <th>...</th>\n",
       "      <td>...</td>\n",
       "      <td>...</td>\n",
       "      <td>...</td>\n",
       "      <td>...</td>\n",
       "      <td>...</td>\n",
       "      <td>...</td>\n",
       "      <td>...</td>\n",
       "      <td>...</td>\n",
       "      <td>...</td>\n",
       "    </tr>\n",
       "    <tr>\n",
       "      <th>1620</th>\n",
       "      <td>111.690625</td>\n",
       "      <td>46.934039</td>\n",
       "      <td>0.215711</td>\n",
       "      <td>0.321320</td>\n",
       "      <td>16.111789</td>\n",
       "      <td>34.533356</td>\n",
       "      <td>7.078829</td>\n",
       "      <td>78.093823</td>\n",
       "      <td>0.0</td>\n",
       "    </tr>\n",
       "    <tr>\n",
       "      <th>1621</th>\n",
       "      <td>117.635156</td>\n",
       "      <td>49.079374</td>\n",
       "      <td>0.234606</td>\n",
       "      <td>0.107255</td>\n",
       "      <td>4.347492</td>\n",
       "      <td>22.373660</td>\n",
       "      <td>8.792710</td>\n",
       "      <td>98.365991</td>\n",
       "      <td>0.0</td>\n",
       "    </tr>\n",
       "    <tr>\n",
       "      <th>1622</th>\n",
       "      <td>114.566406</td>\n",
       "      <td>43.731026</td>\n",
       "      <td>0.276497</td>\n",
       "      <td>1.037177</td>\n",
       "      <td>2.783863</td>\n",
       "      <td>18.012064</td>\n",
       "      <td>11.382899</td>\n",
       "      <td>171.067199</td>\n",
       "      <td>0.0</td>\n",
       "    </tr>\n",
       "    <tr>\n",
       "      <th>1623</th>\n",
       "      <td>116.150000</td>\n",
       "      <td>47.684957</td>\n",
       "      <td>0.212700</td>\n",
       "      <td>0.291412</td>\n",
       "      <td>3.907023</td>\n",
       "      <td>20.858949</td>\n",
       "      <td>9.947946</td>\n",
       "      <td>137.493596</td>\n",
       "      <td>0.0</td>\n",
       "    </tr>\n",
       "    <tr>\n",
       "      <th>1624</th>\n",
       "      <td>114.694531</td>\n",
       "      <td>47.419011</td>\n",
       "      <td>0.228012</td>\n",
       "      <td>0.149351</td>\n",
       "      <td>1.921321</td>\n",
       "      <td>15.017101</td>\n",
       "      <td>13.832511</td>\n",
       "      <td>256.914841</td>\n",
       "      <td>0.0</td>\n",
       "    </tr>\n",
       "  </tbody>\n",
       "</table>\n",
       "<p>1625 rows × 9 columns</p>\n",
       "</div>"
      ]
     },
     "metadata": {},
     "execution_count": 10
    }
   ],
   "metadata": {}
  },
  {
   "cell_type": "code",
   "execution_count": 11,
   "source": [
    "positivas = df[df.target == 1]\r\n",
    "df_final = pd.concat([df_final, positivas])\r\n",
    "df_final"
   ],
   "outputs": [
    {
     "output_type": "execute_result",
     "data": {
      "text/plain": [
       "              MIP       SDIP      EKIP        SIP     MDM-SNR   SDDM-SNR  \\\n",
       "0      112.950781  47.918933  0.241014   0.235100    2.308779  16.581414   \n",
       "1      122.826562  49.221999  0.077544   0.017286    4.718562  24.909668   \n",
       "2      112.427344  49.117316  0.202946   0.058117    3.173913  19.209042   \n",
       "3      121.482812  46.729040  0.098601   0.324605    2.380853  16.975910   \n",
       "4      116.225781  48.677019  0.226620   0.109116    2.432358  17.298481   \n",
       "...           ...        ...       ...        ...         ...        ...   \n",
       "17515   89.867188  47.482295  1.591325   2.505057    0.763378  12.393561   \n",
       "17529   27.039062  33.754722  4.779124  26.255357  129.863712  78.815440   \n",
       "17558   77.070312  39.000638  1.884421   6.372178   38.517559  65.741059   \n",
       "17642   28.375000  27.649311  6.377273  45.944048  141.860368  82.893017   \n",
       "17876  111.765625  52.943585  0.671724   0.383594  149.843646  97.926948   \n",
       "\n",
       "        EKDM-SNR     SDM-SNR  target  \n",
       "0      10.721943  154.611295     0.0  \n",
       "1       7.806080   81.871273     0.0  \n",
       "2       9.373305  111.543404     0.0  \n",
       "3      10.749121  154.253410     0.0  \n",
       "4      10.144861  127.757623     0.0  \n",
       "...          ...         ...     ...  \n",
       "17515  17.940745  333.902630     1.0  \n",
       "17529  -0.348492   -0.893791     1.0  \n",
       "17558   1.589513    1.285346     1.0  \n",
       "17642  -0.477222   -1.067880     1.0  \n",
       "17876  -0.696153   -1.260403     1.0  \n",
       "\n",
       "[3264 rows x 9 columns]"
      ],
      "text/html": [
       "<div>\n",
       "<style scoped>\n",
       "    .dataframe tbody tr th:only-of-type {\n",
       "        vertical-align: middle;\n",
       "    }\n",
       "\n",
       "    .dataframe tbody tr th {\n",
       "        vertical-align: top;\n",
       "    }\n",
       "\n",
       "    .dataframe thead th {\n",
       "        text-align: right;\n",
       "    }\n",
       "</style>\n",
       "<table border=\"1\" class=\"dataframe\">\n",
       "  <thead>\n",
       "    <tr style=\"text-align: right;\">\n",
       "      <th></th>\n",
       "      <th>MIP</th>\n",
       "      <th>SDIP</th>\n",
       "      <th>EKIP</th>\n",
       "      <th>SIP</th>\n",
       "      <th>MDM-SNR</th>\n",
       "      <th>SDDM-SNR</th>\n",
       "      <th>EKDM-SNR</th>\n",
       "      <th>SDM-SNR</th>\n",
       "      <th>target</th>\n",
       "    </tr>\n",
       "  </thead>\n",
       "  <tbody>\n",
       "    <tr>\n",
       "      <th>0</th>\n",
       "      <td>112.950781</td>\n",
       "      <td>47.918933</td>\n",
       "      <td>0.241014</td>\n",
       "      <td>0.235100</td>\n",
       "      <td>2.308779</td>\n",
       "      <td>16.581414</td>\n",
       "      <td>10.721943</td>\n",
       "      <td>154.611295</td>\n",
       "      <td>0.0</td>\n",
       "    </tr>\n",
       "    <tr>\n",
       "      <th>1</th>\n",
       "      <td>122.826562</td>\n",
       "      <td>49.221999</td>\n",
       "      <td>0.077544</td>\n",
       "      <td>0.017286</td>\n",
       "      <td>4.718562</td>\n",
       "      <td>24.909668</td>\n",
       "      <td>7.806080</td>\n",
       "      <td>81.871273</td>\n",
       "      <td>0.0</td>\n",
       "    </tr>\n",
       "    <tr>\n",
       "      <th>2</th>\n",
       "      <td>112.427344</td>\n",
       "      <td>49.117316</td>\n",
       "      <td>0.202946</td>\n",
       "      <td>0.058117</td>\n",
       "      <td>3.173913</td>\n",
       "      <td>19.209042</td>\n",
       "      <td>9.373305</td>\n",
       "      <td>111.543404</td>\n",
       "      <td>0.0</td>\n",
       "    </tr>\n",
       "    <tr>\n",
       "      <th>3</th>\n",
       "      <td>121.482812</td>\n",
       "      <td>46.729040</td>\n",
       "      <td>0.098601</td>\n",
       "      <td>0.324605</td>\n",
       "      <td>2.380853</td>\n",
       "      <td>16.975910</td>\n",
       "      <td>10.749121</td>\n",
       "      <td>154.253410</td>\n",
       "      <td>0.0</td>\n",
       "    </tr>\n",
       "    <tr>\n",
       "      <th>4</th>\n",
       "      <td>116.225781</td>\n",
       "      <td>48.677019</td>\n",
       "      <td>0.226620</td>\n",
       "      <td>0.109116</td>\n",
       "      <td>2.432358</td>\n",
       "      <td>17.298481</td>\n",
       "      <td>10.144861</td>\n",
       "      <td>127.757623</td>\n",
       "      <td>0.0</td>\n",
       "    </tr>\n",
       "    <tr>\n",
       "      <th>...</th>\n",
       "      <td>...</td>\n",
       "      <td>...</td>\n",
       "      <td>...</td>\n",
       "      <td>...</td>\n",
       "      <td>...</td>\n",
       "      <td>...</td>\n",
       "      <td>...</td>\n",
       "      <td>...</td>\n",
       "      <td>...</td>\n",
       "    </tr>\n",
       "    <tr>\n",
       "      <th>17515</th>\n",
       "      <td>89.867188</td>\n",
       "      <td>47.482295</td>\n",
       "      <td>1.591325</td>\n",
       "      <td>2.505057</td>\n",
       "      <td>0.763378</td>\n",
       "      <td>12.393561</td>\n",
       "      <td>17.940745</td>\n",
       "      <td>333.902630</td>\n",
       "      <td>1.0</td>\n",
       "    </tr>\n",
       "    <tr>\n",
       "      <th>17529</th>\n",
       "      <td>27.039062</td>\n",
       "      <td>33.754722</td>\n",
       "      <td>4.779124</td>\n",
       "      <td>26.255357</td>\n",
       "      <td>129.863712</td>\n",
       "      <td>78.815440</td>\n",
       "      <td>-0.348492</td>\n",
       "      <td>-0.893791</td>\n",
       "      <td>1.0</td>\n",
       "    </tr>\n",
       "    <tr>\n",
       "      <th>17558</th>\n",
       "      <td>77.070312</td>\n",
       "      <td>39.000638</td>\n",
       "      <td>1.884421</td>\n",
       "      <td>6.372178</td>\n",
       "      <td>38.517559</td>\n",
       "      <td>65.741059</td>\n",
       "      <td>1.589513</td>\n",
       "      <td>1.285346</td>\n",
       "      <td>1.0</td>\n",
       "    </tr>\n",
       "    <tr>\n",
       "      <th>17642</th>\n",
       "      <td>28.375000</td>\n",
       "      <td>27.649311</td>\n",
       "      <td>6.377273</td>\n",
       "      <td>45.944048</td>\n",
       "      <td>141.860368</td>\n",
       "      <td>82.893017</td>\n",
       "      <td>-0.477222</td>\n",
       "      <td>-1.067880</td>\n",
       "      <td>1.0</td>\n",
       "    </tr>\n",
       "    <tr>\n",
       "      <th>17876</th>\n",
       "      <td>111.765625</td>\n",
       "      <td>52.943585</td>\n",
       "      <td>0.671724</td>\n",
       "      <td>0.383594</td>\n",
       "      <td>149.843646</td>\n",
       "      <td>97.926948</td>\n",
       "      <td>-0.696153</td>\n",
       "      <td>-1.260403</td>\n",
       "      <td>1.0</td>\n",
       "    </tr>\n",
       "  </tbody>\n",
       "</table>\n",
       "<p>3264 rows × 9 columns</p>\n",
       "</div>"
      ]
     },
     "metadata": {},
     "execution_count": 11
    }
   ],
   "metadata": {}
  },
  {
   "cell_type": "code",
   "execution_count": 13,
   "source": [
    "sns.countplot(df_final.target)\r\n",
    "plt.title('Distribuição da variável Target')\r\n",
    "plt.xlabel('Target')\r\n",
    "plt.xticks(ticks=range(0,2), labels=['0', '1'])\r\n",
    "plt.show()"
   ],
   "outputs": [
    {
     "output_type": "stream",
     "name": "stderr",
     "text": [
      "C:\\Users\\hgf77\\anaconda3\\envs\\tf-gpu\\lib\\site-packages\\seaborn\\_decorators.py:36: FutureWarning: Pass the following variable as a keyword arg: x. From version 0.12, the only valid positional argument will be `data`, and passing other arguments without an explicit keyword will result in an error or misinterpretation.\n",
      "  warnings.warn(\n"
     ]
    },
    {
     "output_type": "display_data",
     "data": {
      "text/plain": [
       "<Figure size 432x288 with 1 Axes>"
      ],
      "image/png": "[encoded data removed]"
     },
     "metadata": {
      "needs_background": "light"
     }
    }
   ],
   "metadata": {}
  },
  {
   "cell_type": "markdown",
   "source": [
    "## Análise de correlação"
   ],
   "metadata": {}
  },
  {
   "cell_type": "code",
   "execution_count": 14,
   "source": [
    "fig = plt.figure(figsize=(16,8))\r\n",
    "sns.heatmap(df_final.corr())"
   ],
   "outputs": [
    {
     "output_type": "execute_result",
     "data": {
      "text/plain": [
       "<AxesSubplot:>"
      ]
     },
     "metadata": {},
     "execution_count": 14
    },
    {
     "output_type": "display_data",
     "data": {
      "text/plain": [
       "<Figure size 1152x576 with 2 Axes>"
      ],
      "image/png": "[encoded data removed]"
     },
     "metadata": {
      "needs_background": "light"
     }
    }
   ],
   "metadata": {}
  },
  {
   "cell_type": "code",
   "execution_count": 15,
   "source": [
    "X = df_final.iloc[:,0:8].to_numpy()\r\n",
    "X[:2]"
   ],
   "outputs": [
    {
     "output_type": "execute_result",
     "data": {
      "text/plain": [
       "array([[1.12950781e+02, 4.79189331e+01, 2.41013884e-01, 2.35099994e-01,\n",
       "        2.30877926e+00, 1.65814140e+01, 1.07219431e+01, 1.54611295e+02],\n",
       "       [1.22826562e+02, 4.92219992e+01, 7.75444434e-02, 1.72862243e-02,\n",
       "        4.71856187e+00, 2.49096679e+01, 7.80608041e+00, 8.18712730e+01]])"
      ]
     },
     "metadata": {},
     "execution_count": 15
    }
   ],
   "metadata": {}
  },
  {
   "cell_type": "code",
   "execution_count": 16,
   "source": [
    "y = df_final.target.to_numpy()\r\n",
    "y[:10]"
   ],
   "outputs": [
    {
     "output_type": "execute_result",
     "data": {
      "text/plain": [
       "array([0., 0., 0., 0., 0., 0., 0., 0., 0., 0.])"
      ]
     },
     "metadata": {},
     "execution_count": 16
    }
   ],
   "metadata": {}
  },
  {
   "cell_type": "markdown",
   "source": [
    "## Padronizando os dados com o StandardScaler do SKlearn. \r\n",
    "### Dados finais com média 0 e variância igual ao desvio padrão"
   ],
   "metadata": {}
  },
  {
   "cell_type": "code",
   "execution_count": 17,
   "source": [
    "scaler = StandardScaler()\r\n",
    "X = scaler.fit_transform(X)\r\n",
    "print(X[:5])"
   ],
   "outputs": [
    {
     "output_type": "stream",
     "name": "stdout",
     "text": [
      "[[ 0.716266    0.67376385 -0.72724048 -0.62183544 -0.70017257 -1.04401482\n",
      "   1.2475344   1.35014504]\n",
      " [ 0.98368118  0.85240386 -0.81003907 -0.63927886 -0.63795524 -0.67191491\n",
      "   0.50902702  0.24756328]\n",
      " [ 0.70209243  0.83805269 -0.74652198 -0.63600898 -0.67783599 -0.92661444\n",
      "   0.90596161  0.69732875]\n",
      " [ 0.94729528  0.51063891 -0.79937364 -0.61466747 -0.69831173 -1.02638906\n",
      "   1.25441777  1.34472028]\n",
      " [ 0.80494604  0.77769135 -0.73453113 -0.63192477 -0.69698194 -1.01197682\n",
      "   1.10137544  0.94310133]]\n"
     ]
    }
   ],
   "metadata": {}
  },
  {
   "cell_type": "code",
   "execution_count": 18,
   "source": [
    "num_features = X.shape[1]\r\n",
    "X.shape"
   ],
   "outputs": [
    {
     "output_type": "execute_result",
     "data": {
      "text/plain": [
       "(3264, 8)"
      ]
     },
     "metadata": {},
     "execution_count": 18
    }
   ],
   "metadata": {}
  },
  {
   "cell_type": "code",
   "execution_count": 19,
   "source": [
    "y.shape"
   ],
   "outputs": [
    {
     "output_type": "execute_result",
     "data": {
      "text/plain": [
       "(3264,)"
      ]
     },
     "metadata": {},
     "execution_count": 19
    }
   ],
   "metadata": {}
  },
  {
   "cell_type": "markdown",
   "source": [
    "## Dividindo a Base de Dados entre 80% Treino e 20% Teste."
   ],
   "metadata": {}
  },
  {
   "cell_type": "code",
   "execution_count": 20,
   "source": [
    "X_train, X_test, y_train, y_test = train_test_split(X, y, test_size=0.2, random_state=42)"
   ],
   "outputs": [],
   "metadata": {}
  },
  {
   "cell_type": "code",
   "execution_count": 21,
   "source": [
    "X_train.shape"
   ],
   "outputs": [
    {
     "output_type": "execute_result",
     "data": {
      "text/plain": [
       "(2611, 8)"
      ]
     },
     "metadata": {},
     "execution_count": 21
    }
   ],
   "metadata": {}
  },
  {
   "cell_type": "code",
   "execution_count": 22,
   "source": [
    "y_train.shape"
   ],
   "outputs": [
    {
     "output_type": "execute_result",
     "data": {
      "text/plain": [
       "(2611,)"
      ]
     },
     "metadata": {},
     "execution_count": 22
    }
   ],
   "metadata": {}
  },
  {
   "cell_type": "markdown",
   "source": [
    "# Modelo de MLP\r\n",
    "\r\n",
    "## Criando o modelo"
   ],
   "metadata": {}
  },
  {
   "cell_type": "code",
   "execution_count": 23,
   "source": [
    "model = Sequential()\r\n",
    "model.add(Dense(16, input_dim=num_features, activation='relu'))\r\n",
    "model.add(Dense(1 , activation='sigmoid'))\r\n",
    "print(model.summary())"
   ],
   "outputs": [
    {
     "output_type": "stream",
     "name": "stdout",
     "text": [
      "Model: \"sequential\"\n",
      "_________________________________________________________________\n",
      "Layer (type)                 Output Shape              Param #   \n",
      "=================================================================\n",
      "dense (Dense)                (None, 16)                144       \n",
      "_________________________________________________________________\n",
      "dense_1 (Dense)              (None, 1)                 17        \n",
      "=================================================================\n",
      "Total params: 161\n",
      "Trainable params: 161\n",
      "Non-trainable params: 0\n",
      "_________________________________________________________________\n",
      "None\n"
     ]
    }
   ],
   "metadata": {}
  },
  {
   "cell_type": "code",
   "execution_count": 37,
   "source": [
    "plot_model(model, show_shapes=True, show_layer_names=True)"
   ],
   "outputs": [
    {
     "output_type": "execute_result",
     "data": {
      "text/plain": [
       "<IPython.core.display.Image object>"
      ],
      "image/png": "[encoded data removed]"
     },
     "metadata": {},
     "execution_count": 37
    }
   ],
   "metadata": {}
  },
  {
   "cell_type": "markdown",
   "source": [
    "## Compilando e treinando o modelo. \r\n",
    "### Vamos utilizar a função de Callback ModelCheckPointer para salvar o modelo com a melhor accuracia na base de validação (que é a mesma de teste final pois temos uma base muito pequena)"
   ],
   "metadata": {}
  },
  {
   "cell_type": "code",
   "execution_count": 25,
   "source": [
    "%%time\r\n",
    "model.compile(loss='binary_crossentropy', optimizer='adam', metrics=['accuracy', get_f1])\r\n",
    "\r\n",
    "checkpointer = ModelCheckpoint_tweaked(filepath='./modelo_mlp_ex3_3.hdf5', verbose=1,  mode='max', save_best_only=True, monitor='val_get_f1')\r\n",
    "\r\n",
    "#history = model.fit(X_train, y_train, validation_data=(X_test, y_test), epochs=50, batch_size=16, verbose=1, callbacks=[checkpointer])\r\n",
    "history = model.fit(X_train, y_train, validation_split=0.2, epochs=100, batch_size=16, verbose=1, callbacks=[checkpointer])"
   ],
   "outputs": [
    {
     "output_type": "stream",
     "name": "stdout",
     "text": [
      "Epoch 1/100\n",
      "125/131 [===========================>..] - ETA: 0s - loss: 0.4173 - accuracy: 0.8185 - get_f1: 0.8214\n",
      "Epoch 00001: val_get_f1 improved from -inf to 0.88005, saving model to .\\modelo_mlp_ex3_3.hdf5\n",
      "131/131 [==============================] - 1s 4ms/step - loss: 0.4144 - accuracy: 0.8238 - get_f1: 0.8268 - val_loss: 0.2948 - val_accuracy: 0.8910 - val_get_f1: 0.8800\n",
      "Epoch 2/100\n",
      "112/131 [========================>.....] - ETA: 0s - loss: 0.2528 - accuracy: 0.9196 - get_f1: 0.9094\n",
      "Epoch 00002: val_get_f1 improved from 0.88005 to 0.89922, saving model to .\\modelo_mlp_ex3_3.hdf5\n",
      "131/131 [==============================] - 0s 3ms/step - loss: 0.2494 - accuracy: 0.9200 - get_f1: 0.9086 - val_loss: 0.2444 - val_accuracy: 0.9082 - val_get_f1: 0.8992\n",
      "Epoch 3/100\n",
      "124/131 [===========================>..] - ETA: 0s - loss: 0.2086 - accuracy: 0.9315 - get_f1: 0.9269\n",
      "Epoch 00003: val_get_f1 improved from 0.89922 to 0.91064, saving model to .\\modelo_mlp_ex3_3.hdf5\n",
      "131/131 [==============================] - 0s 3ms/step - loss: 0.2085 - accuracy: 0.9320 - get_f1: 0.9270 - val_loss: 0.2135 - val_accuracy: 0.9197 - val_get_f1: 0.9106\n",
      "Epoch 4/100\n",
      "121/131 [==========================>...] - ETA: 0s - loss: 0.1716 - accuracy: 0.9463 - get_f1: 0.9420\n",
      "Epoch 00004: val_get_f1 improved from 0.91064 to 0.92680, saving model to .\\modelo_mlp_ex3_3.hdf5\n",
      "131/131 [==============================] - 0s 3ms/step - loss: 0.1802 - accuracy: 0.9425 - get_f1: 0.9390 - val_loss: 0.1913 - val_accuracy: 0.9331 - val_get_f1: 0.9268\n",
      "Epoch 5/100\n",
      "126/131 [===========================>..] - ETA: 0s - loss: 0.1594 - accuracy: 0.9504 - get_f1: 0.9426\n",
      "Epoch 00005: val_get_f1 improved from 0.92680 to 0.93796, saving model to .\\modelo_mlp_ex3_3.hdf5\n",
      "131/131 [==============================] - 0s 3ms/step - loss: 0.1576 - accuracy: 0.9511 - get_f1: 0.9433 - val_loss: 0.1710 - val_accuracy: 0.9407 - val_get_f1: 0.9380\n",
      "Epoch 6/100\n",
      "114/131 [=========================>....] - ETA: 0s - loss: 0.1397 - accuracy: 0.9567 - get_f1: 0.9528\n",
      "Epoch 00006: val_get_f1 improved from 0.93796 to 0.95719, saving model to .\\modelo_mlp_ex3_3.hdf5\n",
      "131/131 [==============================] - 0s 3ms/step - loss: 0.1377 - accuracy: 0.9569 - get_f1: 0.9537 - val_loss: 0.1558 - val_accuracy: 0.9560 - val_get_f1: 0.9572\n",
      "Epoch 7/100\n",
      "120/131 [==========================>...] - ETA: 0s - loss: 0.1194 - accuracy: 0.9604 - get_f1: 0.9585\n",
      "Epoch 00007: val_get_f1 improved from 0.95719 to 0.95896, saving model to .\\modelo_mlp_ex3_3.hdf5\n",
      "131/131 [==============================] - 0s 3ms/step - loss: 0.1226 - accuracy: 0.9602 - get_f1: 0.9585 - val_loss: 0.1456 - val_accuracy: 0.9579 - val_get_f1: 0.9590\n",
      "Epoch 8/100\n",
      "124/131 [===========================>..] - ETA: 0s - loss: 0.1125 - accuracy: 0.9627 - get_f1: 0.9609\n",
      "Epoch 00008: val_get_f1 improved from 0.95896 to 0.96564, saving model to .\\modelo_mlp_ex3_3.hdf5\n",
      "131/131 [==============================] - 0s 3ms/step - loss: 0.1112 - accuracy: 0.9636 - get_f1: 0.9619 - val_loss: 0.1378 - val_accuracy: 0.9637 - val_get_f1: 0.9656\n",
      "Epoch 9/100\n",
      "118/131 [==========================>...] - ETA: 0s - loss: 0.1061 - accuracy: 0.9661 - get_f1: 0.9611\n",
      "Epoch 00009: val_get_f1 did not improve from 0.96564\n",
      "131/131 [==============================] - 0s 3ms/step - loss: 0.1027 - accuracy: 0.9665 - get_f1: 0.9622 - val_loss: 0.1321 - val_accuracy: 0.9637 - val_get_f1: 0.9656\n",
      "Epoch 10/100\n",
      "130/131 [============================>.] - ETA: 0s - loss: 0.0956 - accuracy: 0.9683 - get_f1: 0.9657\n",
      "Epoch 00010: val_get_f1 improved from 0.96564 to 0.97302, saving model to .\\modelo_mlp_ex3_3.hdf5\n",
      "131/131 [==============================] - 0s 3ms/step - loss: 0.0956 - accuracy: 0.9684 - get_f1: 0.9660 - val_loss: 0.1257 - val_accuracy: 0.9732 - val_get_f1: 0.9730\n",
      "Epoch 11/100\n",
      "121/131 [==========================>...] - ETA: 0s - loss: 0.0914 - accuracy: 0.9706 - get_f1: 0.9683\n",
      "Epoch 00011: val_get_f1 did not improve from 0.97302\n",
      "131/131 [==============================] - 1s 4ms/step - loss: 0.0907 - accuracy: 0.9708 - get_f1: 0.9679 - val_loss: 0.1216 - val_accuracy: 0.9732 - val_get_f1: 0.9730\n",
      "Epoch 12/100\n",
      "128/131 [============================>.] - ETA: 0s - loss: 0.0867 - accuracy: 0.9712 - get_f1: 0.9701\n",
      "Epoch 00012: val_get_f1 did not improve from 0.97302\n",
      "131/131 [==============================] - 0s 3ms/step - loss: 0.0862 - accuracy: 0.9713 - get_f1: 0.9702 - val_loss: 0.1194 - val_accuracy: 0.9713 - val_get_f1: 0.9714\n",
      "Epoch 13/100\n",
      "120/131 [==========================>...] - ETA: 0s - loss: 0.0845 - accuracy: 0.9734 - get_f1: 0.9703\n",
      "Epoch 00013: val_get_f1 improved from 0.97302 to 0.97446, saving model to .\\modelo_mlp_ex3_3.hdf5\n",
      "131/131 [==============================] - 0s 3ms/step - loss: 0.0827 - accuracy: 0.9741 - get_f1: 0.9712 - val_loss: 0.1161 - val_accuracy: 0.9751 - val_get_f1: 0.9745\n",
      "Epoch 14/100\n",
      "127/131 [============================>.] - ETA: 0s - loss: 0.0801 - accuracy: 0.9764 - get_f1: 0.9759\n",
      "Epoch 00014: val_get_f1 did not improve from 0.97446\n",
      "131/131 [==============================] - 0s 3ms/step - loss: 0.0800 - accuracy: 0.9765 - get_f1: 0.9762 - val_loss: 0.1142 - val_accuracy: 0.9751 - val_get_f1: 0.9745\n",
      "Epoch 15/100\n",
      "130/131 [============================>.] - ETA: 0s - loss: 0.0774 - accuracy: 0.9769 - get_f1: 0.9745\n",
      "Epoch 00015: val_get_f1 did not improve from 0.97446\n",
      "131/131 [==============================] - 0s 3ms/step - loss: 0.0773 - accuracy: 0.9770 - get_f1: 0.9747 - val_loss: 0.1124 - val_accuracy: 0.9751 - val_get_f1: 0.9745\n",
      "Epoch 16/100\n",
      "120/131 [==========================>...] - ETA: 0s - loss: 0.0728 - accuracy: 0.9792 - get_f1: 0.9777\n",
      "Epoch 00016: val_get_f1 improved from 0.97446 to 0.97480, saving model to .\\modelo_mlp_ex3_3.hdf5\n",
      "131/131 [==============================] - 0s 3ms/step - loss: 0.0747 - accuracy: 0.9775 - get_f1: 0.9764 - val_loss: 0.1096 - val_accuracy: 0.9751 - val_get_f1: 0.9748\n",
      "Epoch 17/100\n",
      "129/131 [============================>.] - ETA: 0s - loss: 0.0727 - accuracy: 0.9792 - get_f1: 0.9770\n",
      "Epoch 00017: val_get_f1 did not improve from 0.97480\n",
      "131/131 [==============================] - 0s 3ms/step - loss: 0.0731 - accuracy: 0.9789 - get_f1: 0.9769 - val_loss: 0.1089 - val_accuracy: 0.9751 - val_get_f1: 0.9748\n",
      "Epoch 18/100\n",
      "127/131 [============================>.] - ETA: 0s - loss: 0.0701 - accuracy: 0.9798 - get_f1: 0.9793\n",
      "Epoch 00018: val_get_f1 did not improve from 0.97480\n",
      "131/131 [==============================] - 0s 3ms/step - loss: 0.0712 - accuracy: 0.9799 - get_f1: 0.9795 - val_loss: 0.1076 - val_accuracy: 0.9751 - val_get_f1: 0.9748\n",
      "Epoch 19/100\n",
      "118/131 [==========================>...] - ETA: 0s - loss: 0.0685 - accuracy: 0.9799 - get_f1: 0.9782\n",
      "Epoch 00019: val_get_f1 did not improve from 0.97480\n",
      "131/131 [==============================] - 0s 3ms/step - loss: 0.0695 - accuracy: 0.9799 - get_f1: 0.9781 - val_loss: 0.1066 - val_accuracy: 0.9751 - val_get_f1: 0.9748\n",
      "Epoch 20/100\n",
      "126/131 [===========================>..] - ETA: 0s - loss: 0.0684 - accuracy: 0.9802 - get_f1: 0.9799\n",
      "Epoch 00020: val_get_f1 did not improve from 0.97480\n",
      "131/131 [==============================] - 0s 3ms/step - loss: 0.0678 - accuracy: 0.9804 - get_f1: 0.9802 - val_loss: 0.1066 - val_accuracy: 0.9751 - val_get_f1: 0.9748\n",
      "Epoch 21/100\n",
      "113/131 [========================>.....] - ETA: 0s - loss: 0.0652 - accuracy: 0.9812 - get_f1: 0.9805\n",
      "Epoch 00021: val_get_f1 did not improve from 0.97480\n",
      "131/131 [==============================] - 0s 3ms/step - loss: 0.0669 - accuracy: 0.9804 - get_f1: 0.9782 - val_loss: 0.1051 - val_accuracy: 0.9751 - val_get_f1: 0.9748\n",
      "Epoch 22/100\n",
      "110/131 [========================>.....] - ETA: 0s - loss: 0.0686 - accuracy: 0.9795 - get_f1: 0.9757\n",
      "Epoch 00022: val_get_f1 did not improve from 0.97480\n",
      "131/131 [==============================] - 0s 3ms/step - loss: 0.0655 - accuracy: 0.9804 - get_f1: 0.9771 - val_loss: 0.1035 - val_accuracy: 0.9732 - val_get_f1: 0.9714\n",
      "Epoch 23/100\n",
      "119/131 [==========================>...] - ETA: 0s - loss: 0.0655 - accuracy: 0.9806 - get_f1: 0.9786\n",
      "Epoch 00023: val_get_f1 did not improve from 0.97480\n",
      "131/131 [==============================] - 0s 3ms/step - loss: 0.0642 - accuracy: 0.9808 - get_f1: 0.9789 - val_loss: 0.1031 - val_accuracy: 0.9732 - val_get_f1: 0.9714\n",
      "Epoch 24/100\n",
      "112/131 [========================>.....] - ETA: 0s - loss: 0.0608 - accuracy: 0.9816 - get_f1: 0.9811\n",
      "Epoch 00024: val_get_f1 did not improve from 0.97480\n",
      "131/131 [==============================] - 0s 3ms/step - loss: 0.0633 - accuracy: 0.9813 - get_f1: 0.9808 - val_loss: 0.1016 - val_accuracy: 0.9732 - val_get_f1: 0.9714\n",
      "Epoch 25/100\n",
      "114/131 [=========================>....] - ETA: 0s - loss: 0.0639 - accuracy: 0.9808 - get_f1: 0.9799\n",
      "Epoch 00025: val_get_f1 did not improve from 0.97480\n",
      "131/131 [==============================] - 0s 3ms/step - loss: 0.0621 - accuracy: 0.9818 - get_f1: 0.9806 - val_loss: 0.1009 - val_accuracy: 0.9732 - val_get_f1: 0.9714\n",
      "Epoch 26/100\n",
      "121/131 [==========================>...] - ETA: 0s - loss: 0.0637 - accuracy: 0.9804 - get_f1: 0.9768\n",
      "Epoch 00026: val_get_f1 did not improve from 0.97480\n",
      "131/131 [==============================] - 0s 3ms/step - loss: 0.0613 - accuracy: 0.9813 - get_f1: 0.9780 - val_loss: 0.1010 - val_accuracy: 0.9751 - val_get_f1: 0.9748\n",
      "Epoch 27/100\n",
      "126/131 [===========================>..] - ETA: 0s - loss: 0.0617 - accuracy: 0.9816 - get_f1: 0.9788\n",
      "Epoch 00027: val_get_f1 did not improve from 0.97480\n",
      "131/131 [==============================] - 0s 4ms/step - loss: 0.0602 - accuracy: 0.9823 - get_f1: 0.9796 - val_loss: 0.0997 - val_accuracy: 0.9732 - val_get_f1: 0.9714\n",
      "Epoch 28/100\n",
      "113/131 [========================>.....] - ETA: 0s - loss: 0.0568 - accuracy: 0.9840 - get_f1: 0.9841\n",
      "Epoch 00028: val_get_f1 did not improve from 0.97480\n",
      "131/131 [==============================] - 0s 3ms/step - loss: 0.0592 - accuracy: 0.9828 - get_f1: 0.9829 - val_loss: 0.0987 - val_accuracy: 0.9732 - val_get_f1: 0.9714\n",
      "Epoch 29/100\n",
      "114/131 [=========================>....] - ETA: 0s - loss: 0.0604 - accuracy: 0.9830 - get_f1: 0.9811\n",
      "Epoch 00029: val_get_f1 did not improve from 0.97480\n",
      "131/131 [==============================] - 0s 3ms/step - loss: 0.0587 - accuracy: 0.9832 - get_f1: 0.9817 - val_loss: 0.0970 - val_accuracy: 0.9732 - val_get_f1: 0.9714\n",
      "Epoch 30/100\n",
      "118/131 [==========================>...] - ETA: 0s - loss: 0.0597 - accuracy: 0.9820 - get_f1: 0.9802\n",
      "Epoch 00030: val_get_f1 did not improve from 0.97480\n",
      "131/131 [==============================] - 0s 3ms/step - loss: 0.0579 - accuracy: 0.9828 - get_f1: 0.9805 - val_loss: 0.0970 - val_accuracy: 0.9732 - val_get_f1: 0.9714\n",
      "Epoch 31/100\n",
      "126/131 [===========================>..] - ETA: 0s - loss: 0.0560 - accuracy: 0.9821 - get_f1: 0.9815\n",
      "Epoch 00031: val_get_f1 did not improve from 0.97480\n",
      "131/131 [==============================] - 0s 3ms/step - loss: 0.0567 - accuracy: 0.9823 - get_f1: 0.9817 - val_loss: 0.0964 - val_accuracy: 0.9732 - val_get_f1: 0.9714\n",
      "Epoch 32/100\n",
      "121/131 [==========================>...] - ETA: 0s - loss: 0.0580 - accuracy: 0.9824 - get_f1: 0.9825\n",
      "Epoch 00032: val_get_f1 did not improve from 0.97480\n",
      "131/131 [==============================] - 0s 3ms/step - loss: 0.0567 - accuracy: 0.9832 - get_f1: 0.9834 - val_loss: 0.0946 - val_accuracy: 0.9713 - val_get_f1: 0.9687\n",
      "Epoch 33/100\n",
      "121/131 [==========================>...] - ETA: 0s - loss: 0.0523 - accuracy: 0.9830 - get_f1: 0.9827\n",
      "Epoch 00033: val_get_f1 did not improve from 0.97480\n",
      "131/131 [==============================] - 0s 3ms/step - loss: 0.0556 - accuracy: 0.9818 - get_f1: 0.9812 - val_loss: 0.0951 - val_accuracy: 0.9732 - val_get_f1: 0.9714\n",
      "Epoch 34/100\n",
      "130/131 [============================>.] - ETA: 0s - loss: 0.0546 - accuracy: 0.9817 - get_f1: 0.9789\n",
      "Epoch 00034: val_get_f1 did not improve from 0.97480\n",
      "131/131 [==============================] - 0s 3ms/step - loss: 0.0547 - accuracy: 0.9818 - get_f1: 0.9790 - val_loss: 0.0942 - val_accuracy: 0.9732 - val_get_f1: 0.9707\n",
      "Epoch 35/100\n",
      "129/131 [============================>.] - ETA: 0s - loss: 0.0547 - accuracy: 0.9821 - get_f1: 0.9811\n",
      "Epoch 00035: val_get_f1 did not improve from 0.97480\n",
      "131/131 [==============================] - 0s 3ms/step - loss: 0.0543 - accuracy: 0.9823 - get_f1: 0.9814 - val_loss: 0.0938 - val_accuracy: 0.9732 - val_get_f1: 0.9714\n",
      "Epoch 36/100\n",
      "129/131 [============================>.] - ETA: 0s - loss: 0.0539 - accuracy: 0.9840 - get_f1: 0.9829\n",
      "Epoch 00036: val_get_f1 did not improve from 0.97480\n",
      "131/131 [==============================] - 0s 3ms/step - loss: 0.0538 - accuracy: 0.9837 - get_f1: 0.9829 - val_loss: 0.0955 - val_accuracy: 0.9751 - val_get_f1: 0.9748\n",
      "Epoch 37/100\n",
      "119/131 [==========================>...] - ETA: 0s - loss: 0.0550 - accuracy: 0.9816 - get_f1: 0.9813\n",
      "Epoch 00037: val_get_f1 did not improve from 0.97480\n",
      "131/131 [==============================] - 0s 3ms/step - loss: 0.0539 - accuracy: 0.9818 - get_f1: 0.9813 - val_loss: 0.0927 - val_accuracy: 0.9751 - val_get_f1: 0.9735\n",
      "Epoch 38/100\n",
      "126/131 [===========================>..] - ETA: 0s - loss: 0.0539 - accuracy: 0.9816 - get_f1: 0.9808\n",
      "Epoch 00038: val_get_f1 did not improve from 0.97480\n",
      "131/131 [==============================] - 0s 3ms/step - loss: 0.0529 - accuracy: 0.9823 - get_f1: 0.9815 - val_loss: 0.0914 - val_accuracy: 0.9732 - val_get_f1: 0.9707\n",
      "Epoch 39/100\n",
      "108/131 [=======================>......] - ETA: 0s - loss: 0.0567 - accuracy: 0.9809 - get_f1: 0.9814\n",
      "Epoch 00039: val_get_f1 did not improve from 0.97480\n",
      "131/131 [==============================] - 0s 3ms/step - loss: 0.0519 - accuracy: 0.9832 - get_f1: 0.9836 - val_loss: 0.0935 - val_accuracy: 0.9751 - val_get_f1: 0.9735\n",
      "Epoch 40/100\n",
      "129/131 [============================>.] - ETA: 0s - loss: 0.0518 - accuracy: 0.9845 - get_f1: 0.9840\n",
      "Epoch 00040: val_get_f1 did not improve from 0.97480\n",
      "131/131 [==============================] - 0s 3ms/step - loss: 0.0513 - accuracy: 0.9847 - get_f1: 0.9842 - val_loss: 0.0903 - val_accuracy: 0.9732 - val_get_f1: 0.9707\n",
      "Epoch 41/100\n",
      "129/131 [============================>.] - ETA: 0s - loss: 0.0511 - accuracy: 0.9826 - get_f1: 0.9807\n",
      "Epoch 00041: val_get_f1 did not improve from 0.97480\n",
      "131/131 [==============================] - 0s 3ms/step - loss: 0.0511 - accuracy: 0.9828 - get_f1: 0.9810 - val_loss: 0.0894 - val_accuracy: 0.9732 - val_get_f1: 0.9707\n",
      "Epoch 42/100\n",
      "124/131 [===========================>..] - ETA: 0s - loss: 0.0517 - accuracy: 0.9849 - get_f1: 0.9849\n",
      "Epoch 00042: val_get_f1 did not improve from 0.97480\n",
      "131/131 [==============================] - 0s 3ms/step - loss: 0.0507 - accuracy: 0.9852 - get_f1: 0.9852 - val_loss: 0.0908 - val_accuracy: 0.9751 - val_get_f1: 0.9735\n",
      "Epoch 43/100\n",
      "130/131 [============================>.] - ETA: 0s - loss: 0.0501 - accuracy: 0.9832 - get_f1: 0.9822\n",
      "Epoch 00043: val_get_f1 did not improve from 0.97480\n",
      "131/131 [==============================] - 0s 3ms/step - loss: 0.0500 - accuracy: 0.9832 - get_f1: 0.9824 - val_loss: 0.0900 - val_accuracy: 0.9751 - val_get_f1: 0.9735\n",
      "Epoch 44/100\n",
      "120/131 [==========================>...] - ETA: 0s - loss: 0.0496 - accuracy: 0.9828 - get_f1: 0.9818\n",
      "Epoch 00044: val_get_f1 did not improve from 0.97480\n",
      "131/131 [==============================] - 0s 3ms/step - loss: 0.0494 - accuracy: 0.9832 - get_f1: 0.9825 - val_loss: 0.0881 - val_accuracy: 0.9732 - val_get_f1: 0.9707\n",
      "Epoch 45/100\n",
      "125/131 [===========================>..] - ETA: 0s - loss: 0.0501 - accuracy: 0.9840 - get_f1: 0.9833\n",
      "Epoch 00045: val_get_f1 did not improve from 0.97480\n",
      "131/131 [==============================] - 0s 3ms/step - loss: 0.0491 - accuracy: 0.9847 - get_f1: 0.9841 - val_loss: 0.0877 - val_accuracy: 0.9732 - val_get_f1: 0.9707\n",
      "Epoch 46/100\n",
      "120/131 [==========================>...] - ETA: 0s - loss: 0.0505 - accuracy: 0.9839 - get_f1: 0.9849\n",
      "Epoch 00046: val_get_f1 did not improve from 0.97480\n",
      "131/131 [==============================] - 0s 3ms/step - loss: 0.0493 - accuracy: 0.9847 - get_f1: 0.9857 - val_loss: 0.0872 - val_accuracy: 0.9732 - val_get_f1: 0.9707\n",
      "Epoch 47/100\n",
      "126/131 [===========================>..] - ETA: 0s - loss: 0.0470 - accuracy: 0.9841 - get_f1: 0.9837\n",
      "Epoch 00047: val_get_f1 did not improve from 0.97480\n",
      "131/131 [==============================] - 0s 3ms/step - loss: 0.0481 - accuracy: 0.9842 - get_f1: 0.9833 - val_loss: 0.0870 - val_accuracy: 0.9732 - val_get_f1: 0.9707\n",
      "Epoch 48/100\n",
      "123/131 [===========================>..] - ETA: 0s - loss: 0.0472 - accuracy: 0.9858 - get_f1: 0.9845\n",
      "Epoch 00048: val_get_f1 did not improve from 0.97480\n",
      "131/131 [==============================] - 0s 3ms/step - loss: 0.0476 - accuracy: 0.9861 - get_f1: 0.9849 - val_loss: 0.0855 - val_accuracy: 0.9732 - val_get_f1: 0.9707\n",
      "Epoch 49/100\n",
      "125/131 [===========================>..] - ETA: 0s - loss: 0.0443 - accuracy: 0.9860 - get_f1: 0.9852\n",
      "Epoch 00049: val_get_f1 did not improve from 0.97480\n",
      "131/131 [==============================] - 0s 3ms/step - loss: 0.0472 - accuracy: 0.9852 - get_f1: 0.9842 - val_loss: 0.0856 - val_accuracy: 0.9732 - val_get_f1: 0.9707\n",
      "Epoch 50/100\n",
      "128/131 [============================>.] - ETA: 0s - loss: 0.0475 - accuracy: 0.9854 - get_f1: 0.9844\n",
      "Epoch 00050: val_get_f1 did not improve from 0.97480\n",
      "131/131 [==============================] - 0s 3ms/step - loss: 0.0468 - accuracy: 0.9856 - get_f1: 0.9848 - val_loss: 0.0856 - val_accuracy: 0.9732 - val_get_f1: 0.9707\n",
      "Epoch 51/100\n",
      "113/131 [========================>.....] - ETA: 0s - loss: 0.0479 - accuracy: 0.9829 - get_f1: 0.9824\n",
      "Epoch 00051: val_get_f1 did not improve from 0.97480\n",
      "131/131 [==============================] - 0s 3ms/step - loss: 0.0469 - accuracy: 0.9837 - get_f1: 0.9836 - val_loss: 0.0853 - val_accuracy: 0.9751 - val_get_f1: 0.9735\n",
      "Epoch 52/100\n",
      "120/131 [==========================>...] - ETA: 0s - loss: 0.0473 - accuracy: 0.9870 - get_f1: 0.9866\n",
      "Epoch 00052: val_get_f1 did not improve from 0.97480\n",
      "131/131 [==============================] - 0s 3ms/step - loss: 0.0462 - accuracy: 0.9875 - get_f1: 0.9872 - val_loss: 0.0831 - val_accuracy: 0.9732 - val_get_f1: 0.9707\n",
      "Epoch 53/100\n",
      "116/131 [=========================>....] - ETA: 0s - loss: 0.0466 - accuracy: 0.9844 - get_f1: 0.9837\n",
      "Epoch 00053: val_get_f1 did not improve from 0.97480\n",
      "131/131 [==============================] - 0s 3ms/step - loss: 0.0459 - accuracy: 0.9852 - get_f1: 0.9849 - val_loss: 0.0826 - val_accuracy: 0.9713 - val_get_f1: 0.9689\n",
      "Epoch 54/100\n",
      "125/131 [===========================>..] - ETA: 0s - loss: 0.0439 - accuracy: 0.9845 - get_f1: 0.9846\n",
      "Epoch 00054: val_get_f1 did not improve from 0.97480\n",
      "131/131 [==============================] - 0s 3ms/step - loss: 0.0453 - accuracy: 0.9837 - get_f1: 0.9839 - val_loss: 0.0820 - val_accuracy: 0.9732 - val_get_f1: 0.9707\n",
      "Epoch 55/100\n",
      "118/131 [==========================>...] - ETA: 0s - loss: 0.0411 - accuracy: 0.9862 - get_f1: 0.9860\n",
      "Epoch 00055: val_get_f1 did not improve from 0.97480\n",
      "131/131 [==============================] - 0s 3ms/step - loss: 0.0447 - accuracy: 0.9852 - get_f1: 0.9851 - val_loss: 0.0823 - val_accuracy: 0.9732 - val_get_f1: 0.9697\n",
      "Epoch 56/100\n",
      "113/131 [========================>.....] - ETA: 0s - loss: 0.0470 - accuracy: 0.9862 - get_f1: 0.9856\n",
      "Epoch 00056: val_get_f1 did not improve from 0.97480\n",
      "131/131 [==============================] - 0s 3ms/step - loss: 0.0444 - accuracy: 0.9871 - get_f1: 0.9868 - val_loss: 0.0821 - val_accuracy: 0.9732 - val_get_f1: 0.9707\n",
      "Epoch 57/100\n",
      "121/131 [==========================>...] - ETA: 0s - loss: 0.0446 - accuracy: 0.9866 - get_f1: 0.9859\n",
      "Epoch 00057: val_get_f1 improved from 0.97480 to 0.97682, saving model to .\\modelo_mlp_ex3_3.hdf5\n",
      "131/131 [==============================] - 0s 3ms/step - loss: 0.0441 - accuracy: 0.9866 - get_f1: 0.9858 - val_loss: 0.0817 - val_accuracy: 0.9771 - val_get_f1: 0.9768\n",
      "Epoch 58/100\n",
      "127/131 [============================>.] - ETA: 0s - loss: 0.0447 - accuracy: 0.9872 - get_f1: 0.9865\n",
      "Epoch 00058: val_get_f1 did not improve from 0.97682\n",
      "131/131 [==============================] - 0s 3ms/step - loss: 0.0442 - accuracy: 0.9875 - get_f1: 0.9870 - val_loss: 0.0796 - val_accuracy: 0.9751 - val_get_f1: 0.9724\n",
      "Epoch 59/100\n",
      "114/131 [=========================>....] - ETA: 0s - loss: 0.0462 - accuracy: 0.9868 - get_f1: 0.9857\n",
      "Epoch 00059: val_get_f1 did not improve from 0.97682\n",
      "131/131 [==============================] - 0s 3ms/step - loss: 0.0430 - accuracy: 0.9885 - get_f1: 0.9875 - val_loss: 0.0801 - val_accuracy: 0.9751 - val_get_f1: 0.9750\n",
      "Epoch 60/100\n",
      "114/131 [=========================>....] - ETA: 0s - loss: 0.0433 - accuracy: 0.9879 - get_f1: 0.9881\n",
      "Epoch 00060: val_get_f1 did not improve from 0.97682\n",
      "131/131 [==============================] - 0s 3ms/step - loss: 0.0428 - accuracy: 0.9880 - get_f1: 0.9881 - val_loss: 0.0782 - val_accuracy: 0.9751 - val_get_f1: 0.9724\n",
      "Epoch 61/100\n",
      "131/131 [==============================] - ETA: 0s - loss: 0.0429 - accuracy: 0.9875 - get_f1: 0.9885\n",
      "Epoch 00061: val_get_f1 did not improve from 0.97682\n",
      "131/131 [==============================] - 0s 3ms/step - loss: 0.0429 - accuracy: 0.9875 - get_f1: 0.9885 - val_loss: 0.0783 - val_accuracy: 0.9732 - val_get_f1: 0.9704\n",
      "Epoch 62/100\n",
      "113/131 [========================>.....] - ETA: 0s - loss: 0.0414 - accuracy: 0.9873 - get_f1: 0.9872\n",
      "Epoch 00062: val_get_f1 did not improve from 0.97682\n",
      "131/131 [==============================] - 0s 3ms/step - loss: 0.0433 - accuracy: 0.9871 - get_f1: 0.9870 - val_loss: 0.0783 - val_accuracy: 0.9751 - val_get_f1: 0.9750\n",
      "Epoch 63/100\n",
      "116/131 [=========================>....] - ETA: 0s - loss: 0.0415 - accuracy: 0.9887 - get_f1: 0.9880\n",
      "Epoch 00063: val_get_f1 did not improve from 0.97682\n",
      "131/131 [==============================] - 0s 3ms/step - loss: 0.0416 - accuracy: 0.9885 - get_f1: 0.9877 - val_loss: 0.0774 - val_accuracy: 0.9751 - val_get_f1: 0.9724\n",
      "Epoch 64/100\n",
      "124/131 [===========================>..] - ETA: 0s - loss: 0.0421 - accuracy: 0.9879 - get_f1: 0.9872\n",
      "Epoch 00064: val_get_f1 did not improve from 0.97682\n",
      "131/131 [==============================] - 0s 3ms/step - loss: 0.0414 - accuracy: 0.9880 - get_f1: 0.9872 - val_loss: 0.0774 - val_accuracy: 0.9771 - val_get_f1: 0.9768\n",
      "Epoch 65/100\n",
      "115/131 [=========================>....] - ETA: 0s - loss: 0.0371 - accuracy: 0.9897 - get_f1: 0.9876\n",
      "Epoch 00065: val_get_f1 did not improve from 0.97682\n",
      "131/131 [==============================] - 0s 3ms/step - loss: 0.0411 - accuracy: 0.9890 - get_f1: 0.9875 - val_loss: 0.0758 - val_accuracy: 0.9751 - val_get_f1: 0.9724\n",
      "Epoch 66/100\n",
      "124/131 [===========================>..] - ETA: 0s - loss: 0.0400 - accuracy: 0.9894 - get_f1: 0.9889\n",
      "Epoch 00066: val_get_f1 improved from 0.97682 to 0.97849, saving model to .\\modelo_mlp_ex3_3.hdf5\n",
      "131/131 [==============================] - 0s 4ms/step - loss: 0.0409 - accuracy: 0.9890 - get_f1: 0.9886 - val_loss: 0.0767 - val_accuracy: 0.9790 - val_get_f1: 0.9785\n",
      "Epoch 67/100\n",
      "121/131 [==========================>...] - ETA: 0s - loss: 0.0402 - accuracy: 0.9892 - get_f1: 0.9886\n",
      "Epoch 00067: val_get_f1 did not improve from 0.97849\n",
      "131/131 [==============================] - 0s 3ms/step - loss: 0.0405 - accuracy: 0.9890 - get_f1: 0.9883 - val_loss: 0.0750 - val_accuracy: 0.9751 - val_get_f1: 0.9724\n",
      "Epoch 68/100\n",
      "122/131 [==========================>...] - ETA: 0s - loss: 0.0390 - accuracy: 0.9882 - get_f1: 0.9878\n",
      "Epoch 00068: val_get_f1 did not improve from 0.97849\n",
      "131/131 [==============================] - 0s 3ms/step - loss: 0.0400 - accuracy: 0.9880 - get_f1: 0.9878 - val_loss: 0.0745 - val_accuracy: 0.9771 - val_get_f1: 0.9757\n",
      "Epoch 69/100\n",
      "115/131 [=========================>....] - ETA: 0s - loss: 0.0429 - accuracy: 0.9853 - get_f1: 0.9847\n",
      "Epoch 00069: val_get_f1 did not improve from 0.97849\n",
      "131/131 [==============================] - 0s 3ms/step - loss: 0.0407 - accuracy: 0.9871 - get_f1: 0.9865 - val_loss: 0.0738 - val_accuracy: 0.9771 - val_get_f1: 0.9757\n",
      "Epoch 70/100\n",
      "117/131 [=========================>....] - ETA: 0s - loss: 0.0391 - accuracy: 0.9882 - get_f1: 0.9869\n",
      "Epoch 00070: val_get_f1 did not improve from 0.97849\n",
      "131/131 [==============================] - 0s 3ms/step - loss: 0.0395 - accuracy: 0.9885 - get_f1: 0.9875 - val_loss: 0.0739 - val_accuracy: 0.9751 - val_get_f1: 0.9737\n",
      "Epoch 71/100\n",
      "116/131 [=========================>....] - ETA: 0s - loss: 0.0392 - accuracy: 0.9887 - get_f1: 0.9870\n",
      "Epoch 00071: val_get_f1 did not improve from 0.97849\n",
      "131/131 [==============================] - 0s 3ms/step - loss: 0.0392 - accuracy: 0.9885 - get_f1: 0.9869 - val_loss: 0.0730 - val_accuracy: 0.9771 - val_get_f1: 0.9757\n",
      "Epoch 72/100\n",
      "114/131 [=========================>....] - ETA: 0s - loss: 0.0401 - accuracy: 0.9890 - get_f1: 0.9882\n",
      "Epoch 00072: val_get_f1 did not improve from 0.97849\n",
      "131/131 [==============================] - 0s 3ms/step - loss: 0.0386 - accuracy: 0.9890 - get_f1: 0.9884 - val_loss: 0.0742 - val_accuracy: 0.9771 - val_get_f1: 0.9765\n",
      "Epoch 73/100\n",
      "128/131 [============================>.] - ETA: 0s - loss: 0.0388 - accuracy: 0.9888 - get_f1: 0.9890\n",
      "Epoch 00073: val_get_f1 did not improve from 0.97849\n",
      "131/131 [==============================] - 0s 3ms/step - loss: 0.0383 - accuracy: 0.9890 - get_f1: 0.9893 - val_loss: 0.0727 - val_accuracy: 0.9790 - val_get_f1: 0.9785\n",
      "Epoch 74/100\n",
      "121/131 [==========================>...] - ETA: 0s - loss: 0.0398 - accuracy: 0.9886 - get_f1: 0.9880\n",
      "Epoch 00074: val_get_f1 did not improve from 0.97849\n",
      "131/131 [==============================] - 0s 3ms/step - loss: 0.0379 - accuracy: 0.9895 - get_f1: 0.9889 - val_loss: 0.0732 - val_accuracy: 0.9771 - val_get_f1: 0.9765\n",
      "Epoch 75/100\n",
      "131/131 [==============================] - ETA: 0s - loss: 0.0378 - accuracy: 0.9890 - get_f1: 0.9871\n",
      "Epoch 00075: val_get_f1 did not improve from 0.97849\n",
      "131/131 [==============================] - 0s 3ms/step - loss: 0.0378 - accuracy: 0.9890 - get_f1: 0.9871 - val_loss: 0.0711 - val_accuracy: 0.9771 - val_get_f1: 0.9757\n",
      "Epoch 76/100\n",
      "125/131 [===========================>..] - ETA: 0s - loss: 0.0388 - accuracy: 0.9875 - get_f1: 0.9878\n",
      "Epoch 00076: val_get_f1 did not improve from 0.97849\n",
      "131/131 [==============================] - 0s 3ms/step - loss: 0.0375 - accuracy: 0.9880 - get_f1: 0.9883 - val_loss: 0.0715 - val_accuracy: 0.9771 - val_get_f1: 0.9765\n",
      "Epoch 77/100\n",
      "120/131 [==========================>...] - ETA: 0s - loss: 0.0377 - accuracy: 0.9885 - get_f1: 0.9884\n",
      "Epoch 00077: val_get_f1 did not improve from 0.97849\n",
      "131/131 [==============================] - 1s 4ms/step - loss: 0.0373 - accuracy: 0.9890 - get_f1: 0.9890 - val_loss: 0.0695 - val_accuracy: 0.9771 - val_get_f1: 0.9757\n",
      "Epoch 78/100\n",
      "128/131 [============================>.] - ETA: 0s - loss: 0.0373 - accuracy: 0.9897 - get_f1: 0.9886\n",
      "Epoch 00078: val_get_f1 did not improve from 0.97849\n",
      "131/131 [==============================] - 0s 3ms/step - loss: 0.0367 - accuracy: 0.9899 - get_f1: 0.9888 - val_loss: 0.0694 - val_accuracy: 0.9771 - val_get_f1: 0.9757\n",
      "Epoch 79/100\n",
      "111/131 [========================>.....] - ETA: 0s - loss: 0.0380 - accuracy: 0.9887 - get_f1: 0.9886\n",
      "Epoch 00079: val_get_f1 did not improve from 0.97849\n",
      "131/131 [==============================] - 0s 3ms/step - loss: 0.0370 - accuracy: 0.9899 - get_f1: 0.9898 - val_loss: 0.0685 - val_accuracy: 0.9771 - val_get_f1: 0.9757\n",
      "Epoch 80/100\n",
      "112/131 [========================>.....] - ETA: 0s - loss: 0.0357 - accuracy: 0.9905 - get_f1: 0.9900\n",
      "Epoch 00080: val_get_f1 did not improve from 0.97849\n",
      "131/131 [==============================] - 0s 3ms/step - loss: 0.0363 - accuracy: 0.9895 - get_f1: 0.9886 - val_loss: 0.0682 - val_accuracy: 0.9771 - val_get_f1: 0.9757\n",
      "Epoch 81/100\n",
      "131/131 [==============================] - ETA: 0s - loss: 0.0357 - accuracy: 0.9904 - get_f1: 0.9889\n",
      "Epoch 00081: val_get_f1 did not improve from 0.97849\n",
      "131/131 [==============================] - 0s 3ms/step - loss: 0.0357 - accuracy: 0.9904 - get_f1: 0.9889 - val_loss: 0.0701 - val_accuracy: 0.9771 - val_get_f1: 0.9765\n",
      "Epoch 82/100\n",
      "115/131 [=========================>....] - ETA: 0s - loss: 0.0317 - accuracy: 0.9924 - get_f1: 0.9907\n",
      "Epoch 00082: val_get_f1 did not improve from 0.97849\n",
      "131/131 [==============================] - 0s 3ms/step - loss: 0.0356 - accuracy: 0.9904 - get_f1: 0.9887 - val_loss: 0.0669 - val_accuracy: 0.9771 - val_get_f1: 0.9757\n",
      "Epoch 83/100\n",
      "131/131 [==============================] - ETA: 0s - loss: 0.0355 - accuracy: 0.9895 - get_f1: 0.9891\n",
      "Epoch 00083: val_get_f1 did not improve from 0.97849\n",
      "131/131 [==============================] - 0s 3ms/step - loss: 0.0355 - accuracy: 0.9895 - get_f1: 0.9891 - val_loss: 0.0668 - val_accuracy: 0.9771 - val_get_f1: 0.9757\n",
      "Epoch 84/100\n",
      "118/131 [==========================>...] - ETA: 0s - loss: 0.0359 - accuracy: 0.9899 - get_f1: 0.9891\n",
      "Epoch 00084: val_get_f1 did not improve from 0.97849\n",
      "131/131 [==============================] - 0s 3ms/step - loss: 0.0351 - accuracy: 0.9904 - get_f1: 0.9896 - val_loss: 0.0665 - val_accuracy: 0.9790 - val_get_f1: 0.9785\n",
      "Epoch 85/100\n",
      "130/131 [============================>.] - ETA: 0s - loss: 0.0346 - accuracy: 0.9894 - get_f1: 0.9877\n",
      "Epoch 00085: val_get_f1 did not improve from 0.97849\n",
      "131/131 [==============================] - 0s 3ms/step - loss: 0.0346 - accuracy: 0.9895 - get_f1: 0.9878 - val_loss: 0.0656 - val_accuracy: 0.9771 - val_get_f1: 0.9757\n",
      "Epoch 86/100\n",
      "124/131 [===========================>..] - ETA: 0s - loss: 0.0359 - accuracy: 0.9899 - get_f1: 0.9895\n",
      "Epoch 00086: val_get_f1 did not improve from 0.97849\n",
      "131/131 [==============================] - 0s 3ms/step - loss: 0.0351 - accuracy: 0.9904 - get_f1: 0.9900 - val_loss: 0.0658 - val_accuracy: 0.9790 - val_get_f1: 0.9775\n",
      "Epoch 87/100\n",
      "129/131 [============================>.] - ETA: 0s - loss: 0.0337 - accuracy: 0.9893 - get_f1: 0.9888\n",
      "Epoch 00087: val_get_f1 did not improve from 0.97849\n",
      "131/131 [==============================] - 0s 3ms/step - loss: 0.0346 - accuracy: 0.9890 - get_f1: 0.9879 - val_loss: 0.0647 - val_accuracy: 0.9771 - val_get_f1: 0.9757\n",
      "Epoch 88/100\n",
      "112/131 [========================>.....] - ETA: 0s - loss: 0.0319 - accuracy: 0.9894 - get_f1: 0.9889\n",
      "Epoch 00088: val_get_f1 did not improve from 0.97849\n",
      "131/131 [==============================] - 0s 3ms/step - loss: 0.0341 - accuracy: 0.9890 - get_f1: 0.9884 - val_loss: 0.0634 - val_accuracy: 0.9771 - val_get_f1: 0.9757\n",
      "Epoch 89/100\n",
      "131/131 [==============================] - ETA: 0s - loss: 0.0334 - accuracy: 0.9904 - get_f1: 0.9903\n",
      "Epoch 00089: val_get_f1 did not improve from 0.97849\n",
      "131/131 [==============================] - 0s 3ms/step - loss: 0.0334 - accuracy: 0.9904 - get_f1: 0.9903 - val_loss: 0.0635 - val_accuracy: 0.9790 - val_get_f1: 0.9775\n",
      "Epoch 90/100\n",
      "123/131 [===========================>..] - ETA: 0s - loss: 0.0353 - accuracy: 0.9893 - get_f1: 0.9892\n",
      "Epoch 00090: val_get_f1 did not improve from 0.97849\n",
      "131/131 [==============================] - 0s 3ms/step - loss: 0.0337 - accuracy: 0.9899 - get_f1: 0.9899 - val_loss: 0.0627 - val_accuracy: 0.9771 - val_get_f1: 0.9757\n",
      "Epoch 91/100\n",
      "111/131 [========================>.....] - ETA: 0s - loss: 0.0335 - accuracy: 0.9910 - get_f1: 0.9911\n",
      "Epoch 00091: val_get_f1 did not improve from 0.97849\n",
      "131/131 [==============================] - 0s 3ms/step - loss: 0.0335 - accuracy: 0.9904 - get_f1: 0.9892 - val_loss: 0.0631 - val_accuracy: 0.9790 - val_get_f1: 0.9785\n",
      "Epoch 92/100\n",
      "111/131 [========================>.....] - ETA: 0s - loss: 0.0304 - accuracy: 0.9893 - get_f1: 0.9900\n",
      "Epoch 00092: val_get_f1 did not improve from 0.97849\n",
      "131/131 [==============================] - 0s 3ms/step - loss: 0.0328 - accuracy: 0.9895 - get_f1: 0.9895 - val_loss: 0.0616 - val_accuracy: 0.9790 - val_get_f1: 0.9775\n",
      "Epoch 93/100\n",
      "131/131 [==============================] - ETA: 0s - loss: 0.0329 - accuracy: 0.9904 - get_f1: 0.9884\n",
      "Epoch 00093: val_get_f1 did not improve from 0.97849\n",
      "131/131 [==============================] - 0s 3ms/step - loss: 0.0329 - accuracy: 0.9904 - get_f1: 0.9884 - val_loss: 0.0624 - val_accuracy: 0.9790 - val_get_f1: 0.9785\n",
      "Epoch 94/100\n",
      "113/131 [========================>.....] - ETA: 0s - loss: 0.0329 - accuracy: 0.9906 - get_f1: 0.9891\n",
      "Epoch 00094: val_get_f1 did not improve from 0.97849\n",
      "131/131 [==============================] - 0s 3ms/step - loss: 0.0325 - accuracy: 0.9909 - get_f1: 0.9890 - val_loss: 0.0612 - val_accuracy: 0.9790 - val_get_f1: 0.9785\n",
      "Epoch 95/100\n",
      "109/131 [=======================>......] - ETA: 0s - loss: 0.0335 - accuracy: 0.9897 - get_f1: 0.9890\n",
      "Epoch 00095: val_get_f1 did not improve from 0.97849\n",
      "131/131 [==============================] - 0s 3ms/step - loss: 0.0322 - accuracy: 0.9909 - get_f1: 0.9905 - val_loss: 0.0622 - val_accuracy: 0.9790 - val_get_f1: 0.9785\n",
      "Epoch 96/100\n",
      "129/131 [============================>.] - ETA: 0s - loss: 0.0322 - accuracy: 0.9903 - get_f1: 0.9889\n",
      "Epoch 00096: val_get_f1 did not improve from 0.97849\n",
      "131/131 [==============================] - 0s 3ms/step - loss: 0.0319 - accuracy: 0.9904 - get_f1: 0.9891 - val_loss: 0.0598 - val_accuracy: 0.9790 - val_get_f1: 0.9775\n",
      "Epoch 97/100\n",
      "131/131 [==============================] - ETA: 0s - loss: 0.0314 - accuracy: 0.9899 - get_f1: 0.9897\n",
      "Epoch 00097: val_get_f1 did not improve from 0.97849\n",
      "131/131 [==============================] - 0s 3ms/step - loss: 0.0314 - accuracy: 0.9899 - get_f1: 0.9897 - val_loss: 0.0625 - val_accuracy: 0.9790 - val_get_f1: 0.9785\n",
      "Epoch 98/100\n",
      "116/131 [=========================>....] - ETA: 0s - loss: 0.0340 - accuracy: 0.9881 - get_f1: 0.9877\n",
      "Epoch 00098: val_get_f1 improved from 0.97849 to 0.98028, saving model to .\\modelo_mlp_ex3_3.hdf5\n",
      "131/131 [==============================] - 0s 4ms/step - loss: 0.0318 - accuracy: 0.9895 - get_f1: 0.9891 - val_loss: 0.0597 - val_accuracy: 0.9809 - val_get_f1: 0.9803\n",
      "Epoch 99/100\n",
      "112/131 [========================>.....] - ETA: 0s - loss: 0.0340 - accuracy: 0.9894 - get_f1: 0.9884\n",
      "Epoch 00099: val_get_f1 did not improve from 0.98028\n",
      "131/131 [==============================] - 0s 3ms/step - loss: 0.0313 - accuracy: 0.9904 - get_f1: 0.9897 - val_loss: 0.0597 - val_accuracy: 0.9809 - val_get_f1: 0.9803\n",
      "Epoch 100/100\n",
      "110/131 [========================>.....] - ETA: 0s - loss: 0.0327 - accuracy: 0.9892 - get_f1: 0.9884\n",
      "Epoch 00100: val_get_f1 did not improve from 0.98028\n",
      "131/131 [==============================] - 0s 3ms/step - loss: 0.0314 - accuracy: 0.9899 - get_f1: 0.9891 - val_loss: 0.0584 - val_accuracy: 0.9790 - val_get_f1: 0.9775\n",
      "Wall time: 41 s\n"
     ]
    }
   ],
   "metadata": {}
  },
  {
   "cell_type": "markdown",
   "source": [
    "## Gráfico comparativo da Acurácia , F1 Score e Perda no treinamento"
   ],
   "metadata": {}
  },
  {
   "cell_type": "code",
   "execution_count": 26,
   "source": [
    "plot_history(history)"
   ],
   "outputs": [
    {
     "output_type": "display_data",
     "data": {
      "text/plain": [
       "<Figure size 1152x576 with 2 Axes>"
      ],
      "image/png": "[encoded data removed]"
     },
     "metadata": {
      "needs_background": "light"
     }
    }
   ],
   "metadata": {}
  },
  {
   "cell_type": "markdown",
   "source": [
    "## Apresentando a Acurácia e F1 Score final do Treino, carregando o melhor modelo salvo e apresentando a Acurácia e F1 Score do Teste"
   ],
   "metadata": {}
  },
  {
   "cell_type": "code",
   "execution_count": 27,
   "source": [
    "scores = model.evaluate(X_train, y_train)\r\n",
    "print()\r\n",
    "print(f\"Acurácia do Treino: {round(scores[1]*100,2)}%\")\r\n",
    "print(f\"F1 Score do Treino: {round(scores[2]*100,2)}%\")"
   ],
   "outputs": [
    {
     "output_type": "stream",
     "name": "stdout",
     "text": [
      "82/82 [==============================] - 0s 2ms/step - loss: 0.0358 - accuracy: 0.9885 - get_f1: 0.9881\n",
      "\n",
      "Acurácia do Treino: 98.85%\n",
      "F1 Score do Treino: 98.81%\n"
     ]
    }
   ],
   "metadata": {}
  },
  {
   "cell_type": "code",
   "execution_count": 28,
   "source": [
    "model = load_model(\"./modelo_mlp_ex3_3.hdf5\", custom_objects={'get_f1': get_f1})"
   ],
   "outputs": [],
   "metadata": {}
  },
  {
   "cell_type": "code",
   "execution_count": 29,
   "source": [
    "scores = model.evaluate(X_test, y_test)\r\n",
    "print()\r\n",
    "print(f\"Acurácia do Teste: {round(scores[1]*100,2)}%\")\r\n",
    "print(f\"F1 Score do Teste: {round(scores[2]*100,2)}%\")"
   ],
   "outputs": [
    {
     "output_type": "stream",
     "name": "stdout",
     "text": [
      "21/21 [==============================] - 0s 2ms/step - loss: 0.0413 - accuracy: 0.9877 - get_f1: 0.9872\n",
      "\n",
      "Acurácia do Teste: 98.77%\n",
      "F1 Score do Teste: 98.72%\n"
     ]
    }
   ],
   "metadata": {}
  }
 ],
 "metadata": {
  "interpreter": {
   "hash": "c24c9dacf042e5cf8b743bae11b2cef3a95983df3bc5153773d9ffef1d5207d2"
  },
  "kernelspec": {
   "name": "python3",
   "display_name": "Python 3.8.10 64-bit ('tf-gpu': conda)"
  },
  "language_info": {
   "codemirror_mode": {
    "name": "ipython",
    "version": 3
   },
   "file_extension": ".py",
   "mimetype": "text/x-python",
   "name": "python",
   "nbconvert_exporter": "python",
   "pygments_lexer": "ipython3",
   "version": "3.8.10"
  },
  "orig_nbformat": 4
 },
 "nbformat": 4,
 "nbformat_minor": 2
}